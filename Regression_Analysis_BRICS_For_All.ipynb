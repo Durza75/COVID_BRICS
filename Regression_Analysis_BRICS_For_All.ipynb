{
 "cells": [
  {
   "cell_type": "markdown",
   "id": "c94aee3f",
   "metadata": {},
   "source": [
    "# Supervised Machine Learning Model/Linear Regression for BRICS_US Macro Data"
   ]
  },
  {
   "cell_type": "code",
   "execution_count": 196,
   "id": "62070f02",
   "metadata": {},
   "outputs": [],
   "source": [
    "\n",
    "#https://matplotlib.org/gallery/color/named_colors.html\n",
    "import pandas as pd\n",
    "import matplotlib.pyplot as plt\n",
    "import numpy as np\n",
    "import statsmodels.api as sm\n",
    "import math "
   ]
  },
  {
   "cell_type": "code",
   "execution_count": 197,
   "id": "c868a12b",
   "metadata": {},
   "outputs": [],
   "source": [
    "from sklearn.linear_model import LinearRegression\n",
    "from sklearn.model_selection import train_test_split\n",
    "from sklearn.metrics import mean_squared_error, r2_score, mean_absolute_error\n",
    "\n",
    "from sklearn.preprocessing import PolynomialFeatures\n",
    "\n",
    "%matplotlib inline\n",
    "from sklearn.svm import SVR"
   ]
  },
  {
   "cell_type": "code",
   "execution_count": 198,
   "id": "b79c9450",
   "metadata": {},
   "outputs": [],
   "source": [
    "import statsmodels.api as sm\n",
    "from statsmodels.stats import diagnostic as diag\n",
    "from statsmodels.stats.outliers_influence import variance_inflation_factor"
   ]
  },
  {
   "cell_type": "code",
   "execution_count": 199,
   "id": "776b31d4",
   "metadata": {},
   "outputs": [],
   "source": [
    "from pandas_datareader import wb"
   ]
  },
  {
   "cell_type": "code",
   "execution_count": 200,
   "id": "5bbc1172",
   "metadata": {},
   "outputs": [],
   "source": [
    "import geopandas"
   ]
  },
  {
   "cell_type": "markdown",
   "id": "95337868",
   "metadata": {},
   "source": [
    "# Part I: Regression for India Data"
   ]
  },
  {
   "cell_type": "code",
   "execution_count": 201,
   "id": "f48e6179",
   "metadata": {},
   "outputs": [],
   "source": [
    "worldbank_indicators = [\"NY.GDP.MKTP.KD.ZG\", \"NE.GDI.TOTL.KD.ZG\",\"SL.EMP.TOTL.SP.ZS\",\"TX.QTY.MRCH.XD.WD\",\"SP.POP.GROW\",\"EG.USE.PCAP.KG.OE\", \"BX.KLT.DINV.WD.GD.ZS\"]\n",
    " \n",
    " \n",
    "world_bank = wb.download (indicator =worldbank_indicators, country = [\"IND\"], start = 1995, end =2020)\n",
    "\n",
    "world_bank = world_bank.reset_index(1)                        "
   ]
  },
  {
   "cell_type": "code",
   "execution_count": 202,
   "id": "a768d8c7",
   "metadata": {},
   "outputs": [],
   "source": [
    "world_bank_df = world_bank.rename(columns = {\"NY.GDP.MKTP.KD.ZG\":\"GDP\",\\\n",
    "                                               \"NE.GDI.TOTL.KD.ZG\":\"Gross_Capital_Formation_Growth\",\\\n",
    "                                               \"SL.EMP.TOTL.SP.ZS\":\"Employment_Population_Ratio\",\\\n",
    "                                            \"TX.QTY.MRCH.XD.WD\":\"Exports\",\\\n",
    "                                            \"SP.POP.GROW\":\"Population_Growth\",\\\n",
    "                                            \"EG.USE.PCAP.KG.OE\":\"Energy_Use\",\\\n",
    "                                            \"BX.KLT.DINV.WD.GD.ZS\":\"Forign_Direct_Investment%GDP\"})"
   ]
  },
  {
   "cell_type": "code",
   "execution_count": 203,
   "id": "96599923",
   "metadata": {},
   "outputs": [],
   "source": [
    "world_bank_final = world_bank_df.loc[::-1]"
   ]
  },
  {
   "cell_type": "code",
   "execution_count": 205,
   "id": "8c154182",
   "metadata": {},
   "outputs": [
    {
     "data": {
      "text/html": [
       "<div>\n",
       "<style scoped>\n",
       "    .dataframe tbody tr th:only-of-type {\n",
       "        vertical-align: middle;\n",
       "    }\n",
       "\n",
       "    .dataframe tbody tr th {\n",
       "        vertical-align: top;\n",
       "    }\n",
       "\n",
       "    .dataframe thead th {\n",
       "        text-align: right;\n",
       "    }\n",
       "</style>\n",
       "<table border=\"1\" class=\"dataframe\">\n",
       "  <thead>\n",
       "    <tr style=\"text-align: right;\">\n",
       "      <th></th>\n",
       "      <th>year</th>\n",
       "      <th>GDP</th>\n",
       "      <th>Gross_Capital_Formation_Growth</th>\n",
       "      <th>Employment_Population_Ratio</th>\n",
       "      <th>Exports</th>\n",
       "      <th>Population_Growth</th>\n",
       "      <th>Energy_Use</th>\n",
       "      <th>Forign_Direct_Investment%GDP</th>\n",
       "    </tr>\n",
       "    <tr>\n",
       "      <th>country</th>\n",
       "      <th></th>\n",
       "      <th></th>\n",
       "      <th></th>\n",
       "      <th></th>\n",
       "      <th></th>\n",
       "      <th></th>\n",
       "      <th></th>\n",
       "      <th></th>\n",
       "    </tr>\n",
       "  </thead>\n",
       "  <tbody>\n",
       "    <tr>\n",
       "      <th>India</th>\n",
       "      <td>1995</td>\n",
       "      <td>7.574492</td>\n",
       "      <td>7.780467</td>\n",
       "      <td>54.91</td>\n",
       "      <td>66.922085</td>\n",
       "      <td>1.918941</td>\n",
       "      <td>385.091857</td>\n",
       "      <td>0.594986</td>\n",
       "    </tr>\n",
       "    <tr>\n",
       "      <th>India</th>\n",
       "      <td>1996</td>\n",
       "      <td>7.549522</td>\n",
       "      <td>0.909082</td>\n",
       "      <td>54.77</td>\n",
       "      <td>75.840974</td>\n",
       "      <td>1.895220</td>\n",
       "      <td>389.426516</td>\n",
       "      <td>0.617479</td>\n",
       "    </tr>\n",
       "    <tr>\n",
       "      <th>India</th>\n",
       "      <td>1997</td>\n",
       "      <td>4.049821</td>\n",
       "      <td>14.880201</td>\n",
       "      <td>54.63</td>\n",
       "      <td>70.603934</td>\n",
       "      <td>1.869172</td>\n",
       "      <td>397.378186</td>\n",
       "      <td>0.860209</td>\n",
       "    </tr>\n",
       "    <tr>\n",
       "      <th>India</th>\n",
       "      <td>1998</td>\n",
       "      <td>6.184416</td>\n",
       "      <td>3.779184</td>\n",
       "      <td>54.49</td>\n",
       "      <td>73.737727</td>\n",
       "      <td>1.839659</td>\n",
       "      <td>399.498829</td>\n",
       "      <td>0.625286</td>\n",
       "    </tr>\n",
       "    <tr>\n",
       "      <th>India</th>\n",
       "      <td>1999</td>\n",
       "      <td>8.845756</td>\n",
       "      <td>17.634883</td>\n",
       "      <td>54.34</td>\n",
       "      <td>83.327389</td>\n",
       "      <td>1.805560</td>\n",
       "      <td>414.962493</td>\n",
       "      <td>0.472645</td>\n",
       "    </tr>\n",
       "  </tbody>\n",
       "</table>\n",
       "</div>"
      ],
      "text/plain": [
       "         year       GDP  Gross_Capital_Formation_Growth  \\\n",
       "country                                                   \n",
       "India    1995  7.574492                        7.780467   \n",
       "India    1996  7.549522                        0.909082   \n",
       "India    1997  4.049821                       14.880201   \n",
       "India    1998  6.184416                        3.779184   \n",
       "India    1999  8.845756                       17.634883   \n",
       "\n",
       "         Employment_Population_Ratio    Exports  Population_Growth  \\\n",
       "country                                                              \n",
       "India                          54.91  66.922085           1.918941   \n",
       "India                          54.77  75.840974           1.895220   \n",
       "India                          54.63  70.603934           1.869172   \n",
       "India                          54.49  73.737727           1.839659   \n",
       "India                          54.34  83.327389           1.805560   \n",
       "\n",
       "         Energy_Use  Forign_Direct_Investment%GDP  \n",
       "country                                            \n",
       "India    385.091857                      0.594986  \n",
       "India    389.426516                      0.617479  \n",
       "India    397.378186                      0.860209  \n",
       "India    399.498829                      0.625286  \n",
       "India    414.962493                      0.472645  "
      ]
     },
     "execution_count": 205,
     "metadata": {},
     "output_type": "execute_result"
    }
   ],
   "source": [
    "world_bank_final.head()"
   ]
  },
  {
   "cell_type": "code",
   "execution_count": 206,
   "id": "1c9c1c1a",
   "metadata": {},
   "outputs": [],
   "source": [
    "world_bank_final1 = world_bank_final.fillna({\n",
    "    'Exports' : 500,\n",
    "    'Energy_Use': 700,\n",
    "    'Forign_Direct_Investment%GDP':1.6})"
   ]
  },
  {
   "cell_type": "code",
   "execution_count": 207,
   "id": "1ba0ac29",
   "metadata": {},
   "outputs": [],
   "source": [
    "world_bank_final1.to_excel('India.xlsx', index = False)"
   ]
  },
  {
   "cell_type": "code",
   "execution_count": 208,
   "id": "7b0c3c7e",
   "metadata": {},
   "outputs": [
    {
     "data": {
      "text/html": [
       "<div>\n",
       "<style scoped>\n",
       "    .dataframe tbody tr th:only-of-type {\n",
       "        vertical-align: middle;\n",
       "    }\n",
       "\n",
       "    .dataframe tbody tr th {\n",
       "        vertical-align: top;\n",
       "    }\n",
       "\n",
       "    .dataframe thead th {\n",
       "        text-align: right;\n",
       "    }\n",
       "</style>\n",
       "<table border=\"1\" class=\"dataframe\">\n",
       "  <thead>\n",
       "    <tr style=\"text-align: right;\">\n",
       "      <th></th>\n",
       "      <th>GDP</th>\n",
       "      <th>Gross_Capital_Formation_Growth</th>\n",
       "      <th>Employment_Population_Ratio</th>\n",
       "      <th>Exports</th>\n",
       "      <th>Population_Growth</th>\n",
       "      <th>Energy_Use</th>\n",
       "      <th>Forign_Direct_Investment%GDP</th>\n",
       "    </tr>\n",
       "  </thead>\n",
       "  <tbody>\n",
       "    <tr>\n",
       "      <th>count</th>\n",
       "      <td>26.000000</td>\n",
       "      <td>26.000000</td>\n",
       "      <td>26.000000</td>\n",
       "      <td>26.000000</td>\n",
       "      <td>26.000000</td>\n",
       "      <td>26.000000</td>\n",
       "      <td>26.000000</td>\n",
       "    </tr>\n",
       "    <tr>\n",
       "      <th>mean</th>\n",
       "      <td>6.015853</td>\n",
       "      <td>7.858675</td>\n",
       "      <td>51.551923</td>\n",
       "      <td>265.855571</td>\n",
       "      <td>1.453925</td>\n",
       "      <td>528.203348</td>\n",
       "      <td>1.436854</td>\n",
       "    </tr>\n",
       "    <tr>\n",
       "      <th>std</th>\n",
       "      <td>3.201107</td>\n",
       "      <td>8.948630</td>\n",
       "      <td>3.465178</td>\n",
       "      <td>156.988108</td>\n",
       "      <td>0.310959</td>\n",
       "      <td>119.585799</td>\n",
       "      <td>0.746519</td>\n",
       "    </tr>\n",
       "    <tr>\n",
       "      <th>min</th>\n",
       "      <td>-7.251755</td>\n",
       "      <td>-10.107401</td>\n",
       "      <td>43.000000</td>\n",
       "      <td>66.922085</td>\n",
       "      <td>0.989414</td>\n",
       "      <td>385.091857</td>\n",
       "      <td>0.472645</td>\n",
       "    </tr>\n",
       "    <tr>\n",
       "      <th>25%</th>\n",
       "      <td>4.928303</td>\n",
       "      <td>3.700722</td>\n",
       "      <td>48.630000</td>\n",
       "      <td>113.007412</td>\n",
       "      <td>1.154981</td>\n",
       "      <td>418.283314</td>\n",
       "      <td>0.789253</td>\n",
       "    </tr>\n",
       "    <tr>\n",
       "      <th>50%</th>\n",
       "      <td>7.102806</td>\n",
       "      <td>7.627011</td>\n",
       "      <td>53.100000</td>\n",
       "      <td>254.211635</td>\n",
       "      <td>1.487056</td>\n",
       "      <td>493.329632</td>\n",
       "      <td>1.511796</td>\n",
       "    </tr>\n",
       "    <tr>\n",
       "      <th>75%</th>\n",
       "      <td>7.907675</td>\n",
       "      <td>14.679947</td>\n",
       "      <td>54.475000</td>\n",
       "      <td>419.327275</td>\n",
       "      <td>1.718967</td>\n",
       "      <td>628.877385</td>\n",
       "      <td>1.893804</td>\n",
       "    </tr>\n",
       "    <tr>\n",
       "      <th>max</th>\n",
       "      <td>8.845756</td>\n",
       "      <td>29.772987</td>\n",
       "      <td>54.910000</td>\n",
       "      <td>500.000000</td>\n",
       "      <td>1.918941</td>\n",
       "      <td>700.000000</td>\n",
       "      <td>3.620522</td>\n",
       "    </tr>\n",
       "  </tbody>\n",
       "</table>\n",
       "</div>"
      ],
      "text/plain": [
       "             GDP  Gross_Capital_Formation_Growth  Employment_Population_Ratio  \\\n",
       "count  26.000000                       26.000000                    26.000000   \n",
       "mean    6.015853                        7.858675                    51.551923   \n",
       "std     3.201107                        8.948630                     3.465178   \n",
       "min    -7.251755                      -10.107401                    43.000000   \n",
       "25%     4.928303                        3.700722                    48.630000   \n",
       "50%     7.102806                        7.627011                    53.100000   \n",
       "75%     7.907675                       14.679947                    54.475000   \n",
       "max     8.845756                       29.772987                    54.910000   \n",
       "\n",
       "          Exports  Population_Growth  Energy_Use  Forign_Direct_Investment%GDP  \n",
       "count   26.000000          26.000000   26.000000                     26.000000  \n",
       "mean   265.855571           1.453925  528.203348                      1.436854  \n",
       "std    156.988108           0.310959  119.585799                      0.746519  \n",
       "min     66.922085           0.989414  385.091857                      0.472645  \n",
       "25%    113.007412           1.154981  418.283314                      0.789253  \n",
       "50%    254.211635           1.487056  493.329632                      1.511796  \n",
       "75%    419.327275           1.718967  628.877385                      1.893804  \n",
       "max    500.000000           1.918941  700.000000                      3.620522  "
      ]
     },
     "execution_count": 208,
     "metadata": {},
     "output_type": "execute_result"
    }
   ],
   "source": [
    "world_bank_final1.describe()"
   ]
  },
  {
   "cell_type": "code",
   "execution_count": 209,
   "id": "a0e69cd3",
   "metadata": {},
   "outputs": [],
   "source": [
    "X = world_bank_final1.drop(\"GDP\", axis = 1)\n",
    "Y = world_bank_final1[['GDP']]\n"
   ]
  },
  {
   "cell_type": "code",
   "execution_count": 210,
   "id": "7fe2aaa4",
   "metadata": {},
   "outputs": [
    {
     "data": {
      "text/plain": [
       "(26, 1)"
      ]
     },
     "execution_count": 210,
     "metadata": {},
     "output_type": "execute_result"
    }
   ],
   "source": [
    "Y.shape\n"
   ]
  },
  {
   "cell_type": "code",
   "execution_count": 211,
   "id": "ae395edb",
   "metadata": {},
   "outputs": [],
   "source": [
    "# Split X and y into X_\n",
    "#X_train, X_test, y_train, y_test = train_test_split(X, Y)\n"
   ]
  },
  {
   "cell_type": "code",
   "execution_count": 212,
   "id": "b029ef76",
   "metadata": {},
   "outputs": [
    {
     "data": {
      "text/plain": [
       "(26, 7)"
      ]
     },
     "execution_count": 212,
     "metadata": {},
     "output_type": "execute_result"
    }
   ],
   "source": [
    "X.shape"
   ]
  },
  {
   "cell_type": "code",
   "execution_count": 213,
   "id": "0b6538cc",
   "metadata": {},
   "outputs": [],
   "source": [
    "X_train = X[:20].values\n",
    "X_test = X[20:].values\n",
    "y_train = Y[:20].values\n",
    "y_test = Y[20:].values"
   ]
  },
  {
   "cell_type": "code",
   "execution_count": 214,
   "id": "4468354a",
   "metadata": {},
   "outputs": [
    {
     "data": {
      "text/plain": [
       "array([['2015', 4.72952352097509, 48.08, 422.4718463, 1.11689591278599,\n",
       "        700.0, 2.09211575768566],\n",
       "       ['2016', 3.67456808127109, 47.64, 434.3545807, 1.09045932094686,\n",
       "        700.0, 1.93736319812939],\n",
       "       ['2017', 10.8362897885911, 47.21, 461.2043143, 1.06335942989132,\n",
       "        700.0, 1.50731658089818],\n",
       "       ['2018', 9.74553265704785, 46.79, 477.8606632, 1.03782784787162,\n",
       "        700.0, 1.55926352274079],\n",
       "       ['2019', 2.28274228197319, 46.74, 491.4029668, 1.01326124930492,\n",
       "        700.0, 1.76312750821227],\n",
       "       ['2020', -10.1074012471816, 43.0, 500.0, 0.989413800188014, 700.0,\n",
       "        1.6]], dtype=object)"
      ]
     },
     "execution_count": 214,
     "metadata": {},
     "output_type": "execute_result"
    }
   ],
   "source": [
    "X_test"
   ]
  },
  {
   "cell_type": "code",
   "execution_count": 215,
   "id": "ab24eb25",
   "metadata": {},
   "outputs": [
    {
     "data": {
      "text/plain": [
       "array([[ 7.99625379],\n",
       "       [ 8.2563055 ],\n",
       "       [ 6.79538342],\n",
       "       [ 6.53298901],\n",
       "       [ 4.04155419],\n",
       "       [-7.25175478]])"
      ]
     },
     "execution_count": 215,
     "metadata": {},
     "output_type": "execute_result"
    }
   ],
   "source": [
    "y_test"
   ]
  },
  {
   "cell_type": "code",
   "execution_count": 216,
   "id": "6ad8f825",
   "metadata": {},
   "outputs": [],
   "source": [
    "# create a Linear Regression model object\n",
    "regression_model_India = LinearRegression()\n"
   ]
  },
  {
   "cell_type": "code",
   "execution_count": 217,
   "id": "da3d031d",
   "metadata": {},
   "outputs": [
    {
     "data": {
      "text/plain": [
       "array([['2015', 4.72952352097509, 48.08, 422.4718463, 1.11689591278599,\n",
       "        700.0, 2.09211575768566],\n",
       "       ['2016', 3.67456808127109, 47.64, 434.3545807, 1.09045932094686,\n",
       "        700.0, 1.93736319812939],\n",
       "       ['2017', 10.8362897885911, 47.21, 461.2043143, 1.06335942989132,\n",
       "        700.0, 1.50731658089818],\n",
       "       ['2018', 9.74553265704785, 46.79, 477.8606632, 1.03782784787162,\n",
       "        700.0, 1.55926352274079],\n",
       "       ['2019', 2.28274228197319, 46.74, 491.4029668, 1.01326124930492,\n",
       "        700.0, 1.76312750821227],\n",
       "       ['2020', -10.1074012471816, 43.0, 500.0, 0.989413800188014, 700.0,\n",
       "        1.6]], dtype=object)"
      ]
     },
     "execution_count": 217,
     "metadata": {},
     "output_type": "execute_result"
    }
   ],
   "source": [
    "X_test"
   ]
  },
  {
   "cell_type": "code",
   "execution_count": 218,
   "id": "b6571ff7",
   "metadata": {},
   "outputs": [
    {
     "data": {
      "text/plain": [
       "LinearRegression()"
      ]
     },
     "execution_count": 218,
     "metadata": {},
     "output_type": "execute_result"
    }
   ],
   "source": [
    "# pass through the X_train & y_train data set\n",
    "regression_model_India.fit(X_train, y_train)"
   ]
  },
  {
   "cell_type": "code",
   "execution_count": 219,
   "id": "0bbe08cd",
   "metadata": {},
   "outputs": [],
   "source": [
    "# let's grab the coefficient of our model and the intercept\n",
    "intercept = regression_model_India.intercept_[0]\n",
    "coefficent = regression_model_India.coef_[0][0]"
   ]
  },
  {
   "cell_type": "code",
   "execution_count": 220,
   "id": "6e0dcb1c",
   "metadata": {},
   "outputs": [
    {
     "name": "stdout",
     "output_type": "stream",
     "text": [
      "The intercept for our model is 768.3\n",
      "----------------------------------------------------------------------------------------------------\n"
     ]
    }
   ],
   "source": [
    "print(\"The intercept for our model is {:.4}\".format(intercept))\n",
    "print('-'*100)"
   ]
  },
  {
   "cell_type": "code",
   "execution_count": 221,
   "id": "74105839",
   "metadata": {},
   "outputs": [
    {
     "name": "stdout",
     "output_type": "stream",
     "text": [
      "The Coefficient for year is -0.47\n",
      "The Coefficient for Gross_Capital_Formation_Growth is 0.073\n",
      "The Coefficient for Employment_Population_Ratio is 2.3\n",
      "The Coefficient for Exports is 0.008\n",
      "The Coefficient for Population_Growth is 3.8\n",
      "The Coefficient for Energy_Use is 0.098\n",
      "The Coefficient for Forign_Direct_Investment%GDP is -1.1\n"
     ]
    }
   ],
   "source": [
    "# loop through the dictionary and print the data\n",
    "for coef in zip(X.columns, regression_model_India.coef_[0]):\n",
    "    print(\"The Coefficient for {} is {:.2}\".format(coef[0],coef[1]))"
   ]
  },
  {
   "cell_type": "code",
   "execution_count": 222,
   "id": "a6d5c911",
   "metadata": {},
   "outputs": [
    {
     "data": {
      "text/plain": [
       "array([[11.20787124],\n",
       "       [ 9.82585048],\n",
       "       [ 9.47424583],\n",
       "       [ 7.95767352],\n",
       "       [ 6.63260003]])"
      ]
     },
     "execution_count": 222,
     "metadata": {},
     "output_type": "execute_result"
    }
   ],
   "source": [
    "# Get multiple predictions\n",
    "y_predict = regression_model_India.predict(X_test)\n",
    "\n",
    "# Show the first 5 predictions\n",
    "y_predict[:5]"
   ]
  },
  {
   "cell_type": "code",
   "execution_count": 223,
   "id": "b3f6f442",
   "metadata": {},
   "outputs": [
    {
     "name": "stdout",
     "output_type": "stream",
     "text": [
      "MSE 7.72\n",
      "MAE 2.61\n",
      "RMSE 2.78\n"
     ]
    }
   ],
   "source": [
    "import math\n",
    "# calculate the mean squared error\n",
    "model_mse = mean_squared_error(y_test, y_predict)\n",
    "\n",
    "# calculate the mean absolute error\n",
    "model_mae = mean_absolute_error(y_test, y_predict)\n",
    "\n",
    "# calulcate the root mean squared error\n",
    "model_rmse =  math.sqrt(model_mse)\n",
    "\n",
    "# display the output\n",
    "print(\"MSE {:.3}\".format(model_mse))\n",
    "print(\"MAE {:.3}\".format(model_mae))\n",
    "print(\"RMSE {:.3}\".format(model_rmse))"
   ]
  },
  {
   "cell_type": "code",
   "execution_count": 224,
   "id": "7c6e147e",
   "metadata": {},
   "outputs": [
    {
     "data": {
      "text/plain": [
       "array([[ 7.99625379],\n",
       "       [ 8.2563055 ],\n",
       "       [ 6.79538342],\n",
       "       [ 6.53298901],\n",
       "       [ 4.04155419],\n",
       "       [-7.25175478]])"
      ]
     },
     "execution_count": 224,
     "metadata": {},
     "output_type": "execute_result"
    }
   ],
   "source": [
    "y_test"
   ]
  },
  {
   "cell_type": "code",
   "execution_count": 225,
   "id": "8916121c",
   "metadata": {},
   "outputs": [
    {
     "data": {
      "text/plain": [
       "array([[11.20787124],\n",
       "       [ 9.82585048],\n",
       "       [ 9.47424583],\n",
       "       [ 7.95767352],\n",
       "       [ 6.63260003],\n",
       "       [-3.0559243 ]])"
      ]
     },
     "execution_count": 225,
     "metadata": {},
     "output_type": "execute_result"
    }
   ],
   "source": [
    "y_predict"
   ]
  },
  {
   "cell_type": "code",
   "execution_count": 226,
   "id": "c32474f7",
   "metadata": {},
   "outputs": [
    {
     "data": {
      "text/plain": [
       "0.573574686091411"
      ]
     },
     "execution_count": 226,
     "metadata": {},
     "output_type": "execute_result"
    }
   ],
   "source": [
    "regression_model_India.score(X_train, y_train)"
   ]
  },
  {
   "cell_type": "code",
   "execution_count": 227,
   "id": "3ad45e4a",
   "metadata": {},
   "outputs": [
    {
     "data": {
      "text/plain": [
       "0.7338682390419914"
      ]
     },
     "execution_count": 227,
     "metadata": {},
     "output_type": "execute_result"
    }
   ],
   "source": [
    "r2_score_India = r2_score(y_test, y_predict)\n",
    "r2_score_India"
   ]
  },
  {
   "cell_type": "markdown",
   "id": "037b2de1",
   "metadata": {},
   "source": [
    "# Regression for USA Data"
   ]
  },
  {
   "cell_type": "code",
   "execution_count": 228,
   "id": "52a503c5",
   "metadata": {},
   "outputs": [],
   "source": [
    "worldbank_indicators = [\"NY.GDP.MKTP.KD.ZG\", \"NE.GDI.TOTL.KD.ZG\",\"SL.EMP.TOTL.SP.ZS\",\"TX.QTY.MRCH.XD.WD\",\"SP.POP.GROW\",\"EG.USE.PCAP.KG.OE\"]\n",
    " \n",
    " \n",
    "world_bank = wb.download (indicator =worldbank_indicators, country = [\"USA\"], start = 1995, end =2020)\n",
    "\n",
    "world_bank = world_bank.reset_index(1)          "
   ]
  },
  {
   "cell_type": "code",
   "execution_count": 229,
   "id": "e45639b4",
   "metadata": {},
   "outputs": [],
   "source": [
    "world_bank_df = world_bank.rename(columns = {\"NY.GDP.MKTP.KD.ZG\":\"GDP\",\\\n",
    "                                               \"NE.GDI.TOTL.KD.ZG\":\"Gross_Capital_Formation_Growth\",\\\n",
    "                                               \"SL.EMP.TOTL.SP.ZS\":\"Employment_Population_Ratio\",\\\n",
    "                                            \"TX.QTY.MRCH.XD.WD\":\"Exports\",\\\n",
    "                                            \"SP.POP.GROW\":\"Population_Growth\",\\\n",
    "                                            \"EG.USE.PCAP.KG.OE\":\"Energy_Use\"})"
   ]
  },
  {
   "cell_type": "code",
   "execution_count": 230,
   "id": "ed24b931",
   "metadata": {},
   "outputs": [],
   "source": [
    "world_bank_final = world_bank_df.loc[::-1]"
   ]
  },
  {
   "cell_type": "code",
   "execution_count": 231,
   "id": "69ab9d8b",
   "metadata": {},
   "outputs": [
    {
     "data": {
      "text/html": [
       "<div>\n",
       "<style scoped>\n",
       "    .dataframe tbody tr th:only-of-type {\n",
       "        vertical-align: middle;\n",
       "    }\n",
       "\n",
       "    .dataframe tbody tr th {\n",
       "        vertical-align: top;\n",
       "    }\n",
       "\n",
       "    .dataframe thead th {\n",
       "        text-align: right;\n",
       "    }\n",
       "</style>\n",
       "<table border=\"1\" class=\"dataframe\">\n",
       "  <thead>\n",
       "    <tr style=\"text-align: right;\">\n",
       "      <th></th>\n",
       "      <th>year</th>\n",
       "      <th>GDP</th>\n",
       "      <th>Gross_Capital_Formation_Growth</th>\n",
       "      <th>Employment_Population_Ratio</th>\n",
       "      <th>Exports</th>\n",
       "      <th>Population_Growth</th>\n",
       "      <th>Energy_Use</th>\n",
       "    </tr>\n",
       "    <tr>\n",
       "      <th>country</th>\n",
       "      <th></th>\n",
       "      <th></th>\n",
       "      <th></th>\n",
       "      <th></th>\n",
       "      <th></th>\n",
       "      <th></th>\n",
       "      <th></th>\n",
       "    </tr>\n",
       "  </thead>\n",
       "  <tbody>\n",
       "    <tr>\n",
       "      <th>United States</th>\n",
       "      <td>1995</td>\n",
       "      <td>2.684217</td>\n",
       "      <td>2.864561</td>\n",
       "      <td>62.11</td>\n",
       "      <td>69.331525</td>\n",
       "      <td>1.190787</td>\n",
       "      <td>7763.755106</td>\n",
       "    </tr>\n",
       "    <tr>\n",
       "      <th>United States</th>\n",
       "      <td>1996</td>\n",
       "      <td>3.772566</td>\n",
       "      <td>7.591728</td>\n",
       "      <td>62.40</td>\n",
       "      <td>73.153759</td>\n",
       "      <td>1.163412</td>\n",
       "      <td>7844.468266</td>\n",
       "    </tr>\n",
       "    <tr>\n",
       "      <th>United States</th>\n",
       "      <td>1997</td>\n",
       "      <td>4.381775</td>\n",
       "      <td>9.481793</td>\n",
       "      <td>63.01</td>\n",
       "      <td>80.106290</td>\n",
       "      <td>1.203960</td>\n",
       "      <td>7828.581096</td>\n",
       "    </tr>\n",
       "    <tr>\n",
       "      <th>United States</th>\n",
       "      <td>1998</td>\n",
       "      <td>4.481408</td>\n",
       "      <td>8.660396</td>\n",
       "      <td>63.31</td>\n",
       "      <td>84.165066</td>\n",
       "      <td>1.165715</td>\n",
       "      <td>7803.697605</td>\n",
       "    </tr>\n",
       "    <tr>\n",
       "      <th>United States</th>\n",
       "      <td>1999</td>\n",
       "      <td>4.753236</td>\n",
       "      <td>7.951288</td>\n",
       "      <td>63.56</td>\n",
       "      <td>87.531198</td>\n",
       "      <td>1.148340</td>\n",
       "      <td>7923.223893</td>\n",
       "    </tr>\n",
       "    <tr>\n",
       "      <th>United States</th>\n",
       "      <td>2000</td>\n",
       "      <td>4.127484</td>\n",
       "      <td>6.097963</td>\n",
       "      <td>63.77</td>\n",
       "      <td>100.000000</td>\n",
       "      <td>1.112769</td>\n",
       "      <td>8056.863850</td>\n",
       "    </tr>\n",
       "    <tr>\n",
       "      <th>United States</th>\n",
       "      <td>2001</td>\n",
       "      <td>0.998341</td>\n",
       "      <td>-3.992445</td>\n",
       "      <td>62.92</td>\n",
       "      <td>93.997048</td>\n",
       "      <td>0.989741</td>\n",
       "      <td>7827.886325</td>\n",
       "    </tr>\n",
       "    <tr>\n",
       "      <th>United States</th>\n",
       "      <td>2002</td>\n",
       "      <td>1.741695</td>\n",
       "      <td>0.472452</td>\n",
       "      <td>61.90</td>\n",
       "      <td>90.266183</td>\n",
       "      <td>0.927797</td>\n",
       "      <td>7843.344849</td>\n",
       "    </tr>\n",
       "    <tr>\n",
       "      <th>United States</th>\n",
       "      <td>2003</td>\n",
       "      <td>2.861211</td>\n",
       "      <td>4.131583</td>\n",
       "      <td>61.39</td>\n",
       "      <td>92.970344</td>\n",
       "      <td>0.859482</td>\n",
       "      <td>7794.235530</td>\n",
       "    </tr>\n",
       "    <tr>\n",
       "      <th>United States</th>\n",
       "      <td>2004</td>\n",
       "      <td>3.798891</td>\n",
       "      <td>7.824860</td>\n",
       "      <td>61.43</td>\n",
       "      <td>100.593525</td>\n",
       "      <td>0.925484</td>\n",
       "      <td>7881.578642</td>\n",
       "    </tr>\n",
       "    <tr>\n",
       "      <th>United States</th>\n",
       "      <td>2005</td>\n",
       "      <td>3.513214</td>\n",
       "      <td>5.609039</td>\n",
       "      <td>61.74</td>\n",
       "      <td>107.801648</td>\n",
       "      <td>0.921713</td>\n",
       "      <td>7846.499688</td>\n",
       "    </tr>\n",
       "    <tr>\n",
       "      <th>United States</th>\n",
       "      <td>2006</td>\n",
       "      <td>2.854972</td>\n",
       "      <td>3.057205</td>\n",
       "      <td>62.14</td>\n",
       "      <td>118.528984</td>\n",
       "      <td>0.964254</td>\n",
       "      <td>7697.652535</td>\n",
       "    </tr>\n",
       "    <tr>\n",
       "      <th>United States</th>\n",
       "      <td>2007</td>\n",
       "      <td>1.876171</td>\n",
       "      <td>-1.619301</td>\n",
       "      <td>61.97</td>\n",
       "      <td>126.480547</td>\n",
       "      <td>0.951055</td>\n",
       "      <td>7758.165986</td>\n",
       "    </tr>\n",
       "    <tr>\n",
       "      <th>United States</th>\n",
       "      <td>2008</td>\n",
       "      <td>-0.136580</td>\n",
       "      <td>-6.213792</td>\n",
       "      <td>61.21</td>\n",
       "      <td>133.754502</td>\n",
       "      <td>0.945865</td>\n",
       "      <td>7488.081921</td>\n",
       "    </tr>\n",
       "    <tr>\n",
       "      <th>United States</th>\n",
       "      <td>2009</td>\n",
       "      <td>-2.536757</td>\n",
       "      <td>-16.595895</td>\n",
       "      <td>58.36</td>\n",
       "      <td>115.040906</td>\n",
       "      <td>0.876651</td>\n",
       "      <td>7056.783653</td>\n",
       "    </tr>\n",
       "    <tr>\n",
       "      <th>United States</th>\n",
       "      <td>2010</td>\n",
       "      <td>2.563767</td>\n",
       "      <td>10.457543</td>\n",
       "      <td>57.45</td>\n",
       "      <td>132.824983</td>\n",
       "      <td>0.829617</td>\n",
       "      <td>7161.426552</td>\n",
       "    </tr>\n",
       "    <tr>\n",
       "      <th>United States</th>\n",
       "      <td>2011</td>\n",
       "      <td>1.550836</td>\n",
       "      <td>4.218060</td>\n",
       "      <td>57.36</td>\n",
       "      <td>142.555571</td>\n",
       "      <td>0.726787</td>\n",
       "      <td>7029.954601</td>\n",
       "    </tr>\n",
       "    <tr>\n",
       "      <th>United States</th>\n",
       "      <td>2012</td>\n",
       "      <td>2.249546</td>\n",
       "      <td>7.662971</td>\n",
       "      <td>57.96</td>\n",
       "      <td>148.075625</td>\n",
       "      <td>0.733600</td>\n",
       "      <td>6872.027284</td>\n",
       "    </tr>\n",
       "    <tr>\n",
       "      <th>United States</th>\n",
       "      <td>2013</td>\n",
       "      <td>1.842081</td>\n",
       "      <td>4.665743</td>\n",
       "      <td>57.89</td>\n",
       "      <td>151.891098</td>\n",
       "      <td>0.692860</td>\n",
       "      <td>6905.598633</td>\n",
       "    </tr>\n",
       "    <tr>\n",
       "      <th>United States</th>\n",
       "      <td>2014</td>\n",
       "      <td>2.525973</td>\n",
       "      <td>4.394881</td>\n",
       "      <td>58.36</td>\n",
       "      <td>156.652211</td>\n",
       "      <td>0.733362</td>\n",
       "      <td>6960.683997</td>\n",
       "    </tr>\n",
       "    <tr>\n",
       "      <th>United States</th>\n",
       "      <td>2015</td>\n",
       "      <td>3.075515</td>\n",
       "      <td>5.047991</td>\n",
       "      <td>58.73</td>\n",
       "      <td>155.096798</td>\n",
       "      <td>0.736217</td>\n",
       "      <td>6803.996607</td>\n",
       "    </tr>\n",
       "    <tr>\n",
       "      <th>United States</th>\n",
       "      <td>2016</td>\n",
       "      <td>1.711427</td>\n",
       "      <td>-0.473253</td>\n",
       "      <td>59.13</td>\n",
       "      <td>154.771225</td>\n",
       "      <td>0.724676</td>\n",
       "      <td>NaN</td>\n",
       "    </tr>\n",
       "    <tr>\n",
       "      <th>United States</th>\n",
       "      <td>2017</td>\n",
       "      <td>2.332679</td>\n",
       "      <td>3.746795</td>\n",
       "      <td>59.58</td>\n",
       "      <td>161.037342</td>\n",
       "      <td>0.632644</td>\n",
       "      <td>NaN</td>\n",
       "    </tr>\n",
       "    <tr>\n",
       "      <th>United States</th>\n",
       "      <td>2018</td>\n",
       "      <td>2.996464</td>\n",
       "      <td>5.104677</td>\n",
       "      <td>59.89</td>\n",
       "      <td>167.697222</td>\n",
       "      <td>0.526435</td>\n",
       "      <td>NaN</td>\n",
       "    </tr>\n",
       "    <tr>\n",
       "      <th>United States</th>\n",
       "      <td>2019</td>\n",
       "      <td>2.161177</td>\n",
       "      <td>3.327353</td>\n",
       "      <td>60.27</td>\n",
       "      <td>166.914148</td>\n",
       "      <td>0.455381</td>\n",
       "      <td>NaN</td>\n",
       "    </tr>\n",
       "    <tr>\n",
       "      <th>United States</th>\n",
       "      <td>2020</td>\n",
       "      <td>-3.642014</td>\n",
       "      <td>-3.956448</td>\n",
       "      <td>56.31</td>\n",
       "      <td>NaN</td>\n",
       "      <td>0.350911</td>\n",
       "      <td>NaN</td>\n",
       "    </tr>\n",
       "  </tbody>\n",
       "</table>\n",
       "</div>"
      ],
      "text/plain": [
       "               year       GDP  Gross_Capital_Formation_Growth  \\\n",
       "country                                                         \n",
       "United States  1995  2.684217                        2.864561   \n",
       "United States  1996  3.772566                        7.591728   \n",
       "United States  1997  4.381775                        9.481793   \n",
       "United States  1998  4.481408                        8.660396   \n",
       "United States  1999  4.753236                        7.951288   \n",
       "United States  2000  4.127484                        6.097963   \n",
       "United States  2001  0.998341                       -3.992445   \n",
       "United States  2002  1.741695                        0.472452   \n",
       "United States  2003  2.861211                        4.131583   \n",
       "United States  2004  3.798891                        7.824860   \n",
       "United States  2005  3.513214                        5.609039   \n",
       "United States  2006  2.854972                        3.057205   \n",
       "United States  2007  1.876171                       -1.619301   \n",
       "United States  2008 -0.136580                       -6.213792   \n",
       "United States  2009 -2.536757                      -16.595895   \n",
       "United States  2010  2.563767                       10.457543   \n",
       "United States  2011  1.550836                        4.218060   \n",
       "United States  2012  2.249546                        7.662971   \n",
       "United States  2013  1.842081                        4.665743   \n",
       "United States  2014  2.525973                        4.394881   \n",
       "United States  2015  3.075515                        5.047991   \n",
       "United States  2016  1.711427                       -0.473253   \n",
       "United States  2017  2.332679                        3.746795   \n",
       "United States  2018  2.996464                        5.104677   \n",
       "United States  2019  2.161177                        3.327353   \n",
       "United States  2020 -3.642014                       -3.956448   \n",
       "\n",
       "               Employment_Population_Ratio     Exports  Population_Growth  \\\n",
       "country                                                                     \n",
       "United States                        62.11   69.331525           1.190787   \n",
       "United States                        62.40   73.153759           1.163412   \n",
       "United States                        63.01   80.106290           1.203960   \n",
       "United States                        63.31   84.165066           1.165715   \n",
       "United States                        63.56   87.531198           1.148340   \n",
       "United States                        63.77  100.000000           1.112769   \n",
       "United States                        62.92   93.997048           0.989741   \n",
       "United States                        61.90   90.266183           0.927797   \n",
       "United States                        61.39   92.970344           0.859482   \n",
       "United States                        61.43  100.593525           0.925484   \n",
       "United States                        61.74  107.801648           0.921713   \n",
       "United States                        62.14  118.528984           0.964254   \n",
       "United States                        61.97  126.480547           0.951055   \n",
       "United States                        61.21  133.754502           0.945865   \n",
       "United States                        58.36  115.040906           0.876651   \n",
       "United States                        57.45  132.824983           0.829617   \n",
       "United States                        57.36  142.555571           0.726787   \n",
       "United States                        57.96  148.075625           0.733600   \n",
       "United States                        57.89  151.891098           0.692860   \n",
       "United States                        58.36  156.652211           0.733362   \n",
       "United States                        58.73  155.096798           0.736217   \n",
       "United States                        59.13  154.771225           0.724676   \n",
       "United States                        59.58  161.037342           0.632644   \n",
       "United States                        59.89  167.697222           0.526435   \n",
       "United States                        60.27  166.914148           0.455381   \n",
       "United States                        56.31         NaN           0.350911   \n",
       "\n",
       "                Energy_Use  \n",
       "country                     \n",
       "United States  7763.755106  \n",
       "United States  7844.468266  \n",
       "United States  7828.581096  \n",
       "United States  7803.697605  \n",
       "United States  7923.223893  \n",
       "United States  8056.863850  \n",
       "United States  7827.886325  \n",
       "United States  7843.344849  \n",
       "United States  7794.235530  \n",
       "United States  7881.578642  \n",
       "United States  7846.499688  \n",
       "United States  7697.652535  \n",
       "United States  7758.165986  \n",
       "United States  7488.081921  \n",
       "United States  7056.783653  \n",
       "United States  7161.426552  \n",
       "United States  7029.954601  \n",
       "United States  6872.027284  \n",
       "United States  6905.598633  \n",
       "United States  6960.683997  \n",
       "United States  6803.996607  \n",
       "United States          NaN  \n",
       "United States          NaN  \n",
       "United States          NaN  \n",
       "United States          NaN  \n",
       "United States          NaN  "
      ]
     },
     "execution_count": 231,
     "metadata": {},
     "output_type": "execute_result"
    }
   ],
   "source": [
    "world_bank_final.head(32)"
   ]
  },
  {
   "cell_type": "code",
   "execution_count": 232,
   "id": "6c9bbeaf",
   "metadata": {},
   "outputs": [
    {
     "data": {
      "text/html": [
       "<div>\n",
       "<style scoped>\n",
       "    .dataframe tbody tr th:only-of-type {\n",
       "        vertical-align: middle;\n",
       "    }\n",
       "\n",
       "    .dataframe tbody tr th {\n",
       "        vertical-align: top;\n",
       "    }\n",
       "\n",
       "    .dataframe thead th {\n",
       "        text-align: right;\n",
       "    }\n",
       "</style>\n",
       "<table border=\"1\" class=\"dataframe\">\n",
       "  <thead>\n",
       "    <tr style=\"text-align: right;\">\n",
       "      <th></th>\n",
       "      <th>year</th>\n",
       "      <th>GDP</th>\n",
       "      <th>Gross_Capital_Formation_Growth</th>\n",
       "      <th>Employment_Population_Ratio</th>\n",
       "      <th>Exports</th>\n",
       "      <th>Population_Growth</th>\n",
       "      <th>Energy_Use</th>\n",
       "    </tr>\n",
       "    <tr>\n",
       "      <th>country</th>\n",
       "      <th></th>\n",
       "      <th></th>\n",
       "      <th></th>\n",
       "      <th></th>\n",
       "      <th></th>\n",
       "      <th></th>\n",
       "      <th></th>\n",
       "    </tr>\n",
       "  </thead>\n",
       "  <tbody>\n",
       "    <tr>\n",
       "      <th>United States</th>\n",
       "      <td>1995</td>\n",
       "      <td>2.684217</td>\n",
       "      <td>2.864561</td>\n",
       "      <td>62.11</td>\n",
       "      <td>69.331525</td>\n",
       "      <td>1.190787</td>\n",
       "      <td>7763.755106</td>\n",
       "    </tr>\n",
       "    <tr>\n",
       "      <th>United States</th>\n",
       "      <td>1996</td>\n",
       "      <td>3.772566</td>\n",
       "      <td>7.591728</td>\n",
       "      <td>62.40</td>\n",
       "      <td>73.153759</td>\n",
       "      <td>1.163412</td>\n",
       "      <td>7844.468266</td>\n",
       "    </tr>\n",
       "    <tr>\n",
       "      <th>United States</th>\n",
       "      <td>1997</td>\n",
       "      <td>4.381775</td>\n",
       "      <td>9.481793</td>\n",
       "      <td>63.01</td>\n",
       "      <td>80.106290</td>\n",
       "      <td>1.203960</td>\n",
       "      <td>7828.581096</td>\n",
       "    </tr>\n",
       "    <tr>\n",
       "      <th>United States</th>\n",
       "      <td>1998</td>\n",
       "      <td>4.481408</td>\n",
       "      <td>8.660396</td>\n",
       "      <td>63.31</td>\n",
       "      <td>84.165066</td>\n",
       "      <td>1.165715</td>\n",
       "      <td>7803.697605</td>\n",
       "    </tr>\n",
       "    <tr>\n",
       "      <th>United States</th>\n",
       "      <td>1999</td>\n",
       "      <td>4.753236</td>\n",
       "      <td>7.951288</td>\n",
       "      <td>63.56</td>\n",
       "      <td>87.531198</td>\n",
       "      <td>1.148340</td>\n",
       "      <td>7923.223893</td>\n",
       "    </tr>\n",
       "  </tbody>\n",
       "</table>\n",
       "</div>"
      ],
      "text/plain": [
       "               year       GDP  Gross_Capital_Formation_Growth  \\\n",
       "country                                                         \n",
       "United States  1995  2.684217                        2.864561   \n",
       "United States  1996  3.772566                        7.591728   \n",
       "United States  1997  4.381775                        9.481793   \n",
       "United States  1998  4.481408                        8.660396   \n",
       "United States  1999  4.753236                        7.951288   \n",
       "\n",
       "               Employment_Population_Ratio    Exports  Population_Growth  \\\n",
       "country                                                                    \n",
       "United States                        62.11  69.331525           1.190787   \n",
       "United States                        62.40  73.153759           1.163412   \n",
       "United States                        63.01  80.106290           1.203960   \n",
       "United States                        63.31  84.165066           1.165715   \n",
       "United States                        63.56  87.531198           1.148340   \n",
       "\n",
       "                Energy_Use  \n",
       "country                     \n",
       "United States  7763.755106  \n",
       "United States  7844.468266  \n",
       "United States  7828.581096  \n",
       "United States  7803.697605  \n",
       "United States  7923.223893  "
      ]
     },
     "execution_count": 232,
     "metadata": {},
     "output_type": "execute_result"
    }
   ],
   "source": [
    "world_bank_final1 = world_bank_final.fillna({\n",
    "    \"Gross_Capital_Formation_Growth\":12.0, \n",
    "    'Exports' :160.0,\n",
    "    'Energy_Use': 6800.0})\n",
    "world_bank_final1.head()"
   ]
  },
  {
   "cell_type": "code",
   "execution_count": 233,
   "id": "eed39751",
   "metadata": {},
   "outputs": [],
   "source": [
    "world_bank_final1.to_excel('USA.xlsx', index = False)"
   ]
  },
  {
   "cell_type": "code",
   "execution_count": 234,
   "id": "ef828e47",
   "metadata": {},
   "outputs": [
    {
     "data": {
      "text/html": [
       "<div>\n",
       "<style scoped>\n",
       "    .dataframe tbody tr th:only-of-type {\n",
       "        vertical-align: middle;\n",
       "    }\n",
       "\n",
       "    .dataframe tbody tr th {\n",
       "        vertical-align: top;\n",
       "    }\n",
       "\n",
       "    .dataframe thead th {\n",
       "        text-align: right;\n",
       "    }\n",
       "</style>\n",
       "<table border=\"1\" class=\"dataframe\">\n",
       "  <thead>\n",
       "    <tr style=\"text-align: right;\">\n",
       "      <th></th>\n",
       "      <th>GDP</th>\n",
       "      <th>Gross_Capital_Formation_Growth</th>\n",
       "      <th>Employment_Population_Ratio</th>\n",
       "      <th>Exports</th>\n",
       "      <th>Population_Growth</th>\n",
       "      <th>Energy_Use</th>\n",
       "    </tr>\n",
       "  </thead>\n",
       "  <tbody>\n",
       "    <tr>\n",
       "      <th>count</th>\n",
       "      <td>26.000000</td>\n",
       "      <td>26.000000</td>\n",
       "      <td>26.000000</td>\n",
       "      <td>26.000000</td>\n",
       "      <td>26.000000</td>\n",
       "      <td>26.000000</td>\n",
       "    </tr>\n",
       "    <tr>\n",
       "      <th>mean</th>\n",
       "      <td>2.251511</td>\n",
       "      <td>3.058375</td>\n",
       "      <td>60.544231</td>\n",
       "      <td>121.970683</td>\n",
       "      <td>0.864981</td>\n",
       "      <td>7390.327178</td>\n",
       "    </tr>\n",
       "    <tr>\n",
       "      <th>std</th>\n",
       "      <td>1.941325</td>\n",
       "      <td>5.863005</td>\n",
       "      <td>2.210808</td>\n",
       "      <td>32.303388</td>\n",
       "      <td>0.229266</td>\n",
       "      <td>479.723261</td>\n",
       "    </tr>\n",
       "    <tr>\n",
       "      <th>min</th>\n",
       "      <td>-3.642014</td>\n",
       "      <td>-16.595895</td>\n",
       "      <td>56.310000</td>\n",
       "      <td>69.331525</td>\n",
       "      <td>0.350911</td>\n",
       "      <td>6800.000000</td>\n",
       "    </tr>\n",
       "    <tr>\n",
       "      <th>25%</th>\n",
       "      <td>1.766792</td>\n",
       "      <td>1.070480</td>\n",
       "      <td>58.452500</td>\n",
       "      <td>93.227020</td>\n",
       "      <td>0.728430</td>\n",
       "      <td>6880.420121</td>\n",
       "    </tr>\n",
       "    <tr>\n",
       "      <th>50%</th>\n",
       "      <td>2.544870</td>\n",
       "      <td>4.306470</td>\n",
       "      <td>61.300000</td>\n",
       "      <td>122.504765</td>\n",
       "      <td>0.899182</td>\n",
       "      <td>7592.867228</td>\n",
       "    </tr>\n",
       "    <tr>\n",
       "      <th>75%</th>\n",
       "      <td>3.403789</td>\n",
       "      <td>7.218287</td>\n",
       "      <td>62.132500</td>\n",
       "      <td>154.051194</td>\n",
       "      <td>0.983370</td>\n",
       "      <td>7828.407404</td>\n",
       "    </tr>\n",
       "    <tr>\n",
       "      <th>max</th>\n",
       "      <td>4.753236</td>\n",
       "      <td>10.457543</td>\n",
       "      <td>63.770000</td>\n",
       "      <td>167.697222</td>\n",
       "      <td>1.203960</td>\n",
       "      <td>8056.863850</td>\n",
       "    </tr>\n",
       "  </tbody>\n",
       "</table>\n",
       "</div>"
      ],
      "text/plain": [
       "             GDP  Gross_Capital_Formation_Growth  Employment_Population_Ratio  \\\n",
       "count  26.000000                       26.000000                    26.000000   \n",
       "mean    2.251511                        3.058375                    60.544231   \n",
       "std     1.941325                        5.863005                     2.210808   \n",
       "min    -3.642014                      -16.595895                    56.310000   \n",
       "25%     1.766792                        1.070480                    58.452500   \n",
       "50%     2.544870                        4.306470                    61.300000   \n",
       "75%     3.403789                        7.218287                    62.132500   \n",
       "max     4.753236                       10.457543                    63.770000   \n",
       "\n",
       "          Exports  Population_Growth   Energy_Use  \n",
       "count   26.000000          26.000000    26.000000  \n",
       "mean   121.970683           0.864981  7390.327178  \n",
       "std     32.303388           0.229266   479.723261  \n",
       "min     69.331525           0.350911  6800.000000  \n",
       "25%     93.227020           0.728430  6880.420121  \n",
       "50%    122.504765           0.899182  7592.867228  \n",
       "75%    154.051194           0.983370  7828.407404  \n",
       "max    167.697222           1.203960  8056.863850  "
      ]
     },
     "execution_count": 234,
     "metadata": {},
     "output_type": "execute_result"
    }
   ],
   "source": [
    "world_bank_final1.describe()"
   ]
  },
  {
   "cell_type": "code",
   "execution_count": 235,
   "id": "cdd8ac5c",
   "metadata": {},
   "outputs": [],
   "source": [
    "X = world_bank_final1.drop(\"GDP\", axis = 1)\n",
    "Y = world_bank_final1[['GDP']]\n"
   ]
  },
  {
   "cell_type": "code",
   "execution_count": 236,
   "id": "68eee917",
   "metadata": {},
   "outputs": [],
   "source": [
    "X_train = X[:20].values\n",
    "X_test = X[20:].values\n",
    "y_train = Y[:20].values\n",
    "y_test = Y[20:].values"
   ]
  },
  {
   "cell_type": "code",
   "execution_count": 237,
   "id": "22995797",
   "metadata": {},
   "outputs": [
    {
     "data": {
      "text/plain": [
       "array([['2015', 5.04799124347824, 58.73, 155.0967981, 0.73621730882542,\n",
       "        6803.99660728499],\n",
       "       ['2016', -0.473252554625759, 59.13, 154.7712254,\n",
       "        0.724676067451429, 6800.0],\n",
       "       ['2017', 3.74679542893868, 59.58, 161.0373425, 0.63264399508256,\n",
       "        6800.0],\n",
       "       ['2018', 5.10467700795469, 59.89, 167.6972224, 0.526435395564053,\n",
       "        6800.0],\n",
       "       ['2019', 3.32735318928567, 60.27, 166.9141484, 0.455381285963537,\n",
       "        6800.0],\n",
       "       ['2020', -3.95644835328591, 56.31, 160.0, 0.350911063312921,\n",
       "        6800.0]], dtype=object)"
      ]
     },
     "execution_count": 237,
     "metadata": {},
     "output_type": "execute_result"
    }
   ],
   "source": [
    "X_test"
   ]
  },
  {
   "cell_type": "code",
   "execution_count": 238,
   "id": "34a69824",
   "metadata": {},
   "outputs": [],
   "source": [
    "# create a Linear Regression model object\n",
    "regression_model_USA = LinearRegression()"
   ]
  },
  {
   "cell_type": "code",
   "execution_count": 239,
   "id": "ac04410c",
   "metadata": {},
   "outputs": [
    {
     "data": {
      "text/plain": [
       "LinearRegression()"
      ]
     },
     "execution_count": 239,
     "metadata": {},
     "output_type": "execute_result"
    }
   ],
   "source": [
    "# pass through the X_train & y_train data set\n",
    "regression_model_USA.fit(X_train, y_train)"
   ]
  },
  {
   "cell_type": "code",
   "execution_count": 240,
   "id": "5d7ca1f0",
   "metadata": {},
   "outputs": [],
   "source": [
    "# let's grab the coefficient of our model and the intercept\n",
    "intercept = regression_model_USA.intercept_[0]\n",
    "coefficent = regression_model_USA.coef_[0][0]"
   ]
  },
  {
   "cell_type": "code",
   "execution_count": 241,
   "id": "2eb9b268",
   "metadata": {},
   "outputs": [
    {
     "name": "stdout",
     "output_type": "stream",
     "text": [
      "The intercept for our model is -420.4\n",
      "----------------------------------------------------------------------------------------------------\n"
     ]
    }
   ],
   "source": [
    "print(\"The intercept for our model is {:.4}\".format(intercept))\n",
    "print('-'*100)"
   ]
  },
  {
   "cell_type": "code",
   "execution_count": 242,
   "id": "0c5d5ac9",
   "metadata": {},
   "outputs": [
    {
     "name": "stdout",
     "output_type": "stream",
     "text": [
      "The Coefficient for year is 0.2\n",
      "The Coefficient for Gross_Capital_Formation_Growth is 0.24\n",
      "The Coefficient for Employment_Population_Ratio is 0.47\n",
      "The Coefficient for Exports is -0.027\n",
      "The Coefficient for Population_Growth is 1.8\n",
      "The Coefficient for Energy_Use is -0.0005\n"
     ]
    }
   ],
   "source": [
    "# loop through the dictionary and print the data\n",
    "for coef in zip(X.columns, regression_model_USA.coef_[0]):\n",
    "    print(\"The Coefficient for {} is {:.2}\".format(coef[0],coef[1]))"
   ]
  },
  {
   "cell_type": "code",
   "execution_count": 243,
   "id": "5d33bd63",
   "metadata": {},
   "outputs": [
    {
     "data": {
      "text/plain": [
       "array([[ 3.07551465],\n",
       "       [ 1.71142677],\n",
       "       [ 2.3326794 ],\n",
       "       [ 2.99646435],\n",
       "       [ 2.16117652],\n",
       "       [-3.64201388]])"
      ]
     },
     "execution_count": 243,
     "metadata": {},
     "output_type": "execute_result"
    }
   ],
   "source": [
    "y_test"
   ]
  },
  {
   "cell_type": "code",
   "execution_count": 244,
   "id": "187d565e",
   "metadata": {},
   "outputs": [
    {
     "data": {
      "text/plain": [
       "array([[ 2.70940662],\n",
       "       [ 1.73682139],\n",
       "       [ 2.84120157],\n",
       "       [ 3.14515422],\n",
       "       [ 2.98152012],\n",
       "       [-0.44568975]])"
      ]
     },
     "execution_count": 244,
     "metadata": {},
     "output_type": "execute_result"
    }
   ],
   "source": [
    "# Get multiple predictions\n",
    "y_predict = regression_model_USA.predict(X_test)\n",
    "\n",
    "# Show the first 5 predictions\n",
    "y_predict[:6]"
   ]
  },
  {
   "cell_type": "code",
   "execution_count": 245,
   "id": "09f90fbd",
   "metadata": {},
   "outputs": [
    {
     "name": "stdout",
     "output_type": "stream",
     "text": [
      "MSE 1.88\n",
      "MAE 0.844\n",
      "RMSE 1.37\n"
     ]
    }
   ],
   "source": [
    "import math\n",
    "# calculate the mean squared error\n",
    "model_mse = mean_squared_error(y_test, y_predict)\n",
    "\n",
    "# calculate the mean absolute error\n",
    "model_mae = mean_absolute_error(y_test, y_predict)\n",
    "\n",
    "# calulcate the root mean squared error\n",
    "model_rmse =  math.sqrt(model_mse)\n",
    "\n",
    "# display the output\n",
    "print(\"MSE {:.3}\".format(model_mse))\n",
    "print(\"MAE {:.3}\".format(model_mae))\n",
    "print(\"RMSE {:.3}\".format(model_rmse))"
   ]
  },
  {
   "cell_type": "code",
   "execution_count": 246,
   "id": "ed4d2984",
   "metadata": {},
   "outputs": [
    {
     "data": {
      "text/plain": [
       "0.975923999233812"
      ]
     },
     "execution_count": 246,
     "metadata": {},
     "output_type": "execute_result"
    }
   ],
   "source": [
    "regression_model_USA.score(X_train, y_train)"
   ]
  },
  {
   "cell_type": "code",
   "execution_count": 247,
   "id": "43eaccc6",
   "metadata": {},
   "outputs": [
    {
     "data": {
      "text/plain": [
       "0.6501675179594838"
      ]
     },
     "execution_count": 247,
     "metadata": {},
     "output_type": "execute_result"
    }
   ],
   "source": [
    "r2_score_USA = r2_score(y_test, y_predict)\n",
    "r2_score_USA"
   ]
  },
  {
   "cell_type": "markdown",
   "id": "7721f974",
   "metadata": {},
   "source": [
    "# Regression for China Data"
   ]
  },
  {
   "cell_type": "code",
   "execution_count": 248,
   "id": "29e90819",
   "metadata": {},
   "outputs": [],
   "source": [
    "worldbank_indicators = [\"NY.GDP.MKTP.KD.ZG\", \"NE.GDI.TOTL.KD.ZG\",\"SL.EMP.TOTL.SP.ZS\",\"TX.QTY.MRCH.XD.WD\",\"SP.POP.GROW\",\"EG.USE.PCAP.KG.OE\", \"BX.KLT.DINV.WD.GD.ZS\"]\n",
    " \n",
    " \n",
    "world_bank = wb.download (indicator =worldbank_indicators, country = [\"CHN\"], start = 1990, end =2020)\n",
    "\n",
    "world_bank = world_bank.reset_index(1)        "
   ]
  },
  {
   "cell_type": "code",
   "execution_count": 249,
   "id": "61277c39",
   "metadata": {},
   "outputs": [],
   "source": [
    "world_bank_df = world_bank.rename(columns = {\"NY.GDP.MKTP.KD.ZG\":\"GDP\",\\\n",
    "                                               \"NE.GDI.TOTL.KD.ZG\":\"Gross_Capital_Formation_Growth\",\\\n",
    "                                               \"SL.EMP.TOTL.SP.ZS\":\"Employment_Population_Ratio\",\\\n",
    "                                            \"TX.QTY.MRCH.XD.WD\":\"Exports\",\\\n",
    "                                            \"SP.POP.GROW\":\"Population_Growth\",\\\n",
    "                                            \"EG.USE.PCAP.KG.OE\":\"Energy_Use\",\\\n",
    "                                            \"BX.KLT.DINV.WD.GD.ZS\":\"Forign_Direct_Investment%GDP\"})"
   ]
  },
  {
   "cell_type": "code",
   "execution_count": 250,
   "id": "9a02432c",
   "metadata": {},
   "outputs": [],
   "source": [
    "world_bank_final = world_bank_df.loc[::-1]"
   ]
  },
  {
   "cell_type": "code",
   "execution_count": 251,
   "id": "b46f1824",
   "metadata": {},
   "outputs": [
    {
     "data": {
      "text/html": [
       "<div>\n",
       "<style scoped>\n",
       "    .dataframe tbody tr th:only-of-type {\n",
       "        vertical-align: middle;\n",
       "    }\n",
       "\n",
       "    .dataframe tbody tr th {\n",
       "        vertical-align: top;\n",
       "    }\n",
       "\n",
       "    .dataframe thead th {\n",
       "        text-align: right;\n",
       "    }\n",
       "</style>\n",
       "<table border=\"1\" class=\"dataframe\">\n",
       "  <thead>\n",
       "    <tr style=\"text-align: right;\">\n",
       "      <th></th>\n",
       "      <th>year</th>\n",
       "      <th>GDP</th>\n",
       "      <th>Gross_Capital_Formation_Growth</th>\n",
       "      <th>Employment_Population_Ratio</th>\n",
       "      <th>Exports</th>\n",
       "      <th>Population_Growth</th>\n",
       "      <th>Energy_Use</th>\n",
       "      <th>Forign_Direct_Investment%GDP</th>\n",
       "    </tr>\n",
       "    <tr>\n",
       "      <th>country</th>\n",
       "      <th></th>\n",
       "      <th></th>\n",
       "      <th></th>\n",
       "      <th></th>\n",
       "      <th></th>\n",
       "      <th></th>\n",
       "      <th></th>\n",
       "      <th></th>\n",
       "    </tr>\n",
       "  </thead>\n",
       "  <tbody>\n",
       "    <tr>\n",
       "      <th>China</th>\n",
       "      <td>1990</td>\n",
       "      <td>3.920251</td>\n",
       "      <td>NaN</td>\n",
       "      <td>NaN</td>\n",
       "      <td>25.686424</td>\n",
       "      <td>1.467303</td>\n",
       "      <td>766.995329</td>\n",
       "      <td>0.966308</td>\n",
       "    </tr>\n",
       "    <tr>\n",
       "      <th>China</th>\n",
       "      <td>1991</td>\n",
       "      <td>9.262786</td>\n",
       "      <td>NaN</td>\n",
       "      <td>77.16</td>\n",
       "      <td>29.444891</td>\n",
       "      <td>1.364434</td>\n",
       "      <td>736.851801</td>\n",
       "      <td>1.138838</td>\n",
       "    </tr>\n",
       "    <tr>\n",
       "      <th>China</th>\n",
       "      <td>1992</td>\n",
       "      <td>14.224530</td>\n",
       "      <td>NaN</td>\n",
       "      <td>77.11</td>\n",
       "      <td>34.084662</td>\n",
       "      <td>1.225536</td>\n",
       "      <td>752.628663</td>\n",
       "      <td>2.613162</td>\n",
       "    </tr>\n",
       "    <tr>\n",
       "      <th>China</th>\n",
       "      <td>1993</td>\n",
       "      <td>13.883729</td>\n",
       "      <td>NaN</td>\n",
       "      <td>76.83</td>\n",
       "      <td>37.953573</td>\n",
       "      <td>1.149619</td>\n",
       "      <td>788.128724</td>\n",
       "      <td>6.186882</td>\n",
       "    </tr>\n",
       "    <tr>\n",
       "      <th>China</th>\n",
       "      <td>1994</td>\n",
       "      <td>13.036807</td>\n",
       "      <td>NaN</td>\n",
       "      <td>76.60</td>\n",
       "      <td>48.557200</td>\n",
       "      <td>1.130261</td>\n",
       "      <td>816.162890</td>\n",
       "      <td>5.987156</td>\n",
       "    </tr>\n",
       "  </tbody>\n",
       "</table>\n",
       "</div>"
      ],
      "text/plain": [
       "         year        GDP  Gross_Capital_Formation_Growth  \\\n",
       "country                                                    \n",
       "China    1990   3.920251                             NaN   \n",
       "China    1991   9.262786                             NaN   \n",
       "China    1992  14.224530                             NaN   \n",
       "China    1993  13.883729                             NaN   \n",
       "China    1994  13.036807                             NaN   \n",
       "\n",
       "         Employment_Population_Ratio    Exports  Population_Growth  \\\n",
       "country                                                              \n",
       "China                            NaN  25.686424           1.467303   \n",
       "China                          77.16  29.444891           1.364434   \n",
       "China                          77.11  34.084662           1.225536   \n",
       "China                          76.83  37.953573           1.149619   \n",
       "China                          76.60  48.557200           1.130261   \n",
       "\n",
       "         Energy_Use  Forign_Direct_Investment%GDP  \n",
       "country                                            \n",
       "China    766.995329                      0.966308  \n",
       "China    736.851801                      1.138838  \n",
       "China    752.628663                      2.613162  \n",
       "China    788.128724                      6.186882  \n",
       "China    816.162890                      5.987156  "
      ]
     },
     "execution_count": 251,
     "metadata": {},
     "output_type": "execute_result"
    }
   ],
   "source": [
    "world_bank_final.head()"
   ]
  },
  {
   "cell_type": "code",
   "execution_count": 253,
   "id": "6c160a72",
   "metadata": {},
   "outputs": [
    {
     "data": {
      "text/html": [
       "<div>\n",
       "<style scoped>\n",
       "    .dataframe tbody tr th:only-of-type {\n",
       "        vertical-align: middle;\n",
       "    }\n",
       "\n",
       "    .dataframe tbody tr th {\n",
       "        vertical-align: top;\n",
       "    }\n",
       "\n",
       "    .dataframe thead th {\n",
       "        text-align: right;\n",
       "    }\n",
       "</style>\n",
       "<table border=\"1\" class=\"dataframe\">\n",
       "  <thead>\n",
       "    <tr style=\"text-align: right;\">\n",
       "      <th></th>\n",
       "      <th>year</th>\n",
       "      <th>GDP</th>\n",
       "      <th>Gross_Capital_Formation_Growth</th>\n",
       "      <th>Employment_Population_Ratio</th>\n",
       "      <th>Exports</th>\n",
       "      <th>Population_Growth</th>\n",
       "      <th>Energy_Use</th>\n",
       "      <th>Forign_Direct_Investment%GDP</th>\n",
       "    </tr>\n",
       "    <tr>\n",
       "      <th>country</th>\n",
       "      <th></th>\n",
       "      <th></th>\n",
       "      <th></th>\n",
       "      <th></th>\n",
       "      <th></th>\n",
       "      <th></th>\n",
       "      <th></th>\n",
       "      <th></th>\n",
       "    </tr>\n",
       "  </thead>\n",
       "  <tbody>\n",
       "    <tr>\n",
       "      <th>China</th>\n",
       "      <td>1990</td>\n",
       "      <td>3.920251</td>\n",
       "      <td>8.0</td>\n",
       "      <td>76.00</td>\n",
       "      <td>25.686424</td>\n",
       "      <td>1.467303</td>\n",
       "      <td>766.995329</td>\n",
       "      <td>0.966308</td>\n",
       "    </tr>\n",
       "    <tr>\n",
       "      <th>China</th>\n",
       "      <td>1991</td>\n",
       "      <td>9.262786</td>\n",
       "      <td>8.0</td>\n",
       "      <td>77.16</td>\n",
       "      <td>29.444891</td>\n",
       "      <td>1.364434</td>\n",
       "      <td>736.851801</td>\n",
       "      <td>1.138838</td>\n",
       "    </tr>\n",
       "    <tr>\n",
       "      <th>China</th>\n",
       "      <td>1992</td>\n",
       "      <td>14.224530</td>\n",
       "      <td>8.0</td>\n",
       "      <td>77.11</td>\n",
       "      <td>34.084662</td>\n",
       "      <td>1.225536</td>\n",
       "      <td>752.628663</td>\n",
       "      <td>2.613162</td>\n",
       "    </tr>\n",
       "    <tr>\n",
       "      <th>China</th>\n",
       "      <td>1993</td>\n",
       "      <td>13.883729</td>\n",
       "      <td>8.0</td>\n",
       "      <td>76.83</td>\n",
       "      <td>37.953573</td>\n",
       "      <td>1.149619</td>\n",
       "      <td>788.128724</td>\n",
       "      <td>6.186882</td>\n",
       "    </tr>\n",
       "    <tr>\n",
       "      <th>China</th>\n",
       "      <td>1994</td>\n",
       "      <td>13.036807</td>\n",
       "      <td>8.0</td>\n",
       "      <td>76.60</td>\n",
       "      <td>48.557200</td>\n",
       "      <td>1.130261</td>\n",
       "      <td>816.162890</td>\n",
       "      <td>5.987156</td>\n",
       "    </tr>\n",
       "  </tbody>\n",
       "</table>\n",
       "</div>"
      ],
      "text/plain": [
       "         year        GDP  Gross_Capital_Formation_Growth  \\\n",
       "country                                                    \n",
       "China    1990   3.920251                             8.0   \n",
       "China    1991   9.262786                             8.0   \n",
       "China    1992  14.224530                             8.0   \n",
       "China    1993  13.883729                             8.0   \n",
       "China    1994  13.036807                             8.0   \n",
       "\n",
       "         Employment_Population_Ratio    Exports  Population_Growth  \\\n",
       "country                                                              \n",
       "China                          76.00  25.686424           1.467303   \n",
       "China                          77.16  29.444891           1.364434   \n",
       "China                          77.11  34.084662           1.225536   \n",
       "China                          76.83  37.953573           1.149619   \n",
       "China                          76.60  48.557200           1.130261   \n",
       "\n",
       "         Energy_Use  Forign_Direct_Investment%GDP  \n",
       "country                                            \n",
       "China    766.995329                      0.966308  \n",
       "China    736.851801                      1.138838  \n",
       "China    752.628663                      2.613162  \n",
       "China    788.128724                      6.186882  \n",
       "China    816.162890                      5.987156  "
      ]
     },
     "execution_count": 253,
     "metadata": {},
     "output_type": "execute_result"
    }
   ],
   "source": [
    "world_bank_final1 = world_bank_final.fillna({\n",
    "    'Employment_Population_Ratio':76,\n",
    "    'Gross_Capital_Formation_Growth' : 8,\n",
    "    'Exports' : 750,\n",
    "    'Energy_Use': 1800,\n",
    "    'Forign_Direct_Investment%GDP':01.0})\n",
    "world_bank_final1.head()"
   ]
  },
  {
   "cell_type": "code",
   "execution_count": 254,
   "id": "f04a0fd2",
   "metadata": {},
   "outputs": [],
   "source": [
    "world_bank_final1.to_excel('China.xlsx', index = False)"
   ]
  },
  {
   "cell_type": "code",
   "execution_count": 255,
   "id": "4dbef094",
   "metadata": {},
   "outputs": [
    {
     "data": {
      "text/plain": [
       "(26, 1)"
      ]
     },
     "execution_count": 255,
     "metadata": {},
     "output_type": "execute_result"
    }
   ],
   "source": [
    "Y.shape"
   ]
  },
  {
   "cell_type": "code",
   "execution_count": 256,
   "id": "7a8478e8",
   "metadata": {},
   "outputs": [
    {
     "data": {
      "text/html": [
       "<div>\n",
       "<style scoped>\n",
       "    .dataframe tbody tr th:only-of-type {\n",
       "        vertical-align: middle;\n",
       "    }\n",
       "\n",
       "    .dataframe tbody tr th {\n",
       "        vertical-align: top;\n",
       "    }\n",
       "\n",
       "    .dataframe thead th {\n",
       "        text-align: right;\n",
       "    }\n",
       "</style>\n",
       "<table border=\"1\" class=\"dataframe\">\n",
       "  <thead>\n",
       "    <tr style=\"text-align: right;\">\n",
       "      <th></th>\n",
       "      <th>GDP</th>\n",
       "      <th>Gross_Capital_Formation_Growth</th>\n",
       "      <th>Employment_Population_Ratio</th>\n",
       "      <th>Exports</th>\n",
       "      <th>Population_Growth</th>\n",
       "      <th>Energy_Use</th>\n",
       "      <th>Forign_Direct_Investment%GDP</th>\n",
       "    </tr>\n",
       "  </thead>\n",
       "  <tbody>\n",
       "    <tr>\n",
       "      <th>count</th>\n",
       "      <td>31.000000</td>\n",
       "      <td>31.000000</td>\n",
       "      <td>31.000000</td>\n",
       "      <td>31.000000</td>\n",
       "      <td>31.000000</td>\n",
       "      <td>31.000000</td>\n",
       "      <td>31.000000</td>\n",
       "    </tr>\n",
       "    <tr>\n",
       "      <th>mean</th>\n",
       "      <td>9.115567</td>\n",
       "      <td>10.508647</td>\n",
       "      <td>71.123226</td>\n",
       "      <td>341.368676</td>\n",
       "      <td>0.748794</td>\n",
       "      <td>1381.820940</td>\n",
       "      <td>3.287395</td>\n",
       "    </tr>\n",
       "    <tr>\n",
       "      <th>std</th>\n",
       "      <td>2.774183</td>\n",
       "      <td>5.417067</td>\n",
       "      <td>4.338448</td>\n",
       "      <td>280.587882</td>\n",
       "      <td>0.303926</td>\n",
       "      <td>516.444531</td>\n",
       "      <td>1.421270</td>\n",
       "    </tr>\n",
       "    <tr>\n",
       "      <th>min</th>\n",
       "      <td>2.347514</td>\n",
       "      <td>3.560256</td>\n",
       "      <td>63.480000</td>\n",
       "      <td>25.686424</td>\n",
       "      <td>0.225948</td>\n",
       "      <td>736.851801</td>\n",
       "      <td>0.966308</td>\n",
       "    </tr>\n",
       "    <tr>\n",
       "      <th>25%</th>\n",
       "      <td>7.543708</td>\n",
       "      <td>7.258222</td>\n",
       "      <td>67.460000</td>\n",
       "      <td>69.400851</td>\n",
       "      <td>0.552416</td>\n",
       "      <td>875.140430</td>\n",
       "      <td>2.375708</td>\n",
       "    </tr>\n",
       "    <tr>\n",
       "      <th>50%</th>\n",
       "      <td>9.236780</td>\n",
       "      <td>8.000000</td>\n",
       "      <td>70.240000</td>\n",
       "      <td>283.644193</td>\n",
       "      <td>0.630326</td>\n",
       "      <td>1393.691324</td>\n",
       "      <td>3.487403</td>\n",
       "    </tr>\n",
       "    <tr>\n",
       "      <th>75%</th>\n",
       "      <td>10.374746</td>\n",
       "      <td>13.461574</td>\n",
       "      <td>75.730000</td>\n",
       "      <td>622.129726</td>\n",
       "      <td>0.991500</td>\n",
       "      <td>1800.000000</td>\n",
       "      <td>4.418271</td>\n",
       "    </tr>\n",
       "    <tr>\n",
       "      <th>max</th>\n",
       "      <td>14.230861</td>\n",
       "      <td>23.790644</td>\n",
       "      <td>77.160000</td>\n",
       "      <td>784.492573</td>\n",
       "      <td>1.467303</td>\n",
       "      <td>2224.354898</td>\n",
       "      <td>6.186882</td>\n",
       "    </tr>\n",
       "  </tbody>\n",
       "</table>\n",
       "</div>"
      ],
      "text/plain": [
       "             GDP  Gross_Capital_Formation_Growth  Employment_Population_Ratio  \\\n",
       "count  31.000000                       31.000000                    31.000000   \n",
       "mean    9.115567                       10.508647                    71.123226   \n",
       "std     2.774183                        5.417067                     4.338448   \n",
       "min     2.347514                        3.560256                    63.480000   \n",
       "25%     7.543708                        7.258222                    67.460000   \n",
       "50%     9.236780                        8.000000                    70.240000   \n",
       "75%    10.374746                       13.461574                    75.730000   \n",
       "max    14.230861                       23.790644                    77.160000   \n",
       "\n",
       "          Exports  Population_Growth   Energy_Use  \\\n",
       "count   31.000000          31.000000    31.000000   \n",
       "mean   341.368676           0.748794  1381.820940   \n",
       "std    280.587882           0.303926   516.444531   \n",
       "min     25.686424           0.225948   736.851801   \n",
       "25%     69.400851           0.552416   875.140430   \n",
       "50%    283.644193           0.630326  1393.691324   \n",
       "75%    622.129726           0.991500  1800.000000   \n",
       "max    784.492573           1.467303  2224.354898   \n",
       "\n",
       "       Forign_Direct_Investment%GDP  \n",
       "count                     31.000000  \n",
       "mean                       3.287395  \n",
       "std                        1.421270  \n",
       "min                        0.966308  \n",
       "25%                        2.375708  \n",
       "50%                        3.487403  \n",
       "75%                        4.418271  \n",
       "max                        6.186882  "
      ]
     },
     "execution_count": 256,
     "metadata": {},
     "output_type": "execute_result"
    }
   ],
   "source": [
    "world_bank_final1.describe()"
   ]
  },
  {
   "cell_type": "code",
   "execution_count": 257,
   "id": "067741ca",
   "metadata": {},
   "outputs": [],
   "source": [
    "X = world_bank_final1.drop(\"GDP\", axis = 1)\n",
    "Y = world_bank_final1[['GDP']]\n"
   ]
  },
  {
   "cell_type": "code",
   "execution_count": 258,
   "id": "217a4712",
   "metadata": {},
   "outputs": [],
   "source": [
    "X_train = X[:28].values\n",
    "X_test = X[28:].values\n",
    "y_train = Y[:28].values\n",
    "y_test = Y[28:].values"
   ]
  },
  {
   "cell_type": "code",
   "execution_count": 259,
   "id": "8c0a111a",
   "metadata": {},
   "outputs": [
    {
     "data": {
      "text/plain": [
       "array([['2018', 6.75917007998336, 65.76, 769.440752, 0.467672053461959,\n",
       "        1800.0, 1.69390529382545],\n",
       "       ['2019', 3.98543867617695, 65.1, 784.4925731, 0.354740890170827,\n",
       "        1800.0, 1.31071878144875],\n",
       "       ['2020', 5.21683592750635, 63.48, 750.0, 0.225947587112011,\n",
       "        1800.0, 1.0]], dtype=object)"
      ]
     },
     "execution_count": 259,
     "metadata": {},
     "output_type": "execute_result"
    }
   ],
   "source": [
    "X_test"
   ]
  },
  {
   "cell_type": "code",
   "execution_count": 260,
   "id": "b1b64ce2",
   "metadata": {},
   "outputs": [
    {
     "data": {
      "text/plain": [
       "array([[6.74977383],\n",
       "       [5.94971423],\n",
       "       [2.34751357]])"
      ]
     },
     "execution_count": 260,
     "metadata": {},
     "output_type": "execute_result"
    }
   ],
   "source": [
    "y_test"
   ]
  },
  {
   "cell_type": "code",
   "execution_count": 261,
   "id": "840c027b",
   "metadata": {},
   "outputs": [],
   "source": [
    "# create a Linear Regression model object\n",
    "regression_model_China = LinearRegression()"
   ]
  },
  {
   "cell_type": "code",
   "execution_count": 262,
   "id": "b87b83a3",
   "metadata": {},
   "outputs": [
    {
     "data": {
      "text/plain": [
       "LinearRegression()"
      ]
     },
     "execution_count": 262,
     "metadata": {},
     "output_type": "execute_result"
    }
   ],
   "source": [
    "# pass through the X_train & y_train data set\n",
    "regression_model_China.fit(X_train, y_train)"
   ]
  },
  {
   "cell_type": "code",
   "execution_count": 263,
   "id": "d31971c2",
   "metadata": {},
   "outputs": [
    {
     "data": {
      "text/plain": [
       "array([[8.83669115],\n",
       "       [9.09432693],\n",
       "       [6.90775935]])"
      ]
     },
     "execution_count": 263,
     "metadata": {},
     "output_type": "execute_result"
    }
   ],
   "source": [
    "# Get multiple predictions\n",
    "y_predict = regression_model_China.predict(X_test)\n",
    "\n",
    "# Show the first 5 predictions\n",
    "y_predict[:4]"
   ]
  },
  {
   "cell_type": "code",
   "execution_count": 264,
   "id": "affbb247",
   "metadata": {},
   "outputs": [],
   "source": [
    "# let's grab the coefficient of our model and the intercept\n",
    "intercept = regression_model_China.intercept_[0]\n",
    "coefficent = regression_model_China.coef_[0][0]"
   ]
  },
  {
   "cell_type": "code",
   "execution_count": 265,
   "id": "45b583e2",
   "metadata": {},
   "outputs": [
    {
     "name": "stdout",
     "output_type": "stream",
     "text": [
      "The intercept for our model is 2.802e+03\n",
      "----------------------------------------------------------------------------------------------------\n"
     ]
    }
   ],
   "source": [
    "print(\"The intercept for our model is {:.4}\".format(intercept))\n",
    "print('-'*100)"
   ]
  },
  {
   "cell_type": "code",
   "execution_count": 266,
   "id": "ec4a9b86",
   "metadata": {},
   "outputs": [
    {
     "name": "stdout",
     "output_type": "stream",
     "text": [
      "The Coefficient for year is -1.4\n",
      "The Coefficient for Gross_Capital_Formation_Growth is 0.099\n",
      "The Coefficient for Employment_Population_Ratio is 0.87\n",
      "The Coefficient for Exports is 0.048\n",
      "The Coefficient for Population_Growth is -1.9e+01\n",
      "The Coefficient for Energy_Use is -0.0034\n",
      "The Coefficient for Forign_Direct_Investment%GDP is 0.8\n"
     ]
    }
   ],
   "source": [
    "# loop through the dictionary and print the data\n",
    "for coef in zip(X.columns, regression_model_China.coef_[0]):\n",
    "    print(\"The Coefficient for {} is {:.2}\".format(coef[0],coef[1]))"
   ]
  },
  {
   "cell_type": "code",
   "execution_count": 267,
   "id": "11cbc0d9",
   "metadata": {},
   "outputs": [
    {
     "name": "stdout",
     "output_type": "stream",
     "text": [
      "MSE 11.7\n",
      "MAE 3.26\n",
      "RMSE 3.42\n"
     ]
    }
   ],
   "source": [
    "import math\n",
    "# calculate the mean squared error\n",
    "model_mse = mean_squared_error(y_test, y_predict)\n",
    "\n",
    "# calculate the mean absolute error\n",
    "model_mae = mean_absolute_error(y_test, y_predict)\n",
    "\n",
    "# calulcate the root mean squared error\n",
    "model_rmse =  math.sqrt(model_mse)\n",
    "\n",
    "# display the output\n",
    "print(\"MSE {:.3}\".format(model_mse))\n",
    "print(\"MAE {:.3}\".format(model_mae))\n",
    "print(\"RMSE {:.3}\".format(model_rmse))"
   ]
  },
  {
   "cell_type": "code",
   "execution_count": 268,
   "id": "53b11f2e",
   "metadata": {},
   "outputs": [
    {
     "data": {
      "text/plain": [
       "0.7444923763640225"
      ]
     },
     "execution_count": 268,
     "metadata": {},
     "output_type": "execute_result"
    }
   ],
   "source": [
    "regression_model_China.score(X_train, y_train)"
   ]
  },
  {
   "cell_type": "code",
   "execution_count": 269,
   "id": "5ce62a30",
   "metadata": {},
   "outputs": [
    {
     "data": {
      "text/plain": [
       "-2.1858247090844594"
      ]
     },
     "execution_count": 269,
     "metadata": {},
     "output_type": "execute_result"
    }
   ],
   "source": [
    "r2_score_China =r2_score(y_test, y_predict)\n",
    "r2_score_China\n"
   ]
  },
  {
   "cell_type": "markdown",
   "id": "16120bfb",
   "metadata": {},
   "source": [
    "# Regression for Brazil Data"
   ]
  },
  {
   "cell_type": "code",
   "execution_count": 270,
   "id": "96a93495",
   "metadata": {},
   "outputs": [],
   "source": [
    "worldbank_indicators = [\"NY.GDP.MKTP.KD.ZG\", \"NE.GDI.TOTL.KD.ZG\",\"SL.EMP.TOTL.SP.ZS\",\"TX.QTY.MRCH.XD.WD\",\"SP.POP.GROW\",\"EG.USE.PCAP.KG.OE\",\"BX.KLT.DINV.WD.GD.ZS\"] \n",
    " \n",
    "world_bank = wb.download (indicator =worldbank_indicators, country = [\"BRA\"], start = 1995, end =2020)\n",
    "\n",
    "world_bank = world_bank.reset_index(1)       "
   ]
  },
  {
   "cell_type": "code",
   "execution_count": 271,
   "id": "05a807c3",
   "metadata": {},
   "outputs": [],
   "source": [
    "world_bank_df = world_bank.rename(columns = {\"NY.GDP.MKTP.KD.ZG\":\"GDP\",\\\n",
    "                                               \"NE.GDI.TOTL.KD.ZG\":\"Gross_Capital_Formation_Growth\",\\\n",
    "                                               \"SL.EMP.TOTL.SP.ZS\":\"Employment_Population_Ratio\",\\\n",
    "                                            \"TX.QTY.MRCH.XD.WD\":\"Exports\",\\\n",
    "                                            \"SP.POP.GROW\":\"Population_Growth\",\\\n",
    "                                            \"EG.USE.PCAP.KG.OE\":\"Energy_Use\",\\\n",
    "                                            \"BX.KLT.DINV.WD.GD.ZS\":\"Foreign Direct Investment\"})"
   ]
  },
  {
   "cell_type": "code",
   "execution_count": 272,
   "id": "8ad91683",
   "metadata": {},
   "outputs": [],
   "source": [
    "world_bank_final = world_bank_df.loc[::-1]"
   ]
  },
  {
   "cell_type": "code",
   "execution_count": 273,
   "id": "f08d71f8",
   "metadata": {},
   "outputs": [
    {
     "data": {
      "text/html": [
       "<div>\n",
       "<style scoped>\n",
       "    .dataframe tbody tr th:only-of-type {\n",
       "        vertical-align: middle;\n",
       "    }\n",
       "\n",
       "    .dataframe tbody tr th {\n",
       "        vertical-align: top;\n",
       "    }\n",
       "\n",
       "    .dataframe thead th {\n",
       "        text-align: right;\n",
       "    }\n",
       "</style>\n",
       "<table border=\"1\" class=\"dataframe\">\n",
       "  <thead>\n",
       "    <tr style=\"text-align: right;\">\n",
       "      <th></th>\n",
       "      <th>year</th>\n",
       "      <th>GDP</th>\n",
       "      <th>Gross_Capital_Formation_Growth</th>\n",
       "      <th>Employment_Population_Ratio</th>\n",
       "      <th>Exports</th>\n",
       "      <th>Population_Growth</th>\n",
       "      <th>Energy_Use</th>\n",
       "      <th>Foreign Direct Investment</th>\n",
       "    </tr>\n",
       "    <tr>\n",
       "      <th>country</th>\n",
       "      <th></th>\n",
       "      <th></th>\n",
       "      <th></th>\n",
       "      <th></th>\n",
       "      <th></th>\n",
       "      <th></th>\n",
       "      <th></th>\n",
       "      <th></th>\n",
       "    </tr>\n",
       "  </thead>\n",
       "  <tbody>\n",
       "    <tr>\n",
       "      <th>Brazil</th>\n",
       "      <td>1995</td>\n",
       "      <td>4.223794</td>\n",
       "      <td>7.290004</td>\n",
       "      <td>59.68</td>\n",
       "      <td>72.158558</td>\n",
       "      <td>1.609710</td>\n",
       "      <td>994.289849</td>\n",
       "      <td>0.631586</td>\n",
       "    </tr>\n",
       "    <tr>\n",
       "      <th>Brazil</th>\n",
       "      <td>1996</td>\n",
       "      <td>2.208864</td>\n",
       "      <td>0.798463</td>\n",
       "      <td>57.88</td>\n",
       "      <td>74.083146</td>\n",
       "      <td>1.588838</td>\n",
       "      <td>1030.668072</td>\n",
       "      <td>1.475965</td>\n",
       "    </tr>\n",
       "    <tr>\n",
       "      <th>Brazil</th>\n",
       "      <td>1997</td>\n",
       "      <td>3.394846</td>\n",
       "      <td>8.418114</td>\n",
       "      <td>57.93</td>\n",
       "      <td>80.843315</td>\n",
       "      <td>1.563732</td>\n",
       "      <td>1066.186951</td>\n",
       "      <td>2.150452</td>\n",
       "    </tr>\n",
       "    <tr>\n",
       "      <th>Brazil</th>\n",
       "      <td>1998</td>\n",
       "      <td>0.338098</td>\n",
       "      <td>-0.163841</td>\n",
       "      <td>57.32</td>\n",
       "      <td>82.890311</td>\n",
       "      <td>1.528962</td>\n",
       "      <td>1075.199081</td>\n",
       "      <td>3.340887</td>\n",
       "    </tr>\n",
       "    <tr>\n",
       "      <th>Brazil</th>\n",
       "      <td>1999</td>\n",
       "      <td>0.467938</td>\n",
       "      <td>-8.875302</td>\n",
       "      <td>57.34</td>\n",
       "      <td>88.936536</td>\n",
       "      <td>1.481110</td>\n",
       "      <td>1083.403984</td>\n",
       "      <td>4.733770</td>\n",
       "    </tr>\n",
       "  </tbody>\n",
       "</table>\n",
       "</div>"
      ],
      "text/plain": [
       "         year       GDP  Gross_Capital_Formation_Growth  \\\n",
       "country                                                   \n",
       "Brazil   1995  4.223794                        7.290004   \n",
       "Brazil   1996  2.208864                        0.798463   \n",
       "Brazil   1997  3.394846                        8.418114   \n",
       "Brazil   1998  0.338098                       -0.163841   \n",
       "Brazil   1999  0.467938                       -8.875302   \n",
       "\n",
       "         Employment_Population_Ratio    Exports  Population_Growth  \\\n",
       "country                                                              \n",
       "Brazil                         59.68  72.158558           1.609710   \n",
       "Brazil                         57.88  74.083146           1.588838   \n",
       "Brazil                         57.93  80.843315           1.563732   \n",
       "Brazil                         57.32  82.890311           1.528962   \n",
       "Brazil                         57.34  88.936536           1.481110   \n",
       "\n",
       "          Energy_Use  Foreign Direct Investment  \n",
       "country                                          \n",
       "Brazil    994.289849                   0.631586  \n",
       "Brazil   1030.668072                   1.475965  \n",
       "Brazil   1066.186951                   2.150452  \n",
       "Brazil   1075.199081                   3.340887  \n",
       "Brazil   1083.403984                   4.733770  "
      ]
     },
     "execution_count": 273,
     "metadata": {},
     "output_type": "execute_result"
    }
   ],
   "source": [
    "world_bank_final.head()"
   ]
  },
  {
   "cell_type": "code",
   "execution_count": 274,
   "id": "a851104a",
   "metadata": {},
   "outputs": [
    {
     "data": {
      "text/html": [
       "<div>\n",
       "<style scoped>\n",
       "    .dataframe tbody tr th:only-of-type {\n",
       "        vertical-align: middle;\n",
       "    }\n",
       "\n",
       "    .dataframe tbody tr th {\n",
       "        vertical-align: top;\n",
       "    }\n",
       "\n",
       "    .dataframe thead th {\n",
       "        text-align: right;\n",
       "    }\n",
       "</style>\n",
       "<table border=\"1\" class=\"dataframe\">\n",
       "  <thead>\n",
       "    <tr style=\"text-align: right;\">\n",
       "      <th></th>\n",
       "      <th>year</th>\n",
       "      <th>GDP</th>\n",
       "      <th>Gross_Capital_Formation_Growth</th>\n",
       "      <th>Employment_Population_Ratio</th>\n",
       "      <th>Exports</th>\n",
       "      <th>Population_Growth</th>\n",
       "      <th>Energy_Use</th>\n",
       "      <th>Foreign Direct Investment</th>\n",
       "    </tr>\n",
       "    <tr>\n",
       "      <th>country</th>\n",
       "      <th></th>\n",
       "      <th></th>\n",
       "      <th></th>\n",
       "      <th></th>\n",
       "      <th></th>\n",
       "      <th></th>\n",
       "      <th></th>\n",
       "      <th></th>\n",
       "    </tr>\n",
       "  </thead>\n",
       "  <tbody>\n",
       "    <tr>\n",
       "      <th>Brazil</th>\n",
       "      <td>1995</td>\n",
       "      <td>4.223794</td>\n",
       "      <td>7.290004</td>\n",
       "      <td>59.68</td>\n",
       "      <td>72.158558</td>\n",
       "      <td>1.609710</td>\n",
       "      <td>994.289849</td>\n",
       "      <td>0.631586</td>\n",
       "    </tr>\n",
       "    <tr>\n",
       "      <th>Brazil</th>\n",
       "      <td>1996</td>\n",
       "      <td>2.208864</td>\n",
       "      <td>0.798463</td>\n",
       "      <td>57.88</td>\n",
       "      <td>74.083146</td>\n",
       "      <td>1.588838</td>\n",
       "      <td>1030.668072</td>\n",
       "      <td>1.475965</td>\n",
       "    </tr>\n",
       "    <tr>\n",
       "      <th>Brazil</th>\n",
       "      <td>1997</td>\n",
       "      <td>3.394846</td>\n",
       "      <td>8.418114</td>\n",
       "      <td>57.93</td>\n",
       "      <td>80.843315</td>\n",
       "      <td>1.563732</td>\n",
       "      <td>1066.186951</td>\n",
       "      <td>2.150452</td>\n",
       "    </tr>\n",
       "    <tr>\n",
       "      <th>Brazil</th>\n",
       "      <td>1998</td>\n",
       "      <td>0.338098</td>\n",
       "      <td>-0.163841</td>\n",
       "      <td>57.32</td>\n",
       "      <td>82.890311</td>\n",
       "      <td>1.528962</td>\n",
       "      <td>1075.199081</td>\n",
       "      <td>3.340887</td>\n",
       "    </tr>\n",
       "    <tr>\n",
       "      <th>Brazil</th>\n",
       "      <td>1999</td>\n",
       "      <td>0.467938</td>\n",
       "      <td>-8.875302</td>\n",
       "      <td>57.34</td>\n",
       "      <td>88.936536</td>\n",
       "      <td>1.481110</td>\n",
       "      <td>1083.403984</td>\n",
       "      <td>4.733770</td>\n",
       "    </tr>\n",
       "  </tbody>\n",
       "</table>\n",
       "</div>"
      ],
      "text/plain": [
       "         year       GDP  Gross_Capital_Formation_Growth  \\\n",
       "country                                                   \n",
       "Brazil   1995  4.223794                        7.290004   \n",
       "Brazil   1996  2.208864                        0.798463   \n",
       "Brazil   1997  3.394846                        8.418114   \n",
       "Brazil   1998  0.338098                       -0.163841   \n",
       "Brazil   1999  0.467938                       -8.875302   \n",
       "\n",
       "         Employment_Population_Ratio    Exports  Population_Growth  \\\n",
       "country                                                              \n",
       "Brazil                         59.68  72.158558           1.609710   \n",
       "Brazil                         57.88  74.083146           1.588838   \n",
       "Brazil                         57.93  80.843315           1.563732   \n",
       "Brazil                         57.32  82.890311           1.528962   \n",
       "Brazil                         57.34  88.936536           1.481110   \n",
       "\n",
       "          Energy_Use  Foreign Direct Investment  \n",
       "country                                          \n",
       "Brazil    994.289849                   0.631586  \n",
       "Brazil   1030.668072                   1.475965  \n",
       "Brazil   1066.186951                   2.150452  \n",
       "Brazil   1075.199081                   3.340887  \n",
       "Brazil   1083.403984                   4.733770  "
      ]
     },
     "execution_count": 274,
     "metadata": {},
     "output_type": "execute_result"
    }
   ],
   "source": [
    "world_bank_final1 = world_bank_final.fillna({\n",
    "    \"Gross_Capital_Formation_Growth\":2.8, \n",
    "    'Exports' :230.0,\n",
    "    'Energy_Use': 800.0,\n",
    "    'Foreign Direct Investment':3.0})\n",
    "world_bank_final1.head()"
   ]
  },
  {
   "cell_type": "code",
   "execution_count": 275,
   "id": "71cd46ab",
   "metadata": {},
   "outputs": [],
   "source": [
    "world_bank_final1.to_excel('Brazil.xlsx', index = False)"
   ]
  },
  {
   "cell_type": "code",
   "execution_count": 276,
   "id": "4631c899",
   "metadata": {},
   "outputs": [
    {
     "data": {
      "text/html": [
       "<div>\n",
       "<style scoped>\n",
       "    .dataframe tbody tr th:only-of-type {\n",
       "        vertical-align: middle;\n",
       "    }\n",
       "\n",
       "    .dataframe tbody tr th {\n",
       "        vertical-align: top;\n",
       "    }\n",
       "\n",
       "    .dataframe thead th {\n",
       "        text-align: right;\n",
       "    }\n",
       "</style>\n",
       "<table border=\"1\" class=\"dataframe\">\n",
       "  <thead>\n",
       "    <tr style=\"text-align: right;\">\n",
       "      <th></th>\n",
       "      <th>GDP</th>\n",
       "      <th>Gross_Capital_Formation_Growth</th>\n",
       "      <th>Employment_Population_Ratio</th>\n",
       "      <th>Exports</th>\n",
       "      <th>Population_Growth</th>\n",
       "      <th>Energy_Use</th>\n",
       "      <th>Foreign Direct Investment</th>\n",
       "    </tr>\n",
       "  </thead>\n",
       "  <tbody>\n",
       "    <tr>\n",
       "      <th>count</th>\n",
       "      <td>26.000000</td>\n",
       "      <td>26.000000</td>\n",
       "      <td>26.000000</td>\n",
       "      <td>26.000000</td>\n",
       "      <td>26.000000</td>\n",
       "      <td>26.000000</td>\n",
       "      <td>26.000000</td>\n",
       "    </tr>\n",
       "    <tr>\n",
       "      <th>mean</th>\n",
       "      <td>2.120676</td>\n",
       "      <td>2.062374</td>\n",
       "      <td>58.372308</td>\n",
       "      <td>164.349065</td>\n",
       "      <td>1.106152</td>\n",
       "      <td>1105.185877</td>\n",
       "      <td>3.103603</td>\n",
       "    </tr>\n",
       "    <tr>\n",
       "      <th>std</th>\n",
       "      <td>2.853383</td>\n",
       "      <td>7.374636</td>\n",
       "      <td>2.038651</td>\n",
       "      <td>55.363710</td>\n",
       "      <td>0.293270</td>\n",
       "      <td>216.416964</td>\n",
       "      <td>1.069403</td>\n",
       "    </tr>\n",
       "    <tr>\n",
       "      <th>min</th>\n",
       "      <td>-4.059048</td>\n",
       "      <td>-13.946500</td>\n",
       "      <td>51.140000</td>\n",
       "      <td>72.158558</td>\n",
       "      <td>0.712873</td>\n",
       "      <td>800.000000</td>\n",
       "      <td>0.631586</td>\n",
       "    </tr>\n",
       "    <tr>\n",
       "      <th>25%</th>\n",
       "      <td>0.663174</td>\n",
       "      <td>-1.961350</td>\n",
       "      <td>57.442500</td>\n",
       "      <td>111.820248</td>\n",
       "      <td>0.860248</td>\n",
       "      <td>1003.384405</td>\n",
       "      <td>2.291222</td>\n",
       "    </tr>\n",
       "    <tr>\n",
       "      <th>50%</th>\n",
       "      <td>2.065020</td>\n",
       "      <td>1.630388</td>\n",
       "      <td>58.795000</td>\n",
       "      <td>185.784523</td>\n",
       "      <td>1.016088</td>\n",
       "      <td>1086.876916</td>\n",
       "      <td>3.295920</td>\n",
       "    </tr>\n",
       "    <tr>\n",
       "      <th>75%</th>\n",
       "      <td>3.971314</td>\n",
       "      <td>6.790732</td>\n",
       "      <td>59.722500</td>\n",
       "      <td>196.584015</td>\n",
       "      <td>1.353404</td>\n",
       "      <td>1239.735885</td>\n",
       "      <td>3.748725</td>\n",
       "    </tr>\n",
       "    <tr>\n",
       "      <th>max</th>\n",
       "      <td>7.528226</td>\n",
       "      <td>17.853921</td>\n",
       "      <td>60.820000</td>\n",
       "      <td>241.304190</td>\n",
       "      <td>1.609710</td>\n",
       "      <td>1495.541141</td>\n",
       "      <td>5.033917</td>\n",
       "    </tr>\n",
       "  </tbody>\n",
       "</table>\n",
       "</div>"
      ],
      "text/plain": [
       "             GDP  Gross_Capital_Formation_Growth  Employment_Population_Ratio  \\\n",
       "count  26.000000                       26.000000                    26.000000   \n",
       "mean    2.120676                        2.062374                    58.372308   \n",
       "std     2.853383                        7.374636                     2.038651   \n",
       "min    -4.059048                      -13.946500                    51.140000   \n",
       "25%     0.663174                       -1.961350                    57.442500   \n",
       "50%     2.065020                        1.630388                    58.795000   \n",
       "75%     3.971314                        6.790732                    59.722500   \n",
       "max     7.528226                       17.853921                    60.820000   \n",
       "\n",
       "          Exports  Population_Growth   Energy_Use  Foreign Direct Investment  \n",
       "count   26.000000          26.000000    26.000000                  26.000000  \n",
       "mean   164.349065           1.106152  1105.185877                   3.103603  \n",
       "std     55.363710           0.293270   216.416964                   1.069403  \n",
       "min     72.158558           0.712873   800.000000                   0.631586  \n",
       "25%    111.820248           0.860248  1003.384405                   2.291222  \n",
       "50%    185.784523           1.016088  1086.876916                   3.295920  \n",
       "75%    196.584015           1.353404  1239.735885                   3.748725  \n",
       "max    241.304190           1.609710  1495.541141                   5.033917  "
      ]
     },
     "execution_count": 276,
     "metadata": {},
     "output_type": "execute_result"
    }
   ],
   "source": [
    "world_bank_final1.describe()"
   ]
  },
  {
   "cell_type": "code",
   "execution_count": 277,
   "id": "486e92e9",
   "metadata": {},
   "outputs": [],
   "source": [
    "X = world_bank_final1.drop(\"GDP\", axis = 1)\n",
    "Y = world_bank_final1[['GDP']]"
   ]
  },
  {
   "cell_type": "code",
   "execution_count": 278,
   "id": "0ddc7370",
   "metadata": {},
   "outputs": [],
   "source": [
    "X_train = X[:20].values\n",
    "X_test = X[20:].values\n",
    "y_train = Y[:20].values\n",
    "y_test = Y[20:].values"
   ]
  },
  {
   "cell_type": "code",
   "execution_count": 279,
   "id": "5bf18b1e",
   "metadata": {},
   "outputs": [
    {
     "data": {
      "text/plain": [
       "array([['2015', -13.9465002050587, 58.65, 209.4169305, 0.838838953278811,\n",
       "        800.0, 3.59214973105335],\n",
       "       ['2016', -12.1298264348974, 56.39, 216.1630581, 0.823752152538353,\n",
       "        800.0, 4.13737853873766],\n",
       "       ['2017', -2.55735555667499, 55.84, 230.8527606, 0.807145245445964,\n",
       "        800.0, 3.33826028428024],\n",
       "       ['2018', 5.23175830926645, 56.15, 241.3041896, 0.783844259734468,\n",
       "        800.0, 4.07748708411665],\n",
       "       ['2019', 3.36410575283553, 56.76, 236.3478881, 0.751550842096973,\n",
       "        800.0, 3.68375319892769],\n",
       "       ['2020', -0.776685637163737, 51.14, 230.0, 0.712872791114979,\n",
       "        800.0, 3.0]], dtype=object)"
      ]
     },
     "execution_count": 279,
     "metadata": {},
     "output_type": "execute_result"
    }
   ],
   "source": [
    "X_test"
   ]
  },
  {
   "cell_type": "code",
   "execution_count": 280,
   "id": "e980f753",
   "metadata": {},
   "outputs": [
    {
     "data": {
      "text/plain": [
       "array([[-3.54576339],\n",
       "       [-3.27591691],\n",
       "       [ 1.32286905],\n",
       "       [ 1.78366676],\n",
       "       [ 1.41115299],\n",
       "       [-4.05904827]])"
      ]
     },
     "execution_count": 280,
     "metadata": {},
     "output_type": "execute_result"
    }
   ],
   "source": [
    "y_test"
   ]
  },
  {
   "cell_type": "code",
   "execution_count": 281,
   "id": "8b4e2b35",
   "metadata": {},
   "outputs": [],
   "source": [
    "# create a Linear Regression model object\n",
    "regression_model_Brazil = LinearRegression()"
   ]
  },
  {
   "cell_type": "code",
   "execution_count": 282,
   "id": "51d10dfe",
   "metadata": {},
   "outputs": [
    {
     "data": {
      "text/plain": [
       "LinearRegression()"
      ]
     },
     "execution_count": 282,
     "metadata": {},
     "output_type": "execute_result"
    }
   ],
   "source": [
    "# pass through the X_train & y_train data set\n",
    "regression_model_Brazil.fit(X_train, y_train)"
   ]
  },
  {
   "cell_type": "code",
   "execution_count": 283,
   "id": "2c1e09d1",
   "metadata": {},
   "outputs": [
    {
     "data": {
      "text/plain": [
       "array([[2.07911175],\n",
       "       [2.00993812],\n",
       "       [4.68740903],\n",
       "       [7.81267596],\n",
       "       [7.2869438 ],\n",
       "       [2.33087347]])"
      ]
     },
     "execution_count": 283,
     "metadata": {},
     "output_type": "execute_result"
    }
   ],
   "source": [
    "# Get multiple predictions\n",
    "y_predict = regression_model_Brazil.predict(X_test)\n",
    "\n",
    "# Show the first 5 predictions\n",
    "y_predict[:6]"
   ]
  },
  {
   "cell_type": "code",
   "execution_count": 284,
   "id": "0e4b87f9",
   "metadata": {},
   "outputs": [],
   "source": [
    "# let's grab the coefficient of our model and the intercept\n",
    "intercept = regression_model_Brazil.intercept_[0]\n",
    "coefficent = regression_model_Brazil.coef_[0][0]"
   ]
  },
  {
   "cell_type": "code",
   "execution_count": 285,
   "id": "8629d78b",
   "metadata": {},
   "outputs": [
    {
     "name": "stdout",
     "output_type": "stream",
     "text": [
      "The intercept for our model is -996.0\n",
      "----------------------------------------------------------------------------------------------------\n"
     ]
    }
   ],
   "source": [
    "print(\"The intercept for our model is {:.4}\".format(intercept))\n",
    "print('-'*100)"
   ]
  },
  {
   "cell_type": "code",
   "execution_count": 286,
   "id": "180a4cb7",
   "metadata": {},
   "outputs": [
    {
     "name": "stdout",
     "output_type": "stream",
     "text": [
      "The Coefficient for year is 0.47\n",
      "The Coefficient for Gross_Capital_Formation_Growth is 0.28\n",
      "The Coefficient for Employment_Population_Ratio is 0.57\n",
      "The Coefficient for Exports is 0.032\n",
      "The Coefficient for Population_Growth is 1.5e+01\n",
      "The Coefficient for Energy_Use is -0.006\n",
      "The Coefficient for Foreign Direct Investment is 0.45\n"
     ]
    }
   ],
   "source": [
    "# loop through the dictionary and print the data\n",
    "for coef in zip(X.columns, regression_model_Brazil.coef_[0]):\n",
    "    print(\"The Coefficient for {} is {:.2}\".format(coef[0],coef[1]))"
   ]
  },
  {
   "cell_type": "code",
   "execution_count": 287,
   "id": "42fc0c56",
   "metadata": {},
   "outputs": [
    {
     "name": "stdout",
     "output_type": "stream",
     "text": [
      "MSE 30.4\n",
      "MAE 5.43\n",
      "RMSE 5.52\n"
     ]
    }
   ],
   "source": [
    "import math\n",
    "# calculate the mean squared error\n",
    "model_mse = mean_squared_error(y_test, y_predict)\n",
    "\n",
    "# calculate the mean absolute error\n",
    "model_mae = mean_absolute_error(y_test, y_predict)\n",
    "\n",
    "# calulcate the root mean squared error\n",
    "model_rmse =  math.sqrt(model_mse)\n",
    "\n",
    "# display the output\n",
    "print(\"MSE {:.3}\".format(model_mse))\n",
    "print(\"MAE {:.3}\".format(model_mae))\n",
    "print(\"RMSE {:.3}\".format(model_rmse))"
   ]
  },
  {
   "cell_type": "code",
   "execution_count": 288,
   "id": "0d4fe766",
   "metadata": {},
   "outputs": [
    {
     "data": {
      "text/plain": [
       "0.8889221249403891"
      ]
     },
     "execution_count": 288,
     "metadata": {},
     "output_type": "execute_result"
    }
   ],
   "source": [
    "regression_model_Brazil.score(X_train, y_train)"
   ]
  },
  {
   "cell_type": "code",
   "execution_count": 289,
   "id": "f40d2dac",
   "metadata": {},
   "outputs": [
    {
     "data": {
      "text/plain": [
       "-3.5702905263488756"
      ]
     },
     "execution_count": 289,
     "metadata": {},
     "output_type": "execute_result"
    }
   ],
   "source": [
    "r2_score_Brazil =r2_score(y_test, y_predict)\n",
    "r2_score_Brazil\n"
   ]
  },
  {
   "cell_type": "markdown",
   "id": "b3c3983b",
   "metadata": {},
   "source": [
    "# Regression for South Africa Data"
   ]
  },
  {
   "cell_type": "code",
   "execution_count": 290,
   "id": "ee9008fe",
   "metadata": {},
   "outputs": [],
   "source": [
    "worldbank_indicators = [\"NY.GDP.MKTP.KD.ZG\", \"NE.GDI.TOTL.KD.ZG\",\"SL.EMP.TOTL.SP.ZS\",\"TX.QTY.MRCH.XD.WD\",\"SP.POP.GROW\",\"EG.USE.PCAP.KG.OE\",\"BX.KLT.DINV.WD.GD.ZS\"] \n",
    " \n",
    "world_bank = wb.download (indicator =worldbank_indicators, country = [\"ZAF\"], start = 1995, end =2020)\n",
    "\n",
    "world_bank = world_bank.reset_index(1)       "
   ]
  },
  {
   "cell_type": "code",
   "execution_count": 291,
   "id": "1c766f56",
   "metadata": {},
   "outputs": [],
   "source": [
    "world_bank_df = world_bank.rename(columns = {\"NY.GDP.MKTP.KD.ZG\":\"GDP\",\\\n",
    "                                               \"NE.GDI.TOTL.KD.ZG\":\"Gross_Capital_Formation_Growth\",\\\n",
    "                                               \"SL.EMP.TOTL.SP.ZS\":\"Employment_Population_Ratio\",\\\n",
    "                                            \"TX.QTY.MRCH.XD.WD\":\"Exports\",\\\n",
    "                                            \"SP.POP.GROW\":\"Population_Growth\",\\\n",
    "                                            \"EG.USE.PCAP.KG.OE\":\"Energy_Use\",\\\n",
    "                                            \"BX.KLT.DINV.WD.GD.ZS\":\"Foreign Direct Investment\"})"
   ]
  },
  {
   "cell_type": "code",
   "execution_count": 292,
   "id": "b9224867",
   "metadata": {},
   "outputs": [],
   "source": [
    "world_bank_final = world_bank_df.loc[::-1]"
   ]
  },
  {
   "cell_type": "code",
   "execution_count": 293,
   "id": "f737079a",
   "metadata": {},
   "outputs": [
    {
     "data": {
      "text/html": [
       "<div>\n",
       "<style scoped>\n",
       "    .dataframe tbody tr th:only-of-type {\n",
       "        vertical-align: middle;\n",
       "    }\n",
       "\n",
       "    .dataframe tbody tr th {\n",
       "        vertical-align: top;\n",
       "    }\n",
       "\n",
       "    .dataframe thead th {\n",
       "        text-align: right;\n",
       "    }\n",
       "</style>\n",
       "<table border=\"1\" class=\"dataframe\">\n",
       "  <thead>\n",
       "    <tr style=\"text-align: right;\">\n",
       "      <th></th>\n",
       "      <th>year</th>\n",
       "      <th>GDP</th>\n",
       "      <th>Gross_Capital_Formation_Growth</th>\n",
       "      <th>Employment_Population_Ratio</th>\n",
       "      <th>Exports</th>\n",
       "      <th>Population_Growth</th>\n",
       "      <th>Energy_Use</th>\n",
       "      <th>Foreign Direct Investment</th>\n",
       "    </tr>\n",
       "    <tr>\n",
       "      <th>country</th>\n",
       "      <th></th>\n",
       "      <th></th>\n",
       "      <th></th>\n",
       "      <th></th>\n",
       "      <th></th>\n",
       "      <th></th>\n",
       "      <th></th>\n",
       "      <th></th>\n",
       "    </tr>\n",
       "  </thead>\n",
       "  <tbody>\n",
       "    <tr>\n",
       "      <th>South Africa</th>\n",
       "      <td>1995</td>\n",
       "      <td>3.100000</td>\n",
       "      <td>14.229407</td>\n",
       "      <td>39.34</td>\n",
       "      <td>75.526461</td>\n",
       "      <td>2.126182</td>\n",
       "      <td>2498.893625</td>\n",
       "      <td>0.726948</td>\n",
       "    </tr>\n",
       "    <tr>\n",
       "      <th>South Africa</th>\n",
       "      <td>1996</td>\n",
       "      <td>4.300000</td>\n",
       "      <td>1.027631</td>\n",
       "      <td>39.20</td>\n",
       "      <td>84.748864</td>\n",
       "      <td>1.924718</td>\n",
       "      <td>2504.903115</td>\n",
       "      <td>0.500126</td>\n",
       "    </tr>\n",
       "    <tr>\n",
       "      <th>South Africa</th>\n",
       "      <td>1997</td>\n",
       "      <td>2.600000</td>\n",
       "      <td>2.944509</td>\n",
       "      <td>39.09</td>\n",
       "      <td>91.578779</td>\n",
       "      <td>1.751687</td>\n",
       "      <td>2527.940174</td>\n",
       "      <td>2.255071</td>\n",
       "    </tr>\n",
       "    <tr>\n",
       "      <th>South Africa</th>\n",
       "      <td>1998</td>\n",
       "      <td>0.500000</td>\n",
       "      <td>3.340042</td>\n",
       "      <td>39.01</td>\n",
       "      <td>85.363103</td>\n",
       "      <td>1.603369</td>\n",
       "      <td>2471.477036</td>\n",
       "      <td>0.359739</td>\n",
       "    </tr>\n",
       "    <tr>\n",
       "      <th>South Africa</th>\n",
       "      <td>1999</td>\n",
       "      <td>2.400000</td>\n",
       "      <td>-3.129856</td>\n",
       "      <td>38.87</td>\n",
       "      <td>89.073329</td>\n",
       "      <td>1.491248</td>\n",
       "      <td>2464.323360</td>\n",
       "      <td>0.992190</td>\n",
       "    </tr>\n",
       "    <tr>\n",
       "      <th>South Africa</th>\n",
       "      <td>2000</td>\n",
       "      <td>4.200000</td>\n",
       "      <td>3.512802</td>\n",
       "      <td>38.82</td>\n",
       "      <td>100.000000</td>\n",
       "      <td>1.409022</td>\n",
       "      <td>2424.881292</td>\n",
       "      <td>0.638425</td>\n",
       "    </tr>\n",
       "    <tr>\n",
       "      <th>South Africa</th>\n",
       "      <td>2001</td>\n",
       "      <td>2.700000</td>\n",
       "      <td>0.478587</td>\n",
       "      <td>38.30</td>\n",
       "      <td>101.860087</td>\n",
       "      <td>1.333277</td>\n",
       "      <td>2461.026477</td>\n",
       "      <td>5.368357</td>\n",
       "    </tr>\n",
       "    <tr>\n",
       "      <th>South Africa</th>\n",
       "      <td>2002</td>\n",
       "      <td>3.700374</td>\n",
       "      <td>8.895938</td>\n",
       "      <td>36.80</td>\n",
       "      <td>99.883164</td>\n",
       "      <td>1.263923</td>\n",
       "      <td>2384.137081</td>\n",
       "      <td>1.146352</td>\n",
       "    </tr>\n",
       "    <tr>\n",
       "      <th>South Africa</th>\n",
       "      <td>2003</td>\n",
       "      <td>2.949075</td>\n",
       "      <td>11.441033</td>\n",
       "      <td>37.31</td>\n",
       "      <td>98.312123</td>\n",
       "      <td>1.223854</td>\n",
       "      <td>2518.332793</td>\n",
       "      <td>0.397490</td>\n",
       "    </tr>\n",
       "    <tr>\n",
       "      <th>South Africa</th>\n",
       "      <td>2004</td>\n",
       "      <td>4.554560</td>\n",
       "      <td>15.976655</td>\n",
       "      <td>38.88</td>\n",
       "      <td>103.802453</td>\n",
       "      <td>1.217762</td>\n",
       "      <td>2716.293461</td>\n",
       "      <td>0.274200</td>\n",
       "    </tr>\n",
       "    <tr>\n",
       "      <th>South Africa</th>\n",
       "      <td>2005</td>\n",
       "      <td>5.277052</td>\n",
       "      <td>6.483120</td>\n",
       "      <td>39.10</td>\n",
       "      <td>108.837339</td>\n",
       "      <td>1.237741</td>\n",
       "      <td>2678.554224</td>\n",
       "      <td>2.257809</td>\n",
       "    </tr>\n",
       "    <tr>\n",
       "      <th>South Africa</th>\n",
       "      <td>2006</td>\n",
       "      <td>5.603806</td>\n",
       "      <td>12.767221</td>\n",
       "      <td>39.56</td>\n",
       "      <td>111.902179</td>\n",
       "      <td>1.263623</td>\n",
       "      <td>2625.794791</td>\n",
       "      <td>0.205124</td>\n",
       "    </tr>\n",
       "    <tr>\n",
       "      <th>South Africa</th>\n",
       "      <td>2007</td>\n",
       "      <td>5.360474</td>\n",
       "      <td>8.629503</td>\n",
       "      <td>40.65</td>\n",
       "      <td>122.586817</td>\n",
       "      <td>1.291498</td>\n",
       "      <td>2775.615258</td>\n",
       "      <td>1.977568</td>\n",
       "    </tr>\n",
       "    <tr>\n",
       "      <th>South Africa</th>\n",
       "      <td>2008</td>\n",
       "      <td>3.191044</td>\n",
       "      <td>8.798257</td>\n",
       "      <td>43.10</td>\n",
       "      <td>129.595114</td>\n",
       "      <td>1.334117</td>\n",
       "      <td>2950.153610</td>\n",
       "      <td>3.126857</td>\n",
       "    </tr>\n",
       "    <tr>\n",
       "      <th>South Africa</th>\n",
       "      <td>2009</td>\n",
       "      <td>-1.538089</td>\n",
       "      <td>-8.421636</td>\n",
       "      <td>41.25</td>\n",
       "      <td>101.586530</td>\n",
       "      <td>1.391535</td>\n",
       "      <td>2852.095448</td>\n",
       "      <td>2.312182</td>\n",
       "    </tr>\n",
       "    <tr>\n",
       "      <th>South Africa</th>\n",
       "      <td>2010</td>\n",
       "      <td>3.039733</td>\n",
       "      <td>0.764005</td>\n",
       "      <td>39.53</td>\n",
       "      <td>122.621137</td>\n",
       "      <td>1.455282</td>\n",
       "      <td>2768.094507</td>\n",
       "      <td>0.884902</td>\n",
       "    </tr>\n",
       "    <tr>\n",
       "      <th>South Africa</th>\n",
       "      <td>2011</td>\n",
       "      <td>3.168556</td>\n",
       "      <td>11.732357</td>\n",
       "      <td>39.59</td>\n",
       "      <td>129.493500</td>\n",
       "      <td>1.524514</td>\n",
       "      <td>2716.681173</td>\n",
       "      <td>0.903377</td>\n",
       "    </tr>\n",
       "    <tr>\n",
       "      <th>South Africa</th>\n",
       "      <td>2012</td>\n",
       "      <td>2.396232</td>\n",
       "      <td>-0.715529</td>\n",
       "      <td>39.93</td>\n",
       "      <td>126.639775</td>\n",
       "      <td>1.581354</td>\n",
       "      <td>2636.684726</td>\n",
       "      <td>1.064922</td>\n",
       "    </tr>\n",
       "    <tr>\n",
       "      <th>South Africa</th>\n",
       "      <td>2013</td>\n",
       "      <td>2.485468</td>\n",
       "      <td>5.004439</td>\n",
       "      <td>40.53</td>\n",
       "      <td>132.736420</td>\n",
       "      <td>1.604367</td>\n",
       "      <td>2602.845598</td>\n",
       "      <td>2.053581</td>\n",
       "    </tr>\n",
       "    <tr>\n",
       "      <th>South Africa</th>\n",
       "      <td>2014</td>\n",
       "      <td>1.413826</td>\n",
       "      <td>-3.220855</td>\n",
       "      <td>40.60</td>\n",
       "      <td>137.107275</td>\n",
       "      <td>1.583787</td>\n",
       "      <td>2695.505776</td>\n",
       "      <td>1.519327</td>\n",
       "    </tr>\n",
       "    <tr>\n",
       "      <th>South Africa</th>\n",
       "      <td>2015</td>\n",
       "      <td>1.321862</td>\n",
       "      <td>4.005331</td>\n",
       "      <td>41.45</td>\n",
       "      <td>142.861958</td>\n",
       "      <td>1.532243</td>\n",
       "      <td>NaN</td>\n",
       "      <td>0.438736</td>\n",
       "    </tr>\n",
       "    <tr>\n",
       "      <th>South Africa</th>\n",
       "      <td>2016</td>\n",
       "      <td>0.664552</td>\n",
       "      <td>-8.385813</td>\n",
       "      <td>40.79</td>\n",
       "      <td>141.705999</td>\n",
       "      <td>1.471933</td>\n",
       "      <td>NaN</td>\n",
       "      <td>0.684613</td>\n",
       "    </tr>\n",
       "    <tr>\n",
       "      <th>South Africa</th>\n",
       "      <td>2017</td>\n",
       "      <td>1.157947</td>\n",
       "      <td>2.976411</td>\n",
       "      <td>40.99</td>\n",
       "      <td>144.253800</td>\n",
       "      <td>1.416947</td>\n",
       "      <td>NaN</td>\n",
       "      <td>0.539674</td>\n",
       "    </tr>\n",
       "    <tr>\n",
       "      <th>South Africa</th>\n",
       "      <td>2018</td>\n",
       "      <td>1.487617</td>\n",
       "      <td>-0.696578</td>\n",
       "      <td>40.93</td>\n",
       "      <td>147.420926</td>\n",
       "      <td>1.363703</td>\n",
       "      <td>NaN</td>\n",
       "      <td>1.375712</td>\n",
       "    </tr>\n",
       "    <tr>\n",
       "      <th>South Africa</th>\n",
       "      <td>2019</td>\n",
       "      <td>0.113054</td>\n",
       "      <td>-0.408032</td>\n",
       "      <td>40.12</td>\n",
       "      <td>142.471630</td>\n",
       "      <td>1.316292</td>\n",
       "      <td>NaN</td>\n",
       "      <td>1.318804</td>\n",
       "    </tr>\n",
       "    <tr>\n",
       "      <th>South Africa</th>\n",
       "      <td>2020</td>\n",
       "      <td>-6.431975</td>\n",
       "      <td>-24.730526</td>\n",
       "      <td>36.69</td>\n",
       "      <td>NaN</td>\n",
       "      <td>1.273356</td>\n",
       "      <td>NaN</td>\n",
       "      <td>NaN</td>\n",
       "    </tr>\n",
       "  </tbody>\n",
       "</table>\n",
       "</div>"
      ],
      "text/plain": [
       "              year       GDP  Gross_Capital_Formation_Growth  \\\n",
       "country                                                        \n",
       "South Africa  1995  3.100000                       14.229407   \n",
       "South Africa  1996  4.300000                        1.027631   \n",
       "South Africa  1997  2.600000                        2.944509   \n",
       "South Africa  1998  0.500000                        3.340042   \n",
       "South Africa  1999  2.400000                       -3.129856   \n",
       "South Africa  2000  4.200000                        3.512802   \n",
       "South Africa  2001  2.700000                        0.478587   \n",
       "South Africa  2002  3.700374                        8.895938   \n",
       "South Africa  2003  2.949075                       11.441033   \n",
       "South Africa  2004  4.554560                       15.976655   \n",
       "South Africa  2005  5.277052                        6.483120   \n",
       "South Africa  2006  5.603806                       12.767221   \n",
       "South Africa  2007  5.360474                        8.629503   \n",
       "South Africa  2008  3.191044                        8.798257   \n",
       "South Africa  2009 -1.538089                       -8.421636   \n",
       "South Africa  2010  3.039733                        0.764005   \n",
       "South Africa  2011  3.168556                       11.732357   \n",
       "South Africa  2012  2.396232                       -0.715529   \n",
       "South Africa  2013  2.485468                        5.004439   \n",
       "South Africa  2014  1.413826                       -3.220855   \n",
       "South Africa  2015  1.321862                        4.005331   \n",
       "South Africa  2016  0.664552                       -8.385813   \n",
       "South Africa  2017  1.157947                        2.976411   \n",
       "South Africa  2018  1.487617                       -0.696578   \n",
       "South Africa  2019  0.113054                       -0.408032   \n",
       "South Africa  2020 -6.431975                      -24.730526   \n",
       "\n",
       "              Employment_Population_Ratio     Exports  Population_Growth  \\\n",
       "country                                                                    \n",
       "South Africa                        39.34   75.526461           2.126182   \n",
       "South Africa                        39.20   84.748864           1.924718   \n",
       "South Africa                        39.09   91.578779           1.751687   \n",
       "South Africa                        39.01   85.363103           1.603369   \n",
       "South Africa                        38.87   89.073329           1.491248   \n",
       "South Africa                        38.82  100.000000           1.409022   \n",
       "South Africa                        38.30  101.860087           1.333277   \n",
       "South Africa                        36.80   99.883164           1.263923   \n",
       "South Africa                        37.31   98.312123           1.223854   \n",
       "South Africa                        38.88  103.802453           1.217762   \n",
       "South Africa                        39.10  108.837339           1.237741   \n",
       "South Africa                        39.56  111.902179           1.263623   \n",
       "South Africa                        40.65  122.586817           1.291498   \n",
       "South Africa                        43.10  129.595114           1.334117   \n",
       "South Africa                        41.25  101.586530           1.391535   \n",
       "South Africa                        39.53  122.621137           1.455282   \n",
       "South Africa                        39.59  129.493500           1.524514   \n",
       "South Africa                        39.93  126.639775           1.581354   \n",
       "South Africa                        40.53  132.736420           1.604367   \n",
       "South Africa                        40.60  137.107275           1.583787   \n",
       "South Africa                        41.45  142.861958           1.532243   \n",
       "South Africa                        40.79  141.705999           1.471933   \n",
       "South Africa                        40.99  144.253800           1.416947   \n",
       "South Africa                        40.93  147.420926           1.363703   \n",
       "South Africa                        40.12  142.471630           1.316292   \n",
       "South Africa                        36.69         NaN           1.273356   \n",
       "\n",
       "               Energy_Use  Foreign Direct Investment  \n",
       "country                                               \n",
       "South Africa  2498.893625                   0.726948  \n",
       "South Africa  2504.903115                   0.500126  \n",
       "South Africa  2527.940174                   2.255071  \n",
       "South Africa  2471.477036                   0.359739  \n",
       "South Africa  2464.323360                   0.992190  \n",
       "South Africa  2424.881292                   0.638425  \n",
       "South Africa  2461.026477                   5.368357  \n",
       "South Africa  2384.137081                   1.146352  \n",
       "South Africa  2518.332793                   0.397490  \n",
       "South Africa  2716.293461                   0.274200  \n",
       "South Africa  2678.554224                   2.257809  \n",
       "South Africa  2625.794791                   0.205124  \n",
       "South Africa  2775.615258                   1.977568  \n",
       "South Africa  2950.153610                   3.126857  \n",
       "South Africa  2852.095448                   2.312182  \n",
       "South Africa  2768.094507                   0.884902  \n",
       "South Africa  2716.681173                   0.903377  \n",
       "South Africa  2636.684726                   1.064922  \n",
       "South Africa  2602.845598                   2.053581  \n",
       "South Africa  2695.505776                   1.519327  \n",
       "South Africa          NaN                   0.438736  \n",
       "South Africa          NaN                   0.684613  \n",
       "South Africa          NaN                   0.539674  \n",
       "South Africa          NaN                   1.375712  \n",
       "South Africa          NaN                   1.318804  \n",
       "South Africa          NaN                        NaN  "
      ]
     },
     "execution_count": 293,
     "metadata": {},
     "output_type": "execute_result"
    }
   ],
   "source": [
    "world_bank_final.head(32)"
   ]
  },
  {
   "cell_type": "code",
   "execution_count": 295,
   "id": "c56051dd",
   "metadata": {},
   "outputs": [
    {
     "data": {
      "text/html": [
       "<div>\n",
       "<style scoped>\n",
       "    .dataframe tbody tr th:only-of-type {\n",
       "        vertical-align: middle;\n",
       "    }\n",
       "\n",
       "    .dataframe tbody tr th {\n",
       "        vertical-align: top;\n",
       "    }\n",
       "\n",
       "    .dataframe thead th {\n",
       "        text-align: right;\n",
       "    }\n",
       "</style>\n",
       "<table border=\"1\" class=\"dataframe\">\n",
       "  <thead>\n",
       "    <tr style=\"text-align: right;\">\n",
       "      <th></th>\n",
       "      <th>year</th>\n",
       "      <th>GDP</th>\n",
       "      <th>Gross_Capital_Formation_Growth</th>\n",
       "      <th>Employment_Population_Ratio</th>\n",
       "      <th>Exports</th>\n",
       "      <th>Population_Growth</th>\n",
       "      <th>Energy_Use</th>\n",
       "      <th>Foreign Direct Investment</th>\n",
       "    </tr>\n",
       "    <tr>\n",
       "      <th>country</th>\n",
       "      <th></th>\n",
       "      <th></th>\n",
       "      <th></th>\n",
       "      <th></th>\n",
       "      <th></th>\n",
       "      <th></th>\n",
       "      <th></th>\n",
       "      <th></th>\n",
       "    </tr>\n",
       "  </thead>\n",
       "  <tbody>\n",
       "    <tr>\n",
       "      <th>South Africa</th>\n",
       "      <td>1995</td>\n",
       "      <td>3.1</td>\n",
       "      <td>14.229407</td>\n",
       "      <td>39.34</td>\n",
       "      <td>75.526461</td>\n",
       "      <td>2.126182</td>\n",
       "      <td>2498.893625</td>\n",
       "      <td>0.726948</td>\n",
       "    </tr>\n",
       "    <tr>\n",
       "      <th>South Africa</th>\n",
       "      <td>1996</td>\n",
       "      <td>4.3</td>\n",
       "      <td>1.027631</td>\n",
       "      <td>39.20</td>\n",
       "      <td>84.748864</td>\n",
       "      <td>1.924718</td>\n",
       "      <td>2504.903115</td>\n",
       "      <td>0.500126</td>\n",
       "    </tr>\n",
       "    <tr>\n",
       "      <th>South Africa</th>\n",
       "      <td>1997</td>\n",
       "      <td>2.6</td>\n",
       "      <td>2.944509</td>\n",
       "      <td>39.09</td>\n",
       "      <td>91.578779</td>\n",
       "      <td>1.751687</td>\n",
       "      <td>2527.940174</td>\n",
       "      <td>2.255071</td>\n",
       "    </tr>\n",
       "    <tr>\n",
       "      <th>South Africa</th>\n",
       "      <td>1998</td>\n",
       "      <td>0.5</td>\n",
       "      <td>3.340042</td>\n",
       "      <td>39.01</td>\n",
       "      <td>85.363103</td>\n",
       "      <td>1.603369</td>\n",
       "      <td>2471.477036</td>\n",
       "      <td>0.359739</td>\n",
       "    </tr>\n",
       "    <tr>\n",
       "      <th>South Africa</th>\n",
       "      <td>1999</td>\n",
       "      <td>2.4</td>\n",
       "      <td>-3.129856</td>\n",
       "      <td>38.87</td>\n",
       "      <td>89.073329</td>\n",
       "      <td>1.491248</td>\n",
       "      <td>2464.323360</td>\n",
       "      <td>0.992190</td>\n",
       "    </tr>\n",
       "  </tbody>\n",
       "</table>\n",
       "</div>"
      ],
      "text/plain": [
       "              year  GDP  Gross_Capital_Formation_Growth  \\\n",
       "country                                                   \n",
       "South Africa  1995  3.1                       14.229407   \n",
       "South Africa  1996  4.3                        1.027631   \n",
       "South Africa  1997  2.6                        2.944509   \n",
       "South Africa  1998  0.5                        3.340042   \n",
       "South Africa  1999  2.4                       -3.129856   \n",
       "\n",
       "              Employment_Population_Ratio    Exports  Population_Growth  \\\n",
       "country                                                                   \n",
       "South Africa                        39.34  75.526461           2.126182   \n",
       "South Africa                        39.20  84.748864           1.924718   \n",
       "South Africa                        39.09  91.578779           1.751687   \n",
       "South Africa                        39.01  85.363103           1.603369   \n",
       "South Africa                        38.87  89.073329           1.491248   \n",
       "\n",
       "               Energy_Use  Foreign Direct Investment  \n",
       "country                                               \n",
       "South Africa  2498.893625                   0.726948  \n",
       "South Africa  2504.903115                   0.500126  \n",
       "South Africa  2527.940174                   2.255071  \n",
       "South Africa  2471.477036                   0.359739  \n",
       "South Africa  2464.323360                   0.992190  "
      ]
     },
     "execution_count": 295,
     "metadata": {},
     "output_type": "execute_result"
    }
   ],
   "source": [
    "world_bank_final1 = world_bank_final.fillna({\n",
    "    \"Gross_Capital_Formation_Growth\":1.6, \n",
    "    'Exports' :100.0,\n",
    "    'Energy_Use': 2300.0,\n",
    "    'Foreign Direct Investment':3.0})\n",
    "world_bank_final1.head()"
   ]
  },
  {
   "cell_type": "code",
   "execution_count": 296,
   "id": "ad6acbca",
   "metadata": {},
   "outputs": [],
   "source": [
    "world_bank_final1.to_excel('SouthAfrica.xlsx', index = False)"
   ]
  },
  {
   "cell_type": "code",
   "execution_count": 297,
   "id": "d32951bd",
   "metadata": {},
   "outputs": [
    {
     "data": {
      "text/html": [
       "<div>\n",
       "<style scoped>\n",
       "    .dataframe tbody tr th:only-of-type {\n",
       "        vertical-align: middle;\n",
       "    }\n",
       "\n",
       "    .dataframe tbody tr th {\n",
       "        vertical-align: top;\n",
       "    }\n",
       "\n",
       "    .dataframe thead th {\n",
       "        text-align: right;\n",
       "    }\n",
       "</style>\n",
       "<table border=\"1\" class=\"dataframe\">\n",
       "  <thead>\n",
       "    <tr style=\"text-align: right;\">\n",
       "      <th></th>\n",
       "      <th>GDP</th>\n",
       "      <th>Gross_Capital_Formation_Growth</th>\n",
       "      <th>Employment_Population_Ratio</th>\n",
       "      <th>Exports</th>\n",
       "      <th>Population_Growth</th>\n",
       "      <th>Energy_Use</th>\n",
       "      <th>Foreign Direct Investment</th>\n",
       "    </tr>\n",
       "  </thead>\n",
       "  <tbody>\n",
       "    <tr>\n",
       "      <th>count</th>\n",
       "      <td>26.000000</td>\n",
       "      <td>26.000000</td>\n",
       "      <td>26.000000</td>\n",
       "      <td>26.000000</td>\n",
       "      <td>26.000000</td>\n",
       "      <td>26.000000</td>\n",
       "      <td>26.000000</td>\n",
       "    </tr>\n",
       "    <tr>\n",
       "      <th>mean</th>\n",
       "      <td>2.296737</td>\n",
       "      <td>2.819170</td>\n",
       "      <td>39.631923</td>\n",
       "      <td>114.306491</td>\n",
       "      <td>1.461051</td>\n",
       "      <td>2541.316674</td>\n",
       "      <td>1.397003</td>\n",
       "    </tr>\n",
       "    <tr>\n",
       "      <th>std</th>\n",
       "      <td>2.470958</td>\n",
       "      <td>8.517843</td>\n",
       "      <td>1.453638</td>\n",
       "      <td>21.606507</td>\n",
       "      <td>0.219257</td>\n",
       "      <td>190.031628</td>\n",
       "      <td>1.166651</td>\n",
       "    </tr>\n",
       "    <tr>\n",
       "      <th>min</th>\n",
       "      <td>-6.431975</td>\n",
       "      <td>-24.730526</td>\n",
       "      <td>36.690000</td>\n",
       "      <td>75.526461</td>\n",
       "      <td>1.217762</td>\n",
       "      <td>2300.000000</td>\n",
       "      <td>0.205124</td>\n",
       "    </tr>\n",
       "    <tr>\n",
       "      <th>25%</th>\n",
       "      <td>1.344853</td>\n",
       "      <td>-0.624441</td>\n",
       "      <td>38.912500</td>\n",
       "      <td>99.912373</td>\n",
       "      <td>1.297697</td>\n",
       "      <td>2394.323134</td>\n",
       "      <td>0.564362</td>\n",
       "    </tr>\n",
       "    <tr>\n",
       "      <th>50%</th>\n",
       "      <td>2.650000</td>\n",
       "      <td>3.158226</td>\n",
       "      <td>39.545000</td>\n",
       "      <td>110.369759</td>\n",
       "      <td>1.412985</td>\n",
       "      <td>2511.617954</td>\n",
       "      <td>1.028556</td>\n",
       "    </tr>\n",
       "    <tr>\n",
       "      <th>75%</th>\n",
       "      <td>3.573042</td>\n",
       "      <td>8.756069</td>\n",
       "      <td>40.637500</td>\n",
       "      <td>131.951093</td>\n",
       "      <td>1.569076</td>\n",
       "      <td>2691.267888</td>\n",
       "      <td>2.034578</td>\n",
       "    </tr>\n",
       "    <tr>\n",
       "      <th>max</th>\n",
       "      <td>5.603806</td>\n",
       "      <td>15.976655</td>\n",
       "      <td>43.100000</td>\n",
       "      <td>147.420926</td>\n",
       "      <td>2.126182</td>\n",
       "      <td>2950.153610</td>\n",
       "      <td>5.368357</td>\n",
       "    </tr>\n",
       "  </tbody>\n",
       "</table>\n",
       "</div>"
      ],
      "text/plain": [
       "             GDP  Gross_Capital_Formation_Growth  Employment_Population_Ratio  \\\n",
       "count  26.000000                       26.000000                    26.000000   \n",
       "mean    2.296737                        2.819170                    39.631923   \n",
       "std     2.470958                        8.517843                     1.453638   \n",
       "min    -6.431975                      -24.730526                    36.690000   \n",
       "25%     1.344853                       -0.624441                    38.912500   \n",
       "50%     2.650000                        3.158226                    39.545000   \n",
       "75%     3.573042                        8.756069                    40.637500   \n",
       "max     5.603806                       15.976655                    43.100000   \n",
       "\n",
       "          Exports  Population_Growth   Energy_Use  Foreign Direct Investment  \n",
       "count   26.000000          26.000000    26.000000                  26.000000  \n",
       "mean   114.306491           1.461051  2541.316674                   1.397003  \n",
       "std     21.606507           0.219257   190.031628                   1.166651  \n",
       "min     75.526461           1.217762  2300.000000                   0.205124  \n",
       "25%     99.912373           1.297697  2394.323134                   0.564362  \n",
       "50%    110.369759           1.412985  2511.617954                   1.028556  \n",
       "75%    131.951093           1.569076  2691.267888                   2.034578  \n",
       "max    147.420926           2.126182  2950.153610                   5.368357  "
      ]
     },
     "execution_count": 297,
     "metadata": {},
     "output_type": "execute_result"
    }
   ],
   "source": [
    "world_bank_final1.describe()"
   ]
  },
  {
   "cell_type": "code",
   "execution_count": 298,
   "id": "07181170",
   "metadata": {},
   "outputs": [],
   "source": [
    "X = world_bank_final1.drop(\"GDP\", axis = 1)\n",
    "Y = world_bank_final1[['GDP']]"
   ]
  },
  {
   "cell_type": "code",
   "execution_count": 299,
   "id": "4c66a523",
   "metadata": {},
   "outputs": [],
   "source": [
    "X_train = X[:20].values\n",
    "X_test = X[20:].values\n",
    "y_train = Y[:20].values\n",
    "y_test = Y[20:].values"
   ]
  },
  {
   "cell_type": "code",
   "execution_count": 300,
   "id": "bb03691b",
   "metadata": {},
   "outputs": [
    {
     "data": {
      "text/plain": [
       "array([['2015', 4.00533113024204, 41.45, 142.8619585, 1.53224277341692,\n",
       "        2300.0, 0.438735792056359],\n",
       "       ['2016', -8.38581264256115, 40.79, 141.7059987, 1.47193342939738,\n",
       "        2300.0, 0.684612553455795],\n",
       "       ['2017', 2.97641067709678, 40.99, 144.2538, 1.41694725378631,\n",
       "        2300.0, 0.539673956759456],\n",
       "       ['2018', -0.69657782263657, 40.93, 147.4209256, 1.36370321600461,\n",
       "        2300.0, 1.37571218998329],\n",
       "       ['2019', -0.408032219323644, 40.12, 142.4716299, 1.31629200967216,\n",
       "        2300.0, 1.31880445443166],\n",
       "       ['2020', -24.7305255204144, 36.69, 100.0, 1.27335626330668,\n",
       "        2300.0, 3.0]], dtype=object)"
      ]
     },
     "execution_count": 300,
     "metadata": {},
     "output_type": "execute_result"
    }
   ],
   "source": [
    "X_test"
   ]
  },
  {
   "cell_type": "code",
   "execution_count": 301,
   "id": "70e1d001",
   "metadata": {},
   "outputs": [
    {
     "data": {
      "text/plain": [
       "array([[ 1.32186224],\n",
       "       [ 0.66455231],\n",
       "       [ 1.15794695],\n",
       "       [ 1.48761737],\n",
       "       [ 0.1130537 ],\n",
       "       [-6.43197483]])"
      ]
     },
     "execution_count": 301,
     "metadata": {},
     "output_type": "execute_result"
    }
   ],
   "source": [
    "y_test"
   ]
  },
  {
   "cell_type": "code",
   "execution_count": 302,
   "id": "e3c029f6",
   "metadata": {},
   "outputs": [],
   "source": [
    "# create a Linear Regression model object\n",
    "regression_model_SouthAfrica = LinearRegression()"
   ]
  },
  {
   "cell_type": "code",
   "execution_count": 303,
   "id": "4e9eb331",
   "metadata": {},
   "outputs": [
    {
     "data": {
      "text/plain": [
       "LinearRegression()"
      ]
     },
     "execution_count": 303,
     "metadata": {},
     "output_type": "execute_result"
    }
   ],
   "source": [
    "# pass through the X_train & y_train data set\n",
    "regression_model_SouthAfrica.fit(X_train, y_train)"
   ]
  },
  {
   "cell_type": "code",
   "execution_count": 304,
   "id": "12757a2b",
   "metadata": {},
   "outputs": [
    {
     "data": {
      "text/plain": [
       "array([[ 2.03319433],\n",
       "       [ 0.6035058 ],\n",
       "       [ 1.46430163],\n",
       "       [ 1.02394865],\n",
       "       [ 0.16821014],\n",
       "       [-8.02045567]])"
      ]
     },
     "execution_count": 304,
     "metadata": {},
     "output_type": "execute_result"
    }
   ],
   "source": [
    "# Get multiple predictions\n",
    "y_predict = regression_model_SouthAfrica.predict(X_test)\n",
    "\n",
    "# Show the first 5 predictions\n",
    "y_predict[:6]"
   ]
  },
  {
   "cell_type": "code",
   "execution_count": 305,
   "id": "1fda977f",
   "metadata": {},
   "outputs": [],
   "source": [
    "# let's grab the coefficient of our model and the intercept\n",
    "intercept = regression_model_SouthAfrica.intercept_[0]\n",
    "coefficent = regression_model_SouthAfrica.coef_[0][0]"
   ]
  },
  {
   "cell_type": "code",
   "execution_count": 306,
   "id": "c9d9d173",
   "metadata": {},
   "outputs": [
    {
     "name": "stdout",
     "output_type": "stream",
     "text": [
      "The intercept for our model is 967.0\n",
      "----------------------------------------------------------------------------------------------------\n"
     ]
    }
   ],
   "source": [
    "print(\"The intercept for our model is {:.4}\".format(intercept))\n",
    "print('-'*100)"
   ]
  },
  {
   "cell_type": "code",
   "execution_count": 307,
   "id": "3302fdc0",
   "metadata": {},
   "outputs": [
    {
     "name": "stdout",
     "output_type": "stream",
     "text": [
      "The Coefficient for year is -0.48\n",
      "The Coefficient for Gross_Capital_Formation_Growth is 0.082\n",
      "The Coefficient for Employment_Population_Ratio is -0.39\n",
      "The Coefficient for Exports is 0.16\n",
      "The Coefficient for Population_Growth is -0.99\n",
      "The Coefficient for Energy_Use is 0.0026\n",
      "The Coefficient for Foreign Direct Investment is -0.27\n"
     ]
    }
   ],
   "source": [
    "# loop through the dictionary and print the data\n",
    "for coef in zip(X.columns, regression_model_SouthAfrica.coef_[0]):\n",
    "    print(\"The Coefficient for {} is {:.2}\".format(coef[0],coef[1]))"
   ]
  },
  {
   "cell_type": "code",
   "execution_count": 308,
   "id": "2d8afdaf",
   "metadata": {},
   "outputs": [
    {
     "name": "stdout",
     "output_type": "stream",
     "text": [
      "MSE 0.557\n",
      "MAE 0.531\n",
      "RMSE 0.747\n"
     ]
    }
   ],
   "source": [
    "import math\n",
    "# calculate the mean squared error\n",
    "model_mse = mean_squared_error(y_test, y_predict)\n",
    "\n",
    "# calculate the mean absolute error\n",
    "model_mae = mean_absolute_error(y_test, y_predict)\n",
    "\n",
    "# calulcate the root mean squared error\n",
    "model_rmse =  math.sqrt(model_mse)\n",
    "\n",
    "# display the output\n",
    "print(\"MSE {:.3}\".format(model_mse))\n",
    "print(\"MAE {:.3}\".format(model_mae))\n",
    "print(\"RMSE {:.3}\".format(model_rmse))"
   ]
  },
  {
   "cell_type": "code",
   "execution_count": 309,
   "id": "df4946f3",
   "metadata": {},
   "outputs": [
    {
     "data": {
      "text/plain": [
       "0.6734329573667853"
      ]
     },
     "execution_count": 309,
     "metadata": {},
     "output_type": "execute_result"
    }
   ],
   "source": [
    "regression_model_SouthAfrica.score(X_train, y_train)"
   ]
  },
  {
   "cell_type": "code",
   "execution_count": 310,
   "id": "bc0cdb72",
   "metadata": {},
   "outputs": [
    {
     "data": {
      "text/plain": [
       "0.9283009195549904"
      ]
     },
     "execution_count": 310,
     "metadata": {},
     "output_type": "execute_result"
    }
   ],
   "source": [
    "r2_score_SouthAfrica =r2_score(y_test, y_predict)\n",
    "r2_score_SouthAfrica"
   ]
  },
  {
   "cell_type": "markdown",
   "id": "95663b93",
   "metadata": {},
   "source": [
    "# Regression for Russian Federation Data"
   ]
  },
  {
   "cell_type": "code",
   "execution_count": 311,
   "id": "0f96a347",
   "metadata": {},
   "outputs": [],
   "source": [
    "worldbank_indicators = [\"NY.GDP.MKTP.KD.ZG\", \"NE.GDI.TOTL.KD.ZG\",\"SL.EMP.TOTL.SP.ZS\",\"TX.QTY.MRCH.XD.WD\",\"SP.POP.GROW\",\"EG.USE.PCAP.KG.OE\",\"BX.KLT.DINV.WD.GD.ZS\"] \n",
    " \n",
    "world_bank = wb.download (indicator =worldbank_indicators, country = [\"RUS\"], start = 1995, end =2020)\n",
    "\n",
    "world_bank = world_bank.reset_index(1)       "
   ]
  },
  {
   "cell_type": "code",
   "execution_count": 312,
   "id": "4c2d7a32",
   "metadata": {},
   "outputs": [],
   "source": [
    "world_bank_df = world_bank.rename(columns = {\"NY.GDP.MKTP.KD.ZG\":\"GDP\",\\\n",
    "                                               \"NE.GDI.TOTL.KD.ZG\":\"Gross_Capital_Formation_Growth\",\\\n",
    "                                               \"SL.EMP.TOTL.SP.ZS\":\"Employment_Population_Ratio\",\\\n",
    "                                            \"TX.QTY.MRCH.XD.WD\":\"Exports\",\\\n",
    "                                            \"SP.POP.GROW\":\"Population_Growth\",\\\n",
    "                                            \"EG.USE.PCAP.KG.OE\":\"Energy_Use\",\\\n",
    "                                            \"BX.KLT.DINV.WD.GD.ZS\":\"Foreign Direct Investment\"})"
   ]
  },
  {
   "cell_type": "code",
   "execution_count": 313,
   "id": "c62b33f6",
   "metadata": {},
   "outputs": [],
   "source": [
    "world_bank_final = world_bank_df.loc[::-1]"
   ]
  },
  {
   "cell_type": "code",
   "execution_count": 314,
   "id": "024fcf81",
   "metadata": {},
   "outputs": [
    {
     "data": {
      "text/html": [
       "<div>\n",
       "<style scoped>\n",
       "    .dataframe tbody tr th:only-of-type {\n",
       "        vertical-align: middle;\n",
       "    }\n",
       "\n",
       "    .dataframe tbody tr th {\n",
       "        vertical-align: top;\n",
       "    }\n",
       "\n",
       "    .dataframe thead th {\n",
       "        text-align: right;\n",
       "    }\n",
       "</style>\n",
       "<table border=\"1\" class=\"dataframe\">\n",
       "  <thead>\n",
       "    <tr style=\"text-align: right;\">\n",
       "      <th></th>\n",
       "      <th>year</th>\n",
       "      <th>GDP</th>\n",
       "      <th>Gross_Capital_Formation_Growth</th>\n",
       "      <th>Employment_Population_Ratio</th>\n",
       "      <th>Exports</th>\n",
       "      <th>Population_Growth</th>\n",
       "      <th>Energy_Use</th>\n",
       "      <th>Foreign Direct Investment</th>\n",
       "    </tr>\n",
       "    <tr>\n",
       "      <th>country</th>\n",
       "      <th></th>\n",
       "      <th></th>\n",
       "      <th></th>\n",
       "      <th></th>\n",
       "      <th></th>\n",
       "      <th></th>\n",
       "      <th></th>\n",
       "      <th></th>\n",
       "    </tr>\n",
       "  </thead>\n",
       "  <tbody>\n",
       "    <tr>\n",
       "      <th>Russian Federation</th>\n",
       "      <td>1995</td>\n",
       "      <td>-4.143528</td>\n",
       "      <td>-10.800000</td>\n",
       "      <td>55.62</td>\n",
       "      <td>NaN</td>\n",
       "      <td>-0.021649</td>\n",
       "      <td>4290.693467</td>\n",
       "      <td>0.522257</td>\n",
       "    </tr>\n",
       "    <tr>\n",
       "      <th>Russian Federation</th>\n",
       "      <td>1996</td>\n",
       "      <td>-3.755069</td>\n",
       "      <td>-6.888909</td>\n",
       "      <td>54.51</td>\n",
       "      <td>NaN</td>\n",
       "      <td>-0.145452</td>\n",
       "      <td>4252.611619</td>\n",
       "      <td>0.658454</td>\n",
       "    </tr>\n",
       "    <tr>\n",
       "      <th>Russian Federation</th>\n",
       "      <td>1997</td>\n",
       "      <td>1.399916</td>\n",
       "      <td>-4.100188</td>\n",
       "      <td>51.95</td>\n",
       "      <td>NaN</td>\n",
       "      <td>-0.165342</td>\n",
       "      <td>4069.687292</td>\n",
       "      <td>1.201359</td>\n",
       "    </tr>\n",
       "    <tr>\n",
       "      <th>Russian Federation</th>\n",
       "      <td>1998</td>\n",
       "      <td>-5.299962</td>\n",
       "      <td>-45.199827</td>\n",
       "      <td>50.31</td>\n",
       "      <td>NaN</td>\n",
       "      <td>-0.165486</td>\n",
       "      <td>3981.499468</td>\n",
       "      <td>1.019119</td>\n",
       "    </tr>\n",
       "    <tr>\n",
       "      <th>Russian Federation</th>\n",
       "      <td>1999</td>\n",
       "      <td>6.399915</td>\n",
       "      <td>-6.600615</td>\n",
       "      <td>53.18</td>\n",
       "      <td>NaN</td>\n",
       "      <td>-0.309278</td>\n",
       "      <td>4136.751144</td>\n",
       "      <td>1.662283</td>\n",
       "    </tr>\n",
       "  </tbody>\n",
       "</table>\n",
       "</div>"
      ],
      "text/plain": [
       "                    year       GDP  Gross_Capital_Formation_Growth  \\\n",
       "country                                                              \n",
       "Russian Federation  1995 -4.143528                      -10.800000   \n",
       "Russian Federation  1996 -3.755069                       -6.888909   \n",
       "Russian Federation  1997  1.399916                       -4.100188   \n",
       "Russian Federation  1998 -5.299962                      -45.199827   \n",
       "Russian Federation  1999  6.399915                       -6.600615   \n",
       "\n",
       "                    Employment_Population_Ratio  Exports  Population_Growth  \\\n",
       "country                                                                       \n",
       "Russian Federation                        55.62      NaN          -0.021649   \n",
       "Russian Federation                        54.51      NaN          -0.145452   \n",
       "Russian Federation                        51.95      NaN          -0.165342   \n",
       "Russian Federation                        50.31      NaN          -0.165486   \n",
       "Russian Federation                        53.18      NaN          -0.309278   \n",
       "\n",
       "                     Energy_Use  Foreign Direct Investment  \n",
       "country                                                     \n",
       "Russian Federation  4290.693467                   0.522257  \n",
       "Russian Federation  4252.611619                   0.658454  \n",
       "Russian Federation  4069.687292                   1.201359  \n",
       "Russian Federation  3981.499468                   1.019119  \n",
       "Russian Federation  4136.751144                   1.662283  "
      ]
     },
     "execution_count": 314,
     "metadata": {},
     "output_type": "execute_result"
    }
   ],
   "source": [
    "world_bank_final.head()"
   ]
  },
  {
   "cell_type": "code",
   "execution_count": 315,
   "id": "eab3a6e1",
   "metadata": {},
   "outputs": [
    {
     "data": {
      "text/html": [
       "<div>\n",
       "<style scoped>\n",
       "    .dataframe tbody tr th:only-of-type {\n",
       "        vertical-align: middle;\n",
       "    }\n",
       "\n",
       "    .dataframe tbody tr th {\n",
       "        vertical-align: top;\n",
       "    }\n",
       "\n",
       "    .dataframe thead th {\n",
       "        text-align: right;\n",
       "    }\n",
       "</style>\n",
       "<table border=\"1\" class=\"dataframe\">\n",
       "  <thead>\n",
       "    <tr style=\"text-align: right;\">\n",
       "      <th></th>\n",
       "      <th>year</th>\n",
       "      <th>GDP</th>\n",
       "      <th>Gross_Capital_Formation_Growth</th>\n",
       "      <th>Employment_Population_Ratio</th>\n",
       "      <th>Exports</th>\n",
       "      <th>Population_Growth</th>\n",
       "      <th>Energy_Use</th>\n",
       "      <th>Foreign Direct Investment</th>\n",
       "    </tr>\n",
       "    <tr>\n",
       "      <th>country</th>\n",
       "      <th></th>\n",
       "      <th></th>\n",
       "      <th></th>\n",
       "      <th></th>\n",
       "      <th></th>\n",
       "      <th></th>\n",
       "      <th></th>\n",
       "      <th></th>\n",
       "    </tr>\n",
       "  </thead>\n",
       "  <tbody>\n",
       "    <tr>\n",
       "      <th>Russian Federation</th>\n",
       "      <td>1995</td>\n",
       "      <td>-4.143528</td>\n",
       "      <td>-10.800000</td>\n",
       "      <td>55.62</td>\n",
       "      <td>150.0</td>\n",
       "      <td>-0.021649</td>\n",
       "      <td>4290.693467</td>\n",
       "      <td>0.522257</td>\n",
       "    </tr>\n",
       "    <tr>\n",
       "      <th>Russian Federation</th>\n",
       "      <td>1996</td>\n",
       "      <td>-3.755069</td>\n",
       "      <td>-6.888909</td>\n",
       "      <td>54.51</td>\n",
       "      <td>150.0</td>\n",
       "      <td>-0.145452</td>\n",
       "      <td>4252.611619</td>\n",
       "      <td>0.658454</td>\n",
       "    </tr>\n",
       "    <tr>\n",
       "      <th>Russian Federation</th>\n",
       "      <td>1997</td>\n",
       "      <td>1.399916</td>\n",
       "      <td>-4.100188</td>\n",
       "      <td>51.95</td>\n",
       "      <td>150.0</td>\n",
       "      <td>-0.165342</td>\n",
       "      <td>4069.687292</td>\n",
       "      <td>1.201359</td>\n",
       "    </tr>\n",
       "    <tr>\n",
       "      <th>Russian Federation</th>\n",
       "      <td>1998</td>\n",
       "      <td>-5.299962</td>\n",
       "      <td>-45.199827</td>\n",
       "      <td>50.31</td>\n",
       "      <td>150.0</td>\n",
       "      <td>-0.165486</td>\n",
       "      <td>3981.499468</td>\n",
       "      <td>1.019119</td>\n",
       "    </tr>\n",
       "    <tr>\n",
       "      <th>Russian Federation</th>\n",
       "      <td>1999</td>\n",
       "      <td>6.399915</td>\n",
       "      <td>-6.600615</td>\n",
       "      <td>53.18</td>\n",
       "      <td>150.0</td>\n",
       "      <td>-0.309278</td>\n",
       "      <td>4136.751144</td>\n",
       "      <td>1.662283</td>\n",
       "    </tr>\n",
       "  </tbody>\n",
       "</table>\n",
       "</div>"
      ],
      "text/plain": [
       "                    year       GDP  Gross_Capital_Formation_Growth  \\\n",
       "country                                                              \n",
       "Russian Federation  1995 -4.143528                      -10.800000   \n",
       "Russian Federation  1996 -3.755069                       -6.888909   \n",
       "Russian Federation  1997  1.399916                       -4.100188   \n",
       "Russian Federation  1998 -5.299962                      -45.199827   \n",
       "Russian Federation  1999  6.399915                       -6.600615   \n",
       "\n",
       "                    Employment_Population_Ratio  Exports  Population_Growth  \\\n",
       "country                                                                       \n",
       "Russian Federation                        55.62    150.0          -0.021649   \n",
       "Russian Federation                        54.51    150.0          -0.145452   \n",
       "Russian Federation                        51.95    150.0          -0.165342   \n",
       "Russian Federation                        50.31    150.0          -0.165486   \n",
       "Russian Federation                        53.18    150.0          -0.309278   \n",
       "\n",
       "                     Energy_Use  Foreign Direct Investment  \n",
       "country                                                     \n",
       "Russian Federation  4290.693467                   0.522257  \n",
       "Russian Federation  4252.611619                   0.658454  \n",
       "Russian Federation  4069.687292                   1.201359  \n",
       "Russian Federation  3981.499468                   1.019119  \n",
       "Russian Federation  4136.751144                   1.662283  "
      ]
     },
     "execution_count": 315,
     "metadata": {},
     "output_type": "execute_result"
    }
   ],
   "source": [
    "world_bank_final1 = world_bank_final.fillna({\n",
    "    \"Gross_Capital_Formation_Growth\":1.6, \n",
    "    'Exports' :150.0,\n",
    "    'Energy_Use': 4000.0,\n",
    "    'Foreign Direct Investment':1.0})\n",
    "world_bank_final1.head()"
   ]
  },
  {
   "cell_type": "code",
   "execution_count": 316,
   "id": "2954e3c6",
   "metadata": {},
   "outputs": [],
   "source": [
    "world_bank_final1.to_excel('Russia.xlsx', index = False)"
   ]
  },
  {
   "cell_type": "code",
   "execution_count": 317,
   "id": "6f5f0a6d",
   "metadata": {},
   "outputs": [
    {
     "data": {
      "text/html": [
       "<div>\n",
       "<style scoped>\n",
       "    .dataframe tbody tr th:only-of-type {\n",
       "        vertical-align: middle;\n",
       "    }\n",
       "\n",
       "    .dataframe tbody tr th {\n",
       "        vertical-align: top;\n",
       "    }\n",
       "\n",
       "    .dataframe thead th {\n",
       "        text-align: right;\n",
       "    }\n",
       "</style>\n",
       "<table border=\"1\" class=\"dataframe\">\n",
       "  <thead>\n",
       "    <tr style=\"text-align: right;\">\n",
       "      <th></th>\n",
       "      <th>GDP</th>\n",
       "      <th>Gross_Capital_Formation_Growth</th>\n",
       "      <th>Employment_Population_Ratio</th>\n",
       "      <th>Exports</th>\n",
       "      <th>Population_Growth</th>\n",
       "      <th>Energy_Use</th>\n",
       "      <th>Foreign Direct Investment</th>\n",
       "    </tr>\n",
       "  </thead>\n",
       "  <tbody>\n",
       "    <tr>\n",
       "      <th>count</th>\n",
       "      <td>26.000000</td>\n",
       "      <td>26.000000</td>\n",
       "      <td>26.000000</td>\n",
       "      <td>26.000000</td>\n",
       "      <td>26.000000</td>\n",
       "      <td>26.000000</td>\n",
       "      <td>26.000000</td>\n",
       "    </tr>\n",
       "    <tr>\n",
       "      <th>mean</th>\n",
       "      <td>2.563569</td>\n",
       "      <td>3.774255</td>\n",
       "      <td>56.781154</td>\n",
       "      <td>155.628475</td>\n",
       "      <td>-0.113188</td>\n",
       "      <td>4416.831743</td>\n",
       "      <td>1.934310</td>\n",
       "    </tr>\n",
       "    <tr>\n",
       "      <th>std</th>\n",
       "      <td>4.645481</td>\n",
       "      <td>22.287030</td>\n",
       "      <td>2.490902</td>\n",
       "      <td>26.248143</td>\n",
       "      <td>0.229201</td>\n",
       "      <td>387.010604</td>\n",
       "      <td>1.161490</td>\n",
       "    </tr>\n",
       "    <tr>\n",
       "      <th>min</th>\n",
       "      <td>-7.799994</td>\n",
       "      <td>-45.199827</td>\n",
       "      <td>50.310000</td>\n",
       "      <td>100.000000</td>\n",
       "      <td>-0.460024</td>\n",
       "      <td>3981.499468</td>\n",
       "      <td>0.502608</td>\n",
       "    </tr>\n",
       "    <tr>\n",
       "      <th>25%</th>\n",
       "      <td>0.329334</td>\n",
       "      <td>-6.077411</td>\n",
       "      <td>55.290000</td>\n",
       "      <td>150.000000</td>\n",
       "      <td>-0.322904</td>\n",
       "      <td>4017.421823</td>\n",
       "      <td>1.008932</td>\n",
       "    </tr>\n",
       "    <tr>\n",
       "      <th>50%</th>\n",
       "      <td>3.415666</td>\n",
       "      <td>1.307718</td>\n",
       "      <td>57.455000</td>\n",
       "      <td>154.280139</td>\n",
       "      <td>-0.097510</td>\n",
       "      <td>4289.538049</td>\n",
       "      <td>1.828235</td>\n",
       "    </tr>\n",
       "    <tr>\n",
       "      <th>75%</th>\n",
       "      <td>6.099928</td>\n",
       "      <td>13.775086</td>\n",
       "      <td>58.975000</td>\n",
       "      <td>167.483361</td>\n",
       "      <td>0.069710</td>\n",
       "      <td>4704.481421</td>\n",
       "      <td>2.670814</td>\n",
       "    </tr>\n",
       "    <tr>\n",
       "      <th>max</th>\n",
       "      <td>10.000067</td>\n",
       "      <td>75.201129</td>\n",
       "      <td>59.390000</td>\n",
       "      <td>203.728337</td>\n",
       "      <td>0.217642</td>\n",
       "      <td>5167.010353</td>\n",
       "      <td>4.502699</td>\n",
       "    </tr>\n",
       "  </tbody>\n",
       "</table>\n",
       "</div>"
      ],
      "text/plain": [
       "             GDP  Gross_Capital_Formation_Growth  Employment_Population_Ratio  \\\n",
       "count  26.000000                       26.000000                    26.000000   \n",
       "mean    2.563569                        3.774255                    56.781154   \n",
       "std     4.645481                       22.287030                     2.490902   \n",
       "min    -7.799994                      -45.199827                    50.310000   \n",
       "25%     0.329334                       -6.077411                    55.290000   \n",
       "50%     3.415666                        1.307718                    57.455000   \n",
       "75%     6.099928                       13.775086                    58.975000   \n",
       "max    10.000067                       75.201129                    59.390000   \n",
       "\n",
       "          Exports  Population_Growth   Energy_Use  Foreign Direct Investment  \n",
       "count   26.000000          26.000000    26.000000                  26.000000  \n",
       "mean   155.628475          -0.113188  4416.831743                   1.934310  \n",
       "std     26.248143           0.229201   387.010604                   1.161490  \n",
       "min    100.000000          -0.460024  3981.499468                   0.502608  \n",
       "25%    150.000000          -0.322904  4017.421823                   1.008932  \n",
       "50%    154.280139          -0.097510  4289.538049                   1.828235  \n",
       "75%    167.483361           0.069710  4704.481421                   2.670814  \n",
       "max    203.728337           0.217642  5167.010353                   4.502699  "
      ]
     },
     "execution_count": 317,
     "metadata": {},
     "output_type": "execute_result"
    }
   ],
   "source": [
    "world_bank_final1.describe()"
   ]
  },
  {
   "cell_type": "code",
   "execution_count": 318,
   "id": "142e403c",
   "metadata": {},
   "outputs": [],
   "source": [
    "X = world_bank_final1.drop(\"GDP\", axis = 1)\n",
    "Y = world_bank_final1[['GDP']]"
   ]
  },
  {
   "cell_type": "code",
   "execution_count": 319,
   "id": "5eb016ad",
   "metadata": {},
   "outputs": [],
   "source": [
    "X_train = X[:20].values\n",
    "X_test = X[20:].values\n",
    "y_train = Y[:20].values\n",
    "y_test = Y[20:].values"
   ]
  },
  {
   "cell_type": "code",
   "execution_count": 320,
   "id": "ec53e998",
   "metadata": {},
   "outputs": [
    {
     "data": {
      "text/plain": [
       "array([['2015', -11.74313147216, 59.14, 180.5162551, 0.192557946508244,\n",
       "        4000.0, 0.502608373795545],\n",
       "       ['2016', -0.639176708239958, 59.28, 187.5903055,\n",
       "        0.170245238698228, 4000.0, 2.54849873389468],\n",
       "       ['2017', 6.40962100599796, 59.08, 194.7974436, 0.106870569429971,\n",
       "        4000.0, 1.8140929436605],\n",
       "       ['2018', -1.59119425116916, 59.23, 203.7283367,\n",
       "        -0.0130668924933287, 4000.0, 0.530060761129424],\n",
       "       ['2019', 3.25461218970347, 58.66, 197.6251167,\n",
       "        -0.0495686654330689, 4000.0, 1.89485898487827],\n",
       "       ['2020', -1.97334879957343, 57.62, 150.0, -0.209476796881133,\n",
       "        4000.0, 1.0]], dtype=object)"
      ]
     },
     "execution_count": 320,
     "metadata": {},
     "output_type": "execute_result"
    }
   ],
   "source": [
    "X_test"
   ]
  },
  {
   "cell_type": "code",
   "execution_count": 321,
   "id": "f131c148",
   "metadata": {},
   "outputs": [
    {
     "data": {
      "text/plain": [
       "array([[-1.97271923],\n",
       "       [ 0.19369007],\n",
       "       [ 1.82579006],\n",
       "       [ 2.80724541],\n",
       "       [ 2.03298274],\n",
       "       [-2.9512739 ]])"
      ]
     },
     "execution_count": 321,
     "metadata": {},
     "output_type": "execute_result"
    }
   ],
   "source": [
    "y_test"
   ]
  },
  {
   "cell_type": "code",
   "execution_count": 322,
   "id": "9872b697",
   "metadata": {},
   "outputs": [],
   "source": [
    "# create a Linear Regression model object\n",
    "regression_model_Russia = LinearRegression()"
   ]
  },
  {
   "cell_type": "code",
   "execution_count": 323,
   "id": "2fd5cdfe",
   "metadata": {},
   "outputs": [
    {
     "data": {
      "text/plain": [
       "LinearRegression()"
      ]
     },
     "execution_count": 323,
     "metadata": {},
     "output_type": "execute_result"
    }
   ],
   "source": [
    "# pass through the X_train & y_train data set\n",
    "regression_model_Russia.fit(X_train, y_train)"
   ]
  },
  {
   "cell_type": "code",
   "execution_count": 324,
   "id": "7be7d753",
   "metadata": {},
   "outputs": [
    {
     "data": {
      "text/plain": [
       "array([[-6.49192668],\n",
       "       [-4.07355472],\n",
       "       [-1.18551245],\n",
       "       [ 0.77930679],\n",
       "       [ 2.15612091],\n",
       "       [ 1.73519581]])"
      ]
     },
     "execution_count": 324,
     "metadata": {},
     "output_type": "execute_result"
    }
   ],
   "source": [
    "# Get multiple predictions\n",
    "y_predict = regression_model_Russia.predict(X_test)\n",
    "\n",
    "# Show the first 6 predictions\n",
    "y_predict[:6]"
   ]
  },
  {
   "cell_type": "code",
   "execution_count": 325,
   "id": "b21c5daf",
   "metadata": {},
   "outputs": [],
   "source": [
    "# let's grab the coefficient of our model and the intercept\n",
    "intercept = regression_model_Russia.intercept_[0]\n",
    "coefficent = regression_model_Russia.coef_[0][0]"
   ]
  },
  {
   "cell_type": "code",
   "execution_count": 326,
   "id": "f765a338",
   "metadata": {},
   "outputs": [
    {
     "name": "stdout",
     "output_type": "stream",
     "text": [
      "The intercept for our model is -419.2\n",
      "----------------------------------------------------------------------------------------------------\n"
     ]
    }
   ],
   "source": [
    "print(\"The intercept for our model is {:.4}\".format(intercept))\n",
    "print('-'*100)"
   ]
  },
  {
   "cell_type": "code",
   "execution_count": 327,
   "id": "5b107702",
   "metadata": {},
   "outputs": [
    {
     "name": "stdout",
     "output_type": "stream",
     "text": [
      "The Coefficient for year is 0.2\n",
      "The Coefficient for Gross_Capital_Formation_Growth is 0.12\n",
      "The Coefficient for Employment_Population_Ratio is -0.64\n",
      "The Coefficient for Exports is 0.075\n",
      "The Coefficient for Population_Growth is -1.8e+01\n",
      "The Coefficient for Energy_Use is 0.0075\n",
      "The Coefficient for Foreign Direct Investment is 0.0016\n"
     ]
    }
   ],
   "source": [
    "# loop through the dictionary and print the data\n",
    "for coef in zip(X.columns, regression_model_Russia.coef_[0]):\n",
    "    print(\"The Coefficient for {} is {:.2}\".format(coef[0],coef[1]))"
   ]
  },
  {
   "cell_type": "code",
   "execution_count": 328,
   "id": "5791cb8a",
   "metadata": {},
   "outputs": [
    {
     "name": "stdout",
     "output_type": "stream",
     "text": [
      "MSE 12.3\n",
      "MAE 3.11\n",
      "RMSE 3.51\n"
     ]
    }
   ],
   "source": [
    "import math\n",
    "# calculate the mean squared error\n",
    "model_mse = mean_squared_error(y_test, y_predict)\n",
    "\n",
    "# calculate the mean absolute error\n",
    "model_mae = mean_absolute_error(y_test, y_predict)\n",
    "\n",
    "# calulcate the root mean squared error\n",
    "model_rmse =  math.sqrt(model_mse)\n",
    "\n",
    "# display the output\n",
    "print(\"MSE {:.3}\".format(model_mse))\n",
    "print(\"MAE {:.3}\".format(model_mae))\n",
    "print(\"RMSE {:.3}\".format(model_rmse))"
   ]
  },
  {
   "cell_type": "code",
   "execution_count": 329,
   "id": "c35615fc",
   "metadata": {},
   "outputs": [
    {
     "data": {
      "text/plain": [
       "0.8913331821704882"
      ]
     },
     "execution_count": 329,
     "metadata": {},
     "output_type": "execute_result"
    }
   ],
   "source": [
    "regression_model_Russia.score(X_train, y_train)"
   ]
  },
  {
   "cell_type": "code",
   "execution_count": 330,
   "id": "eba276ca",
   "metadata": {},
   "outputs": [
    {
     "data": {
      "text/plain": [
       "-1.6968702527367112"
      ]
     },
     "execution_count": 330,
     "metadata": {},
     "output_type": "execute_result"
    }
   ],
   "source": [
    "r2_score_Russia =r2_score(y_test, y_predict)\n",
    "r2_score_Russia"
   ]
  },
  {
   "cell_type": "code",
   "execution_count": null,
   "id": "f8329748",
   "metadata": {},
   "outputs": [],
   "source": []
  },
  {
   "cell_type": "code",
   "execution_count": null,
   "id": "aebc3a69",
   "metadata": {},
   "outputs": [],
   "source": []
  },
  {
   "cell_type": "code",
   "execution_count": null,
   "id": "b82ad59b",
   "metadata": {},
   "outputs": [],
   "source": []
  }
 ],
 "metadata": {
  "kernelspec": {
   "display_name": "melnv",
   "language": "python",
   "name": "melnv"
  },
  "language_info": {
   "codemirror_mode": {
    "name": "ipython",
    "version": 3
   },
   "file_extension": ".py",
   "mimetype": "text/x-python",
   "name": "python",
   "nbconvert_exporter": "python",
   "pygments_lexer": "ipython3",
   "version": "3.7.10"
  }
 },
 "nbformat": 4,
 "nbformat_minor": 5
}
