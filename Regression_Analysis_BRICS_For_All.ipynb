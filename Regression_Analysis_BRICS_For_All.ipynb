{
 "cells": [
  {
   "cell_type": "markdown",
   "id": "c94aee3f",
   "metadata": {},
   "source": [
    "# Supervised Machine Learning Model/Linear Regression for BRICS_US Macro Data"
   ]
  },
  {
   "cell_type": "code",
   "execution_count": 445,
   "id": "62070f02",
   "metadata": {},
   "outputs": [],
   "source": [
    "\n",
    "#https://matplotlib.org/gallery/color/named_colors.html\n",
    "import pandas as pd\n",
    "import matplotlib.pyplot as plt\n",
    "import numpy as np\n",
    "import statsmodels.api as sm\n",
    "import math "
   ]
  },
  {
   "cell_type": "code",
   "execution_count": 446,
   "id": "c868a12b",
   "metadata": {},
   "outputs": [],
   "source": [
    "from sklearn.linear_model import LinearRegression\n",
    "from sklearn.model_selection import train_test_split\n",
    "from sklearn.metrics import mean_squared_error, r2_score, mean_absolute_error\n",
    "\n",
    "%matplotlib inline\n",
    "from sklearn.svm import SVR"
   ]
  },
  {
   "cell_type": "code",
   "execution_count": 447,
   "id": "b79c9450",
   "metadata": {},
   "outputs": [],
   "source": [
    "import statsmodels.api as sm\n",
    "from statsmodels.stats import diagnostic as diag\n",
    "from statsmodels.stats.outliers_influence import variance_inflation_factor"
   ]
  },
  {
   "cell_type": "code",
   "execution_count": 448,
   "id": "776b31d4",
   "metadata": {},
   "outputs": [],
   "source": [
    "from pandas_datareader import wb"
   ]
  },
  {
   "cell_type": "code",
   "execution_count": 449,
   "id": "5bbc1172",
   "metadata": {},
   "outputs": [],
   "source": [
    "import geopandas"
   ]
  },
  {
   "cell_type": "markdown",
   "id": "95337868",
   "metadata": {},
   "source": [
    "# Part I: Regression for India Data"
   ]
  },
  {
   "cell_type": "code",
   "execution_count": 450,
   "id": "f48e6179",
   "metadata": {},
   "outputs": [],
   "source": [
    "worldbank_indicators = [\"NY.GDP.MKTP.KD.ZG\", \"NE.GDI.TOTL.KD.ZG\",\"SL.EMP.TOTL.SP.ZS\",\"TX.QTY.MRCH.XD.WD\",\"SP.POP.GROW\",\"EG.USE.PCAP.KG.OE\"]\n",
    " \n",
    " \n",
    "world_bank = wb.download (indicator =worldbank_indicators, country = [\"IND\"], start = 1995, end =2020)\n",
    "\n",
    "world_bank = world_bank.reset_index(1)                        "
   ]
  },
  {
   "cell_type": "code",
   "execution_count": 451,
   "id": "a768d8c7",
   "metadata": {},
   "outputs": [],
   "source": [
    "world_bank_df = world_bank.rename(columns = {\"NY.GDP.MKTP.KD.ZG\":\"GDP\",\\\n",
    "                                               \"NE.GDI.TOTL.KD.ZG\":\"Gross_Capital_Formation_Growth\",\\\n",
    "                                               \"SL.EMP.TOTL.SP.ZS\":\"Employment_Population_Ratio\",\\\n",
    "                                            \"TX.QTY.MRCH.XD.WD\":\"Exports\",\\\n",
    "                                            \"SP.POP.GROW\":\"Population_Growth\",\\\n",
    "                                            \"EG.USE.PCAP.KG.OE\":\"Energy_Use\"})"
   ]
  },
  {
   "cell_type": "code",
   "execution_count": 452,
   "id": "96599923",
   "metadata": {},
   "outputs": [],
   "source": [
    "world_bank_final = world_bank_df.loc[::-1]"
   ]
  },
  {
   "cell_type": "code",
   "execution_count": 453,
   "id": "8c154182",
   "metadata": {},
   "outputs": [
    {
     "data": {
      "text/html": [
       "<div>\n",
       "<style scoped>\n",
       "    .dataframe tbody tr th:only-of-type {\n",
       "        vertical-align: middle;\n",
       "    }\n",
       "\n",
       "    .dataframe tbody tr th {\n",
       "        vertical-align: top;\n",
       "    }\n",
       "\n",
       "    .dataframe thead th {\n",
       "        text-align: right;\n",
       "    }\n",
       "</style>\n",
       "<table border=\"1\" class=\"dataframe\">\n",
       "  <thead>\n",
       "    <tr style=\"text-align: right;\">\n",
       "      <th></th>\n",
       "      <th>year</th>\n",
       "      <th>GDP</th>\n",
       "      <th>Gross_Capital_Formation_Growth</th>\n",
       "      <th>Employment_Population_Ratio</th>\n",
       "      <th>Exports</th>\n",
       "      <th>Population_Growth</th>\n",
       "      <th>Energy_Use</th>\n",
       "    </tr>\n",
       "    <tr>\n",
       "      <th>country</th>\n",
       "      <th></th>\n",
       "      <th></th>\n",
       "      <th></th>\n",
       "      <th></th>\n",
       "      <th></th>\n",
       "      <th></th>\n",
       "      <th></th>\n",
       "    </tr>\n",
       "  </thead>\n",
       "  <tbody>\n",
       "    <tr>\n",
       "      <th>India</th>\n",
       "      <td>1995</td>\n",
       "      <td>7.574492</td>\n",
       "      <td>7.780467</td>\n",
       "      <td>54.91</td>\n",
       "      <td>66.922085</td>\n",
       "      <td>1.918941</td>\n",
       "      <td>385.091857</td>\n",
       "    </tr>\n",
       "    <tr>\n",
       "      <th>India</th>\n",
       "      <td>1996</td>\n",
       "      <td>7.549522</td>\n",
       "      <td>0.909082</td>\n",
       "      <td>54.77</td>\n",
       "      <td>75.840974</td>\n",
       "      <td>1.895220</td>\n",
       "      <td>389.426516</td>\n",
       "    </tr>\n",
       "    <tr>\n",
       "      <th>India</th>\n",
       "      <td>1997</td>\n",
       "      <td>4.049821</td>\n",
       "      <td>14.880201</td>\n",
       "      <td>54.63</td>\n",
       "      <td>70.603934</td>\n",
       "      <td>1.869172</td>\n",
       "      <td>397.378186</td>\n",
       "    </tr>\n",
       "    <tr>\n",
       "      <th>India</th>\n",
       "      <td>1998</td>\n",
       "      <td>6.184416</td>\n",
       "      <td>3.779184</td>\n",
       "      <td>54.49</td>\n",
       "      <td>73.737727</td>\n",
       "      <td>1.839659</td>\n",
       "      <td>399.498829</td>\n",
       "    </tr>\n",
       "    <tr>\n",
       "      <th>India</th>\n",
       "      <td>1999</td>\n",
       "      <td>8.845756</td>\n",
       "      <td>17.634883</td>\n",
       "      <td>54.34</td>\n",
       "      <td>83.327389</td>\n",
       "      <td>1.805560</td>\n",
       "      <td>414.962493</td>\n",
       "    </tr>\n",
       "  </tbody>\n",
       "</table>\n",
       "</div>"
      ],
      "text/plain": [
       "         year       GDP  Gross_Capital_Formation_Growth  \\\n",
       "country                                                   \n",
       "India    1995  7.574492                        7.780467   \n",
       "India    1996  7.549522                        0.909082   \n",
       "India    1997  4.049821                       14.880201   \n",
       "India    1998  6.184416                        3.779184   \n",
       "India    1999  8.845756                       17.634883   \n",
       "\n",
       "         Employment_Population_Ratio    Exports  Population_Growth  Energy_Use  \n",
       "country                                                                         \n",
       "India                          54.91  66.922085           1.918941  385.091857  \n",
       "India                          54.77  75.840974           1.895220  389.426516  \n",
       "India                          54.63  70.603934           1.869172  397.378186  \n",
       "India                          54.49  73.737727           1.839659  399.498829  \n",
       "India                          54.34  83.327389           1.805560  414.962493  "
      ]
     },
     "execution_count": 453,
     "metadata": {},
     "output_type": "execute_result"
    }
   ],
   "source": [
    "world_bank_final.head()"
   ]
  },
  {
   "cell_type": "code",
   "execution_count": 454,
   "id": "1c9c1c1a",
   "metadata": {},
   "outputs": [],
   "source": [
    "world_bank_final1 = world_bank_final.fillna({\n",
    "    'Exports' : 500,\n",
    "    'Energy_Use': 700})"
   ]
  },
  {
   "cell_type": "code",
   "execution_count": 455,
   "id": "1ba0ac29",
   "metadata": {},
   "outputs": [],
   "source": [
    "world_bank_final1.to_excel('India.xlsx', index = False)"
   ]
  },
  {
   "cell_type": "code",
   "execution_count": 456,
   "id": "7b0c3c7e",
   "metadata": {},
   "outputs": [
    {
     "data": {
      "text/html": [
       "<div>\n",
       "<style scoped>\n",
       "    .dataframe tbody tr th:only-of-type {\n",
       "        vertical-align: middle;\n",
       "    }\n",
       "\n",
       "    .dataframe tbody tr th {\n",
       "        vertical-align: top;\n",
       "    }\n",
       "\n",
       "    .dataframe thead th {\n",
       "        text-align: right;\n",
       "    }\n",
       "</style>\n",
       "<table border=\"1\" class=\"dataframe\">\n",
       "  <thead>\n",
       "    <tr style=\"text-align: right;\">\n",
       "      <th></th>\n",
       "      <th>GDP</th>\n",
       "      <th>Gross_Capital_Formation_Growth</th>\n",
       "      <th>Employment_Population_Ratio</th>\n",
       "      <th>Exports</th>\n",
       "      <th>Population_Growth</th>\n",
       "      <th>Energy_Use</th>\n",
       "    </tr>\n",
       "  </thead>\n",
       "  <tbody>\n",
       "    <tr>\n",
       "      <th>count</th>\n",
       "      <td>26.000000</td>\n",
       "      <td>26.000000</td>\n",
       "      <td>26.000000</td>\n",
       "      <td>26.000000</td>\n",
       "      <td>26.000000</td>\n",
       "      <td>26.000000</td>\n",
       "    </tr>\n",
       "    <tr>\n",
       "      <th>mean</th>\n",
       "      <td>6.015853</td>\n",
       "      <td>7.858675</td>\n",
       "      <td>51.551923</td>\n",
       "      <td>265.855571</td>\n",
       "      <td>1.453925</td>\n",
       "      <td>528.203348</td>\n",
       "    </tr>\n",
       "    <tr>\n",
       "      <th>std</th>\n",
       "      <td>3.201107</td>\n",
       "      <td>8.948630</td>\n",
       "      <td>3.465178</td>\n",
       "      <td>156.988108</td>\n",
       "      <td>0.310959</td>\n",
       "      <td>119.585799</td>\n",
       "    </tr>\n",
       "    <tr>\n",
       "      <th>min</th>\n",
       "      <td>-7.251755</td>\n",
       "      <td>-10.107401</td>\n",
       "      <td>43.000000</td>\n",
       "      <td>66.922085</td>\n",
       "      <td>0.989414</td>\n",
       "      <td>385.091857</td>\n",
       "    </tr>\n",
       "    <tr>\n",
       "      <th>25%</th>\n",
       "      <td>4.928303</td>\n",
       "      <td>3.700722</td>\n",
       "      <td>48.630000</td>\n",
       "      <td>113.007412</td>\n",
       "      <td>1.154981</td>\n",
       "      <td>418.283314</td>\n",
       "    </tr>\n",
       "    <tr>\n",
       "      <th>50%</th>\n",
       "      <td>7.102806</td>\n",
       "      <td>7.627011</td>\n",
       "      <td>53.100000</td>\n",
       "      <td>254.211635</td>\n",
       "      <td>1.487056</td>\n",
       "      <td>493.329632</td>\n",
       "    </tr>\n",
       "    <tr>\n",
       "      <th>75%</th>\n",
       "      <td>7.907675</td>\n",
       "      <td>14.679947</td>\n",
       "      <td>54.475000</td>\n",
       "      <td>419.327275</td>\n",
       "      <td>1.718967</td>\n",
       "      <td>628.877385</td>\n",
       "    </tr>\n",
       "    <tr>\n",
       "      <th>max</th>\n",
       "      <td>8.845756</td>\n",
       "      <td>29.772987</td>\n",
       "      <td>54.910000</td>\n",
       "      <td>500.000000</td>\n",
       "      <td>1.918941</td>\n",
       "      <td>700.000000</td>\n",
       "    </tr>\n",
       "  </tbody>\n",
       "</table>\n",
       "</div>"
      ],
      "text/plain": [
       "             GDP  Gross_Capital_Formation_Growth  Employment_Population_Ratio  \\\n",
       "count  26.000000                       26.000000                    26.000000   \n",
       "mean    6.015853                        7.858675                    51.551923   \n",
       "std     3.201107                        8.948630                     3.465178   \n",
       "min    -7.251755                      -10.107401                    43.000000   \n",
       "25%     4.928303                        3.700722                    48.630000   \n",
       "50%     7.102806                        7.627011                    53.100000   \n",
       "75%     7.907675                       14.679947                    54.475000   \n",
       "max     8.845756                       29.772987                    54.910000   \n",
       "\n",
       "          Exports  Population_Growth  Energy_Use  \n",
       "count   26.000000          26.000000   26.000000  \n",
       "mean   265.855571           1.453925  528.203348  \n",
       "std    156.988108           0.310959  119.585799  \n",
       "min     66.922085           0.989414  385.091857  \n",
       "25%    113.007412           1.154981  418.283314  \n",
       "50%    254.211635           1.487056  493.329632  \n",
       "75%    419.327275           1.718967  628.877385  \n",
       "max    500.000000           1.918941  700.000000  "
      ]
     },
     "execution_count": 456,
     "metadata": {},
     "output_type": "execute_result"
    }
   ],
   "source": [
    "world_bank_final1.describe()"
   ]
  },
  {
   "cell_type": "code",
   "execution_count": 457,
   "id": "a0e69cd3",
   "metadata": {},
   "outputs": [],
   "source": [
    "X = world_bank_final1.drop(\"GDP\", axis = 1)\n",
    "Y = world_bank_final1[['GDP']]\n"
   ]
  },
  {
   "cell_type": "code",
   "execution_count": 458,
   "id": "7fe2aaa4",
   "metadata": {},
   "outputs": [
    {
     "data": {
      "text/plain": [
       "(26, 1)"
      ]
     },
     "execution_count": 458,
     "metadata": {},
     "output_type": "execute_result"
    }
   ],
   "source": [
    "Y.shape\n"
   ]
  },
  {
   "cell_type": "code",
   "execution_count": 459,
   "id": "ae395edb",
   "metadata": {},
   "outputs": [],
   "source": [
    "# Split X and y into X_\n",
    "#X_train, X_test, y_train, y_test = train_test_split(X, Y)\n"
   ]
  },
  {
   "cell_type": "code",
   "execution_count": 460,
   "id": "b029ef76",
   "metadata": {},
   "outputs": [
    {
     "data": {
      "text/plain": [
       "(26, 6)"
      ]
     },
     "execution_count": 460,
     "metadata": {},
     "output_type": "execute_result"
    }
   ],
   "source": [
    "X.shape"
   ]
  },
  {
   "cell_type": "code",
   "execution_count": 461,
   "id": "0b6538cc",
   "metadata": {},
   "outputs": [],
   "source": [
    "X_train = X[:20].values\n",
    "X_test = X[20:].values\n",
    "y_train = Y[:20].values\n",
    "y_test = Y[20:].values"
   ]
  },
  {
   "cell_type": "code",
   "execution_count": 462,
   "id": "4468354a",
   "metadata": {},
   "outputs": [
    {
     "data": {
      "text/plain": [
       "array([['2015', 4.72952352097509, 48.08, 422.4718463, 1.11689591278599,\n",
       "        700.0],\n",
       "       ['2016', 3.67456808127109, 47.64, 434.3545807, 1.09045932094686,\n",
       "        700.0],\n",
       "       ['2017', 10.8362897885911, 47.21, 461.2043143, 1.06335942989132,\n",
       "        700.0],\n",
       "       ['2018', 9.74553265704785, 46.79, 477.8606632, 1.03782784787162,\n",
       "        700.0],\n",
       "       ['2019', 2.28274228197319, 46.74, 491.4029668, 1.01326124930492,\n",
       "        700.0],\n",
       "       ['2020', -10.1074012471816, 43.0, 500.0, 0.989413800188014, 700.0]],\n",
       "      dtype=object)"
      ]
     },
     "execution_count": 462,
     "metadata": {},
     "output_type": "execute_result"
    }
   ],
   "source": [
    "X_test"
   ]
  },
  {
   "cell_type": "code",
   "execution_count": 463,
   "id": "ab24eb25",
   "metadata": {},
   "outputs": [
    {
     "data": {
      "text/plain": [
       "array([[ 7.99625379],\n",
       "       [ 8.2563055 ],\n",
       "       [ 6.79538342],\n",
       "       [ 6.53298901],\n",
       "       [ 4.04155419],\n",
       "       [-7.25175478]])"
      ]
     },
     "execution_count": 463,
     "metadata": {},
     "output_type": "execute_result"
    }
   ],
   "source": [
    "y_test"
   ]
  },
  {
   "cell_type": "code",
   "execution_count": 464,
   "id": "6ad8f825",
   "metadata": {},
   "outputs": [],
   "source": [
    "# create a Linear Regression model object\n",
    "regression_model_India = LinearRegression()\n"
   ]
  },
  {
   "cell_type": "code",
   "execution_count": 465,
   "id": "da3d031d",
   "metadata": {},
   "outputs": [
    {
     "data": {
      "text/plain": [
       "array([['2015', 4.72952352097509, 48.08, 422.4718463, 1.11689591278599,\n",
       "        700.0],\n",
       "       ['2016', 3.67456808127109, 47.64, 434.3545807, 1.09045932094686,\n",
       "        700.0],\n",
       "       ['2017', 10.8362897885911, 47.21, 461.2043143, 1.06335942989132,\n",
       "        700.0],\n",
       "       ['2018', 9.74553265704785, 46.79, 477.8606632, 1.03782784787162,\n",
       "        700.0],\n",
       "       ['2019', 2.28274228197319, 46.74, 491.4029668, 1.01326124930492,\n",
       "        700.0],\n",
       "       ['2020', -10.1074012471816, 43.0, 500.0, 0.989413800188014, 700.0]],\n",
       "      dtype=object)"
      ]
     },
     "execution_count": 465,
     "metadata": {},
     "output_type": "execute_result"
    }
   ],
   "source": [
    "X_test"
   ]
  },
  {
   "cell_type": "code",
   "execution_count": 466,
   "id": "b6571ff7",
   "metadata": {},
   "outputs": [
    {
     "data": {
      "text/plain": [
       "LinearRegression()"
      ]
     },
     "execution_count": 466,
     "metadata": {},
     "output_type": "execute_result"
    }
   ],
   "source": [
    "# pass through the X_train & y_train data set\n",
    "regression_model_India.fit(X_train, y_train)"
   ]
  },
  {
   "cell_type": "code",
   "execution_count": 467,
   "id": "0bbe08cd",
   "metadata": {},
   "outputs": [],
   "source": [
    "# let's grab the coefficient of our model and the intercept\n",
    "intercept = regression_model_India.intercept_[0]\n",
    "coefficent = regression_model_India.coef_[0][0]"
   ]
  },
  {
   "cell_type": "code",
   "execution_count": 469,
   "id": "6e0dcb1c",
   "metadata": {},
   "outputs": [
    {
     "name": "stdout",
     "output_type": "stream",
     "text": [
      "The intercept for our model is 3.089e+03\n",
      "----------------------------------------------------------------------------------------------------\n"
     ]
    }
   ],
   "source": [
    "print(\"The intercept for our model is {:.4}\".format(intercept))\n",
    "print('-'*100)"
   ]
  },
  {
   "cell_type": "code",
   "execution_count": 470,
   "id": "74105839",
   "metadata": {},
   "outputs": [
    {
     "name": "stdout",
     "output_type": "stream",
     "text": [
      "The Coefficient for year is -1.6\n",
      "The Coefficient for Gross_Capital_Formation_Growth is 0.097\n",
      "The Coefficient for Employment_Population_Ratio is 2.1\n",
      "The Coefficient for Exports is -0.0078\n",
      "The Coefficient for Population_Growth is -3.4e+01\n",
      "The Coefficient for Energy_Use is 0.079\n"
     ]
    }
   ],
   "source": [
    "# loop through the dictionary and print the data\n",
    "for coef in zip(X.columns, regression_model_India.coef_[0]):\n",
    "    print(\"The Coefficient for {} is {:.2}\".format(coef[0],coef[1]))"
   ]
  },
  {
   "cell_type": "code",
   "execution_count": 471,
   "id": "a6d5c911",
   "metadata": {},
   "outputs": [
    {
     "data": {
      "text/plain": [
       "array([[10.52030294],\n",
       "       [ 8.71753345],\n",
       "       [ 7.63974891],\n",
       "       [ 5.80725507],\n",
       "       [ 4.11811312]])"
      ]
     },
     "execution_count": 471,
     "metadata": {},
     "output_type": "execute_result"
    }
   ],
   "source": [
    "# Get multiple predictions\n",
    "y_predict = regression_model_India.predict(X_test)\n",
    "\n",
    "# Show the first 5 predictions\n",
    "y_predict[:5]"
   ]
  },
  {
   "cell_type": "code",
   "execution_count": 472,
   "id": "b3f6f442",
   "metadata": {},
   "outputs": [
    {
     "name": "stdout",
     "output_type": "stream",
     "text": [
      "MSE 1.69\n",
      "MAE 1.03\n",
      "RMSE 1.3\n"
     ]
    }
   ],
   "source": [
    "import math\n",
    "# calculate the mean squared error\n",
    "model_mse = mean_squared_error(y_test, y_predict)\n",
    "\n",
    "# calculate the mean absolute error\n",
    "model_mae = mean_absolute_error(y_test, y_predict)\n",
    "\n",
    "# calulcate the root mean squared error\n",
    "model_rmse =  math.sqrt(model_mse)\n",
    "\n",
    "# display the output\n",
    "print(\"MSE {:.3}\".format(model_mse))\n",
    "print(\"MAE {:.3}\".format(model_mae))\n",
    "print(\"RMSE {:.3}\".format(model_rmse))"
   ]
  },
  {
   "cell_type": "code",
   "execution_count": 473,
   "id": "7c6e147e",
   "metadata": {},
   "outputs": [
    {
     "data": {
      "text/plain": [
       "array([[ 7.99625379],\n",
       "       [ 8.2563055 ],\n",
       "       [ 6.79538342],\n",
       "       [ 6.53298901],\n",
       "       [ 4.04155419],\n",
       "       [-7.25175478]])"
      ]
     },
     "execution_count": 473,
     "metadata": {},
     "output_type": "execute_result"
    }
   ],
   "source": [
    "y_test"
   ]
  },
  {
   "cell_type": "code",
   "execution_count": 474,
   "id": "8916121c",
   "metadata": {},
   "outputs": [
    {
     "data": {
      "text/plain": [
       "array([[10.52030294],\n",
       "       [ 8.71753345],\n",
       "       [ 7.63974891],\n",
       "       [ 5.80725507],\n",
       "       [ 4.11811312],\n",
       "       [-5.72521592]])"
      ]
     },
     "execution_count": 474,
     "metadata": {},
     "output_type": "execute_result"
    }
   ],
   "source": [
    "y_predict"
   ]
  },
  {
   "cell_type": "code",
   "execution_count": 475,
   "id": "c32474f7",
   "metadata": {},
   "outputs": [
    {
     "data": {
      "text/plain": [
       "0.5292128090093442"
      ]
     },
     "execution_count": 475,
     "metadata": {},
     "output_type": "execute_result"
    }
   ],
   "source": [
    "regression_model_India.score(X_train, y_train)"
   ]
  },
  {
   "cell_type": "code",
   "execution_count": 476,
   "id": "3ad45e4a",
   "metadata": {},
   "outputs": [
    {
     "data": {
      "text/plain": [
       "0.9416071747965893"
      ]
     },
     "execution_count": 476,
     "metadata": {},
     "output_type": "execute_result"
    }
   ],
   "source": [
    "r2_score_India = r2_score(y_test, y_predict)\n",
    "r2_score_India"
   ]
  },
  {
   "cell_type": "markdown",
   "id": "037b2de1",
   "metadata": {},
   "source": [
    "# Regression for USA Data"
   ]
  },
  {
   "cell_type": "code",
   "execution_count": 477,
   "id": "52a503c5",
   "metadata": {},
   "outputs": [],
   "source": [
    "worldbank_indicators = [\"NY.GDP.MKTP.KD.ZG\", \"NE.GDI.TOTL.KD.ZG\",\"SL.EMP.TOTL.SP.ZS\",\"TX.QTY.MRCH.XD.WD\",\"SP.POP.GROW\",\"EG.USE.PCAP.KG.OE\"]\n",
    " \n",
    " \n",
    "world_bank = wb.download (indicator =worldbank_indicators, country = [\"USA\"], start = 1995, end =2020)\n",
    "\n",
    "world_bank = world_bank.reset_index(1)          "
   ]
  },
  {
   "cell_type": "code",
   "execution_count": 478,
   "id": "e45639b4",
   "metadata": {},
   "outputs": [],
   "source": [
    "world_bank_df = world_bank.rename(columns = {\"NY.GDP.MKTP.KD.ZG\":\"GDP\",\\\n",
    "                                               \"NE.GDI.TOTL.KD.ZG\":\"Gross_Capital_Formation_Growth\",\\\n",
    "                                               \"SL.EMP.TOTL.SP.ZS\":\"Employment_Population_Ratio\",\\\n",
    "                                            \"TX.QTY.MRCH.XD.WD\":\"Exports\",\\\n",
    "                                            \"SP.POP.GROW\":\"Population_Growth\",\\\n",
    "                                            \"EG.USE.PCAP.KG.OE\":\"Energy_Use\"})"
   ]
  },
  {
   "cell_type": "code",
   "execution_count": 479,
   "id": "ed24b931",
   "metadata": {},
   "outputs": [],
   "source": [
    "world_bank_final = world_bank_df.loc[::-1]"
   ]
  },
  {
   "cell_type": "code",
   "execution_count": 480,
   "id": "69ab9d8b",
   "metadata": {},
   "outputs": [
    {
     "data": {
      "text/html": [
       "<div>\n",
       "<style scoped>\n",
       "    .dataframe tbody tr th:only-of-type {\n",
       "        vertical-align: middle;\n",
       "    }\n",
       "\n",
       "    .dataframe tbody tr th {\n",
       "        vertical-align: top;\n",
       "    }\n",
       "\n",
       "    .dataframe thead th {\n",
       "        text-align: right;\n",
       "    }\n",
       "</style>\n",
       "<table border=\"1\" class=\"dataframe\">\n",
       "  <thead>\n",
       "    <tr style=\"text-align: right;\">\n",
       "      <th></th>\n",
       "      <th>year</th>\n",
       "      <th>GDP</th>\n",
       "      <th>Gross_Capital_Formation_Growth</th>\n",
       "      <th>Employment_Population_Ratio</th>\n",
       "      <th>Exports</th>\n",
       "      <th>Population_Growth</th>\n",
       "      <th>Energy_Use</th>\n",
       "    </tr>\n",
       "    <tr>\n",
       "      <th>country</th>\n",
       "      <th></th>\n",
       "      <th></th>\n",
       "      <th></th>\n",
       "      <th></th>\n",
       "      <th></th>\n",
       "      <th></th>\n",
       "      <th></th>\n",
       "    </tr>\n",
       "  </thead>\n",
       "  <tbody>\n",
       "    <tr>\n",
       "      <th>United States</th>\n",
       "      <td>1995</td>\n",
       "      <td>2.684217</td>\n",
       "      <td>2.864561</td>\n",
       "      <td>62.11</td>\n",
       "      <td>69.331525</td>\n",
       "      <td>1.190787</td>\n",
       "      <td>7763.755106</td>\n",
       "    </tr>\n",
       "    <tr>\n",
       "      <th>United States</th>\n",
       "      <td>1996</td>\n",
       "      <td>3.772566</td>\n",
       "      <td>7.591728</td>\n",
       "      <td>62.40</td>\n",
       "      <td>73.153759</td>\n",
       "      <td>1.163412</td>\n",
       "      <td>7844.468266</td>\n",
       "    </tr>\n",
       "    <tr>\n",
       "      <th>United States</th>\n",
       "      <td>1997</td>\n",
       "      <td>4.381775</td>\n",
       "      <td>9.481793</td>\n",
       "      <td>63.01</td>\n",
       "      <td>80.106290</td>\n",
       "      <td>1.203960</td>\n",
       "      <td>7828.581096</td>\n",
       "    </tr>\n",
       "    <tr>\n",
       "      <th>United States</th>\n",
       "      <td>1998</td>\n",
       "      <td>4.481408</td>\n",
       "      <td>8.660396</td>\n",
       "      <td>63.31</td>\n",
       "      <td>84.165066</td>\n",
       "      <td>1.165715</td>\n",
       "      <td>7803.697605</td>\n",
       "    </tr>\n",
       "    <tr>\n",
       "      <th>United States</th>\n",
       "      <td>1999</td>\n",
       "      <td>4.753236</td>\n",
       "      <td>7.951288</td>\n",
       "      <td>63.56</td>\n",
       "      <td>87.531198</td>\n",
       "      <td>1.148340</td>\n",
       "      <td>7923.223893</td>\n",
       "    </tr>\n",
       "  </tbody>\n",
       "</table>\n",
       "</div>"
      ],
      "text/plain": [
       "               year       GDP  Gross_Capital_Formation_Growth  \\\n",
       "country                                                         \n",
       "United States  1995  2.684217                        2.864561   \n",
       "United States  1996  3.772566                        7.591728   \n",
       "United States  1997  4.381775                        9.481793   \n",
       "United States  1998  4.481408                        8.660396   \n",
       "United States  1999  4.753236                        7.951288   \n",
       "\n",
       "               Employment_Population_Ratio    Exports  Population_Growth  \\\n",
       "country                                                                    \n",
       "United States                        62.11  69.331525           1.190787   \n",
       "United States                        62.40  73.153759           1.163412   \n",
       "United States                        63.01  80.106290           1.203960   \n",
       "United States                        63.31  84.165066           1.165715   \n",
       "United States                        63.56  87.531198           1.148340   \n",
       "\n",
       "                Energy_Use  \n",
       "country                     \n",
       "United States  7763.755106  \n",
       "United States  7844.468266  \n",
       "United States  7828.581096  \n",
       "United States  7803.697605  \n",
       "United States  7923.223893  "
      ]
     },
     "execution_count": 480,
     "metadata": {},
     "output_type": "execute_result"
    }
   ],
   "source": [
    "world_bank_final.head()"
   ]
  },
  {
   "cell_type": "code",
   "execution_count": 481,
   "id": "6c9bbeaf",
   "metadata": {},
   "outputs": [
    {
     "data": {
      "text/html": [
       "<div>\n",
       "<style scoped>\n",
       "    .dataframe tbody tr th:only-of-type {\n",
       "        vertical-align: middle;\n",
       "    }\n",
       "\n",
       "    .dataframe tbody tr th {\n",
       "        vertical-align: top;\n",
       "    }\n",
       "\n",
       "    .dataframe thead th {\n",
       "        text-align: right;\n",
       "    }\n",
       "</style>\n",
       "<table border=\"1\" class=\"dataframe\">\n",
       "  <thead>\n",
       "    <tr style=\"text-align: right;\">\n",
       "      <th></th>\n",
       "      <th>year</th>\n",
       "      <th>GDP</th>\n",
       "      <th>Gross_Capital_Formation_Growth</th>\n",
       "      <th>Employment_Population_Ratio</th>\n",
       "      <th>Exports</th>\n",
       "      <th>Population_Growth</th>\n",
       "      <th>Energy_Use</th>\n",
       "    </tr>\n",
       "    <tr>\n",
       "      <th>country</th>\n",
       "      <th></th>\n",
       "      <th></th>\n",
       "      <th></th>\n",
       "      <th></th>\n",
       "      <th></th>\n",
       "      <th></th>\n",
       "      <th></th>\n",
       "    </tr>\n",
       "  </thead>\n",
       "  <tbody>\n",
       "    <tr>\n",
       "      <th>United States</th>\n",
       "      <td>1995</td>\n",
       "      <td>2.684217</td>\n",
       "      <td>2.864561</td>\n",
       "      <td>62.11</td>\n",
       "      <td>69.331525</td>\n",
       "      <td>1.190787</td>\n",
       "      <td>7763.755106</td>\n",
       "    </tr>\n",
       "    <tr>\n",
       "      <th>United States</th>\n",
       "      <td>1996</td>\n",
       "      <td>3.772566</td>\n",
       "      <td>7.591728</td>\n",
       "      <td>62.40</td>\n",
       "      <td>73.153759</td>\n",
       "      <td>1.163412</td>\n",
       "      <td>7844.468266</td>\n",
       "    </tr>\n",
       "    <tr>\n",
       "      <th>United States</th>\n",
       "      <td>1997</td>\n",
       "      <td>4.381775</td>\n",
       "      <td>9.481793</td>\n",
       "      <td>63.01</td>\n",
       "      <td>80.106290</td>\n",
       "      <td>1.203960</td>\n",
       "      <td>7828.581096</td>\n",
       "    </tr>\n",
       "    <tr>\n",
       "      <th>United States</th>\n",
       "      <td>1998</td>\n",
       "      <td>4.481408</td>\n",
       "      <td>8.660396</td>\n",
       "      <td>63.31</td>\n",
       "      <td>84.165066</td>\n",
       "      <td>1.165715</td>\n",
       "      <td>7803.697605</td>\n",
       "    </tr>\n",
       "    <tr>\n",
       "      <th>United States</th>\n",
       "      <td>1999</td>\n",
       "      <td>4.753236</td>\n",
       "      <td>7.951288</td>\n",
       "      <td>63.56</td>\n",
       "      <td>87.531198</td>\n",
       "      <td>1.148340</td>\n",
       "      <td>7923.223893</td>\n",
       "    </tr>\n",
       "  </tbody>\n",
       "</table>\n",
       "</div>"
      ],
      "text/plain": [
       "               year       GDP  Gross_Capital_Formation_Growth  \\\n",
       "country                                                         \n",
       "United States  1995  2.684217                        2.864561   \n",
       "United States  1996  3.772566                        7.591728   \n",
       "United States  1997  4.381775                        9.481793   \n",
       "United States  1998  4.481408                        8.660396   \n",
       "United States  1999  4.753236                        7.951288   \n",
       "\n",
       "               Employment_Population_Ratio    Exports  Population_Growth  \\\n",
       "country                                                                    \n",
       "United States                        62.11  69.331525           1.190787   \n",
       "United States                        62.40  73.153759           1.163412   \n",
       "United States                        63.01  80.106290           1.203960   \n",
       "United States                        63.31  84.165066           1.165715   \n",
       "United States                        63.56  87.531198           1.148340   \n",
       "\n",
       "                Energy_Use  \n",
       "country                     \n",
       "United States  7763.755106  \n",
       "United States  7844.468266  \n",
       "United States  7828.581096  \n",
       "United States  7803.697605  \n",
       "United States  7923.223893  "
      ]
     },
     "execution_count": 481,
     "metadata": {},
     "output_type": "execute_result"
    }
   ],
   "source": [
    "world_bank_final1 = world_bank_final.fillna({\n",
    "    \"Gross_Capital_Formation_Growth\":12.0, \n",
    "    'Exports' :160.0,\n",
    "    'Energy_Use': 6800.0})\n",
    "world_bank_final1.head()"
   ]
  },
  {
   "cell_type": "code",
   "execution_count": 482,
   "id": "eed39751",
   "metadata": {},
   "outputs": [],
   "source": [
    "world_bank_final1.to_excel('USA.xlsx', index = False)"
   ]
  },
  {
   "cell_type": "code",
   "execution_count": 483,
   "id": "ef828e47",
   "metadata": {},
   "outputs": [
    {
     "data": {
      "text/html": [
       "<div>\n",
       "<style scoped>\n",
       "    .dataframe tbody tr th:only-of-type {\n",
       "        vertical-align: middle;\n",
       "    }\n",
       "\n",
       "    .dataframe tbody tr th {\n",
       "        vertical-align: top;\n",
       "    }\n",
       "\n",
       "    .dataframe thead th {\n",
       "        text-align: right;\n",
       "    }\n",
       "</style>\n",
       "<table border=\"1\" class=\"dataframe\">\n",
       "  <thead>\n",
       "    <tr style=\"text-align: right;\">\n",
       "      <th></th>\n",
       "      <th>GDP</th>\n",
       "      <th>Gross_Capital_Formation_Growth</th>\n",
       "      <th>Employment_Population_Ratio</th>\n",
       "      <th>Exports</th>\n",
       "      <th>Population_Growth</th>\n",
       "      <th>Energy_Use</th>\n",
       "    </tr>\n",
       "  </thead>\n",
       "  <tbody>\n",
       "    <tr>\n",
       "      <th>count</th>\n",
       "      <td>26.000000</td>\n",
       "      <td>26.000000</td>\n",
       "      <td>26.000000</td>\n",
       "      <td>26.000000</td>\n",
       "      <td>26.000000</td>\n",
       "      <td>26.000000</td>\n",
       "    </tr>\n",
       "    <tr>\n",
       "      <th>mean</th>\n",
       "      <td>2.251511</td>\n",
       "      <td>3.058375</td>\n",
       "      <td>60.544231</td>\n",
       "      <td>121.970683</td>\n",
       "      <td>0.864981</td>\n",
       "      <td>7390.327178</td>\n",
       "    </tr>\n",
       "    <tr>\n",
       "      <th>std</th>\n",
       "      <td>1.941325</td>\n",
       "      <td>5.863005</td>\n",
       "      <td>2.210808</td>\n",
       "      <td>32.303388</td>\n",
       "      <td>0.229266</td>\n",
       "      <td>479.723261</td>\n",
       "    </tr>\n",
       "    <tr>\n",
       "      <th>min</th>\n",
       "      <td>-3.642014</td>\n",
       "      <td>-16.595895</td>\n",
       "      <td>56.310000</td>\n",
       "      <td>69.331525</td>\n",
       "      <td>0.350911</td>\n",
       "      <td>6800.000000</td>\n",
       "    </tr>\n",
       "    <tr>\n",
       "      <th>25%</th>\n",
       "      <td>1.766792</td>\n",
       "      <td>1.070480</td>\n",
       "      <td>58.452500</td>\n",
       "      <td>93.227020</td>\n",
       "      <td>0.728430</td>\n",
       "      <td>6880.420121</td>\n",
       "    </tr>\n",
       "    <tr>\n",
       "      <th>50%</th>\n",
       "      <td>2.544870</td>\n",
       "      <td>4.306470</td>\n",
       "      <td>61.300000</td>\n",
       "      <td>122.504765</td>\n",
       "      <td>0.899182</td>\n",
       "      <td>7592.867228</td>\n",
       "    </tr>\n",
       "    <tr>\n",
       "      <th>75%</th>\n",
       "      <td>3.403789</td>\n",
       "      <td>7.218287</td>\n",
       "      <td>62.132500</td>\n",
       "      <td>154.051194</td>\n",
       "      <td>0.983370</td>\n",
       "      <td>7828.407404</td>\n",
       "    </tr>\n",
       "    <tr>\n",
       "      <th>max</th>\n",
       "      <td>4.753236</td>\n",
       "      <td>10.457543</td>\n",
       "      <td>63.770000</td>\n",
       "      <td>167.697222</td>\n",
       "      <td>1.203960</td>\n",
       "      <td>8056.863850</td>\n",
       "    </tr>\n",
       "  </tbody>\n",
       "</table>\n",
       "</div>"
      ],
      "text/plain": [
       "             GDP  Gross_Capital_Formation_Growth  Employment_Population_Ratio  \\\n",
       "count  26.000000                       26.000000                    26.000000   \n",
       "mean    2.251511                        3.058375                    60.544231   \n",
       "std     1.941325                        5.863005                     2.210808   \n",
       "min    -3.642014                      -16.595895                    56.310000   \n",
       "25%     1.766792                        1.070480                    58.452500   \n",
       "50%     2.544870                        4.306470                    61.300000   \n",
       "75%     3.403789                        7.218287                    62.132500   \n",
       "max     4.753236                       10.457543                    63.770000   \n",
       "\n",
       "          Exports  Population_Growth   Energy_Use  \n",
       "count   26.000000          26.000000    26.000000  \n",
       "mean   121.970683           0.864981  7390.327178  \n",
       "std     32.303388           0.229266   479.723261  \n",
       "min     69.331525           0.350911  6800.000000  \n",
       "25%     93.227020           0.728430  6880.420121  \n",
       "50%    122.504765           0.899182  7592.867228  \n",
       "75%    154.051194           0.983370  7828.407404  \n",
       "max    167.697222           1.203960  8056.863850  "
      ]
     },
     "execution_count": 483,
     "metadata": {},
     "output_type": "execute_result"
    }
   ],
   "source": [
    "world_bank_final1.describe()"
   ]
  },
  {
   "cell_type": "code",
   "execution_count": 484,
   "id": "cdd8ac5c",
   "metadata": {},
   "outputs": [],
   "source": [
    "X = world_bank_final1.drop(\"GDP\", axis = 1)\n",
    "Y = world_bank_final1[['GDP']]\n"
   ]
  },
  {
   "cell_type": "code",
   "execution_count": 485,
   "id": "68eee917",
   "metadata": {},
   "outputs": [],
   "source": [
    "X_train = X[:20].values\n",
    "X_test = X[20:].values\n",
    "y_train = Y[:20].values\n",
    "y_test = Y[20:].values"
   ]
  },
  {
   "cell_type": "code",
   "execution_count": 486,
   "id": "22995797",
   "metadata": {},
   "outputs": [
    {
     "data": {
      "text/plain": [
       "array([['2015', 5.04799124347824, 58.73, 155.0967981, 0.73621730882542,\n",
       "        6803.99660728499],\n",
       "       ['2016', -0.473252554625759, 59.13, 154.7712254,\n",
       "        0.724676067451429, 6800.0],\n",
       "       ['2017', 3.74679542893868, 59.58, 161.0373425, 0.63264399508256,\n",
       "        6800.0],\n",
       "       ['2018', 5.10467700795469, 59.89, 167.6972224, 0.526435395564053,\n",
       "        6800.0],\n",
       "       ['2019', 3.32735318928567, 60.27, 166.9141484, 0.455381285963537,\n",
       "        6800.0],\n",
       "       ['2020', -3.95644835328591, 56.31, 160.0, 0.350911063312921,\n",
       "        6800.0]], dtype=object)"
      ]
     },
     "execution_count": 486,
     "metadata": {},
     "output_type": "execute_result"
    }
   ],
   "source": [
    "X_test"
   ]
  },
  {
   "cell_type": "code",
   "execution_count": 487,
   "id": "34a69824",
   "metadata": {},
   "outputs": [],
   "source": [
    "# create a Linear Regression model object\n",
    "regression_model_USA = LinearRegression()"
   ]
  },
  {
   "cell_type": "code",
   "execution_count": 488,
   "id": "ac04410c",
   "metadata": {},
   "outputs": [
    {
     "data": {
      "text/plain": [
       "LinearRegression()"
      ]
     },
     "execution_count": 488,
     "metadata": {},
     "output_type": "execute_result"
    }
   ],
   "source": [
    "# pass through the X_train & y_train data set\n",
    "regression_model_USA.fit(X_train, y_train)"
   ]
  },
  {
   "cell_type": "code",
   "execution_count": 489,
   "id": "5d7ca1f0",
   "metadata": {},
   "outputs": [],
   "source": [
    "# let's grab the coefficient of our model and the intercept\n",
    "intercept = regression_model_USA.intercept_[0]\n",
    "coefficent = regression_model_USA.coef_[0][0]"
   ]
  },
  {
   "cell_type": "code",
   "execution_count": 490,
   "id": "2eb9b268",
   "metadata": {},
   "outputs": [
    {
     "name": "stdout",
     "output_type": "stream",
     "text": [
      "The intercept for our model is -420.4\n",
      "----------------------------------------------------------------------------------------------------\n"
     ]
    }
   ],
   "source": [
    "print(\"The intercept for our model is {:.4}\".format(intercept))\n",
    "print('-'*100)"
   ]
  },
  {
   "cell_type": "code",
   "execution_count": 491,
   "id": "0c5d5ac9",
   "metadata": {},
   "outputs": [
    {
     "name": "stdout",
     "output_type": "stream",
     "text": [
      "The Coefficient for year is 0.2\n",
      "The Coefficient for Gross_Capital_Formation_Growth is 0.24\n",
      "The Coefficient for Employment_Population_Ratio is 0.47\n",
      "The Coefficient for Exports is -0.027\n",
      "The Coefficient for Population_Growth is 1.8\n",
      "The Coefficient for Energy_Use is -0.0005\n"
     ]
    }
   ],
   "source": [
    "# loop through the dictionary and print the data\n",
    "for coef in zip(X.columns, regression_model_USA.coef_[0]):\n",
    "    print(\"The Coefficient for {} is {:.2}\".format(coef[0],coef[1]))"
   ]
  },
  {
   "cell_type": "code",
   "execution_count": 492,
   "id": "187d565e",
   "metadata": {},
   "outputs": [
    {
     "data": {
      "text/plain": [
       "array([[2.70940662],\n",
       "       [1.73682139],\n",
       "       [2.84120157],\n",
       "       [3.14515422],\n",
       "       [2.98152012]])"
      ]
     },
     "execution_count": 492,
     "metadata": {},
     "output_type": "execute_result"
    }
   ],
   "source": [
    "# Get multiple predictions\n",
    "y_predict = regression_model_USA.predict(X_test)\n",
    "\n",
    "# Show the first 5 predictions\n",
    "y_predict[:5]"
   ]
  },
  {
   "cell_type": "code",
   "execution_count": 493,
   "id": "09f90fbd",
   "metadata": {},
   "outputs": [
    {
     "name": "stdout",
     "output_type": "stream",
     "text": [
      "MSE 1.88\n",
      "MAE 0.844\n",
      "RMSE 1.37\n"
     ]
    }
   ],
   "source": [
    "import math\n",
    "# calculate the mean squared error\n",
    "model_mse = mean_squared_error(y_test, y_predict)\n",
    "\n",
    "# calculate the mean absolute error\n",
    "model_mae = mean_absolute_error(y_test, y_predict)\n",
    "\n",
    "# calulcate the root mean squared error\n",
    "model_rmse =  math.sqrt(model_mse)\n",
    "\n",
    "# display the output\n",
    "print(\"MSE {:.3}\".format(model_mse))\n",
    "print(\"MAE {:.3}\".format(model_mae))\n",
    "print(\"RMSE {:.3}\".format(model_rmse))"
   ]
  },
  {
   "cell_type": "code",
   "execution_count": 494,
   "id": "ed4d2984",
   "metadata": {},
   "outputs": [
    {
     "data": {
      "text/plain": [
       "0.975923999233812"
      ]
     },
     "execution_count": 494,
     "metadata": {},
     "output_type": "execute_result"
    }
   ],
   "source": [
    "regression_model_USA.score(X_train, y_train)"
   ]
  },
  {
   "cell_type": "code",
   "execution_count": 495,
   "id": "43eaccc6",
   "metadata": {},
   "outputs": [
    {
     "data": {
      "text/plain": [
       "0.6501675179594838"
      ]
     },
     "execution_count": 495,
     "metadata": {},
     "output_type": "execute_result"
    }
   ],
   "source": [
    "r2_score_USA = r2_score(y_test, y_predict)\n",
    "r2_score_USA"
   ]
  },
  {
   "cell_type": "markdown",
   "id": "7721f974",
   "metadata": {},
   "source": [
    "# Regression for China Data"
   ]
  },
  {
   "cell_type": "code",
   "execution_count": 496,
   "id": "29e90819",
   "metadata": {},
   "outputs": [],
   "source": [
    "worldbank_indicators = [\"NY.GDP.MKTP.KD.ZG\", \"NE.GDI.TOTL.KD.ZG\",\"SL.EMP.TOTL.SP.ZS\",\"TX.QTY.MRCH.XD.WD\",\"SP.POP.GROW\",\"EG.USE.PCAP.KG.OE\"] \n",
    " \n",
    "world_bank = wb.download (indicator =worldbank_indicators, country = [\"CHN\"], start = 1995, end =2020)\n",
    "\n",
    "world_bank = world_bank.reset_index(1)        \n",
    "  "
   ]
  },
  {
   "cell_type": "code",
   "execution_count": 499,
   "id": "61277c39",
   "metadata": {},
   "outputs": [],
   "source": [
    "world_bank_df = world_bank.rename(columns = {\"NY.GDP.MKTP.KD.ZG\":\"GDP\",\\\n",
    "                                               \"NE.GDI.TOTL.KD.ZG\":\"Gross_Capital_Formation_Growth\",\\\n",
    "                                               \"SL.EMP.TOTL.SP.ZS\":\"Employment_Population_Ratio\",\\\n",
    "                                            \"TX.QTY.MRCH.XD.WD\":\"Exports\",\\\n",
    "                                            \"SP.POP.GROW\":\"Population_Growth\",\\\n",
    "                                            \"EG.USE.PCAP.KG.OE\":\"Energy_Use\"})"
   ]
  },
  {
   "cell_type": "code",
   "execution_count": 500,
   "id": "9a02432c",
   "metadata": {},
   "outputs": [],
   "source": [
    "world_bank_final = world_bank_df.loc[::-1]"
   ]
  },
  {
   "cell_type": "code",
   "execution_count": 501,
   "id": "b46f1824",
   "metadata": {},
   "outputs": [
    {
     "data": {
      "text/html": [
       "<div>\n",
       "<style scoped>\n",
       "    .dataframe tbody tr th:only-of-type {\n",
       "        vertical-align: middle;\n",
       "    }\n",
       "\n",
       "    .dataframe tbody tr th {\n",
       "        vertical-align: top;\n",
       "    }\n",
       "\n",
       "    .dataframe thead th {\n",
       "        text-align: right;\n",
       "    }\n",
       "</style>\n",
       "<table border=\"1\" class=\"dataframe\">\n",
       "  <thead>\n",
       "    <tr style=\"text-align: right;\">\n",
       "      <th></th>\n",
       "      <th>year</th>\n",
       "      <th>GDP</th>\n",
       "      <th>Gross_Capital_Formation_Growth</th>\n",
       "      <th>Employment_Population_Ratio</th>\n",
       "      <th>Exports</th>\n",
       "      <th>Population_Growth</th>\n",
       "      <th>Energy_Use</th>\n",
       "    </tr>\n",
       "    <tr>\n",
       "      <th>country</th>\n",
       "      <th></th>\n",
       "      <th></th>\n",
       "      <th></th>\n",
       "      <th></th>\n",
       "      <th></th>\n",
       "      <th></th>\n",
       "      <th></th>\n",
       "    </tr>\n",
       "  </thead>\n",
       "  <tbody>\n",
       "    <tr>\n",
       "      <th>China</th>\n",
       "      <td>1995</td>\n",
       "      <td>10.953954</td>\n",
       "      <td>NaN</td>\n",
       "      <td>76.40</td>\n",
       "      <td>56.859363</td>\n",
       "      <td>1.086509</td>\n",
       "      <td>866.834374</td>\n",
       "    </tr>\n",
       "    <tr>\n",
       "      <th>China</th>\n",
       "      <td>1996</td>\n",
       "      <td>9.922557</td>\n",
       "      <td>12.994646</td>\n",
       "      <td>76.15</td>\n",
       "      <td>56.647133</td>\n",
       "      <td>1.048142</td>\n",
       "      <td>881.653737</td>\n",
       "    </tr>\n",
       "    <tr>\n",
       "      <th>China</th>\n",
       "      <td>1997</td>\n",
       "      <td>9.236780</td>\n",
       "      <td>5.048260</td>\n",
       "      <td>75.86</td>\n",
       "      <td>67.917261</td>\n",
       "      <td>1.023450</td>\n",
       "      <td>871.756324</td>\n",
       "    </tr>\n",
       "    <tr>\n",
       "      <th>China</th>\n",
       "      <td>1998</td>\n",
       "      <td>7.845952</td>\n",
       "      <td>8.518410</td>\n",
       "      <td>75.60</td>\n",
       "      <td>70.884441</td>\n",
       "      <td>0.959550</td>\n",
       "      <td>869.358607</td>\n",
       "    </tr>\n",
       "    <tr>\n",
       "      <th>China</th>\n",
       "      <td>1999</td>\n",
       "      <td>7.661652</td>\n",
       "      <td>6.326913</td>\n",
       "      <td>75.20</td>\n",
       "      <td>77.447298</td>\n",
       "      <td>0.865851</td>\n",
       "      <td>878.524536</td>\n",
       "    </tr>\n",
       "  </tbody>\n",
       "</table>\n",
       "</div>"
      ],
      "text/plain": [
       "         year        GDP  Gross_Capital_Formation_Growth  \\\n",
       "country                                                    \n",
       "China    1995  10.953954                             NaN   \n",
       "China    1996   9.922557                       12.994646   \n",
       "China    1997   9.236780                        5.048260   \n",
       "China    1998   7.845952                        8.518410   \n",
       "China    1999   7.661652                        6.326913   \n",
       "\n",
       "         Employment_Population_Ratio    Exports  Population_Growth  Energy_Use  \n",
       "country                                                                         \n",
       "China                          76.40  56.859363           1.086509  866.834374  \n",
       "China                          76.15  56.647133           1.048142  881.653737  \n",
       "China                          75.86  67.917261           1.023450  871.756324  \n",
       "China                          75.60  70.884441           0.959550  869.358607  \n",
       "China                          75.20  77.447298           0.865851  878.524536  "
      ]
     },
     "execution_count": 501,
     "metadata": {},
     "output_type": "execute_result"
    }
   ],
   "source": [
    "world_bank_final.head()"
   ]
  },
  {
   "cell_type": "code",
   "execution_count": 502,
   "id": "6c160a72",
   "metadata": {},
   "outputs": [
    {
     "data": {
      "text/html": [
       "<div>\n",
       "<style scoped>\n",
       "    .dataframe tbody tr th:only-of-type {\n",
       "        vertical-align: middle;\n",
       "    }\n",
       "\n",
       "    .dataframe tbody tr th {\n",
       "        vertical-align: top;\n",
       "    }\n",
       "\n",
       "    .dataframe thead th {\n",
       "        text-align: right;\n",
       "    }\n",
       "</style>\n",
       "<table border=\"1\" class=\"dataframe\">\n",
       "  <thead>\n",
       "    <tr style=\"text-align: right;\">\n",
       "      <th></th>\n",
       "      <th>year</th>\n",
       "      <th>GDP</th>\n",
       "      <th>Gross_Capital_Formation_Growth</th>\n",
       "      <th>Employment_Population_Ratio</th>\n",
       "      <th>Exports</th>\n",
       "      <th>Population_Growth</th>\n",
       "      <th>Energy_Use</th>\n",
       "    </tr>\n",
       "    <tr>\n",
       "      <th>country</th>\n",
       "      <th></th>\n",
       "      <th></th>\n",
       "      <th></th>\n",
       "      <th></th>\n",
       "      <th></th>\n",
       "      <th></th>\n",
       "      <th></th>\n",
       "    </tr>\n",
       "  </thead>\n",
       "  <tbody>\n",
       "    <tr>\n",
       "      <th>China</th>\n",
       "      <td>1995</td>\n",
       "      <td>10.953954</td>\n",
       "      <td>8.000000</td>\n",
       "      <td>76.40</td>\n",
       "      <td>56.859363</td>\n",
       "      <td>1.086509</td>\n",
       "      <td>866.834374</td>\n",
       "    </tr>\n",
       "    <tr>\n",
       "      <th>China</th>\n",
       "      <td>1996</td>\n",
       "      <td>9.922557</td>\n",
       "      <td>12.994646</td>\n",
       "      <td>76.15</td>\n",
       "      <td>56.647133</td>\n",
       "      <td>1.048142</td>\n",
       "      <td>881.653737</td>\n",
       "    </tr>\n",
       "    <tr>\n",
       "      <th>China</th>\n",
       "      <td>1997</td>\n",
       "      <td>9.236780</td>\n",
       "      <td>5.048260</td>\n",
       "      <td>75.86</td>\n",
       "      <td>67.917261</td>\n",
       "      <td>1.023450</td>\n",
       "      <td>871.756324</td>\n",
       "    </tr>\n",
       "    <tr>\n",
       "      <th>China</th>\n",
       "      <td>1998</td>\n",
       "      <td>7.845952</td>\n",
       "      <td>8.518410</td>\n",
       "      <td>75.60</td>\n",
       "      <td>70.884441</td>\n",
       "      <td>0.959550</td>\n",
       "      <td>869.358607</td>\n",
       "    </tr>\n",
       "    <tr>\n",
       "      <th>China</th>\n",
       "      <td>1999</td>\n",
       "      <td>7.661652</td>\n",
       "      <td>6.326913</td>\n",
       "      <td>75.20</td>\n",
       "      <td>77.447298</td>\n",
       "      <td>0.865851</td>\n",
       "      <td>878.524536</td>\n",
       "    </tr>\n",
       "  </tbody>\n",
       "</table>\n",
       "</div>"
      ],
      "text/plain": [
       "         year        GDP  Gross_Capital_Formation_Growth  \\\n",
       "country                                                    \n",
       "China    1995  10.953954                        8.000000   \n",
       "China    1996   9.922557                       12.994646   \n",
       "China    1997   9.236780                        5.048260   \n",
       "China    1998   7.845952                        8.518410   \n",
       "China    1999   7.661652                        6.326913   \n",
       "\n",
       "         Employment_Population_Ratio    Exports  Population_Growth  Energy_Use  \n",
       "country                                                                         \n",
       "China                          76.40  56.859363           1.086509  866.834374  \n",
       "China                          76.15  56.647133           1.048142  881.653737  \n",
       "China                          75.86  67.917261           1.023450  871.756324  \n",
       "China                          75.60  70.884441           0.959550  869.358607  \n",
       "China                          75.20  77.447298           0.865851  878.524536  "
      ]
     },
     "execution_count": 502,
     "metadata": {},
     "output_type": "execute_result"
    }
   ],
   "source": [
    "world_bank_final1 = world_bank_final.fillna({\n",
    "    \"Gross_Capital_Formation_Growth\":8.0, \n",
    "    'Exports' :580.0,\n",
    "    'Energy_Use': 2150.0})\n",
    "world_bank_final1.head()"
   ]
  },
  {
   "cell_type": "code",
   "execution_count": 503,
   "id": "f04a0fd2",
   "metadata": {},
   "outputs": [],
   "source": [
    "world_bank_final1.to_excel('China.xlsx', index = False)"
   ]
  },
  {
   "cell_type": "code",
   "execution_count": 504,
   "id": "7a8478e8",
   "metadata": {},
   "outputs": [
    {
     "data": {
      "text/html": [
       "<div>\n",
       "<style scoped>\n",
       "    .dataframe tbody tr th:only-of-type {\n",
       "        vertical-align: middle;\n",
       "    }\n",
       "\n",
       "    .dataframe tbody tr th {\n",
       "        vertical-align: top;\n",
       "    }\n",
       "\n",
       "    .dataframe thead th {\n",
       "        text-align: right;\n",
       "    }\n",
       "</style>\n",
       "<table border=\"1\" class=\"dataframe\">\n",
       "  <thead>\n",
       "    <tr style=\"text-align: right;\">\n",
       "      <th></th>\n",
       "      <th>GDP</th>\n",
       "      <th>Gross_Capital_Formation_Growth</th>\n",
       "      <th>Employment_Population_Ratio</th>\n",
       "      <th>Exports</th>\n",
       "      <th>Population_Growth</th>\n",
       "      <th>Energy_Use</th>\n",
       "    </tr>\n",
       "  </thead>\n",
       "  <tbody>\n",
       "    <tr>\n",
       "      <th>count</th>\n",
       "      <td>26.000000</td>\n",
       "      <td>26.000000</td>\n",
       "      <td>26.000000</td>\n",
       "      <td>26.000000</td>\n",
       "      <td>26.000000</td>\n",
       "      <td>26.000000</td>\n",
       "    </tr>\n",
       "    <tr>\n",
       "      <th>mean</th>\n",
       "      <td>8.779018</td>\n",
       "      <td>10.991079</td>\n",
       "      <td>70.043077</td>\n",
       "      <td>393.719316</td>\n",
       "      <td>0.649056</td>\n",
       "      <td>1579.833913</td>\n",
       "    </tr>\n",
       "    <tr>\n",
       "      <th>std</th>\n",
       "      <td>2.338477</td>\n",
       "      <td>5.806275</td>\n",
       "      <td>3.876595</td>\n",
       "      <td>261.642682</td>\n",
       "      <td>0.208208</td>\n",
       "      <td>551.762447</td>\n",
       "    </tr>\n",
       "    <tr>\n",
       "      <th>min</th>\n",
       "      <td>2.347514</td>\n",
       "      <td>3.560256</td>\n",
       "      <td>63.480000</td>\n",
       "      <td>56.647133</td>\n",
       "      <td>0.225948</td>\n",
       "      <td>866.834374</td>\n",
       "    </tr>\n",
       "    <tr>\n",
       "      <th>25%</th>\n",
       "      <td>7.484736</td>\n",
       "      <td>6.879195</td>\n",
       "      <td>67.137500</td>\n",
       "      <td>116.935203</td>\n",
       "      <td>0.528318</td>\n",
       "      <td>942.811254</td>\n",
       "    </tr>\n",
       "    <tr>\n",
       "      <th>50%</th>\n",
       "      <td>8.811862</td>\n",
       "      <td>8.672674</td>\n",
       "      <td>69.120000</td>\n",
       "      <td>409.024495</td>\n",
       "      <td>0.599589</td>\n",
       "      <td>1651.537574</td>\n",
       "    </tr>\n",
       "    <tr>\n",
       "      <th>75%</th>\n",
       "      <td>10.009162</td>\n",
       "      <td>15.014587</td>\n",
       "      <td>73.472500</td>\n",
       "      <td>634.775003</td>\n",
       "      <td>0.714372</td>\n",
       "      <td>2150.000000</td>\n",
       "    </tr>\n",
       "    <tr>\n",
       "      <th>max</th>\n",
       "      <td>14.230861</td>\n",
       "      <td>23.790644</td>\n",
       "      <td>76.400000</td>\n",
       "      <td>784.492573</td>\n",
       "      <td>1.086509</td>\n",
       "      <td>2224.354898</td>\n",
       "    </tr>\n",
       "  </tbody>\n",
       "</table>\n",
       "</div>"
      ],
      "text/plain": [
       "             GDP  Gross_Capital_Formation_Growth  Employment_Population_Ratio  \\\n",
       "count  26.000000                       26.000000                    26.000000   \n",
       "mean    8.779018                       10.991079                    70.043077   \n",
       "std     2.338477                        5.806275                     3.876595   \n",
       "min     2.347514                        3.560256                    63.480000   \n",
       "25%     7.484736                        6.879195                    67.137500   \n",
       "50%     8.811862                        8.672674                    69.120000   \n",
       "75%    10.009162                       15.014587                    73.472500   \n",
       "max    14.230861                       23.790644                    76.400000   \n",
       "\n",
       "          Exports  Population_Growth   Energy_Use  \n",
       "count   26.000000          26.000000    26.000000  \n",
       "mean   393.719316           0.649056  1579.833913  \n",
       "std    261.642682           0.208208   551.762447  \n",
       "min     56.647133           0.225948   866.834374  \n",
       "25%    116.935203           0.528318   942.811254  \n",
       "50%    409.024495           0.599589  1651.537574  \n",
       "75%    634.775003           0.714372  2150.000000  \n",
       "max    784.492573           1.086509  2224.354898  "
      ]
     },
     "execution_count": 504,
     "metadata": {},
     "output_type": "execute_result"
    }
   ],
   "source": [
    "world_bank_final1.describe()"
   ]
  },
  {
   "cell_type": "code",
   "execution_count": 505,
   "id": "067741ca",
   "metadata": {},
   "outputs": [],
   "source": [
    "X = world_bank_final1.drop(\"GDP\", axis = 1)\n",
    "Y = world_bank_final1[['GDP']]\n"
   ]
  },
  {
   "cell_type": "code",
   "execution_count": 506,
   "id": "217a4712",
   "metadata": {},
   "outputs": [],
   "source": [
    "X_train = X[:20].values\n",
    "X_test = X[20:].values\n",
    "y_train = Y[:20].values\n",
    "y_test = Y[20:].values"
   ]
  },
  {
   "cell_type": "code",
   "execution_count": 507,
   "id": "8c0a111a",
   "metadata": {},
   "outputs": [
    {
     "data": {
      "text/plain": [
       "array([['2015', 3.56025625894819, 66.76, 680.590456, 0.581456146657648,\n",
       "        2150.0],\n",
       "       ['2016', 7.23926986101135, 66.48, 690.2470659, 0.573050906069647,\n",
       "        2150.0],\n",
       "       ['2017', 6.32395939581063, 66.14, 738.9275362, 0.605245013482969,\n",
       "        2150.0],\n",
       "       ['2018', 6.75917007998336, 65.76, 769.440752, 0.467672053461959,\n",
       "        2150.0],\n",
       "       ['2019', 3.98543867617695, 65.1, 784.4925731, 0.354740890170827,\n",
       "        2150.0],\n",
       "       ['2020', 5.21683592750635, 63.48, 580.0, 0.225947587112011,\n",
       "        2150.0]], dtype=object)"
      ]
     },
     "execution_count": 507,
     "metadata": {},
     "output_type": "execute_result"
    }
   ],
   "source": [
    "X_test"
   ]
  },
  {
   "cell_type": "code",
   "execution_count": 508,
   "id": "b1b64ce2",
   "metadata": {},
   "outputs": [
    {
     "data": {
      "text/plain": [
       "array([[7.04132888],\n",
       "       [6.84876221],\n",
       "       [6.94720079],\n",
       "       [6.74977383],\n",
       "       [5.94971423],\n",
       "       [2.34751357]])"
      ]
     },
     "execution_count": 508,
     "metadata": {},
     "output_type": "execute_result"
    }
   ],
   "source": [
    "y_test"
   ]
  },
  {
   "cell_type": "code",
   "execution_count": 509,
   "id": "840c027b",
   "metadata": {},
   "outputs": [],
   "source": [
    "# create a Linear Regression model object\n",
    "regression_model_China = LinearRegression()"
   ]
  },
  {
   "cell_type": "code",
   "execution_count": 510,
   "id": "b87b83a3",
   "metadata": {},
   "outputs": [
    {
     "data": {
      "text/plain": [
       "LinearRegression()"
      ]
     },
     "execution_count": 510,
     "metadata": {},
     "output_type": "execute_result"
    }
   ],
   "source": [
    "# pass through the X_train & y_train data set\n",
    "regression_model_China.fit(X_train, y_train)"
   ]
  },
  {
   "cell_type": "code",
   "execution_count": 511,
   "id": "d31971c2",
   "metadata": {},
   "outputs": [
    {
     "data": {
      "text/plain": [
       "array([[6.2068302 ],\n",
       "       [4.97815968],\n",
       "       [4.32969702],\n",
       "       [5.22030962],\n",
       "       [5.78141234]])"
      ]
     },
     "execution_count": 511,
     "metadata": {},
     "output_type": "execute_result"
    }
   ],
   "source": [
    "# Get multiple predictions\n",
    "y_predict = regression_model_China.predict(X_test)\n",
    "\n",
    "# Show the first 5 predictions\n",
    "y_predict[:5]"
   ]
  },
  {
   "cell_type": "code",
   "execution_count": 513,
   "id": "affbb247",
   "metadata": {},
   "outputs": [],
   "source": [
    "# let's grab the coefficient of our model and the intercept\n",
    "intercept = regression_model_China.intercept_[0]\n",
    "coefficent = regression_model_China.coef_[0][0]"
   ]
  },
  {
   "cell_type": "code",
   "execution_count": 514,
   "id": "45b583e2",
   "metadata": {},
   "outputs": [
    {
     "name": "stdout",
     "output_type": "stream",
     "text": [
      "The intercept for our model is 3.891e+03\n",
      "----------------------------------------------------------------------------------------------------\n"
     ]
    }
   ],
   "source": [
    "print(\"The intercept for our model is {:.4}\".format(intercept))\n",
    "print('-'*100)"
   ]
  },
  {
   "cell_type": "code",
   "execution_count": 515,
   "id": "ec4a9b86",
   "metadata": {},
   "outputs": [
    {
     "name": "stdout",
     "output_type": "stream",
     "text": [
      "The Coefficient for year is -1.9\n",
      "The Coefficient for Gross_Capital_Formation_Growth is -0.0011\n",
      "The Coefficient for Employment_Population_Ratio is -1.2\n",
      "The Coefficient for Exports is 0.025\n",
      "The Coefficient for Population_Growth is -1.1e+01\n",
      "The Coefficient for Energy_Use is 0.00017\n"
     ]
    }
   ],
   "source": [
    "# loop through the dictionary and print the data\n",
    "for coef in zip(X.columns, regression_model_China.coef_[0]):\n",
    "    print(\"The Coefficient for {} is {:.2}\".format(coef[0],coef[1]))"
   ]
  },
  {
   "cell_type": "code",
   "execution_count": 516,
   "id": "11cbc0d9",
   "metadata": {},
   "outputs": [
    {
     "name": "stdout",
     "output_type": "stream",
     "text": [
      "MSE 2.24\n",
      "MAE 1.19\n",
      "RMSE 1.5\n"
     ]
    }
   ],
   "source": [
    "import math\n",
    "# calculate the mean squared error\n",
    "model_mse = mean_squared_error(y_test, y_predict)\n",
    "\n",
    "# calculate the mean absolute error\n",
    "model_mae = mean_absolute_error(y_test, y_predict)\n",
    "\n",
    "# calulcate the root mean squared error\n",
    "model_rmse =  math.sqrt(model_mse)\n",
    "\n",
    "# display the output\n",
    "print(\"MSE {:.3}\".format(model_mse))\n",
    "print(\"MAE {:.3}\".format(model_mae))\n",
    "print(\"RMSE {:.3}\".format(model_rmse))"
   ]
  },
  {
   "cell_type": "code",
   "execution_count": 517,
   "id": "53b11f2e",
   "metadata": {},
   "outputs": [
    {
     "data": {
      "text/plain": [
       "0.7856971478420963"
      ]
     },
     "execution_count": 517,
     "metadata": {},
     "output_type": "execute_result"
    }
   ],
   "source": [
    "regression_model_China.score(X_train, y_train)"
   ]
  },
  {
   "cell_type": "code",
   "execution_count": 518,
   "id": "5ce62a30",
   "metadata": {},
   "outputs": [
    {
     "data": {
      "text/plain": [
       "0.19103083326511194"
      ]
     },
     "execution_count": 518,
     "metadata": {},
     "output_type": "execute_result"
    }
   ],
   "source": [
    "r2_score_China =r2_score(y_test, y_predict)\n",
    "r2_score_China\n"
   ]
  },
  {
   "cell_type": "markdown",
   "id": "16120bfb",
   "metadata": {},
   "source": [
    "# Regression for Brazil Data"
   ]
  },
  {
   "cell_type": "code",
   "execution_count": 519,
   "id": "96a93495",
   "metadata": {},
   "outputs": [],
   "source": [
    "worldbank_indicators = [\"NY.GDP.MKTP.KD.ZG\", \"NE.GDI.TOTL.KD.ZG\",\"SL.EMP.TOTL.SP.ZS\",\"TX.QTY.MRCH.XD.WD\",\"SP.POP.GROW\",\"EG.USE.PCAP.KG.OE\"] \n",
    " \n",
    "world_bank = wb.download (indicator =worldbank_indicators, country = [\"BRA\"], start = 1995, end =2020)\n",
    "\n",
    "world_bank = world_bank.reset_index(1)       "
   ]
  },
  {
   "cell_type": "code",
   "execution_count": 520,
   "id": "05a807c3",
   "metadata": {},
   "outputs": [],
   "source": [
    "world_bank_df = world_bank.rename(columns = {\"NY.GDP.MKTP.KD.ZG\":\"GDP\",\\\n",
    "                                               \"NE.GDI.TOTL.KD.ZG\":\"Gross_Capital_Formation_Growth\",\\\n",
    "                                               \"SL.EMP.TOTL.SP.ZS\":\"Employment_Population_Ratio\",\\\n",
    "                                            \"TX.QTY.MRCH.XD.WD\":\"Exports\",\\\n",
    "                                            \"SP.POP.GROW\":\"Population_Growth\",\\\n",
    "                                            \"EG.USE.PCAP.KG.OE\":\"Energy_Use\"})"
   ]
  },
  {
   "cell_type": "code",
   "execution_count": 521,
   "id": "8ad91683",
   "metadata": {},
   "outputs": [],
   "source": [
    "world_bank_final = world_bank_df.loc[::-1]"
   ]
  },
  {
   "cell_type": "code",
   "execution_count": 522,
   "id": "f08d71f8",
   "metadata": {},
   "outputs": [
    {
     "data": {
      "text/html": [
       "<div>\n",
       "<style scoped>\n",
       "    .dataframe tbody tr th:only-of-type {\n",
       "        vertical-align: middle;\n",
       "    }\n",
       "\n",
       "    .dataframe tbody tr th {\n",
       "        vertical-align: top;\n",
       "    }\n",
       "\n",
       "    .dataframe thead th {\n",
       "        text-align: right;\n",
       "    }\n",
       "</style>\n",
       "<table border=\"1\" class=\"dataframe\">\n",
       "  <thead>\n",
       "    <tr style=\"text-align: right;\">\n",
       "      <th></th>\n",
       "      <th>year</th>\n",
       "      <th>GDP</th>\n",
       "      <th>Gross_Capital_Formation_Growth</th>\n",
       "      <th>Employment_Population_Ratio</th>\n",
       "      <th>Exports</th>\n",
       "      <th>Population_Growth</th>\n",
       "      <th>Energy_Use</th>\n",
       "    </tr>\n",
       "    <tr>\n",
       "      <th>country</th>\n",
       "      <th></th>\n",
       "      <th></th>\n",
       "      <th></th>\n",
       "      <th></th>\n",
       "      <th></th>\n",
       "      <th></th>\n",
       "      <th></th>\n",
       "    </tr>\n",
       "  </thead>\n",
       "  <tbody>\n",
       "    <tr>\n",
       "      <th>Brazil</th>\n",
       "      <td>1995</td>\n",
       "      <td>4.223794</td>\n",
       "      <td>7.290004</td>\n",
       "      <td>59.68</td>\n",
       "      <td>72.158558</td>\n",
       "      <td>1.609710</td>\n",
       "      <td>994.289849</td>\n",
       "    </tr>\n",
       "    <tr>\n",
       "      <th>Brazil</th>\n",
       "      <td>1996</td>\n",
       "      <td>2.208864</td>\n",
       "      <td>0.798463</td>\n",
       "      <td>57.88</td>\n",
       "      <td>74.083146</td>\n",
       "      <td>1.588838</td>\n",
       "      <td>1030.668072</td>\n",
       "    </tr>\n",
       "    <tr>\n",
       "      <th>Brazil</th>\n",
       "      <td>1997</td>\n",
       "      <td>3.394846</td>\n",
       "      <td>8.418114</td>\n",
       "      <td>57.93</td>\n",
       "      <td>80.843315</td>\n",
       "      <td>1.563732</td>\n",
       "      <td>1066.186951</td>\n",
       "    </tr>\n",
       "    <tr>\n",
       "      <th>Brazil</th>\n",
       "      <td>1998</td>\n",
       "      <td>0.338098</td>\n",
       "      <td>-0.163841</td>\n",
       "      <td>57.32</td>\n",
       "      <td>82.890311</td>\n",
       "      <td>1.528962</td>\n",
       "      <td>1075.199081</td>\n",
       "    </tr>\n",
       "    <tr>\n",
       "      <th>Brazil</th>\n",
       "      <td>1999</td>\n",
       "      <td>0.467938</td>\n",
       "      <td>-8.875302</td>\n",
       "      <td>57.34</td>\n",
       "      <td>88.936536</td>\n",
       "      <td>1.481110</td>\n",
       "      <td>1083.403984</td>\n",
       "    </tr>\n",
       "  </tbody>\n",
       "</table>\n",
       "</div>"
      ],
      "text/plain": [
       "         year       GDP  Gross_Capital_Formation_Growth  \\\n",
       "country                                                   \n",
       "Brazil   1995  4.223794                        7.290004   \n",
       "Brazil   1996  2.208864                        0.798463   \n",
       "Brazil   1997  3.394846                        8.418114   \n",
       "Brazil   1998  0.338098                       -0.163841   \n",
       "Brazil   1999  0.467938                       -8.875302   \n",
       "\n",
       "         Employment_Population_Ratio    Exports  Population_Growth  \\\n",
       "country                                                              \n",
       "Brazil                         59.68  72.158558           1.609710   \n",
       "Brazil                         57.88  74.083146           1.588838   \n",
       "Brazil                         57.93  80.843315           1.563732   \n",
       "Brazil                         57.32  82.890311           1.528962   \n",
       "Brazil                         57.34  88.936536           1.481110   \n",
       "\n",
       "          Energy_Use  \n",
       "country               \n",
       "Brazil    994.289849  \n",
       "Brazil   1030.668072  \n",
       "Brazil   1066.186951  \n",
       "Brazil   1075.199081  \n",
       "Brazil   1083.403984  "
      ]
     },
     "execution_count": 522,
     "metadata": {},
     "output_type": "execute_result"
    }
   ],
   "source": [
    "world_bank_final.head()"
   ]
  },
  {
   "cell_type": "code",
   "execution_count": 523,
   "id": "a851104a",
   "metadata": {},
   "outputs": [
    {
     "data": {
      "text/html": [
       "<div>\n",
       "<style scoped>\n",
       "    .dataframe tbody tr th:only-of-type {\n",
       "        vertical-align: middle;\n",
       "    }\n",
       "\n",
       "    .dataframe tbody tr th {\n",
       "        vertical-align: top;\n",
       "    }\n",
       "\n",
       "    .dataframe thead th {\n",
       "        text-align: right;\n",
       "    }\n",
       "</style>\n",
       "<table border=\"1\" class=\"dataframe\">\n",
       "  <thead>\n",
       "    <tr style=\"text-align: right;\">\n",
       "      <th></th>\n",
       "      <th>year</th>\n",
       "      <th>GDP</th>\n",
       "      <th>Gross_Capital_Formation_Growth</th>\n",
       "      <th>Employment_Population_Ratio</th>\n",
       "      <th>Exports</th>\n",
       "      <th>Population_Growth</th>\n",
       "      <th>Energy_Use</th>\n",
       "    </tr>\n",
       "    <tr>\n",
       "      <th>country</th>\n",
       "      <th></th>\n",
       "      <th></th>\n",
       "      <th></th>\n",
       "      <th></th>\n",
       "      <th></th>\n",
       "      <th></th>\n",
       "      <th></th>\n",
       "    </tr>\n",
       "  </thead>\n",
       "  <tbody>\n",
       "    <tr>\n",
       "      <th>Brazil</th>\n",
       "      <td>1995</td>\n",
       "      <td>4.223794</td>\n",
       "      <td>7.290004</td>\n",
       "      <td>59.68</td>\n",
       "      <td>72.158558</td>\n",
       "      <td>1.609710</td>\n",
       "      <td>994.289849</td>\n",
       "    </tr>\n",
       "    <tr>\n",
       "      <th>Brazil</th>\n",
       "      <td>1996</td>\n",
       "      <td>2.208864</td>\n",
       "      <td>0.798463</td>\n",
       "      <td>57.88</td>\n",
       "      <td>74.083146</td>\n",
       "      <td>1.588838</td>\n",
       "      <td>1030.668072</td>\n",
       "    </tr>\n",
       "    <tr>\n",
       "      <th>Brazil</th>\n",
       "      <td>1997</td>\n",
       "      <td>3.394846</td>\n",
       "      <td>8.418114</td>\n",
       "      <td>57.93</td>\n",
       "      <td>80.843315</td>\n",
       "      <td>1.563732</td>\n",
       "      <td>1066.186951</td>\n",
       "    </tr>\n",
       "    <tr>\n",
       "      <th>Brazil</th>\n",
       "      <td>1998</td>\n",
       "      <td>0.338098</td>\n",
       "      <td>-0.163841</td>\n",
       "      <td>57.32</td>\n",
       "      <td>82.890311</td>\n",
       "      <td>1.528962</td>\n",
       "      <td>1075.199081</td>\n",
       "    </tr>\n",
       "    <tr>\n",
       "      <th>Brazil</th>\n",
       "      <td>1999</td>\n",
       "      <td>0.467938</td>\n",
       "      <td>-8.875302</td>\n",
       "      <td>57.34</td>\n",
       "      <td>88.936536</td>\n",
       "      <td>1.481110</td>\n",
       "      <td>1083.403984</td>\n",
       "    </tr>\n",
       "  </tbody>\n",
       "</table>\n",
       "</div>"
      ],
      "text/plain": [
       "         year       GDP  Gross_Capital_Formation_Growth  \\\n",
       "country                                                   \n",
       "Brazil   1995  4.223794                        7.290004   \n",
       "Brazil   1996  2.208864                        0.798463   \n",
       "Brazil   1997  3.394846                        8.418114   \n",
       "Brazil   1998  0.338098                       -0.163841   \n",
       "Brazil   1999  0.467938                       -8.875302   \n",
       "\n",
       "         Employment_Population_Ratio    Exports  Population_Growth  \\\n",
       "country                                                              \n",
       "Brazil                         59.68  72.158558           1.609710   \n",
       "Brazil                         57.88  74.083146           1.588838   \n",
       "Brazil                         57.93  80.843315           1.563732   \n",
       "Brazil                         57.32  82.890311           1.528962   \n",
       "Brazil                         57.34  88.936536           1.481110   \n",
       "\n",
       "          Energy_Use  \n",
       "country               \n",
       "Brazil    994.289849  \n",
       "Brazil   1030.668072  \n",
       "Brazil   1066.186951  \n",
       "Brazil   1075.199081  \n",
       "Brazil   1083.403984  "
      ]
     },
     "execution_count": 523,
     "metadata": {},
     "output_type": "execute_result"
    }
   ],
   "source": [
    "world_bank_final1 = world_bank_final.fillna({\n",
    "    \"Gross_Capital_Formation_Growth\":0.6, \n",
    "    'Exports' :230.0,\n",
    "    'Energy_Use': 800.0})\n",
    "world_bank_final1.head()"
   ]
  },
  {
   "cell_type": "code",
   "execution_count": 524,
   "id": "71cd46ab",
   "metadata": {},
   "outputs": [],
   "source": [
    "world_bank_final1.to_excel('Brazil.xlsx', index = False)"
   ]
  },
  {
   "cell_type": "code",
   "execution_count": 525,
   "id": "4631c899",
   "metadata": {},
   "outputs": [
    {
     "data": {
      "text/html": [
       "<div>\n",
       "<style scoped>\n",
       "    .dataframe tbody tr th:only-of-type {\n",
       "        vertical-align: middle;\n",
       "    }\n",
       "\n",
       "    .dataframe tbody tr th {\n",
       "        vertical-align: top;\n",
       "    }\n",
       "\n",
       "    .dataframe thead th {\n",
       "        text-align: right;\n",
       "    }\n",
       "</style>\n",
       "<table border=\"1\" class=\"dataframe\">\n",
       "  <thead>\n",
       "    <tr style=\"text-align: right;\">\n",
       "      <th></th>\n",
       "      <th>GDP</th>\n",
       "      <th>Gross_Capital_Formation_Growth</th>\n",
       "      <th>Employment_Population_Ratio</th>\n",
       "      <th>Exports</th>\n",
       "      <th>Population_Growth</th>\n",
       "      <th>Energy_Use</th>\n",
       "    </tr>\n",
       "  </thead>\n",
       "  <tbody>\n",
       "    <tr>\n",
       "      <th>count</th>\n",
       "      <td>26.000000</td>\n",
       "      <td>26.000000</td>\n",
       "      <td>26.000000</td>\n",
       "      <td>26.000000</td>\n",
       "      <td>26.000000</td>\n",
       "      <td>26.000000</td>\n",
       "    </tr>\n",
       "    <tr>\n",
       "      <th>mean</th>\n",
       "      <td>2.120676</td>\n",
       "      <td>2.062374</td>\n",
       "      <td>58.372308</td>\n",
       "      <td>164.349065</td>\n",
       "      <td>1.106152</td>\n",
       "      <td>1105.185877</td>\n",
       "    </tr>\n",
       "    <tr>\n",
       "      <th>std</th>\n",
       "      <td>2.853383</td>\n",
       "      <td>7.374636</td>\n",
       "      <td>2.038651</td>\n",
       "      <td>55.363710</td>\n",
       "      <td>0.293270</td>\n",
       "      <td>216.416964</td>\n",
       "    </tr>\n",
       "    <tr>\n",
       "      <th>min</th>\n",
       "      <td>-4.059048</td>\n",
       "      <td>-13.946500</td>\n",
       "      <td>51.140000</td>\n",
       "      <td>72.158558</td>\n",
       "      <td>0.712873</td>\n",
       "      <td>800.000000</td>\n",
       "    </tr>\n",
       "    <tr>\n",
       "      <th>25%</th>\n",
       "      <td>0.663174</td>\n",
       "      <td>-1.961350</td>\n",
       "      <td>57.442500</td>\n",
       "      <td>111.820248</td>\n",
       "      <td>0.860248</td>\n",
       "      <td>1003.384405</td>\n",
       "    </tr>\n",
       "    <tr>\n",
       "      <th>50%</th>\n",
       "      <td>2.065020</td>\n",
       "      <td>1.630388</td>\n",
       "      <td>58.795000</td>\n",
       "      <td>185.784523</td>\n",
       "      <td>1.016088</td>\n",
       "      <td>1086.876916</td>\n",
       "    </tr>\n",
       "    <tr>\n",
       "      <th>75%</th>\n",
       "      <td>3.971314</td>\n",
       "      <td>6.790732</td>\n",
       "      <td>59.722500</td>\n",
       "      <td>196.584015</td>\n",
       "      <td>1.353404</td>\n",
       "      <td>1239.735885</td>\n",
       "    </tr>\n",
       "    <tr>\n",
       "      <th>max</th>\n",
       "      <td>7.528226</td>\n",
       "      <td>17.853921</td>\n",
       "      <td>60.820000</td>\n",
       "      <td>241.304190</td>\n",
       "      <td>1.609710</td>\n",
       "      <td>1495.541141</td>\n",
       "    </tr>\n",
       "  </tbody>\n",
       "</table>\n",
       "</div>"
      ],
      "text/plain": [
       "             GDP  Gross_Capital_Formation_Growth  Employment_Population_Ratio  \\\n",
       "count  26.000000                       26.000000                    26.000000   \n",
       "mean    2.120676                        2.062374                    58.372308   \n",
       "std     2.853383                        7.374636                     2.038651   \n",
       "min    -4.059048                      -13.946500                    51.140000   \n",
       "25%     0.663174                       -1.961350                    57.442500   \n",
       "50%     2.065020                        1.630388                    58.795000   \n",
       "75%     3.971314                        6.790732                    59.722500   \n",
       "max     7.528226                       17.853921                    60.820000   \n",
       "\n",
       "          Exports  Population_Growth   Energy_Use  \n",
       "count   26.000000          26.000000    26.000000  \n",
       "mean   164.349065           1.106152  1105.185877  \n",
       "std     55.363710           0.293270   216.416964  \n",
       "min     72.158558           0.712873   800.000000  \n",
       "25%    111.820248           0.860248  1003.384405  \n",
       "50%    185.784523           1.016088  1086.876916  \n",
       "75%    196.584015           1.353404  1239.735885  \n",
       "max    241.304190           1.609710  1495.541141  "
      ]
     },
     "execution_count": 525,
     "metadata": {},
     "output_type": "execute_result"
    }
   ],
   "source": [
    "world_bank_final1.describe()"
   ]
  },
  {
   "cell_type": "code",
   "execution_count": 526,
   "id": "486e92e9",
   "metadata": {},
   "outputs": [],
   "source": [
    "X = world_bank_final1.drop(\"GDP\", axis = 1)\n",
    "Y = world_bank_final1[['GDP']]"
   ]
  },
  {
   "cell_type": "code",
   "execution_count": 527,
   "id": "0ddc7370",
   "metadata": {},
   "outputs": [],
   "source": [
    "X_train = X[:20].values\n",
    "X_test = X[20:].values\n",
    "y_train = Y[:20].values\n",
    "y_test = Y[20:].values"
   ]
  },
  {
   "cell_type": "code",
   "execution_count": 528,
   "id": "5bf18b1e",
   "metadata": {},
   "outputs": [
    {
     "data": {
      "text/plain": [
       "array([['2015', -13.9465002050587, 58.65, 209.4169305, 0.838838953278811,\n",
       "        800.0],\n",
       "       ['2016', -12.1298264348974, 56.39, 216.1630581, 0.823752152538353,\n",
       "        800.0],\n",
       "       ['2017', -2.55735555667499, 55.84, 230.8527606, 0.807145245445964,\n",
       "        800.0],\n",
       "       ['2018', 5.23175830926645, 56.15, 241.3041896, 0.783844259734468,\n",
       "        800.0],\n",
       "       ['2019', 3.36410575283553, 56.76, 236.3478881, 0.751550842096973,\n",
       "        800.0],\n",
       "       ['2020', -0.776685637163737, 51.14, 230.0, 0.712872791114979,\n",
       "        800.0]], dtype=object)"
      ]
     },
     "execution_count": 528,
     "metadata": {},
     "output_type": "execute_result"
    }
   ],
   "source": [
    "X_test"
   ]
  },
  {
   "cell_type": "code",
   "execution_count": 529,
   "id": "e980f753",
   "metadata": {},
   "outputs": [
    {
     "data": {
      "text/plain": [
       "array([[-3.54576339],\n",
       "       [-3.27591691],\n",
       "       [ 1.32286905],\n",
       "       [ 1.78366676],\n",
       "       [ 1.41115299],\n",
       "       [-4.05904827]])"
      ]
     },
     "execution_count": 529,
     "metadata": {},
     "output_type": "execute_result"
    }
   ],
   "source": [
    "y_test"
   ]
  },
  {
   "cell_type": "code",
   "execution_count": 530,
   "id": "8b4e2b35",
   "metadata": {},
   "outputs": [],
   "source": [
    "# create a Linear Regression model object\n",
    "regression_model_Brazil = LinearRegression()"
   ]
  },
  {
   "cell_type": "code",
   "execution_count": 531,
   "id": "51d10dfe",
   "metadata": {},
   "outputs": [
    {
     "data": {
      "text/plain": [
       "LinearRegression()"
      ]
     },
     "execution_count": 531,
     "metadata": {},
     "output_type": "execute_result"
    }
   ],
   "source": [
    "# pass through the X_train & y_train data set\n",
    "regression_model_Brazil.fit(X_train, y_train)"
   ]
  },
  {
   "cell_type": "code",
   "execution_count": 532,
   "id": "2c1e09d1",
   "metadata": {},
   "outputs": [
    {
     "data": {
      "text/plain": [
       "array([[ 3.7851174 ],\n",
       "       [ 4.89420683],\n",
       "       [ 8.58753226],\n",
       "       [11.52274533],\n",
       "       [10.9376773 ]])"
      ]
     },
     "execution_count": 532,
     "metadata": {},
     "output_type": "execute_result"
    }
   ],
   "source": [
    "# Get multiple predictions\n",
    "y_predict = regression_model_Brazil.predict(X_test)\n",
    "\n",
    "# Show the first 5 predictions\n",
    "y_predict[:5]"
   ]
  },
  {
   "cell_type": "code",
   "execution_count": 534,
   "id": "0e4b87f9",
   "metadata": {},
   "outputs": [],
   "source": [
    "# let's grab the coefficient of our model and the intercept\n",
    "intercept = regression_model_Brazil.intercept_[0]\n",
    "coefficent = regression_model_Brazil.coef_[0][0]"
   ]
  },
  {
   "cell_type": "code",
   "execution_count": 535,
   "id": "8629d78b",
   "metadata": {},
   "outputs": [
    {
     "name": "stdout",
     "output_type": "stream",
     "text": [
      "The intercept for our model is -1.211e+03\n",
      "----------------------------------------------------------------------------------------------------\n"
     ]
    }
   ],
   "source": [
    "print(\"The intercept for our model is {:.4}\".format(intercept))\n",
    "print('-'*100)"
   ]
  },
  {
   "cell_type": "code",
   "execution_count": 536,
   "id": "180a4cb7",
   "metadata": {},
   "outputs": [
    {
     "name": "stdout",
     "output_type": "stream",
     "text": [
      "The Coefficient for year is 0.6\n",
      "The Coefficient for Gross_Capital_Formation_Growth is 0.3\n",
      "The Coefficient for Employment_Population_Ratio is 0.01\n",
      "The Coefficient for Exports is 0.03\n",
      "The Coefficient for Population_Growth is 1.5e+01\n",
      "The Coefficient for Energy_Use is -0.008\n"
     ]
    }
   ],
   "source": [
    "# loop through the dictionary and print the data\n",
    "for coef in zip(X.columns, regression_model_Brazil.coef_[0]):\n",
    "    print(\"The Coefficient for {} is {:.2}\".format(coef[0],coef[1]))"
   ]
  },
  {
   "cell_type": "code",
   "execution_count": 537,
   "id": "42fc0c56",
   "metadata": {},
   "outputs": [
    {
     "name": "stdout",
     "output_type": "stream",
     "text": [
      "MSE 90.3\n",
      "MAE 9.26\n",
      "RMSE 9.5\n"
     ]
    }
   ],
   "source": [
    "import math\n",
    "# calculate the mean squared error\n",
    "model_mse = mean_squared_error(y_test, y_predict)\n",
    "\n",
    "# calculate the mean absolute error\n",
    "model_mae = mean_absolute_error(y_test, y_predict)\n",
    "\n",
    "# calulcate the root mean squared error\n",
    "model_rmse =  math.sqrt(model_mse)\n",
    "\n",
    "# display the output\n",
    "print(\"MSE {:.3}\".format(model_mse))\n",
    "print(\"MAE {:.3}\".format(model_mae))\n",
    "print(\"RMSE {:.3}\".format(model_rmse))"
   ]
  },
  {
   "cell_type": "code",
   "execution_count": 538,
   "id": "0d4fe766",
   "metadata": {},
   "outputs": [
    {
     "data": {
      "text/plain": [
       "0.8631682110626837"
      ]
     },
     "execution_count": 538,
     "metadata": {},
     "output_type": "execute_result"
    }
   ],
   "source": [
    "regression_model_Brazil.score(X_train, y_train)"
   ]
  },
  {
   "cell_type": "code",
   "execution_count": 539,
   "id": "f40d2dac",
   "metadata": {},
   "outputs": [
    {
     "data": {
      "text/plain": [
       "-12.5597352721006"
      ]
     },
     "execution_count": 539,
     "metadata": {},
     "output_type": "execute_result"
    }
   ],
   "source": [
    "r2_score_Brazil =r2_score(y_test, y_predict)\n",
    "r2_score_Brazil\n"
   ]
  },
  {
   "cell_type": "markdown",
   "id": "b3c3983b",
   "metadata": {},
   "source": [
    "# Regression for South Africa Data"
   ]
  },
  {
   "cell_type": "code",
   "execution_count": 540,
   "id": "ee9008fe",
   "metadata": {},
   "outputs": [],
   "source": [
    "worldbank_indicators = [\"NY.GDP.MKTP.KD.ZG\", \"NE.GDI.TOTL.KD.ZG\",\"SL.EMP.TOTL.SP.ZS\",\"TX.QTY.MRCH.XD.WD\",\"SP.POP.GROW\",\"EG.USE.PCAP.KG.OE\"] \n",
    " \n",
    "world_bank = wb.download (indicator =worldbank_indicators, country = [\"ZAF\"], start = 1995, end =2020)\n",
    "\n",
    "world_bank = world_bank.reset_index(1)       "
   ]
  },
  {
   "cell_type": "code",
   "execution_count": 541,
   "id": "1c766f56",
   "metadata": {},
   "outputs": [],
   "source": [
    "world_bank_df = world_bank.rename(columns = {\"NY.GDP.MKTP.KD.ZG\":\"GDP\",\\\n",
    "                                               \"NE.GDI.TOTL.KD.ZG\":\"Gross_Capital_Formation_Growth\",\\\n",
    "                                               \"SL.EMP.TOTL.SP.ZS\":\"Employment_Population_Ratio\",\\\n",
    "                                            \"TX.QTY.MRCH.XD.WD\":\"Exports\",\\\n",
    "                                            \"SP.POP.GROW\":\"Population_Growth\",\\\n",
    "                                            \"EG.USE.PCAP.KG.OE\":\"Energy_Use\"})"
   ]
  },
  {
   "cell_type": "code",
   "execution_count": 542,
   "id": "b9224867",
   "metadata": {},
   "outputs": [],
   "source": [
    "world_bank_final = world_bank_df.loc[::-1]"
   ]
  },
  {
   "cell_type": "code",
   "execution_count": 543,
   "id": "f737079a",
   "metadata": {},
   "outputs": [
    {
     "data": {
      "text/html": [
       "<div>\n",
       "<style scoped>\n",
       "    .dataframe tbody tr th:only-of-type {\n",
       "        vertical-align: middle;\n",
       "    }\n",
       "\n",
       "    .dataframe tbody tr th {\n",
       "        vertical-align: top;\n",
       "    }\n",
       "\n",
       "    .dataframe thead th {\n",
       "        text-align: right;\n",
       "    }\n",
       "</style>\n",
       "<table border=\"1\" class=\"dataframe\">\n",
       "  <thead>\n",
       "    <tr style=\"text-align: right;\">\n",
       "      <th></th>\n",
       "      <th>year</th>\n",
       "      <th>GDP</th>\n",
       "      <th>Gross_Capital_Formation_Growth</th>\n",
       "      <th>Employment_Population_Ratio</th>\n",
       "      <th>Exports</th>\n",
       "      <th>Population_Growth</th>\n",
       "      <th>Energy_Use</th>\n",
       "    </tr>\n",
       "    <tr>\n",
       "      <th>country</th>\n",
       "      <th></th>\n",
       "      <th></th>\n",
       "      <th></th>\n",
       "      <th></th>\n",
       "      <th></th>\n",
       "      <th></th>\n",
       "      <th></th>\n",
       "    </tr>\n",
       "  </thead>\n",
       "  <tbody>\n",
       "    <tr>\n",
       "      <th>South Africa</th>\n",
       "      <td>1995</td>\n",
       "      <td>3.1</td>\n",
       "      <td>14.229407</td>\n",
       "      <td>39.34</td>\n",
       "      <td>75.526461</td>\n",
       "      <td>2.126182</td>\n",
       "      <td>2498.893625</td>\n",
       "    </tr>\n",
       "    <tr>\n",
       "      <th>South Africa</th>\n",
       "      <td>1996</td>\n",
       "      <td>4.3</td>\n",
       "      <td>1.027631</td>\n",
       "      <td>39.20</td>\n",
       "      <td>84.748864</td>\n",
       "      <td>1.924718</td>\n",
       "      <td>2504.903115</td>\n",
       "    </tr>\n",
       "    <tr>\n",
       "      <th>South Africa</th>\n",
       "      <td>1997</td>\n",
       "      <td>2.6</td>\n",
       "      <td>2.944509</td>\n",
       "      <td>39.09</td>\n",
       "      <td>91.578779</td>\n",
       "      <td>1.751687</td>\n",
       "      <td>2527.940174</td>\n",
       "    </tr>\n",
       "    <tr>\n",
       "      <th>South Africa</th>\n",
       "      <td>1998</td>\n",
       "      <td>0.5</td>\n",
       "      <td>3.340042</td>\n",
       "      <td>39.01</td>\n",
       "      <td>85.363103</td>\n",
       "      <td>1.603369</td>\n",
       "      <td>2471.477036</td>\n",
       "    </tr>\n",
       "    <tr>\n",
       "      <th>South Africa</th>\n",
       "      <td>1999</td>\n",
       "      <td>2.4</td>\n",
       "      <td>-3.129856</td>\n",
       "      <td>38.87</td>\n",
       "      <td>89.073329</td>\n",
       "      <td>1.491248</td>\n",
       "      <td>2464.323360</td>\n",
       "    </tr>\n",
       "  </tbody>\n",
       "</table>\n",
       "</div>"
      ],
      "text/plain": [
       "              year  GDP  Gross_Capital_Formation_Growth  \\\n",
       "country                                                   \n",
       "South Africa  1995  3.1                       14.229407   \n",
       "South Africa  1996  4.3                        1.027631   \n",
       "South Africa  1997  2.6                        2.944509   \n",
       "South Africa  1998  0.5                        3.340042   \n",
       "South Africa  1999  2.4                       -3.129856   \n",
       "\n",
       "              Employment_Population_Ratio    Exports  Population_Growth  \\\n",
       "country                                                                   \n",
       "South Africa                        39.34  75.526461           2.126182   \n",
       "South Africa                        39.20  84.748864           1.924718   \n",
       "South Africa                        39.09  91.578779           1.751687   \n",
       "South Africa                        39.01  85.363103           1.603369   \n",
       "South Africa                        38.87  89.073329           1.491248   \n",
       "\n",
       "               Energy_Use  \n",
       "country                    \n",
       "South Africa  2498.893625  \n",
       "South Africa  2504.903115  \n",
       "South Africa  2527.940174  \n",
       "South Africa  2471.477036  \n",
       "South Africa  2464.323360  "
      ]
     },
     "execution_count": 543,
     "metadata": {},
     "output_type": "execute_result"
    }
   ],
   "source": [
    "world_bank_final.head()"
   ]
  },
  {
   "cell_type": "code",
   "execution_count": 544,
   "id": "c56051dd",
   "metadata": {},
   "outputs": [
    {
     "data": {
      "text/html": [
       "<div>\n",
       "<style scoped>\n",
       "    .dataframe tbody tr th:only-of-type {\n",
       "        vertical-align: middle;\n",
       "    }\n",
       "\n",
       "    .dataframe tbody tr th {\n",
       "        vertical-align: top;\n",
       "    }\n",
       "\n",
       "    .dataframe thead th {\n",
       "        text-align: right;\n",
       "    }\n",
       "</style>\n",
       "<table border=\"1\" class=\"dataframe\">\n",
       "  <thead>\n",
       "    <tr style=\"text-align: right;\">\n",
       "      <th></th>\n",
       "      <th>year</th>\n",
       "      <th>GDP</th>\n",
       "      <th>Gross_Capital_Formation_Growth</th>\n",
       "      <th>Employment_Population_Ratio</th>\n",
       "      <th>Exports</th>\n",
       "      <th>Population_Growth</th>\n",
       "      <th>Energy_Use</th>\n",
       "    </tr>\n",
       "    <tr>\n",
       "      <th>country</th>\n",
       "      <th></th>\n",
       "      <th></th>\n",
       "      <th></th>\n",
       "      <th></th>\n",
       "      <th></th>\n",
       "      <th></th>\n",
       "      <th></th>\n",
       "    </tr>\n",
       "  </thead>\n",
       "  <tbody>\n",
       "    <tr>\n",
       "      <th>South Africa</th>\n",
       "      <td>1995</td>\n",
       "      <td>3.1</td>\n",
       "      <td>14.229407</td>\n",
       "      <td>39.34</td>\n",
       "      <td>75.526461</td>\n",
       "      <td>2.126182</td>\n",
       "      <td>2498.893625</td>\n",
       "    </tr>\n",
       "    <tr>\n",
       "      <th>South Africa</th>\n",
       "      <td>1996</td>\n",
       "      <td>4.3</td>\n",
       "      <td>1.027631</td>\n",
       "      <td>39.20</td>\n",
       "      <td>84.748864</td>\n",
       "      <td>1.924718</td>\n",
       "      <td>2504.903115</td>\n",
       "    </tr>\n",
       "    <tr>\n",
       "      <th>South Africa</th>\n",
       "      <td>1997</td>\n",
       "      <td>2.6</td>\n",
       "      <td>2.944509</td>\n",
       "      <td>39.09</td>\n",
       "      <td>91.578779</td>\n",
       "      <td>1.751687</td>\n",
       "      <td>2527.940174</td>\n",
       "    </tr>\n",
       "    <tr>\n",
       "      <th>South Africa</th>\n",
       "      <td>1998</td>\n",
       "      <td>0.5</td>\n",
       "      <td>3.340042</td>\n",
       "      <td>39.01</td>\n",
       "      <td>85.363103</td>\n",
       "      <td>1.603369</td>\n",
       "      <td>2471.477036</td>\n",
       "    </tr>\n",
       "    <tr>\n",
       "      <th>South Africa</th>\n",
       "      <td>1999</td>\n",
       "      <td>2.4</td>\n",
       "      <td>-3.129856</td>\n",
       "      <td>38.87</td>\n",
       "      <td>89.073329</td>\n",
       "      <td>1.491248</td>\n",
       "      <td>2464.323360</td>\n",
       "    </tr>\n",
       "  </tbody>\n",
       "</table>\n",
       "</div>"
      ],
      "text/plain": [
       "              year  GDP  Gross_Capital_Formation_Growth  \\\n",
       "country                                                   \n",
       "South Africa  1995  3.1                       14.229407   \n",
       "South Africa  1996  4.3                        1.027631   \n",
       "South Africa  1997  2.6                        2.944509   \n",
       "South Africa  1998  0.5                        3.340042   \n",
       "South Africa  1999  2.4                       -3.129856   \n",
       "\n",
       "              Employment_Population_Ratio    Exports  Population_Growth  \\\n",
       "country                                                                   \n",
       "South Africa                        39.34  75.526461           2.126182   \n",
       "South Africa                        39.20  84.748864           1.924718   \n",
       "South Africa                        39.09  91.578779           1.751687   \n",
       "South Africa                        39.01  85.363103           1.603369   \n",
       "South Africa                        38.87  89.073329           1.491248   \n",
       "\n",
       "               Energy_Use  \n",
       "country                    \n",
       "South Africa  2498.893625  \n",
       "South Africa  2504.903115  \n",
       "South Africa  2527.940174  \n",
       "South Africa  2471.477036  \n",
       "South Africa  2464.323360  "
      ]
     },
     "execution_count": 544,
     "metadata": {},
     "output_type": "execute_result"
    }
   ],
   "source": [
    "world_bank_final1 = world_bank_final.fillna({\n",
    "    \"Gross_Capital_Formation_Growth\":1.6, \n",
    "    'Exports' :100.0,\n",
    "    'Energy_Use': 2300.0})\n",
    "world_bank_final1.head()"
   ]
  },
  {
   "cell_type": "code",
   "execution_count": 545,
   "id": "ad6acbca",
   "metadata": {},
   "outputs": [],
   "source": [
    "world_bank_final1.to_excel('SouthAfrica.xlsx', index = False)"
   ]
  },
  {
   "cell_type": "code",
   "execution_count": 546,
   "id": "d32951bd",
   "metadata": {},
   "outputs": [
    {
     "data": {
      "text/html": [
       "<div>\n",
       "<style scoped>\n",
       "    .dataframe tbody tr th:only-of-type {\n",
       "        vertical-align: middle;\n",
       "    }\n",
       "\n",
       "    .dataframe tbody tr th {\n",
       "        vertical-align: top;\n",
       "    }\n",
       "\n",
       "    .dataframe thead th {\n",
       "        text-align: right;\n",
       "    }\n",
       "</style>\n",
       "<table border=\"1\" class=\"dataframe\">\n",
       "  <thead>\n",
       "    <tr style=\"text-align: right;\">\n",
       "      <th></th>\n",
       "      <th>GDP</th>\n",
       "      <th>Gross_Capital_Formation_Growth</th>\n",
       "      <th>Employment_Population_Ratio</th>\n",
       "      <th>Exports</th>\n",
       "      <th>Population_Growth</th>\n",
       "      <th>Energy_Use</th>\n",
       "    </tr>\n",
       "  </thead>\n",
       "  <tbody>\n",
       "    <tr>\n",
       "      <th>count</th>\n",
       "      <td>26.000000</td>\n",
       "      <td>26.000000</td>\n",
       "      <td>26.000000</td>\n",
       "      <td>26.000000</td>\n",
       "      <td>26.000000</td>\n",
       "      <td>26.000000</td>\n",
       "    </tr>\n",
       "    <tr>\n",
       "      <th>mean</th>\n",
       "      <td>2.296737</td>\n",
       "      <td>2.819170</td>\n",
       "      <td>39.631923</td>\n",
       "      <td>114.306491</td>\n",
       "      <td>1.461051</td>\n",
       "      <td>2541.316674</td>\n",
       "    </tr>\n",
       "    <tr>\n",
       "      <th>std</th>\n",
       "      <td>2.470958</td>\n",
       "      <td>8.517843</td>\n",
       "      <td>1.453638</td>\n",
       "      <td>21.606507</td>\n",
       "      <td>0.219257</td>\n",
       "      <td>190.031628</td>\n",
       "    </tr>\n",
       "    <tr>\n",
       "      <th>min</th>\n",
       "      <td>-6.431975</td>\n",
       "      <td>-24.730526</td>\n",
       "      <td>36.690000</td>\n",
       "      <td>75.526461</td>\n",
       "      <td>1.217762</td>\n",
       "      <td>2300.000000</td>\n",
       "    </tr>\n",
       "    <tr>\n",
       "      <th>25%</th>\n",
       "      <td>1.344853</td>\n",
       "      <td>-0.624441</td>\n",
       "      <td>38.912500</td>\n",
       "      <td>99.912373</td>\n",
       "      <td>1.297697</td>\n",
       "      <td>2394.323134</td>\n",
       "    </tr>\n",
       "    <tr>\n",
       "      <th>50%</th>\n",
       "      <td>2.650000</td>\n",
       "      <td>3.158226</td>\n",
       "      <td>39.545000</td>\n",
       "      <td>110.369759</td>\n",
       "      <td>1.412985</td>\n",
       "      <td>2511.617954</td>\n",
       "    </tr>\n",
       "    <tr>\n",
       "      <th>75%</th>\n",
       "      <td>3.573042</td>\n",
       "      <td>8.756069</td>\n",
       "      <td>40.637500</td>\n",
       "      <td>131.951093</td>\n",
       "      <td>1.569076</td>\n",
       "      <td>2691.267888</td>\n",
       "    </tr>\n",
       "    <tr>\n",
       "      <th>max</th>\n",
       "      <td>5.603806</td>\n",
       "      <td>15.976655</td>\n",
       "      <td>43.100000</td>\n",
       "      <td>147.420926</td>\n",
       "      <td>2.126182</td>\n",
       "      <td>2950.153610</td>\n",
       "    </tr>\n",
       "  </tbody>\n",
       "</table>\n",
       "</div>"
      ],
      "text/plain": [
       "             GDP  Gross_Capital_Formation_Growth  Employment_Population_Ratio  \\\n",
       "count  26.000000                       26.000000                    26.000000   \n",
       "mean    2.296737                        2.819170                    39.631923   \n",
       "std     2.470958                        8.517843                     1.453638   \n",
       "min    -6.431975                      -24.730526                    36.690000   \n",
       "25%     1.344853                       -0.624441                    38.912500   \n",
       "50%     2.650000                        3.158226                    39.545000   \n",
       "75%     3.573042                        8.756069                    40.637500   \n",
       "max     5.603806                       15.976655                    43.100000   \n",
       "\n",
       "          Exports  Population_Growth   Energy_Use  \n",
       "count   26.000000          26.000000    26.000000  \n",
       "mean   114.306491           1.461051  2541.316674  \n",
       "std     21.606507           0.219257   190.031628  \n",
       "min     75.526461           1.217762  2300.000000  \n",
       "25%     99.912373           1.297697  2394.323134  \n",
       "50%    110.369759           1.412985  2511.617954  \n",
       "75%    131.951093           1.569076  2691.267888  \n",
       "max    147.420926           2.126182  2950.153610  "
      ]
     },
     "execution_count": 546,
     "metadata": {},
     "output_type": "execute_result"
    }
   ],
   "source": [
    "world_bank_final1.describe()"
   ]
  },
  {
   "cell_type": "code",
   "execution_count": 547,
   "id": "07181170",
   "metadata": {},
   "outputs": [],
   "source": [
    "X = world_bank_final1.drop(\"GDP\", axis = 1)\n",
    "Y = world_bank_final1[['GDP']]"
   ]
  },
  {
   "cell_type": "code",
   "execution_count": 548,
   "id": "4c66a523",
   "metadata": {},
   "outputs": [],
   "source": [
    "X_train = X[:20].values\n",
    "X_test = X[20:].values\n",
    "y_train = Y[:20].values\n",
    "y_test = Y[20:].values"
   ]
  },
  {
   "cell_type": "code",
   "execution_count": 549,
   "id": "bb03691b",
   "metadata": {},
   "outputs": [
    {
     "data": {
      "text/plain": [
       "array([['2015', 4.00533113024204, 41.45, 142.8619585, 1.53224277341692,\n",
       "        2300.0],\n",
       "       ['2016', -8.38581264256115, 40.79, 141.7059987, 1.47193342939738,\n",
       "        2300.0],\n",
       "       ['2017', 2.97641067709678, 40.99, 144.2538, 1.41694725378631,\n",
       "        2300.0],\n",
       "       ['2018', -0.69657782263657, 40.93, 147.4209256, 1.36370321600461,\n",
       "        2300.0],\n",
       "       ['2019', -0.408032219323644, 40.12, 142.4716299, 1.31629200967216,\n",
       "        2300.0],\n",
       "       ['2020', -24.7305255204144, 36.69, 100.0, 1.27335626330668,\n",
       "        2300.0]], dtype=object)"
      ]
     },
     "execution_count": 549,
     "metadata": {},
     "output_type": "execute_result"
    }
   ],
   "source": [
    "X_test"
   ]
  },
  {
   "cell_type": "code",
   "execution_count": 550,
   "id": "70e1d001",
   "metadata": {},
   "outputs": [
    {
     "data": {
      "text/plain": [
       "array([[ 1.32186224],\n",
       "       [ 0.66455231],\n",
       "       [ 1.15794695],\n",
       "       [ 1.48761737],\n",
       "       [ 0.1130537 ],\n",
       "       [-6.43197483]])"
      ]
     },
     "execution_count": 550,
     "metadata": {},
     "output_type": "execute_result"
    }
   ],
   "source": [
    "y_test"
   ]
  },
  {
   "cell_type": "code",
   "execution_count": 551,
   "id": "e3c029f6",
   "metadata": {},
   "outputs": [],
   "source": [
    "# create a Linear Regression model object\n",
    "regression_model_SouthAfrica = LinearRegression()"
   ]
  },
  {
   "cell_type": "code",
   "execution_count": 552,
   "id": "4e9eb331",
   "metadata": {},
   "outputs": [
    {
     "data": {
      "text/plain": [
       "LinearRegression()"
      ]
     },
     "execution_count": 552,
     "metadata": {},
     "output_type": "execute_result"
    }
   ],
   "source": [
    "# pass through the X_train & y_train data set\n",
    "regression_model_SouthAfrica.fit(X_train, y_train)"
   ]
  },
  {
   "cell_type": "code",
   "execution_count": 553,
   "id": "12757a2b",
   "metadata": {},
   "outputs": [
    {
     "data": {
      "text/plain": [
       "array([[1.71738746],\n",
       "       [0.16625209],\n",
       "       [1.2323233 ],\n",
       "       [0.92100673],\n",
       "       [0.23564837]])"
      ]
     },
     "execution_count": 553,
     "metadata": {},
     "output_type": "execute_result"
    }
   ],
   "source": [
    "# Get multiple predictions\n",
    "y_predict = regression_model_SouthAfrica.predict(X_test)\n",
    "\n",
    "# Show the first 5 predictions\n",
    "y_predict[:5]"
   ]
  },
  {
   "cell_type": "code",
   "execution_count": 555,
   "id": "1fda977f",
   "metadata": {},
   "outputs": [],
   "source": [
    "# let's grab the coefficient of our model and the intercept\n",
    "intercept = regression_model_SouthAfrica.intercept_[0]\n",
    "coefficent = regression_model_SouthAfrica.coef_[0][0]"
   ]
  },
  {
   "cell_type": "code",
   "execution_count": 556,
   "id": "c9d9d173",
   "metadata": {},
   "outputs": [
    {
     "name": "stdout",
     "output_type": "stream",
     "text": [
      "The intercept for our model is 839.7\n",
      "----------------------------------------------------------------------------------------------------\n"
     ]
    }
   ],
   "source": [
    "print(\"The intercept for our model is {:.4}\".format(intercept))\n",
    "print('-'*100)"
   ]
  },
  {
   "cell_type": "code",
   "execution_count": 557,
   "id": "3302fdc0",
   "metadata": {},
   "outputs": [
    {
     "name": "stdout",
     "output_type": "stream",
     "text": [
      "The Coefficient for year is -0.42\n",
      "The Coefficient for Gross_Capital_Formation_Growth is 0.1\n",
      "The Coefficient for Employment_Population_Ratio is -0.44\n",
      "The Coefficient for Exports is 0.14\n",
      "The Coefficient for Population_Growth is -0.6\n",
      "The Coefficient for Energy_Use is 0.0025\n"
     ]
    }
   ],
   "source": [
    "# loop through the dictionary and print the data\n",
    "for coef in zip(X.columns, regression_model_SouthAfrica.coef_[0]):\n",
    "    print(\"The Coefficient for {} is {:.2}\".format(coef[0],coef[1]))"
   ]
  },
  {
   "cell_type": "code",
   "execution_count": 558,
   "id": "2d8afdaf",
   "metadata": {},
   "outputs": [
    {
     "name": "stdout",
     "output_type": "stream",
     "text": [
      "MSE 0.185\n",
      "MAE 0.377\n",
      "RMSE 0.43\n"
     ]
    }
   ],
   "source": [
    "import math\n",
    "# calculate the mean squared error\n",
    "model_mse = mean_squared_error(y_test, y_predict)\n",
    "\n",
    "# calculate the mean absolute error\n",
    "model_mae = mean_absolute_error(y_test, y_predict)\n",
    "\n",
    "# calulcate the root mean squared error\n",
    "model_rmse =  math.sqrt(model_mse)\n",
    "\n",
    "# display the output\n",
    "print(\"MSE {:.3}\".format(model_mse))\n",
    "print(\"MAE {:.3}\".format(model_mae))\n",
    "print(\"RMSE {:.3}\".format(model_rmse))"
   ]
  },
  {
   "cell_type": "code",
   "execution_count": 559,
   "id": "df4946f3",
   "metadata": {},
   "outputs": [
    {
     "data": {
      "text/plain": [
       "0.6468133294312179"
      ]
     },
     "execution_count": 559,
     "metadata": {},
     "output_type": "execute_result"
    }
   ],
   "source": [
    "regression_model_SouthAfrica.score(X_train, y_train)"
   ]
  },
  {
   "cell_type": "code",
   "execution_count": 560,
   "id": "bc0cdb72",
   "metadata": {},
   "outputs": [
    {
     "data": {
      "text/plain": [
       "0.9762357050308849"
      ]
     },
     "execution_count": 560,
     "metadata": {},
     "output_type": "execute_result"
    }
   ],
   "source": [
    "r2_score_SouthAfrica =r2_score(y_test, y_predict)\n",
    "r2_score_SouthAfrica"
   ]
  },
  {
   "cell_type": "markdown",
   "id": "95663b93",
   "metadata": {},
   "source": [
    "# Regression for Russian Federation Data"
   ]
  },
  {
   "cell_type": "code",
   "execution_count": 561,
   "id": "0f96a347",
   "metadata": {},
   "outputs": [],
   "source": [
    "worldbank_indicators = [\"NY.GDP.MKTP.KD.ZG\", \"NE.GDI.TOTL.KD.ZG\",\"SL.EMP.TOTL.SP.ZS\",\"TX.QTY.MRCH.XD.WD\",\"SP.POP.GROW\",\"EG.USE.PCAP.KG.OE\"] \n",
    " \n",
    "world_bank = wb.download (indicator =worldbank_indicators, country = [\"RUS\"], start = 1995, end =2020)\n",
    "\n",
    "world_bank = world_bank.reset_index(1)       "
   ]
  },
  {
   "cell_type": "code",
   "execution_count": 562,
   "id": "4c2d7a32",
   "metadata": {},
   "outputs": [],
   "source": [
    "world_bank_df = world_bank.rename(columns = {\"NY.GDP.MKTP.KD.ZG\":\"GDP\",\\\n",
    "                                               \"NE.GDI.TOTL.KD.ZG\":\"Gross_Capital_Formation_Growth\",\\\n",
    "                                               \"SL.EMP.TOTL.SP.ZS\":\"Employment_Population_Ratio\",\\\n",
    "                                            \"TX.QTY.MRCH.XD.WD\":\"Exports\",\\\n",
    "                                            \"SP.POP.GROW\":\"Population_Growth\",\\\n",
    "                                            \"EG.USE.PCAP.KG.OE\":\"Energy_Use\"})"
   ]
  },
  {
   "cell_type": "code",
   "execution_count": 563,
   "id": "c62b33f6",
   "metadata": {},
   "outputs": [],
   "source": [
    "world_bank_final = world_bank_df.loc[::-1]"
   ]
  },
  {
   "cell_type": "code",
   "execution_count": 564,
   "id": "024fcf81",
   "metadata": {},
   "outputs": [
    {
     "data": {
      "text/html": [
       "<div>\n",
       "<style scoped>\n",
       "    .dataframe tbody tr th:only-of-type {\n",
       "        vertical-align: middle;\n",
       "    }\n",
       "\n",
       "    .dataframe tbody tr th {\n",
       "        vertical-align: top;\n",
       "    }\n",
       "\n",
       "    .dataframe thead th {\n",
       "        text-align: right;\n",
       "    }\n",
       "</style>\n",
       "<table border=\"1\" class=\"dataframe\">\n",
       "  <thead>\n",
       "    <tr style=\"text-align: right;\">\n",
       "      <th></th>\n",
       "      <th>year</th>\n",
       "      <th>GDP</th>\n",
       "      <th>Gross_Capital_Formation_Growth</th>\n",
       "      <th>Employment_Population_Ratio</th>\n",
       "      <th>Exports</th>\n",
       "      <th>Population_Growth</th>\n",
       "      <th>Energy_Use</th>\n",
       "    </tr>\n",
       "    <tr>\n",
       "      <th>country</th>\n",
       "      <th></th>\n",
       "      <th></th>\n",
       "      <th></th>\n",
       "      <th></th>\n",
       "      <th></th>\n",
       "      <th></th>\n",
       "      <th></th>\n",
       "    </tr>\n",
       "  </thead>\n",
       "  <tbody>\n",
       "    <tr>\n",
       "      <th>Russian Federation</th>\n",
       "      <td>1995</td>\n",
       "      <td>-4.143528</td>\n",
       "      <td>-10.800000</td>\n",
       "      <td>55.62</td>\n",
       "      <td>NaN</td>\n",
       "      <td>-0.021649</td>\n",
       "      <td>4290.693467</td>\n",
       "    </tr>\n",
       "    <tr>\n",
       "      <th>Russian Federation</th>\n",
       "      <td>1996</td>\n",
       "      <td>-3.755069</td>\n",
       "      <td>-6.888909</td>\n",
       "      <td>54.51</td>\n",
       "      <td>NaN</td>\n",
       "      <td>-0.145452</td>\n",
       "      <td>4252.611619</td>\n",
       "    </tr>\n",
       "    <tr>\n",
       "      <th>Russian Federation</th>\n",
       "      <td>1997</td>\n",
       "      <td>1.399916</td>\n",
       "      <td>-4.100188</td>\n",
       "      <td>51.95</td>\n",
       "      <td>NaN</td>\n",
       "      <td>-0.165342</td>\n",
       "      <td>4069.687292</td>\n",
       "    </tr>\n",
       "    <tr>\n",
       "      <th>Russian Federation</th>\n",
       "      <td>1998</td>\n",
       "      <td>-5.299962</td>\n",
       "      <td>-45.199827</td>\n",
       "      <td>50.31</td>\n",
       "      <td>NaN</td>\n",
       "      <td>-0.165486</td>\n",
       "      <td>3981.499468</td>\n",
       "    </tr>\n",
       "    <tr>\n",
       "      <th>Russian Federation</th>\n",
       "      <td>1999</td>\n",
       "      <td>6.399915</td>\n",
       "      <td>-6.600615</td>\n",
       "      <td>53.18</td>\n",
       "      <td>NaN</td>\n",
       "      <td>-0.309278</td>\n",
       "      <td>4136.751144</td>\n",
       "    </tr>\n",
       "  </tbody>\n",
       "</table>\n",
       "</div>"
      ],
      "text/plain": [
       "                    year       GDP  Gross_Capital_Formation_Growth  \\\n",
       "country                                                              \n",
       "Russian Federation  1995 -4.143528                      -10.800000   \n",
       "Russian Federation  1996 -3.755069                       -6.888909   \n",
       "Russian Federation  1997  1.399916                       -4.100188   \n",
       "Russian Federation  1998 -5.299962                      -45.199827   \n",
       "Russian Federation  1999  6.399915                       -6.600615   \n",
       "\n",
       "                    Employment_Population_Ratio  Exports  Population_Growth  \\\n",
       "country                                                                       \n",
       "Russian Federation                        55.62      NaN          -0.021649   \n",
       "Russian Federation                        54.51      NaN          -0.145452   \n",
       "Russian Federation                        51.95      NaN          -0.165342   \n",
       "Russian Federation                        50.31      NaN          -0.165486   \n",
       "Russian Federation                        53.18      NaN          -0.309278   \n",
       "\n",
       "                     Energy_Use  \n",
       "country                          \n",
       "Russian Federation  4290.693467  \n",
       "Russian Federation  4252.611619  \n",
       "Russian Federation  4069.687292  \n",
       "Russian Federation  3981.499468  \n",
       "Russian Federation  4136.751144  "
      ]
     },
     "execution_count": 564,
     "metadata": {},
     "output_type": "execute_result"
    }
   ],
   "source": [
    "world_bank_final.head()"
   ]
  },
  {
   "cell_type": "code",
   "execution_count": 566,
   "id": "eab3a6e1",
   "metadata": {},
   "outputs": [
    {
     "data": {
      "text/html": [
       "<div>\n",
       "<style scoped>\n",
       "    .dataframe tbody tr th:only-of-type {\n",
       "        vertical-align: middle;\n",
       "    }\n",
       "\n",
       "    .dataframe tbody tr th {\n",
       "        vertical-align: top;\n",
       "    }\n",
       "\n",
       "    .dataframe thead th {\n",
       "        text-align: right;\n",
       "    }\n",
       "</style>\n",
       "<table border=\"1\" class=\"dataframe\">\n",
       "  <thead>\n",
       "    <tr style=\"text-align: right;\">\n",
       "      <th></th>\n",
       "      <th>year</th>\n",
       "      <th>GDP</th>\n",
       "      <th>Gross_Capital_Formation_Growth</th>\n",
       "      <th>Employment_Population_Ratio</th>\n",
       "      <th>Exports</th>\n",
       "      <th>Population_Growth</th>\n",
       "      <th>Energy_Use</th>\n",
       "    </tr>\n",
       "    <tr>\n",
       "      <th>country</th>\n",
       "      <th></th>\n",
       "      <th></th>\n",
       "      <th></th>\n",
       "      <th></th>\n",
       "      <th></th>\n",
       "      <th></th>\n",
       "      <th></th>\n",
       "    </tr>\n",
       "  </thead>\n",
       "  <tbody>\n",
       "    <tr>\n",
       "      <th>Russian Federation</th>\n",
       "      <td>1995</td>\n",
       "      <td>-4.143528</td>\n",
       "      <td>-10.800000</td>\n",
       "      <td>55.62</td>\n",
       "      <td>150.0</td>\n",
       "      <td>-0.021649</td>\n",
       "      <td>4290.693467</td>\n",
       "    </tr>\n",
       "    <tr>\n",
       "      <th>Russian Federation</th>\n",
       "      <td>1996</td>\n",
       "      <td>-3.755069</td>\n",
       "      <td>-6.888909</td>\n",
       "      <td>54.51</td>\n",
       "      <td>150.0</td>\n",
       "      <td>-0.145452</td>\n",
       "      <td>4252.611619</td>\n",
       "    </tr>\n",
       "    <tr>\n",
       "      <th>Russian Federation</th>\n",
       "      <td>1997</td>\n",
       "      <td>1.399916</td>\n",
       "      <td>-4.100188</td>\n",
       "      <td>51.95</td>\n",
       "      <td>150.0</td>\n",
       "      <td>-0.165342</td>\n",
       "      <td>4069.687292</td>\n",
       "    </tr>\n",
       "    <tr>\n",
       "      <th>Russian Federation</th>\n",
       "      <td>1998</td>\n",
       "      <td>-5.299962</td>\n",
       "      <td>-45.199827</td>\n",
       "      <td>50.31</td>\n",
       "      <td>150.0</td>\n",
       "      <td>-0.165486</td>\n",
       "      <td>3981.499468</td>\n",
       "    </tr>\n",
       "    <tr>\n",
       "      <th>Russian Federation</th>\n",
       "      <td>1999</td>\n",
       "      <td>6.399915</td>\n",
       "      <td>-6.600615</td>\n",
       "      <td>53.18</td>\n",
       "      <td>150.0</td>\n",
       "      <td>-0.309278</td>\n",
       "      <td>4136.751144</td>\n",
       "    </tr>\n",
       "  </tbody>\n",
       "</table>\n",
       "</div>"
      ],
      "text/plain": [
       "                    year       GDP  Gross_Capital_Formation_Growth  \\\n",
       "country                                                              \n",
       "Russian Federation  1995 -4.143528                      -10.800000   \n",
       "Russian Federation  1996 -3.755069                       -6.888909   \n",
       "Russian Federation  1997  1.399916                       -4.100188   \n",
       "Russian Federation  1998 -5.299962                      -45.199827   \n",
       "Russian Federation  1999  6.399915                       -6.600615   \n",
       "\n",
       "                    Employment_Population_Ratio  Exports  Population_Growth  \\\n",
       "country                                                                       \n",
       "Russian Federation                        55.62    150.0          -0.021649   \n",
       "Russian Federation                        54.51    150.0          -0.145452   \n",
       "Russian Federation                        51.95    150.0          -0.165342   \n",
       "Russian Federation                        50.31    150.0          -0.165486   \n",
       "Russian Federation                        53.18    150.0          -0.309278   \n",
       "\n",
       "                     Energy_Use  \n",
       "country                          \n",
       "Russian Federation  4290.693467  \n",
       "Russian Federation  4252.611619  \n",
       "Russian Federation  4069.687292  \n",
       "Russian Federation  3981.499468  \n",
       "Russian Federation  4136.751144  "
      ]
     },
     "execution_count": 566,
     "metadata": {},
     "output_type": "execute_result"
    }
   ],
   "source": [
    "world_bank_final1 = world_bank_final.fillna({\n",
    "    \"Gross_Capital_Formation_Growth\":1.6, \n",
    "    'Exports' :150.0,\n",
    "    'Energy_Use': 4000.0})\n",
    "world_bank_final1.head()"
   ]
  },
  {
   "cell_type": "code",
   "execution_count": 567,
   "id": "2954e3c6",
   "metadata": {},
   "outputs": [],
   "source": [
    "world_bank_final1.to_excel('Russia.xlsx', index = False)"
   ]
  },
  {
   "cell_type": "code",
   "execution_count": 568,
   "id": "6f5f0a6d",
   "metadata": {},
   "outputs": [
    {
     "data": {
      "text/html": [
       "<div>\n",
       "<style scoped>\n",
       "    .dataframe tbody tr th:only-of-type {\n",
       "        vertical-align: middle;\n",
       "    }\n",
       "\n",
       "    .dataframe tbody tr th {\n",
       "        vertical-align: top;\n",
       "    }\n",
       "\n",
       "    .dataframe thead th {\n",
       "        text-align: right;\n",
       "    }\n",
       "</style>\n",
       "<table border=\"1\" class=\"dataframe\">\n",
       "  <thead>\n",
       "    <tr style=\"text-align: right;\">\n",
       "      <th></th>\n",
       "      <th>GDP</th>\n",
       "      <th>Gross_Capital_Formation_Growth</th>\n",
       "      <th>Employment_Population_Ratio</th>\n",
       "      <th>Exports</th>\n",
       "      <th>Population_Growth</th>\n",
       "      <th>Energy_Use</th>\n",
       "    </tr>\n",
       "  </thead>\n",
       "  <tbody>\n",
       "    <tr>\n",
       "      <th>count</th>\n",
       "      <td>26.000000</td>\n",
       "      <td>26.000000</td>\n",
       "      <td>26.000000</td>\n",
       "      <td>26.000000</td>\n",
       "      <td>26.000000</td>\n",
       "      <td>26.000000</td>\n",
       "    </tr>\n",
       "    <tr>\n",
       "      <th>mean</th>\n",
       "      <td>2.563569</td>\n",
       "      <td>3.774255</td>\n",
       "      <td>56.781154</td>\n",
       "      <td>155.628475</td>\n",
       "      <td>-0.113188</td>\n",
       "      <td>4416.831743</td>\n",
       "    </tr>\n",
       "    <tr>\n",
       "      <th>std</th>\n",
       "      <td>4.645481</td>\n",
       "      <td>22.287030</td>\n",
       "      <td>2.490902</td>\n",
       "      <td>26.248143</td>\n",
       "      <td>0.229201</td>\n",
       "      <td>387.010604</td>\n",
       "    </tr>\n",
       "    <tr>\n",
       "      <th>min</th>\n",
       "      <td>-7.799994</td>\n",
       "      <td>-45.199827</td>\n",
       "      <td>50.310000</td>\n",
       "      <td>100.000000</td>\n",
       "      <td>-0.460024</td>\n",
       "      <td>3981.499468</td>\n",
       "    </tr>\n",
       "    <tr>\n",
       "      <th>25%</th>\n",
       "      <td>0.329334</td>\n",
       "      <td>-6.077411</td>\n",
       "      <td>55.290000</td>\n",
       "      <td>150.000000</td>\n",
       "      <td>-0.322904</td>\n",
       "      <td>4017.421823</td>\n",
       "    </tr>\n",
       "    <tr>\n",
       "      <th>50%</th>\n",
       "      <td>3.415666</td>\n",
       "      <td>1.307718</td>\n",
       "      <td>57.455000</td>\n",
       "      <td>154.280139</td>\n",
       "      <td>-0.097510</td>\n",
       "      <td>4289.538049</td>\n",
       "    </tr>\n",
       "    <tr>\n",
       "      <th>75%</th>\n",
       "      <td>6.099928</td>\n",
       "      <td>13.775086</td>\n",
       "      <td>58.975000</td>\n",
       "      <td>167.483361</td>\n",
       "      <td>0.069710</td>\n",
       "      <td>4704.481421</td>\n",
       "    </tr>\n",
       "    <tr>\n",
       "      <th>max</th>\n",
       "      <td>10.000067</td>\n",
       "      <td>75.201129</td>\n",
       "      <td>59.390000</td>\n",
       "      <td>203.728337</td>\n",
       "      <td>0.217642</td>\n",
       "      <td>5167.010353</td>\n",
       "    </tr>\n",
       "  </tbody>\n",
       "</table>\n",
       "</div>"
      ],
      "text/plain": [
       "             GDP  Gross_Capital_Formation_Growth  Employment_Population_Ratio  \\\n",
       "count  26.000000                       26.000000                    26.000000   \n",
       "mean    2.563569                        3.774255                    56.781154   \n",
       "std     4.645481                       22.287030                     2.490902   \n",
       "min    -7.799994                      -45.199827                    50.310000   \n",
       "25%     0.329334                       -6.077411                    55.290000   \n",
       "50%     3.415666                        1.307718                    57.455000   \n",
       "75%     6.099928                       13.775086                    58.975000   \n",
       "max    10.000067                       75.201129                    59.390000   \n",
       "\n",
       "          Exports  Population_Growth   Energy_Use  \n",
       "count   26.000000          26.000000    26.000000  \n",
       "mean   155.628475          -0.113188  4416.831743  \n",
       "std     26.248143           0.229201   387.010604  \n",
       "min    100.000000          -0.460024  3981.499468  \n",
       "25%    150.000000          -0.322904  4017.421823  \n",
       "50%    154.280139          -0.097510  4289.538049  \n",
       "75%    167.483361           0.069710  4704.481421  \n",
       "max    203.728337           0.217642  5167.010353  "
      ]
     },
     "execution_count": 568,
     "metadata": {},
     "output_type": "execute_result"
    }
   ],
   "source": [
    "world_bank_final1.describe()"
   ]
  },
  {
   "cell_type": "code",
   "execution_count": 569,
   "id": "142e403c",
   "metadata": {},
   "outputs": [],
   "source": [
    "X = world_bank_final1.drop(\"GDP\", axis = 1)\n",
    "Y = world_bank_final1[['GDP']]"
   ]
  },
  {
   "cell_type": "code",
   "execution_count": 570,
   "id": "5eb016ad",
   "metadata": {},
   "outputs": [],
   "source": [
    "X_train = X[:20].values\n",
    "X_test = X[20:].values\n",
    "y_train = Y[:20].values\n",
    "y_test = Y[20:].values"
   ]
  },
  {
   "cell_type": "code",
   "execution_count": 571,
   "id": "ec53e998",
   "metadata": {},
   "outputs": [
    {
     "data": {
      "text/plain": [
       "array([['2015', -11.74313147216, 59.14, 180.5162551, 0.192557946508244,\n",
       "        4000.0],\n",
       "       ['2016', -0.639176708239958, 59.28, 187.5903055,\n",
       "        0.170245238698228, 4000.0],\n",
       "       ['2017', 6.40962100599796, 59.08, 194.7974436, 0.106870569429971,\n",
       "        4000.0],\n",
       "       ['2018', -1.59119425116916, 59.23, 203.7283367,\n",
       "        -0.0130668924933287, 4000.0],\n",
       "       ['2019', 3.25461218970347, 58.66, 197.6251167,\n",
       "        -0.0495686654330689, 4000.0],\n",
       "       ['2020', -1.97334879957343, 57.62, 150.0, -0.209476796881133,\n",
       "        4000.0]], dtype=object)"
      ]
     },
     "execution_count": 571,
     "metadata": {},
     "output_type": "execute_result"
    }
   ],
   "source": [
    "X_test"
   ]
  },
  {
   "cell_type": "code",
   "execution_count": 572,
   "id": "f131c148",
   "metadata": {},
   "outputs": [
    {
     "data": {
      "text/plain": [
       "array([[-1.97271923],\n",
       "       [ 0.19369007],\n",
       "       [ 1.82579006],\n",
       "       [ 2.80724541],\n",
       "       [ 2.03298274],\n",
       "       [-2.9512739 ]])"
      ]
     },
     "execution_count": 572,
     "metadata": {},
     "output_type": "execute_result"
    }
   ],
   "source": [
    "y_test"
   ]
  },
  {
   "cell_type": "code",
   "execution_count": 573,
   "id": "9872b697",
   "metadata": {},
   "outputs": [],
   "source": [
    "# create a Linear Regression model object\n",
    "regression_model_Russia = LinearRegression()"
   ]
  },
  {
   "cell_type": "code",
   "execution_count": 574,
   "id": "2fd5cdfe",
   "metadata": {},
   "outputs": [
    {
     "data": {
      "text/plain": [
       "LinearRegression()"
      ]
     },
     "execution_count": 574,
     "metadata": {},
     "output_type": "execute_result"
    }
   ],
   "source": [
    "# pass through the X_train & y_train data set\n",
    "regression_model_Russia.fit(X_train, y_train)"
   ]
  },
  {
   "cell_type": "code",
   "execution_count": 575,
   "id": "7be7d753",
   "metadata": {},
   "outputs": [
    {
     "data": {
      "text/plain": [
       "array([[-6.48660304],\n",
       "       [-4.07050412],\n",
       "       [-1.18017988],\n",
       "       [ 0.78823007],\n",
       "       [ 2.16271135]])"
      ]
     },
     "execution_count": 575,
     "metadata": {},
     "output_type": "execute_result"
    }
   ],
   "source": [
    "# Get multiple predictions\n",
    "y_predict = regression_model_Russia.predict(X_test)\n",
    "\n",
    "# Show the first 5 predictions\n",
    "y_predict[:5]"
   ]
  },
  {
   "cell_type": "code",
   "execution_count": 576,
   "id": "b21c5daf",
   "metadata": {},
   "outputs": [],
   "source": [
    "# let's grab the coefficient of our model and the intercept\n",
    "intercept = regression_model_Russia.intercept_[0]\n",
    "coefficent = regression_model_Russia.coef_[0][0]"
   ]
  },
  {
   "cell_type": "code",
   "execution_count": 577,
   "id": "f765a338",
   "metadata": {},
   "outputs": [
    {
     "name": "stdout",
     "output_type": "stream",
     "text": [
      "The intercept for our model is -419.5\n",
      "----------------------------------------------------------------------------------------------------\n"
     ]
    }
   ],
   "source": [
    "print(\"The intercept for our model is {:.4}\".format(intercept))\n",
    "print('-'*100)"
   ]
  },
  {
   "cell_type": "code",
   "execution_count": 578,
   "id": "5b107702",
   "metadata": {},
   "outputs": [
    {
     "name": "stdout",
     "output_type": "stream",
     "text": [
      "The Coefficient for year is 0.2\n",
      "The Coefficient for Gross_Capital_Formation_Growth is 0.12\n",
      "The Coefficient for Employment_Population_Ratio is -0.64\n",
      "The Coefficient for Exports is 0.075\n",
      "The Coefficient for Population_Growth is -1.8e+01\n",
      "The Coefficient for Energy_Use is 0.0075\n"
     ]
    }
   ],
   "source": [
    "# loop through the dictionary and print the data\n",
    "for coef in zip(X.columns, regression_model_Russia.coef_[0]):\n",
    "    print(\"The Coefficient for {} is {:.2}\".format(coef[0],coef[1]))"
   ]
  },
  {
   "cell_type": "code",
   "execution_count": 579,
   "id": "5791cb8a",
   "metadata": {},
   "outputs": [
    {
     "name": "stdout",
     "output_type": "stream",
     "text": [
      "MSE 12.3\n",
      "MAE 3.1\n",
      "RMSE 3.5\n"
     ]
    }
   ],
   "source": [
    "import math\n",
    "# calculate the mean squared error\n",
    "model_mse = mean_squared_error(y_test, y_predict)\n",
    "\n",
    "# calculate the mean absolute error\n",
    "model_mae = mean_absolute_error(y_test, y_predict)\n",
    "\n",
    "# calulcate the root mean squared error\n",
    "model_rmse =  math.sqrt(model_mse)\n",
    "\n",
    "# display the output\n",
    "print(\"MSE {:.3}\".format(model_mse))\n",
    "print(\"MAE {:.3}\".format(model_mae))\n",
    "print(\"RMSE {:.3}\".format(model_rmse))"
   ]
  },
  {
   "cell_type": "code",
   "execution_count": 580,
   "id": "c35615fc",
   "metadata": {},
   "outputs": [
    {
     "data": {
      "text/plain": [
       "0.891333128350766"
      ]
     },
     "execution_count": 580,
     "metadata": {},
     "output_type": "execute_result"
    }
   ],
   "source": [
    "regression_model_Russia.score(X_train, y_train)"
   ]
  },
  {
   "cell_type": "code",
   "execution_count": 581,
   "id": "eba276ca",
   "metadata": {},
   "outputs": [
    {
     "data": {
      "text/plain": [
       "-1.693545691835383"
      ]
     },
     "execution_count": 581,
     "metadata": {},
     "output_type": "execute_result"
    }
   ],
   "source": [
    "r2_score_Russia =r2_score(y_test, y_predict)\n",
    "r2_score_Russia"
   ]
  },
  {
   "cell_type": "code",
   "execution_count": null,
   "id": "f8329748",
   "metadata": {},
   "outputs": [],
   "source": []
  }
 ],
 "metadata": {
  "kernelspec": {
   "display_name": "melnv",
   "language": "python",
   "name": "melnv"
  },
  "language_info": {
   "codemirror_mode": {
    "name": "ipython",
    "version": 3
   },
   "file_extension": ".py",
   "mimetype": "text/x-python",
   "name": "python",
   "nbconvert_exporter": "python",
   "pygments_lexer": "ipython3",
   "version": "3.7.10"
  }
 },
 "nbformat": 4,
 "nbformat_minor": 5
}
