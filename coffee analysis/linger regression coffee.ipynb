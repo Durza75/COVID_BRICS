{
 "cells": [
  {
   "cell_type": "code",
   "execution_count": 1,
   "id": "99cdb115",
   "metadata": {},
   "outputs": [],
   "source": [
    " # Import dependencies\n",
    "from sklearn.datasets import make_regression\n",
    "from sklearn.linear_model import LinearRegression\n",
    "import numpy as np\n",
    "import matplotlib.pyplot as plt\n",
    "import pandas as pd \n",
    "from sklearn import linear_model"
   ]
  },
  {
   "cell_type": "code",
   "execution_count": 2,
   "id": "c3e65c06",
   "metadata": {},
   "outputs": [],
   "source": [
    "import pandas as pd                           \n",
    "from sklearn import preprocessing\n",
    "from sklearn.model_selection import train_test_split\n",
    "from sklearn.linear_model import LinearRegression\n",
    "from sklearn.metrics import r2_score\n",
    "from sklearn.metrics import mean_squared_error"
   ]
  },
  {
   "cell_type": "markdown",
   "id": "dc33843c",
   "metadata": {},
   "source": [
    "# Coffee consumption and production analysis for Russia,China,India,South Africa"
   ]
  },
  {
   "cell_type": "markdown",
   "id": "e26abf84",
   "metadata": {},
   "source": [
    "## Analysis for China "
   ]
  },
  {
   "cell_type": "code",
   "execution_count": 3,
   "id": "0977f118",
   "metadata": {},
   "outputs": [
    {
     "data": {
      "text/html": [
       "<div>\n",
       "<style scoped>\n",
       "    .dataframe tbody tr th:only-of-type {\n",
       "        vertical-align: middle;\n",
       "    }\n",
       "\n",
       "    .dataframe tbody tr th {\n",
       "        vertical-align: top;\n",
       "    }\n",
       "\n",
       "    .dataframe thead th {\n",
       "        text-align: right;\n",
       "    }\n",
       "</style>\n",
       "<table border=\"1\" class=\"dataframe\">\n",
       "  <thead>\n",
       "    <tr style=\"text-align: right;\">\n",
       "      <th></th>\n",
       "      <th>year</th>\n",
       "      <th>country</th>\n",
       "      <th>id</th>\n",
       "      <th>coffee_consum</th>\n",
       "      <th>coffee_prod</th>\n",
       "      <th>gdp</th>\n",
       "    </tr>\n",
       "  </thead>\n",
       "  <tbody>\n",
       "    <tr>\n",
       "      <th>0</th>\n",
       "      <td>2000</td>\n",
       "      <td>China</td>\n",
       "      <td>1003</td>\n",
       "      <td>0</td>\n",
       "      <td>0</td>\n",
       "      <td>1.211350e+12</td>\n",
       "    </tr>\n",
       "    <tr>\n",
       "      <th>1</th>\n",
       "      <td>2001</td>\n",
       "      <td>China</td>\n",
       "      <td>1003</td>\n",
       "      <td>0</td>\n",
       "      <td>0</td>\n",
       "      <td>1.339400e+12</td>\n",
       "    </tr>\n",
       "    <tr>\n",
       "      <th>2</th>\n",
       "      <td>2002</td>\n",
       "      <td>China</td>\n",
       "      <td>1003</td>\n",
       "      <td>117</td>\n",
       "      <td>324</td>\n",
       "      <td>1.470550e+12</td>\n",
       "    </tr>\n",
       "    <tr>\n",
       "      <th>3</th>\n",
       "      <td>2003</td>\n",
       "      <td>China</td>\n",
       "      <td>1003</td>\n",
       "      <td>156</td>\n",
       "      <td>386</td>\n",
       "      <td>1.660290e+12</td>\n",
       "    </tr>\n",
       "    <tr>\n",
       "      <th>4</th>\n",
       "      <td>2004</td>\n",
       "      <td>China</td>\n",
       "      <td>1003</td>\n",
       "      <td>222</td>\n",
       "      <td>361</td>\n",
       "      <td>1.955350e+12</td>\n",
       "    </tr>\n",
       "    <tr>\n",
       "      <th>5</th>\n",
       "      <td>2005</td>\n",
       "      <td>China</td>\n",
       "      <td>1003</td>\n",
       "      <td>172</td>\n",
       "      <td>365</td>\n",
       "      <td>2.285970e+12</td>\n",
       "    </tr>\n",
       "    <tr>\n",
       "      <th>6</th>\n",
       "      <td>2006</td>\n",
       "      <td>China</td>\n",
       "      <td>1003</td>\n",
       "      <td>226</td>\n",
       "      <td>428</td>\n",
       "      <td>2.752130e+12</td>\n",
       "    </tr>\n",
       "    <tr>\n",
       "      <th>7</th>\n",
       "      <td>2007</td>\n",
       "      <td>China</td>\n",
       "      <td>1003</td>\n",
       "      <td>164</td>\n",
       "      <td>433</td>\n",
       "      <td>3.550340e+12</td>\n",
       "    </tr>\n",
       "    <tr>\n",
       "      <th>8</th>\n",
       "      <td>2008</td>\n",
       "      <td>China</td>\n",
       "      <td>1003</td>\n",
       "      <td>338</td>\n",
       "      <td>555</td>\n",
       "      <td>4.594310e+12</td>\n",
       "    </tr>\n",
       "    <tr>\n",
       "      <th>9</th>\n",
       "      <td>2009</td>\n",
       "      <td>China</td>\n",
       "      <td>1003</td>\n",
       "      <td>1135</td>\n",
       "      <td>1173</td>\n",
       "      <td>5.101700e+12</td>\n",
       "    </tr>\n",
       "    <tr>\n",
       "      <th>10</th>\n",
       "      <td>2010</td>\n",
       "      <td>China</td>\n",
       "      <td>1003</td>\n",
       "      <td>1106</td>\n",
       "      <td>827</td>\n",
       "      <td>6.087160e+12</td>\n",
       "    </tr>\n",
       "    <tr>\n",
       "      <th>11</th>\n",
       "      <td>2011</td>\n",
       "      <td>China</td>\n",
       "      <td>1003</td>\n",
       "      <td>1091</td>\n",
       "      <td>1090</td>\n",
       "      <td>7.551500e+12</td>\n",
       "    </tr>\n",
       "    <tr>\n",
       "      <th>12</th>\n",
       "      <td>2012</td>\n",
       "      <td>China</td>\n",
       "      <td>1003</td>\n",
       "      <td>1628</td>\n",
       "      <td>1535</td>\n",
       "      <td>8.532230e+12</td>\n",
       "    </tr>\n",
       "    <tr>\n",
       "      <th>13</th>\n",
       "      <td>2013</td>\n",
       "      <td>China</td>\n",
       "      <td>1003</td>\n",
       "      <td>2181</td>\n",
       "      <td>1947</td>\n",
       "      <td>9.570410e+12</td>\n",
       "    </tr>\n",
       "    <tr>\n",
       "      <th>14</th>\n",
       "      <td>2014</td>\n",
       "      <td>China</td>\n",
       "      <td>1003</td>\n",
       "      <td>2416</td>\n",
       "      <td>2125</td>\n",
       "      <td>1.047570e+13</td>\n",
       "    </tr>\n",
       "    <tr>\n",
       "      <th>15</th>\n",
       "      <td>2015</td>\n",
       "      <td>China</td>\n",
       "      <td>1003</td>\n",
       "      <td>2850</td>\n",
       "      <td>1900</td>\n",
       "      <td>1.106160e+13</td>\n",
       "    </tr>\n",
       "    <tr>\n",
       "      <th>16</th>\n",
       "      <td>2016</td>\n",
       "      <td>China</td>\n",
       "      <td>1003</td>\n",
       "      <td>2700</td>\n",
       "      <td>1950</td>\n",
       "      <td>1.123330e+13</td>\n",
       "    </tr>\n",
       "    <tr>\n",
       "      <th>17</th>\n",
       "      <td>2017</td>\n",
       "      <td>China</td>\n",
       "      <td>1003</td>\n",
       "      <td>2900</td>\n",
       "      <td>1950</td>\n",
       "      <td>1.231040e+13</td>\n",
       "    </tr>\n",
       "    <tr>\n",
       "      <th>18</th>\n",
       "      <td>2018</td>\n",
       "      <td>China</td>\n",
       "      <td>1003</td>\n",
       "      <td>3000</td>\n",
       "      <td>1925</td>\n",
       "      <td>1.389480e+13</td>\n",
       "    </tr>\n",
       "    <tr>\n",
       "      <th>19</th>\n",
       "      <td>2019</td>\n",
       "      <td>China</td>\n",
       "      <td>1003</td>\n",
       "      <td>3600</td>\n",
       "      <td>2000</td>\n",
       "      <td>1.427990e+13</td>\n",
       "    </tr>\n",
       "    <tr>\n",
       "      <th>20</th>\n",
       "      <td>2020</td>\n",
       "      <td>China</td>\n",
       "      <td>1003</td>\n",
       "      <td>4200</td>\n",
       "      <td>2000</td>\n",
       "      <td>1.472270e+13</td>\n",
       "    </tr>\n",
       "  </tbody>\n",
       "</table>\n",
       "</div>"
      ],
      "text/plain": [
       "    year country    id  coffee_consum  coffee_prod           gdp\n",
       "0   2000   China  1003              0            0  1.211350e+12\n",
       "1   2001   China  1003              0            0  1.339400e+12\n",
       "2   2002   China  1003            117          324  1.470550e+12\n",
       "3   2003   China  1003            156          386  1.660290e+12\n",
       "4   2004   China  1003            222          361  1.955350e+12\n",
       "5   2005   China  1003            172          365  2.285970e+12\n",
       "6   2006   China  1003            226          428  2.752130e+12\n",
       "7   2007   China  1003            164          433  3.550340e+12\n",
       "8   2008   China  1003            338          555  4.594310e+12\n",
       "9   2009   China  1003           1135         1173  5.101700e+12\n",
       "10  2010   China  1003           1106          827  6.087160e+12\n",
       "11  2011   China  1003           1091         1090  7.551500e+12\n",
       "12  2012   China  1003           1628         1535  8.532230e+12\n",
       "13  2013   China  1003           2181         1947  9.570410e+12\n",
       "14  2014   China  1003           2416         2125  1.047570e+13\n",
       "15  2015   China  1003           2850         1900  1.106160e+13\n",
       "16  2016   China  1003           2700         1950  1.123330e+13\n",
       "17  2017   China  1003           2900         1950  1.231040e+13\n",
       "18  2018   China  1003           3000         1925  1.389480e+13\n",
       "19  2019   China  1003           3600         2000  1.427990e+13\n",
       "20  2020   China  1003           4200         2000  1.472270e+13"
      ]
     },
     "execution_count": 3,
     "metadata": {},
     "output_type": "execute_result"
    }
   ],
   "source": [
    "# import data for china \n",
    "file_path = 'integrated/china.csv'\n",
    "\n",
    "df_china = pd.read_csv(file_path)\n",
    "df_china"
   ]
  },
  {
   "cell_type": "markdown",
   "id": "dc84ca8f",
   "metadata": {},
   "source": [
    "### Coffee Consumption VS. GDP"
   ]
  },
  {
   "cell_type": "code",
   "execution_count": 4,
   "id": "2b1bb73d",
   "metadata": {},
   "outputs": [],
   "source": [
    "x=np.array(df_china['gdp'])\n",
    "x = x.reshape(-1,1)\n",
    "y=np.array(df_china['coffee_consum'])\n",
    "y=y.reshape(-1,1)"
   ]
  },
  {
   "cell_type": "code",
   "execution_count": 5,
   "id": "d150674f",
   "metadata": {},
   "outputs": [],
   "source": [
    "lm = linear_model.LinearRegression()"
   ]
  },
  {
   "cell_type": "code",
   "execution_count": 6,
   "id": "b78d3f96",
   "metadata": {},
   "outputs": [
    {
     "data": {
      "text/plain": [
       "LinearRegression()"
      ]
     },
     "execution_count": 6,
     "metadata": {},
     "output_type": "execute_result"
    }
   ],
   "source": [
    "lm.fit(x,y)\n"
   ]
  },
  {
   "cell_type": "code",
   "execution_count": 7,
   "id": "1a24de28",
   "metadata": {},
   "outputs": [],
   "source": [
    "y_hat = lm.predict(x)"
   ]
  },
  {
   "cell_type": "code",
   "execution_count": 8,
   "id": "f6469680",
   "metadata": {},
   "outputs": [
    {
     "data": {
      "image/png": "[encoded data removed]",
      "text/plain": [
       "<Figure size 432x288 with 1 Axes>"
      ]
     },
     "metadata": {
      "needs_background": "light"
     },
     "output_type": "display_data"
    }
   ],
   "source": [
    "plt.scatter(x,y)\n",
    "plt.plot(x,y_hat)\n",
    "plt.xlabel('GDP(Trillion)')\n",
    "plt.ylabel('Consumption(1000 bags)')\n",
    "plt.show()"
   ]
  },
  {
   "cell_type": "markdown",
   "id": "aba55bc0",
   "metadata": {},
   "source": [
    "### Coffee production vs. GDP "
   ]
  },
  {
   "cell_type": "code",
   "execution_count": 9,
   "id": "692a6f99",
   "metadata": {},
   "outputs": [
    {
     "data": {
      "image/png": "[encoded data removed]",
      "text/plain": [
       "<Figure size 432x288 with 1 Axes>"
      ]
     },
     "metadata": {
      "needs_background": "light"
     },
     "output_type": "display_data"
    }
   ],
   "source": [
    "x=np.array(df_china['gdp'])\n",
    "x = x.reshape(-1,1)\n",
    "y=np.array(df_china['coffee_prod'])\n",
    "y=y.reshape(-1,1)\n",
    "\n",
    "lm = linear_model.LinearRegression()\n",
    "lm.fit(x,y)\n",
    "y_hat = lm.predict(x)\n",
    "plt.scatter(x,y)\n",
    "plt.plot(x,y_hat)\n",
    "plt.xlabel('GDP(Trillion)')\n",
    "plt.ylabel('Production(1000 bags)')\n",
    "plt.show()"
   ]
  },
  {
   "cell_type": "markdown",
   "id": "26960be0",
   "metadata": {},
   "source": [
    "### Prediction for consumption and production "
   ]
  },
  {
   "cell_type": "code",
   "execution_count": 10,
   "id": "827f4014",
   "metadata": {},
   "outputs": [],
   "source": [
    "new_data=df_china[['year','coffee_consum']]\n"
   ]
  },
  {
   "cell_type": "code",
   "execution_count": 11,
   "id": "6b7480ee",
   "metadata": {},
   "outputs": [
    {
     "data": {
      "text/html": [
       "<div>\n",
       "<style scoped>\n",
       "    .dataframe tbody tr th:only-of-type {\n",
       "        vertical-align: middle;\n",
       "    }\n",
       "\n",
       "    .dataframe tbody tr th {\n",
       "        vertical-align: top;\n",
       "    }\n",
       "\n",
       "    .dataframe thead th {\n",
       "        text-align: right;\n",
       "    }\n",
       "</style>\n",
       "<table border=\"1\" class=\"dataframe\">\n",
       "  <thead>\n",
       "    <tr style=\"text-align: right;\">\n",
       "      <th></th>\n",
       "      <th>year</th>\n",
       "      <th>coffee_consum</th>\n",
       "    </tr>\n",
       "  </thead>\n",
       "  <tbody>\n",
       "    <tr>\n",
       "      <th>0</th>\n",
       "      <td>2000</td>\n",
       "      <td>0</td>\n",
       "    </tr>\n",
       "    <tr>\n",
       "      <th>1</th>\n",
       "      <td>2001</td>\n",
       "      <td>0</td>\n",
       "    </tr>\n",
       "    <tr>\n",
       "      <th>2</th>\n",
       "      <td>2002</td>\n",
       "      <td>117</td>\n",
       "    </tr>\n",
       "    <tr>\n",
       "      <th>3</th>\n",
       "      <td>2003</td>\n",
       "      <td>156</td>\n",
       "    </tr>\n",
       "    <tr>\n",
       "      <th>4</th>\n",
       "      <td>2004</td>\n",
       "      <td>222</td>\n",
       "    </tr>\n",
       "  </tbody>\n",
       "</table>\n",
       "</div>"
      ],
      "text/plain": [
       "   year  coffee_consum\n",
       "0  2000              0\n",
       "1  2001              0\n",
       "2  2002            117\n",
       "3  2003            156\n",
       "4  2004            222"
      ]
     },
     "execution_count": 11,
     "metadata": {},
     "output_type": "execute_result"
    }
   ],
   "source": [
    "new_data.head()"
   ]
  },
  {
   "cell_type": "code",
   "execution_count": 12,
   "id": "62ecf87b",
   "metadata": {},
   "outputs": [],
   "source": [
    "data_ch=new_data.set_index('year')"
   ]
  },
  {
   "cell_type": "code",
   "execution_count": 13,
   "id": "edea6546",
   "metadata": {},
   "outputs": [
    {
     "data": {
      "text/plain": [
       "year             int64\n",
       "coffee_consum    int64\n",
       "dtype: object"
      ]
     },
     "execution_count": 13,
     "metadata": {},
     "output_type": "execute_result"
    }
   ],
   "source": [
    "new_data.dtypes"
   ]
  },
  {
   "cell_type": "code",
   "execution_count": 14,
   "id": "8991f5ad",
   "metadata": {},
   "outputs": [],
   "source": [
    "from datetime import date\n",
    "from matplotlib.ticker import MaxNLocator"
   ]
  },
  {
   "cell_type": "code",
   "execution_count": 15,
   "id": "987356fc",
   "metadata": {},
   "outputs": [
    {
     "data": {
      "text/plain": [
       "[<matplotlib.lines.Line2D at 0x20f90216310>]"
      ]
     },
     "execution_count": 15,
     "metadata": {},
     "output_type": "execute_result"
    },
    {
     "data": {
      "image/png": "[encoded data removed]",
      "text/plain": [
       "<Figure size 1152x576 with 1 Axes>"
      ]
     },
     "metadata": {
      "needs_background": "light"
     },
     "output_type": "display_data"
    }
   ],
   "source": [
    "plt.figure(figsize=(16,8))\n",
    "plt.xlabel('year')\n",
    "plt.ylabel('consumption')\n",
    "plt.gca().xaxis.set_major_locator(MaxNLocator(integer=True))\n",
    "plt.plot(data_ch['coffee_consum'])"
   ]
  },
  {
   "cell_type": "code",
   "execution_count": 16,
   "id": "90b4266b",
   "metadata": {},
   "outputs": [],
   "source": [
    "X=new_data['year'].tolist()\n",
    "y = new_data['coffee_consum'].tolist()"
   ]
  },
  {
   "cell_type": "code",
   "execution_count": 17,
   "id": "2ab3a923",
   "metadata": {},
   "outputs": [],
   "source": [
    "X1=np.array(X).reshape(-1,1)"
   ]
  },
  {
   "cell_type": "code",
   "execution_count": 18,
   "id": "6a5737c3",
   "metadata": {},
   "outputs": [],
   "source": [
    "y1=np.array(y).reshape(-1,1)"
   ]
  },
  {
   "cell_type": "code",
   "execution_count": 19,
   "id": "d8b0fe9b",
   "metadata": {},
   "outputs": [],
   "source": [
    "from sklearn.linear_model import LinearRegression\n",
    "\n",
    "model = LinearRegression()"
   ]
  },
  {
   "cell_type": "code",
   "execution_count": 20,
   "id": "9116c61e",
   "metadata": {},
   "outputs": [],
   "source": [
    "from sklearn.model_selection import train_test_split\n",
    "X_train,X_test,y_train,y_test=train_test_split(X1,y1,test_size=0.3)"
   ]
  },
  {
   "cell_type": "code",
   "execution_count": 21,
   "id": "3b8d6b02",
   "metadata": {},
   "outputs": [
    {
     "data": {
      "text/plain": [
       "LinearRegression()"
      ]
     },
     "execution_count": 21,
     "metadata": {},
     "output_type": "execute_result"
    }
   ],
   "source": [
    "\n",
    "model.fit(X_train,y_train)\n",
    "\n"
   ]
  },
  {
   "cell_type": "code",
   "execution_count": 22,
   "id": "b4bee8b0",
   "metadata": {},
   "outputs": [
    {
     "name": "stdout",
     "output_type": "stream",
     "text": [
      "0.5976206192635045\n",
      "296070.8304641544\n"
     ]
    }
   ],
   "source": [
    "y_pred=model.predict(X_test)\n",
    "print(r2_score(y_test,y_pred))\n",
    "print(mean_squared_error(y_test,y_pred))"
   ]
  },
  {
   "cell_type": "code",
   "execution_count": 23,
   "id": "f8307ae3",
   "metadata": {},
   "outputs": [],
   "source": [
    "#predict the consumption in the future five years "
   ]
  },
  {
   "cell_type": "code",
   "execution_count": 24,
   "id": "c44a445c",
   "metadata": {},
   "outputs": [
    {
     "data": {
      "text/plain": [
       "array([[3854.61329684]])"
      ]
     },
     "execution_count": 24,
     "metadata": {},
     "output_type": "execute_result"
    }
   ],
   "source": [
    "\n",
    "model.predict([[2021]])\n"
   ]
  },
  {
   "cell_type": "code",
   "execution_count": 25,
   "id": "d4bd17f7",
   "metadata": {},
   "outputs": [
    {
     "data": {
      "text/plain": [
       "array([[4061.1838294]])"
      ]
     },
     "execution_count": 25,
     "metadata": {},
     "output_type": "execute_result"
    }
   ],
   "source": [
    "model.predict([[2022]])"
   ]
  },
  {
   "cell_type": "code",
   "execution_count": 26,
   "id": "2fea75ac",
   "metadata": {},
   "outputs": [
    {
     "data": {
      "text/plain": [
       "array([[4267.75436196]])"
      ]
     },
     "execution_count": 26,
     "metadata": {},
     "output_type": "execute_result"
    }
   ],
   "source": [
    "model.predict([[2023]])"
   ]
  },
  {
   "cell_type": "code",
   "execution_count": 27,
   "id": "3d19ac6b",
   "metadata": {},
   "outputs": [
    {
     "data": {
      "text/plain": [
       "array([[4474.32489451]])"
      ]
     },
     "execution_count": 27,
     "metadata": {},
     "output_type": "execute_result"
    }
   ],
   "source": [
    "model.predict([[2024]])"
   ]
  },
  {
   "cell_type": "code",
   "execution_count": 28,
   "id": "d3b0e4f2",
   "metadata": {},
   "outputs": [
    {
     "data": {
      "text/plain": [
       "array([[4680.89542707]])"
      ]
     },
     "execution_count": 28,
     "metadata": {},
     "output_type": "execute_result"
    }
   ],
   "source": [
    "model.predict([[2025]])"
   ]
  },
  {
   "cell_type": "code",
   "execution_count": 29,
   "id": "c2871a8c",
   "metadata": {},
   "outputs": [
    {
     "data": {
      "text/plain": [
       "array([-413624.43300262])"
      ]
     },
     "execution_count": 29,
     "metadata": {},
     "output_type": "execute_result"
    }
   ],
   "source": [
    "model.intercept_"
   ]
  },
  {
   "cell_type": "code",
   "execution_count": 30,
   "id": "a720280a",
   "metadata": {},
   "outputs": [
    {
     "data": {
      "text/plain": [
       "array([[206.57053256]])"
      ]
     },
     "execution_count": 30,
     "metadata": {},
     "output_type": "execute_result"
    }
   ],
   "source": [
    "model.coef_"
   ]
  },
  {
   "cell_type": "code",
   "execution_count": 31,
   "id": "8387b843",
   "metadata": {},
   "outputs": [],
   "source": [
    "# Production in China \n",
    "\n",
    "data=df_china[['year','coffee_prod']]\n"
   ]
  },
  {
   "cell_type": "code",
   "execution_count": 32,
   "id": "7708bbc1",
   "metadata": {},
   "outputs": [
    {
     "data": {
      "text/html": [
       "<div>\n",
       "<style scoped>\n",
       "    .dataframe tbody tr th:only-of-type {\n",
       "        vertical-align: middle;\n",
       "    }\n",
       "\n",
       "    .dataframe tbody tr th {\n",
       "        vertical-align: top;\n",
       "    }\n",
       "\n",
       "    .dataframe thead th {\n",
       "        text-align: right;\n",
       "    }\n",
       "</style>\n",
       "<table border=\"1\" class=\"dataframe\">\n",
       "  <thead>\n",
       "    <tr style=\"text-align: right;\">\n",
       "      <th></th>\n",
       "      <th>year</th>\n",
       "      <th>coffee_prod</th>\n",
       "    </tr>\n",
       "  </thead>\n",
       "  <tbody>\n",
       "    <tr>\n",
       "      <th>0</th>\n",
       "      <td>2000</td>\n",
       "      <td>0</td>\n",
       "    </tr>\n",
       "    <tr>\n",
       "      <th>1</th>\n",
       "      <td>2001</td>\n",
       "      <td>0</td>\n",
       "    </tr>\n",
       "    <tr>\n",
       "      <th>2</th>\n",
       "      <td>2002</td>\n",
       "      <td>324</td>\n",
       "    </tr>\n",
       "    <tr>\n",
       "      <th>3</th>\n",
       "      <td>2003</td>\n",
       "      <td>386</td>\n",
       "    </tr>\n",
       "    <tr>\n",
       "      <th>4</th>\n",
       "      <td>2004</td>\n",
       "      <td>361</td>\n",
       "    </tr>\n",
       "  </tbody>\n",
       "</table>\n",
       "</div>"
      ],
      "text/plain": [
       "   year  coffee_prod\n",
       "0  2000            0\n",
       "1  2001            0\n",
       "2  2002          324\n",
       "3  2003          386\n",
       "4  2004          361"
      ]
     },
     "execution_count": 32,
     "metadata": {},
     "output_type": "execute_result"
    }
   ],
   "source": [
    "data.head()"
   ]
  },
  {
   "cell_type": "code",
   "execution_count": 33,
   "id": "3d46df4b",
   "metadata": {},
   "outputs": [],
   "source": [
    "data_new = data.set_index('year')"
   ]
  },
  {
   "cell_type": "code",
   "execution_count": 34,
   "id": "407dd83b",
   "metadata": {},
   "outputs": [
    {
     "data": {
      "text/html": [
       "<div>\n",
       "<style scoped>\n",
       "    .dataframe tbody tr th:only-of-type {\n",
       "        vertical-align: middle;\n",
       "    }\n",
       "\n",
       "    .dataframe tbody tr th {\n",
       "        vertical-align: top;\n",
       "    }\n",
       "\n",
       "    .dataframe thead th {\n",
       "        text-align: right;\n",
       "    }\n",
       "</style>\n",
       "<table border=\"1\" class=\"dataframe\">\n",
       "  <thead>\n",
       "    <tr style=\"text-align: right;\">\n",
       "      <th></th>\n",
       "      <th>coffee_prod</th>\n",
       "    </tr>\n",
       "    <tr>\n",
       "      <th>year</th>\n",
       "      <th></th>\n",
       "    </tr>\n",
       "  </thead>\n",
       "  <tbody>\n",
       "    <tr>\n",
       "      <th>2000</th>\n",
       "      <td>0</td>\n",
       "    </tr>\n",
       "    <tr>\n",
       "      <th>2001</th>\n",
       "      <td>0</td>\n",
       "    </tr>\n",
       "    <tr>\n",
       "      <th>2002</th>\n",
       "      <td>324</td>\n",
       "    </tr>\n",
       "    <tr>\n",
       "      <th>2003</th>\n",
       "      <td>386</td>\n",
       "    </tr>\n",
       "    <tr>\n",
       "      <th>2004</th>\n",
       "      <td>361</td>\n",
       "    </tr>\n",
       "  </tbody>\n",
       "</table>\n",
       "</div>"
      ],
      "text/plain": [
       "      coffee_prod\n",
       "year             \n",
       "2000            0\n",
       "2001            0\n",
       "2002          324\n",
       "2003          386\n",
       "2004          361"
      ]
     },
     "execution_count": 34,
     "metadata": {},
     "output_type": "execute_result"
    }
   ],
   "source": [
    "data_new.head()"
   ]
  },
  {
   "cell_type": "code",
   "execution_count": 35,
   "id": "85536463",
   "metadata": {},
   "outputs": [
    {
     "data": {
      "text/plain": [
       "[<matplotlib.lines.Line2D at 0x20f902a4d00>]"
      ]
     },
     "execution_count": 35,
     "metadata": {},
     "output_type": "execute_result"
    },
    {
     "data": {
      "image/png": "[encoded data removed]",
      "text/plain": [
       "<Figure size 1152x576 with 1 Axes>"
      ]
     },
     "metadata": {
      "needs_background": "light"
     },
     "output_type": "display_data"
    }
   ],
   "source": [
    "plt.figure(figsize=(16,8))\n",
    "plt.xlabel('year')\n",
    "plt.ylabel('production')\n",
    "plt.gca().xaxis.set_major_locator(MaxNLocator(integer=True))\n",
    "plt.plot(data_new['coffee_prod'], label='historical production')"
   ]
  },
  {
   "cell_type": "code",
   "execution_count": 36,
   "id": "111d950b",
   "metadata": {},
   "outputs": [],
   "source": [
    "X = data['year'].tolist()\n",
    "y = data['coffee_prod'].tolist()"
   ]
  },
  {
   "cell_type": "code",
   "execution_count": 37,
   "id": "029d9dfe",
   "metadata": {},
   "outputs": [],
   "source": [
    "X1=np.array(X).reshape(-1,1)"
   ]
  },
  {
   "cell_type": "code",
   "execution_count": 38,
   "id": "e98a579d",
   "metadata": {},
   "outputs": [],
   "source": [
    "y1=np.array(y).reshape(-1,1)"
   ]
  },
  {
   "cell_type": "code",
   "execution_count": 39,
   "id": "1538a219",
   "metadata": {},
   "outputs": [],
   "source": [
    "X_train,X_test,y_train,y_test=train_test_split(X1,y1,test_size=0.3)"
   ]
  },
  {
   "cell_type": "code",
   "execution_count": 40,
   "id": "c4bee19b",
   "metadata": {},
   "outputs": [
    {
     "data": {
      "text/plain": [
       "LinearRegression()"
      ]
     },
     "execution_count": 40,
     "metadata": {},
     "output_type": "execute_result"
    }
   ],
   "source": [
    "model = LinearRegression()\n",
    "model.fit(np.array(X).reshape(-1,1),np.array(y).reshape(-1,1))"
   ]
  },
  {
   "cell_type": "code",
   "execution_count": 41,
   "id": "068f62f3",
   "metadata": {},
   "outputs": [
    {
     "name": "stdout",
     "output_type": "stream",
     "text": [
      "0.9515841789629704\n",
      "32703.804177047048\n"
     ]
    }
   ],
   "source": [
    "y_pred=model.predict(X_test)\n",
    "print(r2_score(y_test,y_pred))\n",
    "print(mean_squared_error(y_test,y_pred))"
   ]
  },
  {
   "cell_type": "code",
   "execution_count": 42,
   "id": "eedba0b8",
   "metadata": {},
   "outputs": [],
   "source": [
    "#predict the production in the future five years "
   ]
  },
  {
   "cell_type": "code",
   "execution_count": 43,
   "id": "c170258f",
   "metadata": {},
   "outputs": [
    {
     "data": {
      "text/plain": [
       "array([[2425.02857143]])"
      ]
     },
     "execution_count": 43,
     "metadata": {},
     "output_type": "execute_result"
    }
   ],
   "source": [
    "model.predict([[2021]])"
   ]
  },
  {
   "cell_type": "code",
   "execution_count": 44,
   "id": "c9266bdd",
   "metadata": {},
   "outputs": [
    {
     "data": {
      "text/plain": [
       "array([[2544.73246753]])"
      ]
     },
     "execution_count": 44,
     "metadata": {},
     "output_type": "execute_result"
    }
   ],
   "source": [
    "model.predict([[2022]])"
   ]
  },
  {
   "cell_type": "code",
   "execution_count": 45,
   "id": "8d2df39b",
   "metadata": {},
   "outputs": [
    {
     "data": {
      "text/plain": [
       "array([[2664.43636364]])"
      ]
     },
     "execution_count": 45,
     "metadata": {},
     "output_type": "execute_result"
    }
   ],
   "source": [
    "model.predict([[2023]])"
   ]
  },
  {
   "cell_type": "code",
   "execution_count": 46,
   "id": "90433811",
   "metadata": {},
   "outputs": [
    {
     "data": {
      "text/plain": [
       "array([[2784.14025974]])"
      ]
     },
     "execution_count": 46,
     "metadata": {},
     "output_type": "execute_result"
    }
   ],
   "source": [
    "model.predict([[2024]])"
   ]
  },
  {
   "cell_type": "code",
   "execution_count": 47,
   "id": "282a38a2",
   "metadata": {},
   "outputs": [
    {
     "data": {
      "text/plain": [
       "array([[2903.84415584]])"
      ]
     },
     "execution_count": 47,
     "metadata": {},
     "output_type": "execute_result"
    }
   ],
   "source": [
    "model.predict([[2025]])"
   ]
  },
  {
   "cell_type": "code",
   "execution_count": 48,
   "id": "47be7577",
   "metadata": {},
   "outputs": [
    {
     "data": {
      "text/plain": [
       "array([-239496.54545455])"
      ]
     },
     "execution_count": 48,
     "metadata": {},
     "output_type": "execute_result"
    }
   ],
   "source": [
    "model.intercept_"
   ]
  },
  {
   "cell_type": "code",
   "execution_count": 49,
   "id": "1248b50d",
   "metadata": {},
   "outputs": [
    {
     "data": {
      "text/plain": [
       "array([[119.7038961]])"
      ]
     },
     "execution_count": 49,
     "metadata": {},
     "output_type": "execute_result"
    }
   ],
   "source": [
    "model.coef_"
   ]
  },
  {
   "cell_type": "markdown",
   "id": "c9a940fb",
   "metadata": {},
   "source": [
    "## Analysis on India "
   ]
  },
  {
   "cell_type": "code",
   "execution_count": 50,
   "id": "ee6da5f9",
   "metadata": {},
   "outputs": [
    {
     "data": {
      "text/html": [
       "<div>\n",
       "<style scoped>\n",
       "    .dataframe tbody tr th:only-of-type {\n",
       "        vertical-align: middle;\n",
       "    }\n",
       "\n",
       "    .dataframe tbody tr th {\n",
       "        vertical-align: top;\n",
       "    }\n",
       "\n",
       "    .dataframe thead th {\n",
       "        text-align: right;\n",
       "    }\n",
       "</style>\n",
       "<table border=\"1\" class=\"dataframe\">\n",
       "  <thead>\n",
       "    <tr style=\"text-align: right;\">\n",
       "      <th></th>\n",
       "      <th>year</th>\n",
       "      <th>country</th>\n",
       "      <th>id</th>\n",
       "      <th>coffee_consum</th>\n",
       "      <th>coffee_prod</th>\n",
       "      <th>GDP</th>\n",
       "    </tr>\n",
       "  </thead>\n",
       "  <tbody>\n",
       "    <tr>\n",
       "      <th>0</th>\n",
       "      <td>2000</td>\n",
       "      <td>India</td>\n",
       "      <td>1004</td>\n",
       "      <td>959</td>\n",
       "      <td>5020</td>\n",
       "      <td>4.683950e+11</td>\n",
       "    </tr>\n",
       "    <tr>\n",
       "      <th>1</th>\n",
       "      <td>2001</td>\n",
       "      <td>India</td>\n",
       "      <td>1004</td>\n",
       "      <td>1000</td>\n",
       "      <td>5010</td>\n",
       "      <td>4.854410e+11</td>\n",
       "    </tr>\n",
       "    <tr>\n",
       "      <th>2</th>\n",
       "      <td>2002</td>\n",
       "      <td>India</td>\n",
       "      <td>1004</td>\n",
       "      <td>1050</td>\n",
       "      <td>4588</td>\n",
       "      <td>5.149380e+11</td>\n",
       "    </tr>\n",
       "    <tr>\n",
       "      <th>3</th>\n",
       "      <td>2003</td>\n",
       "      <td>India</td>\n",
       "      <td>1004</td>\n",
       "      <td>1085</td>\n",
       "      <td>4508</td>\n",
       "      <td>6.076990e+11</td>\n",
       "    </tr>\n",
       "    <tr>\n",
       "      <th>4</th>\n",
       "      <td>2004</td>\n",
       "      <td>India</td>\n",
       "      <td>1004</td>\n",
       "      <td>1135</td>\n",
       "      <td>4595</td>\n",
       "      <td>7.091490e+11</td>\n",
       "    </tr>\n",
       "  </tbody>\n",
       "</table>\n",
       "</div>"
      ],
      "text/plain": [
       "   year country    id  coffee_consum  coffee_prod           GDP\n",
       "0  2000   India  1004            959         5020  4.683950e+11\n",
       "1  2001   India  1004           1000         5010  4.854410e+11\n",
       "2  2002   India  1004           1050         4588  5.149380e+11\n",
       "3  2003   India  1004           1085         4508  6.076990e+11\n",
       "4  2004   India  1004           1135         4595  7.091490e+11"
      ]
     },
     "execution_count": 50,
     "metadata": {},
     "output_type": "execute_result"
    }
   ],
   "source": [
    "#import analysis on India \n",
    "\n",
    "file_path = 'integrated/india.csv'\n",
    "\n",
    "df_india = pd.read_csv(file_path)\n",
    "df_india.head()"
   ]
  },
  {
   "cell_type": "markdown",
   "id": "0f94fd67",
   "metadata": {},
   "source": [
    "### Coffee Consumption VS. GDP"
   ]
  },
  {
   "cell_type": "code",
   "execution_count": 51,
   "id": "62a49ef8",
   "metadata": {},
   "outputs": [],
   "source": [
    "x=np.array(df_india['GDP'])\n",
    "x = x.reshape(-1,1)\n",
    "y=np.array(df_india['coffee_consum'])\n",
    "y=y.reshape(-1,1)"
   ]
  },
  {
   "cell_type": "code",
   "execution_count": 52,
   "id": "fe3facb4",
   "metadata": {},
   "outputs": [],
   "source": [
    "lm = linear_model.LinearRegression()\n",
    "\n",
    "lm.fit(x,y)\n",
    "\n",
    "y_hat = lm.predict(x)"
   ]
  },
  {
   "cell_type": "code",
   "execution_count": 53,
   "id": "74211b29",
   "metadata": {},
   "outputs": [
    {
     "data": {
      "image/png": "[encoded data removed]",
      "text/plain": [
       "<Figure size 432x288 with 1 Axes>"
      ]
     },
     "metadata": {
      "needs_background": "light"
     },
     "output_type": "display_data"
    }
   ],
   "source": [
    "plt.scatter(x,y)\n",
    "plt.plot(x,y_hat)\n",
    "plt.xlabel('GDP(Trillion)')\n",
    "plt.ylabel('Consumption(1000 bags)')\n",
    "plt.show()"
   ]
  },
  {
   "cell_type": "markdown",
   "id": "945220c3",
   "metadata": {},
   "source": [
    "### Coffee production vs. GDP"
   ]
  },
  {
   "cell_type": "code",
   "execution_count": 54,
   "id": "2b5e30fb",
   "metadata": {},
   "outputs": [
    {
     "data": {
      "image/png": "[encoded data removed]",
      "text/plain": [
       "<Figure size 432x288 with 1 Axes>"
      ]
     },
     "metadata": {
      "needs_background": "light"
     },
     "output_type": "display_data"
    }
   ],
   "source": [
    "x=np.array(df_india['GDP'])\n",
    "x = x.reshape(-1,1)\n",
    "y=np.array(df_india['coffee_prod'])\n",
    "y=y.reshape(-1,1)\n",
    "\n",
    "lm = linear_model.LinearRegression()\n",
    "lm.fit(x,y)\n",
    "y_hat = lm.predict(x)\n",
    "plt.scatter(x,y)\n",
    "plt.plot(x,y_hat)\n",
    "plt.xlabel('GDP(Trillion)')\n",
    "plt.ylabel('Production(1000 bags)')\n",
    "plt.show()"
   ]
  },
  {
   "cell_type": "markdown",
   "id": "568e9bd1",
   "metadata": {},
   "source": [
    "### Prediction for consumption and production"
   ]
  },
  {
   "cell_type": "code",
   "execution_count": 55,
   "id": "672eed40",
   "metadata": {},
   "outputs": [],
   "source": [
    "# Consumption in India"
   ]
  },
  {
   "cell_type": "code",
   "execution_count": 56,
   "id": "4a78e5ac",
   "metadata": {},
   "outputs": [],
   "source": [
    "in_data=df_india[['year','coffee_consum']]\n",
    "#in_data=df_india.drop(columns='year')"
   ]
  },
  {
   "cell_type": "code",
   "execution_count": 57,
   "id": "1211f422",
   "metadata": {},
   "outputs": [
    {
     "data": {
      "text/html": [
       "<div>\n",
       "<style scoped>\n",
       "    .dataframe tbody tr th:only-of-type {\n",
       "        vertical-align: middle;\n",
       "    }\n",
       "\n",
       "    .dataframe tbody tr th {\n",
       "        vertical-align: top;\n",
       "    }\n",
       "\n",
       "    .dataframe thead th {\n",
       "        text-align: right;\n",
       "    }\n",
       "</style>\n",
       "<table border=\"1\" class=\"dataframe\">\n",
       "  <thead>\n",
       "    <tr style=\"text-align: right;\">\n",
       "      <th></th>\n",
       "      <th>year</th>\n",
       "      <th>coffee_consum</th>\n",
       "    </tr>\n",
       "  </thead>\n",
       "  <tbody>\n",
       "    <tr>\n",
       "      <th>0</th>\n",
       "      <td>2000</td>\n",
       "      <td>959</td>\n",
       "    </tr>\n",
       "    <tr>\n",
       "      <th>1</th>\n",
       "      <td>2001</td>\n",
       "      <td>1000</td>\n",
       "    </tr>\n",
       "    <tr>\n",
       "      <th>2</th>\n",
       "      <td>2002</td>\n",
       "      <td>1050</td>\n",
       "    </tr>\n",
       "    <tr>\n",
       "      <th>3</th>\n",
       "      <td>2003</td>\n",
       "      <td>1085</td>\n",
       "    </tr>\n",
       "    <tr>\n",
       "      <th>4</th>\n",
       "      <td>2004</td>\n",
       "      <td>1135</td>\n",
       "    </tr>\n",
       "  </tbody>\n",
       "</table>\n",
       "</div>"
      ],
      "text/plain": [
       "   year  coffee_consum\n",
       "0  2000            959\n",
       "1  2001           1000\n",
       "2  2002           1050\n",
       "3  2003           1085\n",
       "4  2004           1135"
      ]
     },
     "execution_count": 57,
     "metadata": {},
     "output_type": "execute_result"
    }
   ],
   "source": [
    "in_data.head()"
   ]
  },
  {
   "cell_type": "code",
   "execution_count": 58,
   "id": "cb0028d1",
   "metadata": {},
   "outputs": [],
   "source": [
    "new_in = in_data.set_index('year')"
   ]
  },
  {
   "cell_type": "code",
   "execution_count": 59,
   "id": "14552788",
   "metadata": {},
   "outputs": [
    {
     "data": {
      "text/plain": [
       "[<matplotlib.lines.Line2D at 0x20f907af310>]"
      ]
     },
     "execution_count": 59,
     "metadata": {},
     "output_type": "execute_result"
    },
    {
     "data": {
      "image/png": "[encoded data removed]",
      "text/plain": [
       "<Figure size 1152x576 with 1 Axes>"
      ]
     },
     "metadata": {
      "needs_background": "light"
     },
     "output_type": "display_data"
    }
   ],
   "source": [
    "plt.figure(figsize=(16,8))\n",
    "plt.xlabel('year')\n",
    "plt.ylabel('consumption')\n",
    "plt.gca().xaxis.set_major_locator(MaxNLocator(integer=True))\n",
    "plt.plot(new_in['coffee_consum'], label='historical consumption')"
   ]
  },
  {
   "cell_type": "code",
   "execution_count": 60,
   "id": "834f13f0",
   "metadata": {},
   "outputs": [],
   "source": [
    "X = in_data['year'].tolist()\n",
    "y = in_data['coffee_consum'].tolist()"
   ]
  },
  {
   "cell_type": "code",
   "execution_count": 61,
   "id": "79a6b396",
   "metadata": {},
   "outputs": [],
   "source": [
    "X1=np.array(X).reshape(-1,1)\n",
    "y1=np.array(y).reshape(-1,1)\n",
    "X_train,X_test,y_train,y_test=train_test_split(X1,y1,test_size=0.3)"
   ]
  },
  {
   "cell_type": "code",
   "execution_count": 62,
   "id": "01a2f0c1",
   "metadata": {},
   "outputs": [
    {
     "data": {
      "text/plain": [
       "LinearRegression()"
      ]
     },
     "execution_count": 62,
     "metadata": {},
     "output_type": "execute_result"
    }
   ],
   "source": [
    "model = LinearRegression()\n",
    "model.fit(X1,y1)"
   ]
  },
  {
   "cell_type": "code",
   "execution_count": 63,
   "id": "1250c1f3",
   "metadata": {},
   "outputs": [
    {
     "name": "stdout",
     "output_type": "stream",
     "text": [
      "0.2610295110677129\n",
      "3216.783781413405\n"
     ]
    }
   ],
   "source": [
    "y_pred=model.predict(X_test)\n",
    "print(r2_score(y_test,y_pred))\n",
    "print(mean_squared_error(y_test,y_pred))"
   ]
  },
  {
   "cell_type": "code",
   "execution_count": 64,
   "id": "f96dc6b0",
   "metadata": {},
   "outputs": [],
   "source": [
    "#predict the consumption in the future five years "
   ]
  },
  {
   "cell_type": "code",
   "execution_count": 65,
   "id": "3215d76c",
   "metadata": {},
   "outputs": [
    {
     "data": {
      "text/plain": [
       "array([[1251.81428571]])"
      ]
     },
     "execution_count": 65,
     "metadata": {},
     "output_type": "execute_result"
    }
   ],
   "source": [
    "model.predict([[2021]])"
   ]
  },
  {
   "cell_type": "code",
   "execution_count": 66,
   "id": "4f4946a0",
   "metadata": {},
   "outputs": [
    {
     "data": {
      "text/plain": [
       "array([[1259.69350649]])"
      ]
     },
     "execution_count": 66,
     "metadata": {},
     "output_type": "execute_result"
    }
   ],
   "source": [
    "model.predict([[2022]])"
   ]
  },
  {
   "cell_type": "code",
   "execution_count": 67,
   "id": "c488ab71",
   "metadata": {},
   "outputs": [
    {
     "data": {
      "text/plain": [
       "array([[1267.57272727]])"
      ]
     },
     "execution_count": 67,
     "metadata": {},
     "output_type": "execute_result"
    }
   ],
   "source": [
    "model.predict([[2023]])"
   ]
  },
  {
   "cell_type": "code",
   "execution_count": 68,
   "id": "887cbdd3",
   "metadata": {},
   "outputs": [
    {
     "data": {
      "text/plain": [
       "array([[1275.45194805]])"
      ]
     },
     "execution_count": 68,
     "metadata": {},
     "output_type": "execute_result"
    }
   ],
   "source": [
    "model.predict([[2024]])"
   ]
  },
  {
   "cell_type": "code",
   "execution_count": 69,
   "id": "04481051",
   "metadata": {},
   "outputs": [
    {
     "data": {
      "text/plain": [
       "array([[1283.33116883]])"
      ]
     },
     "execution_count": 69,
     "metadata": {},
     "output_type": "execute_result"
    }
   ],
   "source": [
    "model.predict([[2025]])"
   ]
  },
  {
   "cell_type": "code",
   "execution_count": 70,
   "id": "5999edff",
   "metadata": {},
   "outputs": [
    {
     "data": {
      "text/plain": [
       "array([-14672.09090909])"
      ]
     },
     "execution_count": 70,
     "metadata": {},
     "output_type": "execute_result"
    }
   ],
   "source": [
    "model.intercept_"
   ]
  },
  {
   "cell_type": "code",
   "execution_count": 71,
   "id": "6137b967",
   "metadata": {},
   "outputs": [
    {
     "data": {
      "text/plain": [
       "array([[7.87922078]])"
      ]
     },
     "execution_count": 71,
     "metadata": {},
     "output_type": "execute_result"
    }
   ],
   "source": [
    "model.coef_"
   ]
  },
  {
   "cell_type": "code",
   "execution_count": 72,
   "id": "75ca9ff7",
   "metadata": {},
   "outputs": [],
   "source": [
    "in_data=df_india[['year','coffee_prod']]"
   ]
  },
  {
   "cell_type": "code",
   "execution_count": 73,
   "id": "9a60f268",
   "metadata": {},
   "outputs": [
    {
     "data": {
      "text/html": [
       "<div>\n",
       "<style scoped>\n",
       "    .dataframe tbody tr th:only-of-type {\n",
       "        vertical-align: middle;\n",
       "    }\n",
       "\n",
       "    .dataframe tbody tr th {\n",
       "        vertical-align: top;\n",
       "    }\n",
       "\n",
       "    .dataframe thead th {\n",
       "        text-align: right;\n",
       "    }\n",
       "</style>\n",
       "<table border=\"1\" class=\"dataframe\">\n",
       "  <thead>\n",
       "    <tr style=\"text-align: right;\">\n",
       "      <th></th>\n",
       "      <th>year</th>\n",
       "      <th>coffee_prod</th>\n",
       "    </tr>\n",
       "  </thead>\n",
       "  <tbody>\n",
       "    <tr>\n",
       "      <th>0</th>\n",
       "      <td>2000</td>\n",
       "      <td>5020</td>\n",
       "    </tr>\n",
       "    <tr>\n",
       "      <th>1</th>\n",
       "      <td>2001</td>\n",
       "      <td>5010</td>\n",
       "    </tr>\n",
       "    <tr>\n",
       "      <th>2</th>\n",
       "      <td>2002</td>\n",
       "      <td>4588</td>\n",
       "    </tr>\n",
       "    <tr>\n",
       "      <th>3</th>\n",
       "      <td>2003</td>\n",
       "      <td>4508</td>\n",
       "    </tr>\n",
       "    <tr>\n",
       "      <th>4</th>\n",
       "      <td>2004</td>\n",
       "      <td>4595</td>\n",
       "    </tr>\n",
       "  </tbody>\n",
       "</table>\n",
       "</div>"
      ],
      "text/plain": [
       "   year  coffee_prod\n",
       "0  2000         5020\n",
       "1  2001         5010\n",
       "2  2002         4588\n",
       "3  2003         4508\n",
       "4  2004         4595"
      ]
     },
     "execution_count": 73,
     "metadata": {},
     "output_type": "execute_result"
    }
   ],
   "source": [
    "in_data.head()"
   ]
  },
  {
   "cell_type": "code",
   "execution_count": 74,
   "id": "e8176d9b",
   "metadata": {},
   "outputs": [],
   "source": [
    "in_prod=in_data.set_index('year')"
   ]
  },
  {
   "cell_type": "code",
   "execution_count": 75,
   "id": "068506d0",
   "metadata": {},
   "outputs": [
    {
     "data": {
      "text/plain": [
       "[<matplotlib.lines.Line2D at 0x20f90827b80>]"
      ]
     },
     "execution_count": 75,
     "metadata": {},
     "output_type": "execute_result"
    },
    {
     "data": {
      "image/png": "[encoded data removed]",
      "text/plain": [
       "<Figure size 1152x576 with 1 Axes>"
      ]
     },
     "metadata": {
      "needs_background": "light"
     },
     "output_type": "display_data"
    }
   ],
   "source": [
    "plt.figure(figsize=(16,8))\n",
    "plt.xlabel('year')\n",
    "plt.ylabel('production')\n",
    "plt.gca().xaxis.set_major_locator(MaxNLocator(integer=True))\n",
    "plt.plot(in_prod['coffee_prod'], label='historical production')"
   ]
  },
  {
   "cell_type": "code",
   "execution_count": 76,
   "id": "d5a9c4d8",
   "metadata": {},
   "outputs": [],
   "source": [
    "X = in_data['year'].tolist()\n",
    "y = in_data['coffee_prod'].tolist()"
   ]
  },
  {
   "cell_type": "code",
   "execution_count": 77,
   "id": "47acdc03",
   "metadata": {},
   "outputs": [
    {
     "name": "stdout",
     "output_type": "stream",
     "text": [
      "0.4239268778872791\n",
      "73752.40807116918\n"
     ]
    }
   ],
   "source": [
    "X1=np.array(X).reshape(-1,1)\n",
    "y1=np.array(y).reshape(-1,1)\n",
    "X_train,X_test,y_train,y_test=train_test_split(X1,y1,test_size=0.3)\n",
    "\n",
    "model = LinearRegression()\n",
    "model.fit(X1,y1)\n",
    "\n",
    "y_pred=model.predict(X_test)\n",
    "print(r2_score(y_test,y_pred))\n",
    "print(mean_squared_error(y_test,y_pred))"
   ]
  },
  {
   "cell_type": "code",
   "execution_count": 78,
   "id": "1a5efb8b",
   "metadata": {},
   "outputs": [
    {
     "data": {
      "text/plain": [
       "array([[5402.32380952]])"
      ]
     },
     "execution_count": 78,
     "metadata": {},
     "output_type": "execute_result"
    }
   ],
   "source": [
    "model.predict([[2021]])"
   ]
  },
  {
   "cell_type": "code",
   "execution_count": 79,
   "id": "5641f659",
   "metadata": {},
   "outputs": [
    {
     "data": {
      "text/plain": [
       "array([[5440.91601732]])"
      ]
     },
     "execution_count": 79,
     "metadata": {},
     "output_type": "execute_result"
    }
   ],
   "source": [
    "model.predict([[2022]])"
   ]
  },
  {
   "cell_type": "code",
   "execution_count": 80,
   "id": "8b145e9f",
   "metadata": {},
   "outputs": [
    {
     "data": {
      "text/plain": [
       "array([[5479.50822511]])"
      ]
     },
     "execution_count": 80,
     "metadata": {},
     "output_type": "execute_result"
    }
   ],
   "source": [
    "model.predict([[2023]])"
   ]
  },
  {
   "cell_type": "code",
   "execution_count": 81,
   "id": "1cc0dccc",
   "metadata": {},
   "outputs": [
    {
     "data": {
      "text/plain": [
       "array([[5518.1004329]])"
      ]
     },
     "execution_count": 81,
     "metadata": {},
     "output_type": "execute_result"
    }
   ],
   "source": [
    "model.predict([[2024]])"
   ]
  },
  {
   "cell_type": "code",
   "execution_count": 82,
   "id": "defd7ef0",
   "metadata": {},
   "outputs": [
    {
     "data": {
      "text/plain": [
       "array([[5556.69264069]])"
      ]
     },
     "execution_count": 82,
     "metadata": {},
     "output_type": "execute_result"
    }
   ],
   "source": [
    "model.predict([[2025]])"
   ]
  },
  {
   "cell_type": "code",
   "execution_count": 83,
   "id": "90509067",
   "metadata": {},
   "outputs": [
    {
     "data": {
      "text/plain": [
       "array([-72592.52813853])"
      ]
     },
     "execution_count": 83,
     "metadata": {},
     "output_type": "execute_result"
    }
   ],
   "source": [
    "model.intercept_"
   ]
  },
  {
   "cell_type": "code",
   "execution_count": 84,
   "id": "ed3b2326",
   "metadata": {},
   "outputs": [
    {
     "data": {
      "text/plain": [
       "array([[38.59220779]])"
      ]
     },
     "execution_count": 84,
     "metadata": {},
     "output_type": "execute_result"
    }
   ],
   "source": [
    "model.coef_"
   ]
  },
  {
   "cell_type": "code",
   "execution_count": 85,
   "id": "f11e1e99",
   "metadata": {},
   "outputs": [
    {
     "data": {
      "text/plain": [
       "0.39900491160113616"
      ]
     },
     "execution_count": 85,
     "metadata": {},
     "output_type": "execute_result"
    }
   ],
   "source": [
    "model.score(np.array(X).reshape(-1,1),np.array(y).reshape(-1,1))"
   ]
  },
  {
   "cell_type": "markdown",
   "id": "650b83ec",
   "metadata": {},
   "source": [
    "## Analysis on South Africa "
   ]
  },
  {
   "cell_type": "code",
   "execution_count": 176,
   "id": "29a17514",
   "metadata": {},
   "outputs": [
    {
     "data": {
      "text/html": [
       "<div>\n",
       "<style scoped>\n",
       "    .dataframe tbody tr th:only-of-type {\n",
       "        vertical-align: middle;\n",
       "    }\n",
       "\n",
       "    .dataframe tbody tr th {\n",
       "        vertical-align: top;\n",
       "    }\n",
       "\n",
       "    .dataframe thead th {\n",
       "        text-align: right;\n",
       "    }\n",
       "</style>\n",
       "<table border=\"1\" class=\"dataframe\">\n",
       "  <thead>\n",
       "    <tr style=\"text-align: right;\">\n",
       "      <th></th>\n",
       "      <th>year</th>\n",
       "      <th>country</th>\n",
       "      <th>id</th>\n",
       "      <th>coffee_consum</th>\n",
       "      <th>coffee_import</th>\n",
       "      <th>GDP</th>\n",
       "    </tr>\n",
       "  </thead>\n",
       "  <tbody>\n",
       "    <tr>\n",
       "      <th>0</th>\n",
       "      <td>2000</td>\n",
       "      <td>South Africa</td>\n",
       "      <td>1006</td>\n",
       "      <td>0</td>\n",
       "      <td>413</td>\n",
       "      <td>1.520000e+11</td>\n",
       "    </tr>\n",
       "    <tr>\n",
       "      <th>1</th>\n",
       "      <td>2001</td>\n",
       "      <td>South Africa</td>\n",
       "      <td>1006</td>\n",
       "      <td>0</td>\n",
       "      <td>337</td>\n",
       "      <td>1.350000e+11</td>\n",
       "    </tr>\n",
       "    <tr>\n",
       "      <th>2</th>\n",
       "      <td>2002</td>\n",
       "      <td>South Africa</td>\n",
       "      <td>1006</td>\n",
       "      <td>325</td>\n",
       "      <td>340</td>\n",
       "      <td>1.290000e+11</td>\n",
       "    </tr>\n",
       "    <tr>\n",
       "      <th>3</th>\n",
       "      <td>2003</td>\n",
       "      <td>South Africa</td>\n",
       "      <td>1006</td>\n",
       "      <td>360</td>\n",
       "      <td>360</td>\n",
       "      <td>1.970000e+11</td>\n",
       "    </tr>\n",
       "    <tr>\n",
       "      <th>4</th>\n",
       "      <td>2004</td>\n",
       "      <td>South Africa</td>\n",
       "      <td>1006</td>\n",
       "      <td>380</td>\n",
       "      <td>380</td>\n",
       "      <td>2.560000e+11</td>\n",
       "    </tr>\n",
       "  </tbody>\n",
       "</table>\n",
       "</div>"
      ],
      "text/plain": [
       "   year       country    id  coffee_consum  coffee_import           GDP\n",
       "0  2000  South Africa  1006              0            413  1.520000e+11\n",
       "1  2001  South Africa  1006              0            337  1.350000e+11\n",
       "2  2002  South Africa  1006            325            340  1.290000e+11\n",
       "3  2003  South Africa  1006            360            360  1.970000e+11\n",
       "4  2004  South Africa  1006            380            380  2.560000e+11"
      ]
     },
     "execution_count": 176,
     "metadata": {},
     "output_type": "execute_result"
    }
   ],
   "source": [
    "file_path = 'integrated/southafrica.csv'\n",
    "\n",
    "df_sa = pd.read_csv(file_path)\n",
    "df_sa.head()"
   ]
  },
  {
   "cell_type": "markdown",
   "id": "5b63b144",
   "metadata": {},
   "source": [
    "### Coffee Consumption VS. GDP"
   ]
  },
  {
   "cell_type": "code",
   "execution_count": 177,
   "id": "a0e45c9b",
   "metadata": {},
   "outputs": [],
   "source": [
    "x=np.array(df_sa['GDP'])\n",
    "x = x.reshape(-1,1)\n",
    "y=np.array(df_sa['coffee_consum'])\n",
    "y=y.reshape(-1,1)"
   ]
  },
  {
   "cell_type": "code",
   "execution_count": 178,
   "id": "d93e67d1",
   "metadata": {},
   "outputs": [],
   "source": [
    "lm = linear_model.LinearRegression()\n",
    "\n",
    "lm.fit(x,y)\n",
    "\n",
    "y_hat = lm.predict(x)"
   ]
  },
  {
   "cell_type": "code",
   "execution_count": 179,
   "id": "81b6613f",
   "metadata": {},
   "outputs": [
    {
     "data": {
      "image/png": "[encoded data removed]",
      "text/plain": [
       "<Figure size 432x288 with 1 Axes>"
      ]
     },
     "metadata": {
      "needs_background": "light"
     },
     "output_type": "display_data"
    }
   ],
   "source": [
    "plt.scatter(x,y)\n",
    "plt.plot(x,y_hat)\n",
    "plt.xlabel('GDP(Trillion)')\n",
    "plt.ylabel('Consumption(1000 bags)')\n",
    "plt.show()"
   ]
  },
  {
   "cell_type": "markdown",
   "id": "cf01948d",
   "metadata": {},
   "source": [
    "### Coffee production vs. GDP"
   ]
  },
  {
   "cell_type": "code",
   "execution_count": 180,
   "id": "0c4024fc",
   "metadata": {},
   "outputs": [],
   "source": [
    "x=np.array(df_sa['GDP'])\n",
    "x = x.reshape(-1,1)\n",
    "y=np.array(df_sa['coffee_import'])\n",
    "y=y.reshape(-1,1)"
   ]
  },
  {
   "cell_type": "code",
   "execution_count": 181,
   "id": "0da4c397",
   "metadata": {},
   "outputs": [],
   "source": [
    "lm = linear_model.LinearRegression()\n",
    "\n",
    "lm.fit(x,y)\n",
    "\n",
    "y_hat = lm.predict(x)"
   ]
  },
  {
   "cell_type": "code",
   "execution_count": 182,
   "id": "0b71ccf4",
   "metadata": {},
   "outputs": [
    {
     "data": {
      "image/png": "[encoded data removed]",
      "text/plain": [
       "<Figure size 432x288 with 1 Axes>"
      ]
     },
     "metadata": {
      "needs_background": "light"
     },
     "output_type": "display_data"
    }
   ],
   "source": [
    "plt.scatter(x,y)\n",
    "plt.plot(x,y_hat)\n",
    "plt.xlabel('GDP(Trillion)')\n",
    "plt.ylabel('import(1000 bags)')\n",
    "plt.show()"
   ]
  },
  {
   "cell_type": "markdown",
   "id": "b80802e6",
   "metadata": {},
   "source": [
    "### Prediction for consumption and production"
   ]
  },
  {
   "cell_type": "code",
   "execution_count": 205,
   "id": "19c7349b",
   "metadata": {},
   "outputs": [],
   "source": [
    "sa_data=df_sa[['year','coffee_consum']]"
   ]
  },
  {
   "cell_type": "code",
   "execution_count": 206,
   "id": "bedd44b3",
   "metadata": {},
   "outputs": [
    {
     "data": {
      "text/html": [
       "<div>\n",
       "<style scoped>\n",
       "    .dataframe tbody tr th:only-of-type {\n",
       "        vertical-align: middle;\n",
       "    }\n",
       "\n",
       "    .dataframe tbody tr th {\n",
       "        vertical-align: top;\n",
       "    }\n",
       "\n",
       "    .dataframe thead th {\n",
       "        text-align: right;\n",
       "    }\n",
       "</style>\n",
       "<table border=\"1\" class=\"dataframe\">\n",
       "  <thead>\n",
       "    <tr style=\"text-align: right;\">\n",
       "      <th></th>\n",
       "      <th>year</th>\n",
       "      <th>coffee_consum</th>\n",
       "    </tr>\n",
       "  </thead>\n",
       "  <tbody>\n",
       "    <tr>\n",
       "      <th>0</th>\n",
       "      <td>2000</td>\n",
       "      <td>0</td>\n",
       "    </tr>\n",
       "    <tr>\n",
       "      <th>1</th>\n",
       "      <td>2001</td>\n",
       "      <td>0</td>\n",
       "    </tr>\n",
       "    <tr>\n",
       "      <th>2</th>\n",
       "      <td>2002</td>\n",
       "      <td>325</td>\n",
       "    </tr>\n",
       "    <tr>\n",
       "      <th>3</th>\n",
       "      <td>2003</td>\n",
       "      <td>360</td>\n",
       "    </tr>\n",
       "    <tr>\n",
       "      <th>4</th>\n",
       "      <td>2004</td>\n",
       "      <td>380</td>\n",
       "    </tr>\n",
       "  </tbody>\n",
       "</table>\n",
       "</div>"
      ],
      "text/plain": [
       "   year  coffee_consum\n",
       "0  2000              0\n",
       "1  2001              0\n",
       "2  2002            325\n",
       "3  2003            360\n",
       "4  2004            380"
      ]
     },
     "execution_count": 206,
     "metadata": {},
     "output_type": "execute_result"
    }
   ],
   "source": [
    "sa_data.head()"
   ]
  },
  {
   "cell_type": "code",
   "execution_count": 207,
   "id": "9ee6c710",
   "metadata": {},
   "outputs": [],
   "source": [
    "new_sa = sa_data.set_index('year')"
   ]
  },
  {
   "cell_type": "code",
   "execution_count": 208,
   "id": "405e79eb",
   "metadata": {},
   "outputs": [
    {
     "data": {
      "text/plain": [
       "[<matplotlib.lines.Line2D at 0x20f9233a160>]"
      ]
     },
     "execution_count": 208,
     "metadata": {},
     "output_type": "execute_result"
    },
    {
     "data": {
      "image/png": "[encoded data removed]",
      "text/plain": [
       "<Figure size 1152x576 with 1 Axes>"
      ]
     },
     "metadata": {
      "needs_background": "light"
     },
     "output_type": "display_data"
    }
   ],
   "source": [
    "plt.figure(figsize=(16,8))\n",
    "plt.xlabel('year')\n",
    "plt.ylabel('consumption')\n",
    "plt.gca().xaxis.set_major_locator(MaxNLocator(integer=True))\n",
    "plt.plot(new_sa['coffee_consum'], label='historical consumption')"
   ]
  },
  {
   "cell_type": "code",
   "execution_count": 187,
   "id": "6ff0b628",
   "metadata": {},
   "outputs": [],
   "source": [
    "X = sa_data['year'].tolist()\n",
    "y = sa_data['coffee_consum'].tolist()"
   ]
  },
  {
   "cell_type": "code",
   "execution_count": 209,
   "id": "96ba15de",
   "metadata": {},
   "outputs": [
    {
     "name": "stdout",
     "output_type": "stream",
     "text": [
      "0.7876253235681455\n",
      "10479.82344649801\n"
     ]
    }
   ],
   "source": [
    "X1=np.array(X).reshape(-1,1)\n",
    "y1=np.array(y).reshape(-1,1)\n",
    "X_train,X_test,y_train,y_test=train_test_split(X1,y1,test_size=0.3)\n",
    "\n",
    "model = LinearRegression()\n",
    "model.fit(X1,y1)\n",
    "\n",
    "y_pred=model.predict(X_test)\n",
    "print(r2_score(y_test,y_pred))\n",
    "print(mean_squared_error(y_test,y_pred))"
   ]
  },
  {
   "cell_type": "code",
   "execution_count": 99,
   "id": "bcc8795b",
   "metadata": {},
   "outputs": [],
   "source": [
    "# Prediction of consumption in five years "
   ]
  },
  {
   "cell_type": "code",
   "execution_count": 210,
   "id": "ab93e381",
   "metadata": {},
   "outputs": [
    {
     "data": {
      "text/plain": [
       "array([[785.35714286]])"
      ]
     },
     "execution_count": 210,
     "metadata": {},
     "output_type": "execute_result"
    }
   ],
   "source": [
    "model.predict([[2021]])"
   ]
  },
  {
   "cell_type": "code",
   "execution_count": 211,
   "id": "f4f12248",
   "metadata": {},
   "outputs": [
    {
     "data": {
      "text/plain": [
       "array([[813.7012987]])"
      ]
     },
     "execution_count": 211,
     "metadata": {},
     "output_type": "execute_result"
    }
   ],
   "source": [
    "model.predict([[2022]])"
   ]
  },
  {
   "cell_type": "code",
   "execution_count": 212,
   "id": "e88f9866",
   "metadata": {},
   "outputs": [
    {
     "data": {
      "text/plain": [
       "array([[842.04545455]])"
      ]
     },
     "execution_count": 212,
     "metadata": {},
     "output_type": "execute_result"
    }
   ],
   "source": [
    "model.predict([[2023]])"
   ]
  },
  {
   "cell_type": "code",
   "execution_count": 213,
   "id": "2d186dbf",
   "metadata": {},
   "outputs": [
    {
     "data": {
      "text/plain": [
       "array([[870.38961039]])"
      ]
     },
     "execution_count": 213,
     "metadata": {},
     "output_type": "execute_result"
    }
   ],
   "source": [
    "model.predict([[2024]])"
   ]
  },
  {
   "cell_type": "code",
   "execution_count": 214,
   "id": "18bc3e7e",
   "metadata": {},
   "outputs": [
    {
     "data": {
      "text/plain": [
       "array([[898.73376623]])"
      ]
     },
     "execution_count": 214,
     "metadata": {},
     "output_type": "execute_result"
    }
   ],
   "source": [
    "model.predict([[2025]])"
   ]
  },
  {
   "cell_type": "code",
   "execution_count": 218,
   "id": "294bfb0b",
   "metadata": {},
   "outputs": [
    {
     "data": {
      "text/plain": [
       "array([-56498.18181818])"
      ]
     },
     "execution_count": 218,
     "metadata": {},
     "output_type": "execute_result"
    }
   ],
   "source": [
    "model.intercept_"
   ]
  },
  {
   "cell_type": "code",
   "execution_count": 219,
   "id": "dbc2a699",
   "metadata": {},
   "outputs": [
    {
     "data": {
      "text/plain": [
       "array([[28.34415584]])"
      ]
     },
     "execution_count": 219,
     "metadata": {},
     "output_type": "execute_result"
    }
   ],
   "source": [
    "model.coef_"
   ]
  },
  {
   "cell_type": "code",
   "execution_count": 220,
   "id": "09b3db43",
   "metadata": {},
   "outputs": [],
   "source": [
    "sa_data=df_sa[['year','coffee_import']]"
   ]
  },
  {
   "cell_type": "code",
   "execution_count": 221,
   "id": "925c2172",
   "metadata": {},
   "outputs": [],
   "source": [
    "new_sa=sa_data.set_index('year')"
   ]
  },
  {
   "cell_type": "code",
   "execution_count": 222,
   "id": "99f1101c",
   "metadata": {},
   "outputs": [
    {
     "data": {
      "text/plain": [
       "[<matplotlib.lines.Line2D at 0x20f9226fcd0>]"
      ]
     },
     "execution_count": 222,
     "metadata": {},
     "output_type": "execute_result"
    },
    {
     "data": {
      "image/png": "[encoded data removed]",
      "text/plain": [
       "<Figure size 1152x576 with 1 Axes>"
      ]
     },
     "metadata": {
      "needs_background": "light"
     },
     "output_type": "display_data"
    }
   ],
   "source": [
    "plt.figure(figsize=(16,8))\n",
    "plt.xlabel('year')\n",
    "plt.ylabel('import')\n",
    "plt.gca().xaxis.set_major_locator(MaxNLocator(integer=True))\n",
    "plt.plot(new_sa['coffee_import'])"
   ]
  },
  {
   "cell_type": "code",
   "execution_count": 223,
   "id": "8fa90b3c",
   "metadata": {},
   "outputs": [],
   "source": [
    "X = sa_data['year'].tolist()\n",
    "y = sa_data['coffee_import'].tolist()"
   ]
  },
  {
   "cell_type": "code",
   "execution_count": 225,
   "id": "1c2368a9",
   "metadata": {},
   "outputs": [
    {
     "name": "stdout",
     "output_type": "stream",
     "text": [
      "0.8124228786788827\n",
      "1438.2801166180593\n"
     ]
    }
   ],
   "source": [
    "X1=np.array(X).reshape(-1,1)\n",
    "y1=np.array(y).reshape(-1,1)\n",
    "X_train,X_test,y_train,y_test=train_test_split(X1,y1,test_size=0.3)\n",
    "\n",
    "model = LinearRegression()\n",
    "model.fit(X1,y1)\n",
    "\n",
    "y_pred=model.predict(X_test)\n",
    "print(r2_score(y_test,y_pred))\n",
    "print(mean_squared_error(y_test,y_pred))"
   ]
  },
  {
   "cell_type": "code",
   "execution_count": 226,
   "id": "8e6f4cf4",
   "metadata": {},
   "outputs": [
    {
     "data": {
      "text/plain": [
       "array([[717.74285714]])"
      ]
     },
     "execution_count": 226,
     "metadata": {},
     "output_type": "execute_result"
    }
   ],
   "source": [
    "model.predict([[2021]])"
   ]
  },
  {
   "cell_type": "code",
   "execution_count": 227,
   "id": "0b13ed51",
   "metadata": {},
   "outputs": [
    {
     "data": {
      "text/plain": [
       "array([[736.62857143]])"
      ]
     },
     "execution_count": 227,
     "metadata": {},
     "output_type": "execute_result"
    }
   ],
   "source": [
    "model.predict([[2022]])"
   ]
  },
  {
   "cell_type": "code",
   "execution_count": 228,
   "id": "38e270fc",
   "metadata": {},
   "outputs": [
    {
     "data": {
      "text/plain": [
       "array([[755.51428571]])"
      ]
     },
     "execution_count": 228,
     "metadata": {},
     "output_type": "execute_result"
    }
   ],
   "source": [
    "model.predict([[2023]])"
   ]
  },
  {
   "cell_type": "code",
   "execution_count": 229,
   "id": "7139159a",
   "metadata": {},
   "outputs": [
    {
     "data": {
      "text/plain": [
       "array([[774.4]])"
      ]
     },
     "execution_count": 229,
     "metadata": {},
     "output_type": "execute_result"
    }
   ],
   "source": [
    "model.predict([[2024]])"
   ]
  },
  {
   "cell_type": "code",
   "execution_count": 230,
   "id": "7b81d41e",
   "metadata": {},
   "outputs": [
    {
     "data": {
      "text/plain": [
       "array([[793.28571429]])"
      ]
     },
     "execution_count": 230,
     "metadata": {},
     "output_type": "execute_result"
    }
   ],
   "source": [
    "model.predict([[2025]])"
   ]
  },
  {
   "cell_type": "code",
   "execution_count": 231,
   "id": "8429b48b",
   "metadata": {},
   "outputs": [
    {
     "data": {
      "text/plain": [
       "0.8610954390598123"
      ]
     },
     "execution_count": 231,
     "metadata": {},
     "output_type": "execute_result"
    }
   ],
   "source": [
    "model.score(np.array(X).reshape(-1,1),np.array(y).reshape(-1,1))"
   ]
  },
  {
   "cell_type": "code",
   "execution_count": 232,
   "id": "f58edbff",
   "metadata": {},
   "outputs": [
    {
     "data": {
      "text/plain": [
       "array([-37450.28571429])"
      ]
     },
     "execution_count": 232,
     "metadata": {},
     "output_type": "execute_result"
    }
   ],
   "source": [
    "model.intercept_"
   ]
  },
  {
   "cell_type": "code",
   "execution_count": 233,
   "id": "059e9b93",
   "metadata": {},
   "outputs": [
    {
     "data": {
      "text/plain": [
       "array([[18.88571429]])"
      ]
     },
     "execution_count": 233,
     "metadata": {},
     "output_type": "execute_result"
    }
   ],
   "source": [
    "model.coef_"
   ]
  },
  {
   "cell_type": "markdown",
   "id": "0fa258a0",
   "metadata": {},
   "source": [
    "## Analysis on Russia"
   ]
  },
  {
   "cell_type": "code",
   "execution_count": 234,
   "id": "21926c55",
   "metadata": {},
   "outputs": [
    {
     "data": {
      "text/html": [
       "<div>\n",
       "<style scoped>\n",
       "    .dataframe tbody tr th:only-of-type {\n",
       "        vertical-align: middle;\n",
       "    }\n",
       "\n",
       "    .dataframe tbody tr th {\n",
       "        vertical-align: top;\n",
       "    }\n",
       "\n",
       "    .dataframe thead th {\n",
       "        text-align: right;\n",
       "    }\n",
       "</style>\n",
       "<table border=\"1\" class=\"dataframe\">\n",
       "  <thead>\n",
       "    <tr style=\"text-align: right;\">\n",
       "      <th></th>\n",
       "      <th>year</th>\n",
       "      <th>country</th>\n",
       "      <th>id</th>\n",
       "      <th>coffee_consum</th>\n",
       "      <th>coffee_import</th>\n",
       "      <th>GDP</th>\n",
       "    </tr>\n",
       "  </thead>\n",
       "  <tbody>\n",
       "    <tr>\n",
       "      <th>0</th>\n",
       "      <td>2000</td>\n",
       "      <td>Russia</td>\n",
       "      <td>1001</td>\n",
       "      <td>1863</td>\n",
       "      <td>1890</td>\n",
       "      <td>2.597100e+11</td>\n",
       "    </tr>\n",
       "    <tr>\n",
       "      <th>1</th>\n",
       "      <td>2001</td>\n",
       "      <td>Russia</td>\n",
       "      <td>1001</td>\n",
       "      <td>3032</td>\n",
       "      <td>3057</td>\n",
       "      <td>3.066020e+11</td>\n",
       "    </tr>\n",
       "    <tr>\n",
       "      <th>2</th>\n",
       "      <td>2002</td>\n",
       "      <td>Russia</td>\n",
       "      <td>1001</td>\n",
       "      <td>4050</td>\n",
       "      <td>3504</td>\n",
       "      <td>3.454700e+11</td>\n",
       "    </tr>\n",
       "    <tr>\n",
       "      <th>3</th>\n",
       "      <td>2003</td>\n",
       "      <td>Russia</td>\n",
       "      <td>1001</td>\n",
       "      <td>4065</td>\n",
       "      <td>3772</td>\n",
       "      <td>4.303480e+11</td>\n",
       "    </tr>\n",
       "    <tr>\n",
       "      <th>4</th>\n",
       "      <td>2004</td>\n",
       "      <td>Russia</td>\n",
       "      <td>1001</td>\n",
       "      <td>2570</td>\n",
       "      <td>3205</td>\n",
       "      <td>5.910170e+11</td>\n",
       "    </tr>\n",
       "  </tbody>\n",
       "</table>\n",
       "</div>"
      ],
      "text/plain": [
       "   year country    id  coffee_consum  coffee_import           GDP\n",
       "0  2000  Russia  1001           1863           1890  2.597100e+11\n",
       "1  2001  Russia  1001           3032           3057  3.066020e+11\n",
       "2  2002  Russia  1001           4050           3504  3.454700e+11\n",
       "3  2003  Russia  1001           4065           3772  4.303480e+11\n",
       "4  2004  Russia  1001           2570           3205  5.910170e+11"
      ]
     },
     "execution_count": 234,
     "metadata": {},
     "output_type": "execute_result"
    }
   ],
   "source": [
    "file_path = 'integrated/russia.csv'\n",
    "\n",
    "df_ru = pd.read_csv(file_path)\n",
    "df_ru.head()"
   ]
  },
  {
   "cell_type": "markdown",
   "id": "ee18f289",
   "metadata": {},
   "source": [
    "### Coffee Consumption VS. GDP"
   ]
  },
  {
   "cell_type": "code",
   "execution_count": 235,
   "id": "642b9319",
   "metadata": {},
   "outputs": [],
   "source": [
    "x=np.array(df_ru['GDP'])\n",
    "x = x.reshape(-1,1)\n",
    "y=np.array(df_ru['coffee_consum'])\n",
    "y=y.reshape(-1,1)"
   ]
  },
  {
   "cell_type": "code",
   "execution_count": 236,
   "id": "427b94ec",
   "metadata": {},
   "outputs": [],
   "source": [
    "lm = linear_model.LinearRegression()\n",
    "\n",
    "lm.fit(x,y)\n",
    "\n",
    "y_hat = lm.predict(x)"
   ]
  },
  {
   "cell_type": "code",
   "execution_count": 237,
   "id": "52f7825d",
   "metadata": {},
   "outputs": [
    {
     "data": {
      "image/png": "[encoded data removed]",
      "text/plain": [
       "<Figure size 432x288 with 1 Axes>"
      ]
     },
     "metadata": {
      "needs_background": "light"
     },
     "output_type": "display_data"
    }
   ],
   "source": [
    "plt.scatter(x,y)\n",
    "plt.plot(x,y_hat)\n",
    "plt.xlabel('GDP(Trillion)')\n",
    "plt.ylabel('consumption(1000 bags)')\n",
    "plt.show()"
   ]
  },
  {
   "cell_type": "markdown",
   "id": "2f2d18f6",
   "metadata": {},
   "source": [
    "### Coffee import vs. GDP"
   ]
  },
  {
   "cell_type": "code",
   "execution_count": 238,
   "id": "211a6815",
   "metadata": {},
   "outputs": [],
   "source": [
    "x=np.array(df_ru['GDP'])\n",
    "x = x.reshape(-1,1)\n",
    "y=np.array(df_ru['coffee_import'])\n",
    "y=y.reshape(-1,1)"
   ]
  },
  {
   "cell_type": "code",
   "execution_count": 239,
   "id": "e579c6c2",
   "metadata": {},
   "outputs": [],
   "source": [
    "lm = linear_model.LinearRegression()\n",
    "\n",
    "lm.fit(x,y)\n",
    "\n",
    "y_hat = lm.predict(x)"
   ]
  },
  {
   "cell_type": "code",
   "execution_count": 240,
   "id": "2918cf28",
   "metadata": {},
   "outputs": [
    {
     "data": {
      "image/png": "[encoded data removed]",
      "text/plain": [
       "<Figure size 432x288 with 1 Axes>"
      ]
     },
     "metadata": {
      "needs_background": "light"
     },
     "output_type": "display_data"
    }
   ],
   "source": [
    "plt.scatter(x,y)\n",
    "plt.plot(x,y_hat)\n",
    "plt.xlabel('GDP(Trillion)')\n",
    "plt.ylabel('import(1000 bags)')\n",
    "plt.show()"
   ]
  },
  {
   "cell_type": "markdown",
   "id": "480be1c6",
   "metadata": {},
   "source": [
    "### Prediction for consumption and production"
   ]
  },
  {
   "cell_type": "code",
   "execution_count": 241,
   "id": "990a66bc",
   "metadata": {},
   "outputs": [],
   "source": [
    "ru_data=df_ru[['year','coffee_consum']]"
   ]
  },
  {
   "cell_type": "code",
   "execution_count": 242,
   "id": "f1d38875",
   "metadata": {},
   "outputs": [
    {
     "data": {
      "text/html": [
       "<div>\n",
       "<style scoped>\n",
       "    .dataframe tbody tr th:only-of-type {\n",
       "        vertical-align: middle;\n",
       "    }\n",
       "\n",
       "    .dataframe tbody tr th {\n",
       "        vertical-align: top;\n",
       "    }\n",
       "\n",
       "    .dataframe thead th {\n",
       "        text-align: right;\n",
       "    }\n",
       "</style>\n",
       "<table border=\"1\" class=\"dataframe\">\n",
       "  <thead>\n",
       "    <tr style=\"text-align: right;\">\n",
       "      <th></th>\n",
       "      <th>year</th>\n",
       "      <th>coffee_consum</th>\n",
       "    </tr>\n",
       "  </thead>\n",
       "  <tbody>\n",
       "    <tr>\n",
       "      <th>0</th>\n",
       "      <td>2000</td>\n",
       "      <td>1863</td>\n",
       "    </tr>\n",
       "    <tr>\n",
       "      <th>1</th>\n",
       "      <td>2001</td>\n",
       "      <td>3032</td>\n",
       "    </tr>\n",
       "    <tr>\n",
       "      <th>2</th>\n",
       "      <td>2002</td>\n",
       "      <td>4050</td>\n",
       "    </tr>\n",
       "    <tr>\n",
       "      <th>3</th>\n",
       "      <td>2003</td>\n",
       "      <td>4065</td>\n",
       "    </tr>\n",
       "    <tr>\n",
       "      <th>4</th>\n",
       "      <td>2004</td>\n",
       "      <td>2570</td>\n",
       "    </tr>\n",
       "  </tbody>\n",
       "</table>\n",
       "</div>"
      ],
      "text/plain": [
       "   year  coffee_consum\n",
       "0  2000           1863\n",
       "1  2001           3032\n",
       "2  2002           4050\n",
       "3  2003           4065\n",
       "4  2004           2570"
      ]
     },
     "execution_count": 242,
     "metadata": {},
     "output_type": "execute_result"
    }
   ],
   "source": [
    "ru_data.head()"
   ]
  },
  {
   "cell_type": "code",
   "execution_count": 243,
   "id": "69e9b076",
   "metadata": {},
   "outputs": [],
   "source": [
    "new_ru = ru_data.set_index('year')"
   ]
  },
  {
   "cell_type": "code",
   "execution_count": 244,
   "id": "c16d803c",
   "metadata": {},
   "outputs": [
    {
     "data": {
      "text/plain": [
       "[<matplotlib.lines.Line2D at 0x20f90023e50>]"
      ]
     },
     "execution_count": 244,
     "metadata": {},
     "output_type": "execute_result"
    },
    {
     "data": {
      "image/png": "[encoded data removed]",
      "text/plain": [
       "<Figure size 1152x576 with 1 Axes>"
      ]
     },
     "metadata": {
      "needs_background": "light"
     },
     "output_type": "display_data"
    }
   ],
   "source": [
    "plt.figure(figsize=(16,8))\n",
    "plt.xlabel('year')\n",
    "plt.ylabel('consumption')\n",
    "plt.gca().xaxis.set_major_locator(MaxNLocator(integer=True))\n",
    "plt.plot(new_ru['coffee_consum'], label='historical consumption')"
   ]
  },
  {
   "cell_type": "code",
   "execution_count": 245,
   "id": "3254493f",
   "metadata": {},
   "outputs": [],
   "source": [
    "X = ru_data['year'].tolist()\n",
    "y = ru_data['coffee_consum'].tolist()"
   ]
  },
  {
   "cell_type": "code",
   "execution_count": 246,
   "id": "da615e51",
   "metadata": {},
   "outputs": [
    {
     "name": "stdout",
     "output_type": "stream",
     "text": [
      "0.4547391596896315\n",
      "363801.30422011967\n"
     ]
    }
   ],
   "source": [
    "X1=np.array(X).reshape(-1,1)\n",
    "y1=np.array(y).reshape(-1,1)\n",
    "X_train,X_test,y_train,y_test=train_test_split(X1,y1,test_size=0.3)\n",
    "\n",
    "model = LinearRegression()\n",
    "model.fit(X1,y1)\n",
    "\n",
    "y_pred=model.predict(X_test)\n",
    "print(r2_score(y_test,y_pred))\n",
    "print(mean_squared_error(y_test,y_pred))"
   ]
  },
  {
   "cell_type": "code",
   "execution_count": 247,
   "id": "be6fbf17",
   "metadata": {},
   "outputs": [],
   "source": [
    "#Prediction of consumption for next five years "
   ]
  },
  {
   "cell_type": "code",
   "execution_count": 248,
   "id": "889e537c",
   "metadata": {},
   "outputs": [
    {
     "data": {
      "text/plain": [
       "array([[4877.62380952]])"
      ]
     },
     "execution_count": 248,
     "metadata": {},
     "output_type": "execute_result"
    }
   ],
   "source": [
    "model.predict([[2021]])"
   ]
  },
  {
   "cell_type": "code",
   "execution_count": 249,
   "id": "de6865f4",
   "metadata": {},
   "outputs": [
    {
     "data": {
      "text/plain": [
       "array([[4962.32121212]])"
      ]
     },
     "execution_count": 249,
     "metadata": {},
     "output_type": "execute_result"
    }
   ],
   "source": [
    "model.predict([[2022]])"
   ]
  },
  {
   "cell_type": "code",
   "execution_count": 250,
   "id": "7144247f",
   "metadata": {},
   "outputs": [
    {
     "data": {
      "text/plain": [
       "array([[5047.01861472]])"
      ]
     },
     "execution_count": 250,
     "metadata": {},
     "output_type": "execute_result"
    }
   ],
   "source": [
    "model.predict([[2023]])"
   ]
  },
  {
   "cell_type": "code",
   "execution_count": 251,
   "id": "c240ef12",
   "metadata": {},
   "outputs": [
    {
     "data": {
      "text/plain": [
       "array([[5131.71601732]])"
      ]
     },
     "execution_count": 251,
     "metadata": {},
     "output_type": "execute_result"
    }
   ],
   "source": [
    "model.predict([[2024]])"
   ]
  },
  {
   "cell_type": "code",
   "execution_count": 252,
   "id": "18a72196",
   "metadata": {},
   "outputs": [
    {
     "data": {
      "text/plain": [
       "array([[5216.41341991]])"
      ]
     },
     "execution_count": 252,
     "metadata": {},
     "output_type": "execute_result"
    }
   ],
   "source": [
    "model.predict([[2025]])"
   ]
  },
  {
   "cell_type": "code",
   "execution_count": 253,
   "id": "92ee5b17",
   "metadata": {},
   "outputs": [
    {
     "data": {
      "text/plain": [
       "array([-166295.82683983])"
      ]
     },
     "execution_count": 253,
     "metadata": {},
     "output_type": "execute_result"
    }
   ],
   "source": [
    "model.intercept_"
   ]
  },
  {
   "cell_type": "code",
   "execution_count": 254,
   "id": "93ffa992",
   "metadata": {},
   "outputs": [
    {
     "data": {
      "text/plain": [
       "array([[84.6974026]])"
      ]
     },
     "execution_count": 254,
     "metadata": {},
     "output_type": "execute_result"
    }
   ],
   "source": [
    "model.coef_"
   ]
  },
  {
   "cell_type": "code",
   "execution_count": 255,
   "id": "451a4197",
   "metadata": {},
   "outputs": [],
   "source": [
    "ru_data=df_ru[['year','coffee_import']]\n"
   ]
  },
  {
   "cell_type": "code",
   "execution_count": 256,
   "id": "9b2f3408",
   "metadata": {},
   "outputs": [
    {
     "data": {
      "text/html": [
       "<div>\n",
       "<style scoped>\n",
       "    .dataframe tbody tr th:only-of-type {\n",
       "        vertical-align: middle;\n",
       "    }\n",
       "\n",
       "    .dataframe tbody tr th {\n",
       "        vertical-align: top;\n",
       "    }\n",
       "\n",
       "    .dataframe thead th {\n",
       "        text-align: right;\n",
       "    }\n",
       "</style>\n",
       "<table border=\"1\" class=\"dataframe\">\n",
       "  <thead>\n",
       "    <tr style=\"text-align: right;\">\n",
       "      <th></th>\n",
       "      <th>year</th>\n",
       "      <th>coffee_import</th>\n",
       "    </tr>\n",
       "  </thead>\n",
       "  <tbody>\n",
       "    <tr>\n",
       "      <th>0</th>\n",
       "      <td>2000</td>\n",
       "      <td>1890</td>\n",
       "    </tr>\n",
       "    <tr>\n",
       "      <th>1</th>\n",
       "      <td>2001</td>\n",
       "      <td>3057</td>\n",
       "    </tr>\n",
       "    <tr>\n",
       "      <th>2</th>\n",
       "      <td>2002</td>\n",
       "      <td>3504</td>\n",
       "    </tr>\n",
       "    <tr>\n",
       "      <th>3</th>\n",
       "      <td>2003</td>\n",
       "      <td>3772</td>\n",
       "    </tr>\n",
       "    <tr>\n",
       "      <th>4</th>\n",
       "      <td>2004</td>\n",
       "      <td>3205</td>\n",
       "    </tr>\n",
       "  </tbody>\n",
       "</table>\n",
       "</div>"
      ],
      "text/plain": [
       "   year  coffee_import\n",
       "0  2000           1890\n",
       "1  2001           3057\n",
       "2  2002           3504\n",
       "3  2003           3772\n",
       "4  2004           3205"
      ]
     },
     "execution_count": 256,
     "metadata": {},
     "output_type": "execute_result"
    }
   ],
   "source": [
    "ru_data.head()"
   ]
  },
  {
   "cell_type": "code",
   "execution_count": 257,
   "id": "4b7c9abb",
   "metadata": {},
   "outputs": [],
   "source": [
    "new_ru = ru_data.set_index('year')"
   ]
  },
  {
   "cell_type": "code",
   "execution_count": 258,
   "id": "0e7c6773",
   "metadata": {},
   "outputs": [
    {
     "data": {
      "text/plain": [
       "[<matplotlib.lines.Line2D at 0x20f91f257f0>]"
      ]
     },
     "execution_count": 258,
     "metadata": {},
     "output_type": "execute_result"
    },
    {
     "data": {
      "image/png": "[encoded data removed]",
      "text/plain": [
       "<Figure size 1152x576 with 1 Axes>"
      ]
     },
     "metadata": {
      "needs_background": "light"
     },
     "output_type": "display_data"
    }
   ],
   "source": [
    "plt.figure(figsize=(16,8))\n",
    "plt.xlabel('year')\n",
    "plt.ylabel('import')\n",
    "plt.gca().xaxis.set_major_locator(MaxNLocator(integer=True))\n",
    "plt.plot(new_ru['coffee_import'], label='historical import')"
   ]
  },
  {
   "cell_type": "code",
   "execution_count": 259,
   "id": "4b79944f",
   "metadata": {},
   "outputs": [],
   "source": [
    "X = ru_data['year'].tolist()\n",
    "y = ru_data['coffee_import'].tolist()"
   ]
  },
  {
   "cell_type": "code",
   "execution_count": 260,
   "id": "b792ae7b",
   "metadata": {},
   "outputs": [
    {
     "name": "stdout",
     "output_type": "stream",
     "text": [
      "0.6548489563609643\n",
      "247591.03001456376\n"
     ]
    }
   ],
   "source": [
    "X1=np.array(X).reshape(-1,1)\n",
    "y1=np.array(y).reshape(-1,1)\n",
    "X_train,X_test,y_train,y_test=train_test_split(X1,y1,test_size=0.3)\n",
    "\n",
    "model = LinearRegression()\n",
    "model.fit(X1,y1)\n",
    "\n",
    "y_pred=model.predict(X_test)\n",
    "print(r2_score(y_test,y_pred))\n",
    "print(mean_squared_error(y_test,y_pred))"
   ]
  },
  {
   "cell_type": "code",
   "execution_count": 148,
   "id": "006fc204",
   "metadata": {},
   "outputs": [],
   "source": [
    "# Prediction of import for next five years "
   ]
  },
  {
   "cell_type": "code",
   "execution_count": 261,
   "id": "a0e47599",
   "metadata": {},
   "outputs": [
    {
     "data": {
      "text/plain": [
       "array([[5554.02380952]])"
      ]
     },
     "execution_count": 261,
     "metadata": {},
     "output_type": "execute_result"
    }
   ],
   "source": [
    "model.predict([[2021]])"
   ]
  },
  {
   "cell_type": "code",
   "execution_count": 262,
   "id": "396a2313",
   "metadata": {},
   "outputs": [
    {
     "data": {
      "text/plain": [
       "array([[5683.87445887]])"
      ]
     },
     "execution_count": 262,
     "metadata": {},
     "output_type": "execute_result"
    }
   ],
   "source": [
    "model.predict([[2022]])"
   ]
  },
  {
   "cell_type": "code",
   "execution_count": 263,
   "id": "309d0e36",
   "metadata": {},
   "outputs": [
    {
     "data": {
      "text/plain": [
       "array([[5813.72510823]])"
      ]
     },
     "execution_count": 263,
     "metadata": {},
     "output_type": "execute_result"
    }
   ],
   "source": [
    "model.predict([[2023]])"
   ]
  },
  {
   "cell_type": "code",
   "execution_count": 264,
   "id": "59b11d6c",
   "metadata": {},
   "outputs": [
    {
     "data": {
      "text/plain": [
       "array([[5943.57575758]])"
      ]
     },
     "execution_count": 264,
     "metadata": {},
     "output_type": "execute_result"
    }
   ],
   "source": [
    "model.predict([[2024]])"
   ]
  },
  {
   "cell_type": "code",
   "execution_count": 265,
   "id": "f87e31c6",
   "metadata": {},
   "outputs": [
    {
     "data": {
      "text/plain": [
       "array([[6073.42640693]])"
      ]
     },
     "execution_count": 265,
     "metadata": {},
     "output_type": "execute_result"
    }
   ],
   "source": [
    "model.predict([[2025]])"
   ]
  },
  {
   "cell_type": "code",
   "execution_count": 266,
   "id": "37167fee",
   "metadata": {},
   "outputs": [
    {
     "data": {
      "text/plain": [
       "array([-256874.13852814])"
      ]
     },
     "execution_count": 266,
     "metadata": {},
     "output_type": "execute_result"
    }
   ],
   "source": [
    "model.intercept_"
   ]
  },
  {
   "cell_type": "code",
   "execution_count": 267,
   "id": "ab9534c4",
   "metadata": {},
   "outputs": [
    {
     "data": {
      "text/plain": [
       "array([[129.85064935]])"
      ]
     },
     "execution_count": 267,
     "metadata": {},
     "output_type": "execute_result"
    }
   ],
   "source": [
    "model.coef_"
   ]
  },
  {
   "cell_type": "markdown",
   "id": "8a1621b7",
   "metadata": {},
   "source": [
    "## Global coffee price vs. covid cases "
   ]
  },
  {
   "cell_type": "code",
   "execution_count": 281,
   "id": "5bf28e99",
   "metadata": {},
   "outputs": [
    {
     "data": {
      "text/html": [
       "<div>\n",
       "<style scoped>\n",
       "    .dataframe tbody tr th:only-of-type {\n",
       "        vertical-align: middle;\n",
       "    }\n",
       "\n",
       "    .dataframe tbody tr th {\n",
       "        vertical-align: top;\n",
       "    }\n",
       "\n",
       "    .dataframe thead th {\n",
       "        text-align: right;\n",
       "    }\n",
       "</style>\n",
       "<table border=\"1\" class=\"dataframe\">\n",
       "  <thead>\n",
       "    <tr style=\"text-align: right;\">\n",
       "      <th></th>\n",
       "      <th>DATE</th>\n",
       "      <th>PCOFFOTMUSDM</th>\n",
       "      <th>confirmed_cases</th>\n",
       "    </tr>\n",
       "  </thead>\n",
       "  <tbody>\n",
       "    <tr>\n",
       "      <th>0</th>\n",
       "      <td>1/1/2020</td>\n",
       "      <td>150.36</td>\n",
       "      <td>9927.0</td>\n",
       "    </tr>\n",
       "    <tr>\n",
       "      <th>1</th>\n",
       "      <td>2/1/2020</td>\n",
       "      <td>145.86</td>\n",
       "      <td>86027.0</td>\n",
       "    </tr>\n",
       "    <tr>\n",
       "      <th>2</th>\n",
       "      <td>3/1/2020</td>\n",
       "      <td>161.46</td>\n",
       "      <td>876334.0</td>\n",
       "    </tr>\n",
       "    <tr>\n",
       "      <th>3</th>\n",
       "      <td>4/1/2020</td>\n",
       "      <td>163.70</td>\n",
       "      <td>3275297.0</td>\n",
       "    </tr>\n",
       "    <tr>\n",
       "      <th>4</th>\n",
       "      <td>5/1/2020</td>\n",
       "      <td>155.93</td>\n",
       "      <td>6176663.0</td>\n",
       "    </tr>\n",
       "  </tbody>\n",
       "</table>\n",
       "</div>"
      ],
      "text/plain": [
       "       DATE  PCOFFOTMUSDM  confirmed_cases\n",
       "0  1/1/2020        150.36           9927.0\n",
       "1  2/1/2020        145.86          86027.0\n",
       "2  3/1/2020        161.46         876334.0\n",
       "3  4/1/2020        163.70        3275297.0\n",
       "4  5/1/2020        155.93        6176663.0"
      ]
     },
     "execution_count": 281,
     "metadata": {},
     "output_type": "execute_result"
    }
   ],
   "source": [
    "file_path = 'SQL db/coffee_covid.csv'\n",
    "\n",
    "df = pd.read_csv(file_path)\n",
    "df.head()"
   ]
  },
  {
   "cell_type": "code",
   "execution_count": 282,
   "id": "03c2c5a0",
   "metadata": {},
   "outputs": [],
   "source": [
    "x=np.array(df['confirmed_cases'])\n",
    "x = x.reshape(-1,1)\n",
    "y=np.array(df['PCOFFOTMUSDM'])\n",
    "y=y.reshape(-1,1)"
   ]
  },
  {
   "cell_type": "code",
   "execution_count": 283,
   "id": "822aeb45",
   "metadata": {},
   "outputs": [],
   "source": [
    "lm = linear_model.LinearRegression()\n",
    "\n",
    "lm.fit(x,y)\n",
    "\n",
    "y_hat = lm.predict(x)"
   ]
  },
  {
   "cell_type": "code",
   "execution_count": 284,
   "id": "9bdffe8b",
   "metadata": {},
   "outputs": [
    {
     "data": {
      "image/png": "[encoded data removed]",
      "text/plain": [
       "<Figure size 432x288 with 1 Axes>"
      ]
     },
     "metadata": {
      "needs_background": "light"
     },
     "output_type": "display_data"
    }
   ],
   "source": [
    "plt.scatter(x,y)\n",
    "plt.plot(x,y_hat)\n",
    "plt.xlabel('confirmed covid cases(million)')\n",
    "plt.ylabel('Median Price of Coffee')\n",
    "plt.show()"
   ]
  },
  {
   "cell_type": "code",
   "execution_count": 285,
   "id": "a99a0667",
   "metadata": {},
   "outputs": [],
   "source": [
    "import datetime as dt\n",
    "from datetime import datetime"
   ]
  },
  {
   "cell_type": "code",
   "execution_count": 286,
   "id": "f9c054a9",
   "metadata": {},
   "outputs": [],
   "source": [
    "df['DATE'] = pd.to_datetime(df['DATE'])\n"
   ]
  },
  {
   "cell_type": "code",
   "execution_count": 287,
   "id": "361e7925",
   "metadata": {},
   "outputs": [],
   "source": [
    "new_df=df.set_index('DATE')\n"
   ]
  },
  {
   "cell_type": "code",
   "execution_count": 288,
   "id": "7212958a",
   "metadata": {},
   "outputs": [],
   "source": [
    "df['date']=df['DATE'].map(dt.datetime.toordinal)"
   ]
  },
  {
   "cell_type": "code",
   "execution_count": 289,
   "id": "5f8cbb11",
   "metadata": {
    "scrolled": true
   },
   "outputs": [
    {
     "data": {
      "text/plain": [
       "[<matplotlib.lines.Line2D at 0x20f936cadf0>]"
      ]
     },
     "execution_count": 289,
     "metadata": {},
     "output_type": "execute_result"
    },
    {
     "data": {
      "image/png": "[encoded data removed]",
      "text/plain": [
       "<Figure size 864x576 with 1 Axes>"
      ]
     },
     "metadata": {
      "needs_background": "light"
     },
     "output_type": "display_data"
    }
   ],
   "source": [
    "plt.figure(figsize=(12,8))\n",
    "plt.xlabel('year')\n",
    "plt.ylabel('Median Price of Coffee($/lb)')\n",
    "plt.plot(new_df['PCOFFOTMUSDM'])"
   ]
  },
  {
   "cell_type": "code",
   "execution_count": 290,
   "id": "67b326f7",
   "metadata": {},
   "outputs": [],
   "source": [
    "data = df[['DATE','PCOFFOTMUSDM']]"
   ]
  },
  {
   "cell_type": "code",
   "execution_count": 291,
   "id": "bdfaa2ca",
   "metadata": {},
   "outputs": [
    {
     "data": {
      "text/html": [
       "<div>\n",
       "<style scoped>\n",
       "    .dataframe tbody tr th:only-of-type {\n",
       "        vertical-align: middle;\n",
       "    }\n",
       "\n",
       "    .dataframe tbody tr th {\n",
       "        vertical-align: top;\n",
       "    }\n",
       "\n",
       "    .dataframe thead th {\n",
       "        text-align: right;\n",
       "    }\n",
       "</style>\n",
       "<table border=\"1\" class=\"dataframe\">\n",
       "  <thead>\n",
       "    <tr style=\"text-align: right;\">\n",
       "      <th></th>\n",
       "      <th>DATE</th>\n",
       "      <th>PCOFFOTMUSDM</th>\n",
       "    </tr>\n",
       "  </thead>\n",
       "  <tbody>\n",
       "    <tr>\n",
       "      <th>0</th>\n",
       "      <td>2020-01-01</td>\n",
       "      <td>150.36</td>\n",
       "    </tr>\n",
       "    <tr>\n",
       "      <th>1</th>\n",
       "      <td>2020-02-01</td>\n",
       "      <td>145.86</td>\n",
       "    </tr>\n",
       "    <tr>\n",
       "      <th>2</th>\n",
       "      <td>2020-03-01</td>\n",
       "      <td>161.46</td>\n",
       "    </tr>\n",
       "    <tr>\n",
       "      <th>3</th>\n",
       "      <td>2020-04-01</td>\n",
       "      <td>163.70</td>\n",
       "    </tr>\n",
       "    <tr>\n",
       "      <th>4</th>\n",
       "      <td>2020-05-01</td>\n",
       "      <td>155.93</td>\n",
       "    </tr>\n",
       "  </tbody>\n",
       "</table>\n",
       "</div>"
      ],
      "text/plain": [
       "        DATE  PCOFFOTMUSDM\n",
       "0 2020-01-01        150.36\n",
       "1 2020-02-01        145.86\n",
       "2 2020-03-01        161.46\n",
       "3 2020-04-01        163.70\n",
       "4 2020-05-01        155.93"
      ]
     },
     "execution_count": 291,
     "metadata": {},
     "output_type": "execute_result"
    }
   ],
   "source": [
    "data.head()"
   ]
  },
  {
   "cell_type": "code",
   "execution_count": 292,
   "id": "daced403",
   "metadata": {},
   "outputs": [],
   "source": [
    "x1 = np.arange(df['date'].size)\n",
    "y = data['PCOFFOTMUSDM'].values\n",
    "y1 = np.array(y)\n",
    "\n",
    "x1=x1.reshape(-1,1)\n",
    "y1=y1.reshape(-1,1)"
   ]
  },
  {
   "cell_type": "code",
   "execution_count": 293,
   "id": "5cf48486",
   "metadata": {},
   "outputs": [],
   "source": [
    "X_train,X_test,y_train,y_test=train_test_split(x1,y1,test_size=0.3)"
   ]
  },
  {
   "cell_type": "code",
   "execution_count": 294,
   "id": "0ddf47d6",
   "metadata": {},
   "outputs": [
    {
     "data": {
      "text/plain": [
       "LinearRegression()"
      ]
     },
     "execution_count": 294,
     "metadata": {},
     "output_type": "execute_result"
    }
   ],
   "source": [
    "lr=LinearRegression()\n",
    "lr.fit(X_train,y_train)"
   ]
  },
  {
   "cell_type": "code",
   "execution_count": 295,
   "id": "f244c60e",
   "metadata": {},
   "outputs": [
    {
     "name": "stdout",
     "output_type": "stream",
     "text": [
      "0.8249117451114399\n",
      "267.01184187203415\n"
     ]
    }
   ],
   "source": [
    "y_pred=lr.predict(X_test)\n",
    "print(r2_score(y_test,y_pred))\n",
    "print(mean_squared_error(y_test,y_pred))"
   ]
  },
  {
   "cell_type": "code",
   "execution_count": 296,
   "id": "2968fe05",
   "metadata": {},
   "outputs": [
    {
     "data": {
      "text/plain": [
       "LinearRegression()"
      ]
     },
     "execution_count": 296,
     "metadata": {},
     "output_type": "execute_result"
    }
   ],
   "source": [
    "lr.fit(x1,y1)\n"
   ]
  },
  {
   "cell_type": "code",
   "execution_count": 297,
   "id": "827a5960",
   "metadata": {},
   "outputs": [
    {
     "name": "stdout",
     "output_type": "stream",
     "text": [
      "Slope: 4.475\n",
      "Intercept : 130.706\n"
     ]
    }
   ],
   "source": [
    "print('Slope: %.3f' % lr.coef_[0]) \n",
    "print('Intercept : %.3f' % lr.intercept_) "
   ]
  },
  {
   "cell_type": "code",
   "execution_count": 298,
   "id": "55eb8f09",
   "metadata": {},
   "outputs": [],
   "source": [
    "\n",
    "def Regression_plot(a, b, model):\n",
    "    plt.plot(data['DATE'], b, c='blue')\n",
    "    plt.plot(data['DATE'], model.predict(a), color='red')\n",
    "    return None"
   ]
  },
  {
   "cell_type": "code",
   "execution_count": 299,
   "id": "5b2af7a0",
   "metadata": {
    "scrolled": true
   },
   "outputs": [
    {
     "data": {
      "text/plain": [
       "Text(0, 0.5, 'coffee median price($/lb)')"
      ]
     },
     "execution_count": 299,
     "metadata": {},
     "output_type": "execute_result"
    },
    {
     "data": {
      "image/png": "[encoded data removed]",
      "text/plain": [
       "<Figure size 648x360 with 1 Axes>"
      ]
     },
     "metadata": {
      "needs_background": "light"
     },
     "output_type": "display_data"
    }
   ],
   "source": [
    "\n",
    "import matplotlib.ticker as tkr\n",
    "plt.figure(figsize=(9,5))\n",
    "Regression_plot(x1, y1, lr)\n",
    "\n",
    "plt.xlabel('date')\n",
    "plt.ylabel('coffee median price($/lb)')"
   ]
  },
  {
   "cell_type": "code",
   "execution_count": 300,
   "id": "fcbbd102",
   "metadata": {
    "scrolled": true
   },
   "outputs": [
    {
     "data": {
      "text/plain": [
       "{'Predict': array([[228.42939052],\n",
       "        [163.42424194],\n",
       "        [212.17810338],\n",
       "        [187.80117266],\n",
       "        [139.04731122],\n",
       "        [171.54988551],\n",
       "        [179.67552908],\n",
       "        [216.24092516]]),\n",
       " 'True': array([[259.6 ],\n",
       "        [166.24],\n",
       "        [220.22],\n",
       "        [170.89],\n",
       "        [145.86],\n",
       "        [154.12],\n",
       "        [162.93],\n",
       "        [229.48]])}"
      ]
     },
     "execution_count": 300,
     "metadata": {},
     "output_type": "execute_result"
    }
   ],
   "source": [
    "d = {'Predict':y_pred,'True':y_test}\n",
    "d"
   ]
  }
 ],
 "metadata": {
  "kernelspec": {
   "display_name": "Python 3 (ipykernel)",
   "language": "python",
   "name": "python3"
  },
  "language_info": {
   "codemirror_mode": {
    "name": "ipython",
    "version": 3
   },
   "file_extension": ".py",
   "mimetype": "text/x-python",
   "name": "python",
   "nbconvert_exporter": "python",
   "pygments_lexer": "ipython3",
   "version": "3.8.8"
  }
 },
 "nbformat": 4,
 "nbformat_minor": 5
}
