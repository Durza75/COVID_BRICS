{
 "cells": [
  {
   "cell_type": "code",
   "execution_count": 1,
   "id": "5cbce21e",
   "metadata": {},
   "outputs": [],
   "source": [
    "from pandas_datareader import wb"
   ]
  },
  {
   "cell_type": "code",
   "execution_count": 2,
   "id": "97bb5d81",
   "metadata": {},
   "outputs": [],
   "source": [
    "import geopandas"
   ]
  },
  {
   "cell_type": "code",
   "execution_count": 3,
   "id": "56a50d08",
   "metadata": {},
   "outputs": [],
   "source": [
    "import pandas as pd"
   ]
  },
  {
   "cell_type": "code",
   "execution_count": 4,
   "id": "11fe83bf",
   "metadata": {},
   "outputs": [],
   "source": [
    "import matplotlib.pyplot as plt"
   ]
  },
  {
   "cell_type": "code",
   "execution_count": 6,
   "id": "be3f0b87",
   "metadata": {},
   "outputs": [],
   "source": [
    "data = wb.download(indicator=\"NY.GDP.MKTP.KD.ZG\", country=\"all\",start=2020, end=2020)\n",
    "data = data.reset_index(1)\n",
    "data.columns=[\"Years\",\"GDP_Growth\"]"
   ]
  },
  {
   "cell_type": "code",
   "execution_count": 7,
   "id": "82efa952",
   "metadata": {},
   "outputs": [
    {
     "data": {
      "text/html": [
       "<div>\n",
       "<style scoped>\n",
       "    .dataframe tbody tr th:only-of-type {\n",
       "        vertical-align: middle;\n",
       "    }\n",
       "\n",
       "    .dataframe tbody tr th {\n",
       "        vertical-align: top;\n",
       "    }\n",
       "\n",
       "    .dataframe thead th {\n",
       "        text-align: right;\n",
       "    }\n",
       "</style>\n",
       "<table border=\"1\" class=\"dataframe\">\n",
       "  <thead>\n",
       "    <tr style=\"text-align: right;\">\n",
       "      <th></th>\n",
       "      <th>Years</th>\n",
       "      <th>GDP_Growth</th>\n",
       "    </tr>\n",
       "    <tr>\n",
       "      <th>country</th>\n",
       "      <th></th>\n",
       "      <th></th>\n",
       "    </tr>\n",
       "  </thead>\n",
       "  <tbody>\n",
       "    <tr>\n",
       "      <th>Africa Eastern and Southern</th>\n",
       "      <td>2020</td>\n",
       "      <td>-2.949407</td>\n",
       "    </tr>\n",
       "    <tr>\n",
       "      <th>Africa Western and Central</th>\n",
       "      <td>2020</td>\n",
       "      <td>-0.884981</td>\n",
       "    </tr>\n",
       "    <tr>\n",
       "      <th>Arab World</th>\n",
       "      <td>2020</td>\n",
       "      <td>-5.354502</td>\n",
       "    </tr>\n",
       "    <tr>\n",
       "      <th>Caribbean small states</th>\n",
       "      <td>2020</td>\n",
       "      <td>-8.161305</td>\n",
       "    </tr>\n",
       "    <tr>\n",
       "      <th>Central Europe and the Baltics</th>\n",
       "      <td>2020</td>\n",
       "      <td>-3.813338</td>\n",
       "    </tr>\n",
       "    <tr>\n",
       "      <th>...</th>\n",
       "      <td>...</td>\n",
       "      <td>...</td>\n",
       "    </tr>\n",
       "    <tr>\n",
       "      <th>Costa Rica</th>\n",
       "      <td>2020</td>\n",
       "      <td>-4.063677</td>\n",
       "    </tr>\n",
       "    <tr>\n",
       "      <th>Cote d'Ivoire</th>\n",
       "      <td>2020</td>\n",
       "      <td>1.958332</td>\n",
       "    </tr>\n",
       "    <tr>\n",
       "      <th>Croatia</th>\n",
       "      <td>2020</td>\n",
       "      <td>-8.099761</td>\n",
       "    </tr>\n",
       "    <tr>\n",
       "      <th>Cuba</th>\n",
       "      <td>2020</td>\n",
       "      <td>-10.948341</td>\n",
       "    </tr>\n",
       "    <tr>\n",
       "      <th>Curacao</th>\n",
       "      <td>2020</td>\n",
       "      <td>-18.400000</td>\n",
       "    </tr>\n",
       "  </tbody>\n",
       "</table>\n",
       "<p>100 rows × 2 columns</p>\n",
       "</div>"
      ],
      "text/plain": [
       "                               Years  GDP_Growth\n",
       "country                                         \n",
       "Africa Eastern and Southern     2020   -2.949407\n",
       "Africa Western and Central      2020   -0.884981\n",
       "Arab World                      2020   -5.354502\n",
       "Caribbean small states          2020   -8.161305\n",
       "Central Europe and the Baltics  2020   -3.813338\n",
       "...                              ...         ...\n",
       "Costa Rica                      2020   -4.063677\n",
       "Cote d'Ivoire                   2020    1.958332\n",
       "Croatia                         2020   -8.099761\n",
       "Cuba                            2020  -10.948341\n",
       "Curacao                         2020  -18.400000\n",
       "\n",
       "[100 rows x 2 columns]"
      ]
     },
     "execution_count": 7,
     "metadata": {},
     "output_type": "execute_result"
    }
   ],
   "source": [
    "data.head(100)"
   ]
  },
  {
   "cell_type": "code",
   "execution_count": null,
   "id": "59e6de10",
   "metadata": {},
   "outputs": [],
   "source": [
    "data.nlargest(10, \"GDP_Growth\")"
   ]
  },
  {
   "cell_type": "code",
   "execution_count": null,
   "id": "bf8a11d5",
   "metadata": {},
   "outputs": [],
   "source": [
    "map = geopandas.read_file(geopandas.datasets.get_path('naturalearth_lowres'))\n",
    "map = map[map['name'] != 'Antarctica']\n",
    "\n",
    "index_change = {\"United States of America\" : \"United States\",\n",
    "               \"Russia\" : \"Russian Federation\"}\n",
    "\n",
    "map = map.rename(index = index_change)\n",
    "\n",
    "map = map.set_index(\"name\")\n",
    "\n",
    "data = map.join(data, how='outer')\n",
    "pd.set_option('display.max_columns',10)\n",
    "pd.set_option('display.max_row',300)\n",
    "pd.set_option('display.width',1000)\n",
    "map\n"
   ]
  },
  {
   "cell_type": "code",
   "execution_count": null,
   "id": "e406b00b",
   "metadata": {},
   "outputs": [],
   "source": [
    "pip install mapclassify\n"
   ]
  },
  {
   "cell_type": "code",
   "execution_count": null,
   "id": "969d0390",
   "metadata": {},
   "outputs": [],
   "source": [
    "data.plot('GDP_Growth', cmap='OrRd', scheme='quantiles', legend = True, figsize = (18,8))\n",
    " "
   ]
  },
  {
   "cell_type": "code",
   "execution_count": null,
   "id": "d2587033",
   "metadata": {},
   "outputs": [],
   "source": [
    "data = wb.download(indicator=\"NY.GDP.MKTP.KD.ZG\", country=\"all\",start=2019, end=2019)\n",
    "data = data.reset_index(1)\n",
    "data.columns=[\"Years\",\"GDP_Growth\"]"
   ]
  },
  {
   "cell_type": "code",
   "execution_count": null,
   "id": "4f61c22e",
   "metadata": {},
   "outputs": [],
   "source": [
    "data"
   ]
  },
  {
   "cell_type": "code",
   "execution_count": null,
   "id": "784d6c96",
   "metadata": {},
   "outputs": [],
   "source": [
    "map = geopandas.read_file(geopandas.datasets.get_path('naturalearth_lowres'))\n",
    "map = map[map['name'] != 'Antarctica']\n",
    "\n",
    "index_change = {\"United States of America\" : \"United States\",\n",
    "               \"Russia\" : \"Russian Federation\"}\n",
    "\n",
    "map = map.rename(index = index_change)\n",
    "\n",
    "map = map.set_index(\"name\")\n",
    "\n",
    "data = map.join(data, how='outer')\n",
    "pd.set_option('display.max_columns',10)\n",
    "pd.set_option('display.max_row',300)\n",
    "pd.set_option('display.width',1000)\n",
    "map"
   ]
  },
  {
   "cell_type": "code",
   "execution_count": null,
   "id": "15f3d4a7",
   "metadata": {},
   "outputs": [],
   "source": [
    "data.plot('GDP_Growth', cmap='OrRd', scheme='quantiles', legend = True, figsize = (18,8))"
   ]
  },
  {
   "cell_type": "code",
   "execution_count": null,
   "id": "2f5282a6",
   "metadata": {},
   "outputs": [],
   "source": [
    " "
   ]
  },
  {
   "cell_type": "code",
   "execution_count": null,
   "id": "f6353461",
   "metadata": {},
   "outputs": [],
   "source": []
  }
 ],
 "metadata": {
  "kernelspec": {
   "display_name": "Python 3",
   "language": "python",
   "name": "python3"
  },
  "language_info": {
   "codemirror_mode": {
    "name": "ipython",
    "version": 3
   },
   "file_extension": ".py",
   "mimetype": "text/x-python",
   "name": "python",
   "nbconvert_exporter": "python",
   "pygments_lexer": "ipython3",
   "version": "3.7.10"
  }
 },
 "nbformat": 4,
 "nbformat_minor": 5
}
