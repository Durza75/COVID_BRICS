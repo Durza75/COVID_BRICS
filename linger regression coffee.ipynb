{
 "cells": [
  {
   "cell_type": "code",
   "execution_count": 1,
   "id": "99cdb115",
   "metadata": {},
   "outputs": [],
   "source": [
    " # Import dependencies\n",
    "from sklearn.datasets import make_regression\n",
    "from sklearn.linear_model import LinearRegression\n",
    "import numpy as np\n",
    "import matplotlib.pyplot as plt\n",
    "import pandas as pd \n",
    "from sklearn import linear_model"
   ]
  },
  {
   "cell_type": "markdown",
   "id": "dc33843c",
   "metadata": {},
   "source": [
    "# Coffee consumption and production analysis for Russia,China,India,South Africa"
   ]
  },
  {
   "cell_type": "markdown",
   "id": "e26abf84",
   "metadata": {},
   "source": [
    "## Analysis for China "
   ]
  },
  {
   "cell_type": "code",
   "execution_count": 2,
   "id": "0977f118",
   "metadata": {},
   "outputs": [
    {
     "data": {
      "text/html": [
       "<div>\n",
       "<style scoped>\n",
       "    .dataframe tbody tr th:only-of-type {\n",
       "        vertical-align: middle;\n",
       "    }\n",
       "\n",
       "    .dataframe tbody tr th {\n",
       "        vertical-align: top;\n",
       "    }\n",
       "\n",
       "    .dataframe thead th {\n",
       "        text-align: right;\n",
       "    }\n",
       "</style>\n",
       "<table border=\"1\" class=\"dataframe\">\n",
       "  <thead>\n",
       "    <tr style=\"text-align: right;\">\n",
       "      <th></th>\n",
       "      <th>year</th>\n",
       "      <th>country</th>\n",
       "      <th>id</th>\n",
       "      <th>coffee_consum</th>\n",
       "      <th>coffee_prod</th>\n",
       "      <th>gdp</th>\n",
       "    </tr>\n",
       "  </thead>\n",
       "  <tbody>\n",
       "    <tr>\n",
       "      <th>0</th>\n",
       "      <td>2000</td>\n",
       "      <td>China</td>\n",
       "      <td>1003</td>\n",
       "      <td>0</td>\n",
       "      <td>0</td>\n",
       "      <td>1.211350e+12</td>\n",
       "    </tr>\n",
       "    <tr>\n",
       "      <th>1</th>\n",
       "      <td>2001</td>\n",
       "      <td>China</td>\n",
       "      <td>1003</td>\n",
       "      <td>0</td>\n",
       "      <td>0</td>\n",
       "      <td>1.339400e+12</td>\n",
       "    </tr>\n",
       "    <tr>\n",
       "      <th>2</th>\n",
       "      <td>2002</td>\n",
       "      <td>China</td>\n",
       "      <td>1003</td>\n",
       "      <td>117</td>\n",
       "      <td>324</td>\n",
       "      <td>1.470550e+12</td>\n",
       "    </tr>\n",
       "    <tr>\n",
       "      <th>3</th>\n",
       "      <td>2003</td>\n",
       "      <td>China</td>\n",
       "      <td>1003</td>\n",
       "      <td>156</td>\n",
       "      <td>386</td>\n",
       "      <td>1.660290e+12</td>\n",
       "    </tr>\n",
       "    <tr>\n",
       "      <th>4</th>\n",
       "      <td>2004</td>\n",
       "      <td>China</td>\n",
       "      <td>1003</td>\n",
       "      <td>222</td>\n",
       "      <td>361</td>\n",
       "      <td>1.955350e+12</td>\n",
       "    </tr>\n",
       "    <tr>\n",
       "      <th>5</th>\n",
       "      <td>2005</td>\n",
       "      <td>China</td>\n",
       "      <td>1003</td>\n",
       "      <td>172</td>\n",
       "      <td>365</td>\n",
       "      <td>2.285970e+12</td>\n",
       "    </tr>\n",
       "    <tr>\n",
       "      <th>6</th>\n",
       "      <td>2006</td>\n",
       "      <td>China</td>\n",
       "      <td>1003</td>\n",
       "      <td>226</td>\n",
       "      <td>428</td>\n",
       "      <td>2.752130e+12</td>\n",
       "    </tr>\n",
       "    <tr>\n",
       "      <th>7</th>\n",
       "      <td>2007</td>\n",
       "      <td>China</td>\n",
       "      <td>1003</td>\n",
       "      <td>164</td>\n",
       "      <td>433</td>\n",
       "      <td>3.550340e+12</td>\n",
       "    </tr>\n",
       "    <tr>\n",
       "      <th>8</th>\n",
       "      <td>2008</td>\n",
       "      <td>China</td>\n",
       "      <td>1003</td>\n",
       "      <td>338</td>\n",
       "      <td>555</td>\n",
       "      <td>4.594310e+12</td>\n",
       "    </tr>\n",
       "    <tr>\n",
       "      <th>9</th>\n",
       "      <td>2009</td>\n",
       "      <td>China</td>\n",
       "      <td>1003</td>\n",
       "      <td>1135</td>\n",
       "      <td>1173</td>\n",
       "      <td>5.101700e+12</td>\n",
       "    </tr>\n",
       "    <tr>\n",
       "      <th>10</th>\n",
       "      <td>2010</td>\n",
       "      <td>China</td>\n",
       "      <td>1003</td>\n",
       "      <td>1106</td>\n",
       "      <td>827</td>\n",
       "      <td>6.087160e+12</td>\n",
       "    </tr>\n",
       "    <tr>\n",
       "      <th>11</th>\n",
       "      <td>2011</td>\n",
       "      <td>China</td>\n",
       "      <td>1003</td>\n",
       "      <td>1091</td>\n",
       "      <td>1090</td>\n",
       "      <td>7.551500e+12</td>\n",
       "    </tr>\n",
       "    <tr>\n",
       "      <th>12</th>\n",
       "      <td>2012</td>\n",
       "      <td>China</td>\n",
       "      <td>1003</td>\n",
       "      <td>1628</td>\n",
       "      <td>1535</td>\n",
       "      <td>8.532230e+12</td>\n",
       "    </tr>\n",
       "    <tr>\n",
       "      <th>13</th>\n",
       "      <td>2013</td>\n",
       "      <td>China</td>\n",
       "      <td>1003</td>\n",
       "      <td>2181</td>\n",
       "      <td>1947</td>\n",
       "      <td>9.570410e+12</td>\n",
       "    </tr>\n",
       "    <tr>\n",
       "      <th>14</th>\n",
       "      <td>2014</td>\n",
       "      <td>China</td>\n",
       "      <td>1003</td>\n",
       "      <td>2416</td>\n",
       "      <td>2125</td>\n",
       "      <td>1.047570e+13</td>\n",
       "    </tr>\n",
       "    <tr>\n",
       "      <th>15</th>\n",
       "      <td>2015</td>\n",
       "      <td>China</td>\n",
       "      <td>1003</td>\n",
       "      <td>2850</td>\n",
       "      <td>1900</td>\n",
       "      <td>1.106160e+13</td>\n",
       "    </tr>\n",
       "    <tr>\n",
       "      <th>16</th>\n",
       "      <td>2016</td>\n",
       "      <td>China</td>\n",
       "      <td>1003</td>\n",
       "      <td>2700</td>\n",
       "      <td>1950</td>\n",
       "      <td>1.123330e+13</td>\n",
       "    </tr>\n",
       "    <tr>\n",
       "      <th>17</th>\n",
       "      <td>2017</td>\n",
       "      <td>China</td>\n",
       "      <td>1003</td>\n",
       "      <td>2900</td>\n",
       "      <td>1950</td>\n",
       "      <td>1.231040e+13</td>\n",
       "    </tr>\n",
       "    <tr>\n",
       "      <th>18</th>\n",
       "      <td>2018</td>\n",
       "      <td>China</td>\n",
       "      <td>1003</td>\n",
       "      <td>3000</td>\n",
       "      <td>1925</td>\n",
       "      <td>1.389480e+13</td>\n",
       "    </tr>\n",
       "    <tr>\n",
       "      <th>19</th>\n",
       "      <td>2019</td>\n",
       "      <td>China</td>\n",
       "      <td>1003</td>\n",
       "      <td>3600</td>\n",
       "      <td>2000</td>\n",
       "      <td>1.427990e+13</td>\n",
       "    </tr>\n",
       "    <tr>\n",
       "      <th>20</th>\n",
       "      <td>2020</td>\n",
       "      <td>China</td>\n",
       "      <td>1003</td>\n",
       "      <td>4200</td>\n",
       "      <td>2000</td>\n",
       "      <td>1.472270e+13</td>\n",
       "    </tr>\n",
       "  </tbody>\n",
       "</table>\n",
       "</div>"
      ],
      "text/plain": [
       "    year country    id  coffee_consum  coffee_prod           gdp\n",
       "0   2000   China  1003              0            0  1.211350e+12\n",
       "1   2001   China  1003              0            0  1.339400e+12\n",
       "2   2002   China  1003            117          324  1.470550e+12\n",
       "3   2003   China  1003            156          386  1.660290e+12\n",
       "4   2004   China  1003            222          361  1.955350e+12\n",
       "5   2005   China  1003            172          365  2.285970e+12\n",
       "6   2006   China  1003            226          428  2.752130e+12\n",
       "7   2007   China  1003            164          433  3.550340e+12\n",
       "8   2008   China  1003            338          555  4.594310e+12\n",
       "9   2009   China  1003           1135         1173  5.101700e+12\n",
       "10  2010   China  1003           1106          827  6.087160e+12\n",
       "11  2011   China  1003           1091         1090  7.551500e+12\n",
       "12  2012   China  1003           1628         1535  8.532230e+12\n",
       "13  2013   China  1003           2181         1947  9.570410e+12\n",
       "14  2014   China  1003           2416         2125  1.047570e+13\n",
       "15  2015   China  1003           2850         1900  1.106160e+13\n",
       "16  2016   China  1003           2700         1950  1.123330e+13\n",
       "17  2017   China  1003           2900         1950  1.231040e+13\n",
       "18  2018   China  1003           3000         1925  1.389480e+13\n",
       "19  2019   China  1003           3600         2000  1.427990e+13\n",
       "20  2020   China  1003           4200         2000  1.472270e+13"
      ]
     },
     "execution_count": 2,
     "metadata": {},
     "output_type": "execute_result"
    }
   ],
   "source": [
    "# import data for china \n",
    "file_path = 'integrated/china.csv'\n",
    "\n",
    "df_china = pd.read_csv(file_path)\n",
    "df_china"
   ]
  },
  {
   "cell_type": "markdown",
   "id": "dc84ca8f",
   "metadata": {},
   "source": [
    "### Coffee Consumption VS. GDP"
   ]
  },
  {
   "cell_type": "code",
   "execution_count": 3,
   "id": "2b1bb73d",
   "metadata": {},
   "outputs": [],
   "source": [
    "x=np.array(df_china['gdp'])\n",
    "x = x.reshape(-1,1)\n",
    "y=np.array(df_china['coffee_consum'])\n",
    "y=y.reshape(-1,1)"
   ]
  },
  {
   "cell_type": "code",
   "execution_count": 4,
   "id": "d150674f",
   "metadata": {},
   "outputs": [],
   "source": [
    "lm = linear_model.LinearRegression()"
   ]
  },
  {
   "cell_type": "code",
   "execution_count": 5,
   "id": "b78d3f96",
   "metadata": {},
   "outputs": [
    {
     "data": {
      "text/plain": [
       "LinearRegression()"
      ]
     },
     "execution_count": 5,
     "metadata": {},
     "output_type": "execute_result"
    }
   ],
   "source": [
    "lm.fit(x,y)\n"
   ]
  },
  {
   "cell_type": "code",
   "execution_count": 6,
   "id": "1a24de28",
   "metadata": {},
   "outputs": [],
   "source": [
    "y_hat = lm.predict(x)"
   ]
  },
  {
   "cell_type": "code",
   "execution_count": 7,
   "id": "f6469680",
   "metadata": {},
   "outputs": [
    {
     "data": {
      "image/png": "[encoded data removed]",
      "text/plain": [
       "<Figure size 432x288 with 1 Axes>"
      ]
     },
     "metadata": {
      "needs_background": "light"
     },
     "output_type": "display_data"
    }
   ],
   "source": [
    "plt.scatter(x,y)\n",
    "plt.plot(x,y_hat)\n",
    "plt.xlabel('GDP(Trillion)')\n",
    "plt.ylabel('Consumption(1000 bags)')\n",
    "plt.show()"
   ]
  },
  {
   "cell_type": "markdown",
   "id": "aba55bc0",
   "metadata": {},
   "source": [
    "### Coffee production vs. GDP "
   ]
  },
  {
   "cell_type": "code",
   "execution_count": 8,
   "id": "692a6f99",
   "metadata": {},
   "outputs": [
    {
     "data": {
      "image/png": "[encoded data removed]",
      "text/plain": [
       "<Figure size 432x288 with 1 Axes>"
      ]
     },
     "metadata": {
      "needs_background": "light"
     },
     "output_type": "display_data"
    }
   ],
   "source": [
    "x=np.array(df_china['gdp'])\n",
    "x = x.reshape(-1,1)\n",
    "y=np.array(df_china['coffee_prod'])\n",
    "y=y.reshape(-1,1)\n",
    "\n",
    "lm = linear_model.LinearRegression()\n",
    "lm.fit(x,y)\n",
    "y_hat = lm.predict(x)\n",
    "plt.scatter(x,y)\n",
    "plt.plot(x,y_hat)\n",
    "plt.xlabel('GDP(Trillion)')\n",
    "plt.ylabel('Production(1000 bags)')\n",
    "plt.show()"
   ]
  },
  {
   "cell_type": "markdown",
   "id": "26960be0",
   "metadata": {},
   "source": [
    "### Prediction for consumption and production "
   ]
  },
  {
   "cell_type": "code",
   "execution_count": null,
   "id": "fe20ab2c",
   "metadata": {},
   "outputs": [],
   "source": [
    "# Consumption in China "
   ]
  },
  {
   "cell_type": "code",
   "execution_count": 9,
   "id": "827f4014",
   "metadata": {},
   "outputs": [],
   "source": [
    "new_data=df_china[['year','coffee_consum']]\n"
   ]
  },
  {
   "cell_type": "code",
   "execution_count": 10,
   "id": "6b7480ee",
   "metadata": {},
   "outputs": [
    {
     "data": {
      "text/html": [
       "<div>\n",
       "<style scoped>\n",
       "    .dataframe tbody tr th:only-of-type {\n",
       "        vertical-align: middle;\n",
       "    }\n",
       "\n",
       "    .dataframe tbody tr th {\n",
       "        vertical-align: top;\n",
       "    }\n",
       "\n",
       "    .dataframe thead th {\n",
       "        text-align: right;\n",
       "    }\n",
       "</style>\n",
       "<table border=\"1\" class=\"dataframe\">\n",
       "  <thead>\n",
       "    <tr style=\"text-align: right;\">\n",
       "      <th></th>\n",
       "      <th>year</th>\n",
       "      <th>coffee_consum</th>\n",
       "    </tr>\n",
       "  </thead>\n",
       "  <tbody>\n",
       "    <tr>\n",
       "      <th>0</th>\n",
       "      <td>2000</td>\n",
       "      <td>0</td>\n",
       "    </tr>\n",
       "    <tr>\n",
       "      <th>1</th>\n",
       "      <td>2001</td>\n",
       "      <td>0</td>\n",
       "    </tr>\n",
       "    <tr>\n",
       "      <th>2</th>\n",
       "      <td>2002</td>\n",
       "      <td>117</td>\n",
       "    </tr>\n",
       "    <tr>\n",
       "      <th>3</th>\n",
       "      <td>2003</td>\n",
       "      <td>156</td>\n",
       "    </tr>\n",
       "    <tr>\n",
       "      <th>4</th>\n",
       "      <td>2004</td>\n",
       "      <td>222</td>\n",
       "    </tr>\n",
       "  </tbody>\n",
       "</table>\n",
       "</div>"
      ],
      "text/plain": [
       "   year  coffee_consum\n",
       "0  2000              0\n",
       "1  2001              0\n",
       "2  2002            117\n",
       "3  2003            156\n",
       "4  2004            222"
      ]
     },
     "execution_count": 10,
     "metadata": {},
     "output_type": "execute_result"
    }
   ],
   "source": [
    "new_data.head()"
   ]
  },
  {
   "cell_type": "code",
   "execution_count": 11,
   "id": "987356fc",
   "metadata": {},
   "outputs": [
    {
     "data": {
      "text/plain": [
       "[<matplotlib.lines.Line2D at 0x2b159fa77f0>]"
      ]
     },
     "execution_count": 11,
     "metadata": {},
     "output_type": "execute_result"
    },
    {
     "data": {
      "image/png": "[encoded data removed]",
      "text/plain": [
       "<Figure size 1152x576 with 1 Axes>"
      ]
     },
     "metadata": {
      "needs_background": "light"
     },
     "output_type": "display_data"
    }
   ],
   "source": [
    "plt.figure(figsize=(16,8))\n",
    "plt.xlabel('year')\n",
    "plt.ylabel('consumption')\n",
    "\n",
    "plt.plot(new_data['coffee_consum'])"
   ]
  },
  {
   "cell_type": "code",
   "execution_count": 12,
   "id": "90b4266b",
   "metadata": {},
   "outputs": [],
   "source": [
    "X=new_data['year'].tolist()\n",
    "y = new_data['coffee_consum'].tolist()"
   ]
  },
  {
   "cell_type": "code",
   "execution_count": 13,
   "id": "2ab3a923",
   "metadata": {},
   "outputs": [
    {
     "data": {
      "text/plain": [
       "array([2000, 2001, 2002, 2003, 2004, 2005, 2006, 2007, 2008, 2009, 2010,\n",
       "       2011, 2012, 2013, 2014, 2015, 2016, 2017, 2018, 2019, 2020])"
      ]
     },
     "execution_count": 13,
     "metadata": {},
     "output_type": "execute_result"
    }
   ],
   "source": [
    "np.array(X)"
   ]
  },
  {
   "cell_type": "code",
   "execution_count": 14,
   "id": "6a5737c3",
   "metadata": {},
   "outputs": [
    {
     "data": {
      "text/plain": [
       "array([   0,    0,  117,  156,  222,  172,  226,  164,  338, 1135, 1106,\n",
       "       1091, 1628, 2181, 2416, 2850, 2700, 2900, 3000, 3600, 4200])"
      ]
     },
     "execution_count": 14,
     "metadata": {},
     "output_type": "execute_result"
    }
   ],
   "source": [
    "np.array(y)"
   ]
  },
  {
   "cell_type": "code",
   "execution_count": 15,
   "id": "d8b0fe9b",
   "metadata": {},
   "outputs": [],
   "source": [
    "from sklearn.linear_model import LinearRegression\n",
    "\n",
    "model = LinearRegression()"
   ]
  },
  {
   "cell_type": "code",
   "execution_count": 16,
   "id": "3b8d6b02",
   "metadata": {},
   "outputs": [
    {
     "data": {
      "text/plain": [
       "LinearRegression()"
      ]
     },
     "execution_count": 16,
     "metadata": {},
     "output_type": "execute_result"
    }
   ],
   "source": [
    "model.fit(np.array(X).reshape(-1,1),np.array(y).reshape(-1,1))\n",
    "\n",
    "\n"
   ]
  },
  {
   "cell_type": "code",
   "execution_count": null,
   "id": "f8307ae3",
   "metadata": {},
   "outputs": [],
   "source": [
    "#predict the consumption in the future five years "
   ]
  },
  {
   "cell_type": "code",
   "execution_count": 17,
   "id": "c44a445c",
   "metadata": {},
   "outputs": [
    {
     "data": {
      "text/plain": [
       "array([[3756.43333333]])"
      ]
     },
     "execution_count": 17,
     "metadata": {},
     "output_type": "execute_result"
    }
   ],
   "source": [
    "\n",
    "model.predict([[2021]])\n"
   ]
  },
  {
   "cell_type": "code",
   "execution_count": 18,
   "id": "d4bd17f7",
   "metadata": {},
   "outputs": [
    {
     "data": {
      "text/plain": [
       "array([[3967.18268398]])"
      ]
     },
     "execution_count": 18,
     "metadata": {},
     "output_type": "execute_result"
    }
   ],
   "source": [
    "model.predict([[2022]])"
   ]
  },
  {
   "cell_type": "code",
   "execution_count": 19,
   "id": "2fea75ac",
   "metadata": {},
   "outputs": [
    {
     "data": {
      "text/plain": [
       "array([[4177.93203463]])"
      ]
     },
     "execution_count": 19,
     "metadata": {},
     "output_type": "execute_result"
    }
   ],
   "source": [
    "model.predict([[2023]])"
   ]
  },
  {
   "cell_type": "code",
   "execution_count": 20,
   "id": "3d19ac6b",
   "metadata": {},
   "outputs": [
    {
     "data": {
      "text/plain": [
       "array([[4388.68138528]])"
      ]
     },
     "execution_count": 20,
     "metadata": {},
     "output_type": "execute_result"
    }
   ],
   "source": [
    "model.predict([[2024]])"
   ]
  },
  {
   "cell_type": "code",
   "execution_count": 21,
   "id": "d3b0e4f2",
   "metadata": {},
   "outputs": [
    {
     "data": {
      "text/plain": [
       "array([[4599.43073593]])"
      ]
     },
     "execution_count": 21,
     "metadata": {},
     "output_type": "execute_result"
    }
   ],
   "source": [
    "model.predict([[2025]])"
   ]
  },
  {
   "cell_type": "code",
   "execution_count": 22,
   "id": "c5b079c6",
   "metadata": {},
   "outputs": [
    {
     "data": {
      "text/plain": [
       "0.9183286038649858"
      ]
     },
     "execution_count": 22,
     "metadata": {},
     "output_type": "execute_result"
    }
   ],
   "source": [
    "\n",
    "model.score(np.array(X).reshape(-1,1),np.array(y).reshape(-1,1))"
   ]
  },
  {
   "cell_type": "code",
   "execution_count": 23,
   "id": "c2871a8c",
   "metadata": {},
   "outputs": [
    {
     "data": {
      "text/plain": [
       "array([-422168.004329])"
      ]
     },
     "execution_count": 23,
     "metadata": {},
     "output_type": "execute_result"
    }
   ],
   "source": [
    "model.intercept_"
   ]
  },
  {
   "cell_type": "code",
   "execution_count": 24,
   "id": "a720280a",
   "metadata": {},
   "outputs": [
    {
     "data": {
      "text/plain": [
       "array([[210.74935065]])"
      ]
     },
     "execution_count": 24,
     "metadata": {},
     "output_type": "execute_result"
    }
   ],
   "source": [
    "model.coef_"
   ]
  },
  {
   "cell_type": "code",
   "execution_count": 25,
   "id": "8387b843",
   "metadata": {},
   "outputs": [],
   "source": [
    "# Production in China \n",
    "\n",
    "data=df_china[['year','coffee_prod']]\n"
   ]
  },
  {
   "cell_type": "code",
   "execution_count": 26,
   "id": "7708bbc1",
   "metadata": {},
   "outputs": [
    {
     "data": {
      "text/html": [
       "<div>\n",
       "<style scoped>\n",
       "    .dataframe tbody tr th:only-of-type {\n",
       "        vertical-align: middle;\n",
       "    }\n",
       "\n",
       "    .dataframe tbody tr th {\n",
       "        vertical-align: top;\n",
       "    }\n",
       "\n",
       "    .dataframe thead th {\n",
       "        text-align: right;\n",
       "    }\n",
       "</style>\n",
       "<table border=\"1\" class=\"dataframe\">\n",
       "  <thead>\n",
       "    <tr style=\"text-align: right;\">\n",
       "      <th></th>\n",
       "      <th>year</th>\n",
       "      <th>coffee_prod</th>\n",
       "    </tr>\n",
       "  </thead>\n",
       "  <tbody>\n",
       "    <tr>\n",
       "      <th>0</th>\n",
       "      <td>2000</td>\n",
       "      <td>0</td>\n",
       "    </tr>\n",
       "    <tr>\n",
       "      <th>1</th>\n",
       "      <td>2001</td>\n",
       "      <td>0</td>\n",
       "    </tr>\n",
       "    <tr>\n",
       "      <th>2</th>\n",
       "      <td>2002</td>\n",
       "      <td>324</td>\n",
       "    </tr>\n",
       "    <tr>\n",
       "      <th>3</th>\n",
       "      <td>2003</td>\n",
       "      <td>386</td>\n",
       "    </tr>\n",
       "    <tr>\n",
       "      <th>4</th>\n",
       "      <td>2004</td>\n",
       "      <td>361</td>\n",
       "    </tr>\n",
       "  </tbody>\n",
       "</table>\n",
       "</div>"
      ],
      "text/plain": [
       "   year  coffee_prod\n",
       "0  2000            0\n",
       "1  2001            0\n",
       "2  2002          324\n",
       "3  2003          386\n",
       "4  2004          361"
      ]
     },
     "execution_count": 26,
     "metadata": {},
     "output_type": "execute_result"
    }
   ],
   "source": [
    "data.head()"
   ]
  },
  {
   "cell_type": "code",
   "execution_count": null,
   "id": "3d46df4b",
   "metadata": {},
   "outputs": [],
   "source": [
    "#data=data.drop(columns='year')"
   ]
  },
  {
   "cell_type": "code",
   "execution_count": 27,
   "id": "407dd83b",
   "metadata": {},
   "outputs": [],
   "source": [
    "data=data.reset_index()"
   ]
  },
  {
   "cell_type": "code",
   "execution_count": 28,
   "id": "85536463",
   "metadata": {},
   "outputs": [
    {
     "data": {
      "text/plain": [
       "[<matplotlib.lines.Line2D at 0x2b15a01fdf0>]"
      ]
     },
     "execution_count": 28,
     "metadata": {},
     "output_type": "execute_result"
    },
    {
     "data": {
      "image/png": "[encoded data removed]",
      "text/plain": [
       "<Figure size 1152x576 with 1 Axes>"
      ]
     },
     "metadata": {
      "needs_background": "light"
     },
     "output_type": "display_data"
    }
   ],
   "source": [
    "plt.figure(figsize=(16,8))\n",
    "plt.xlabel('year')\n",
    "plt.ylabel('production')\n",
    "plt.plot(data['coffee_prod'], label='historical production')"
   ]
  },
  {
   "cell_type": "code",
   "execution_count": 29,
   "id": "111d950b",
   "metadata": {},
   "outputs": [],
   "source": [
    "X = data['year'].tolist()\n",
    "y = data['coffee_prod'].tolist()"
   ]
  },
  {
   "cell_type": "code",
   "execution_count": 30,
   "id": "c4bee19b",
   "metadata": {},
   "outputs": [
    {
     "data": {
      "text/plain": [
       "LinearRegression()"
      ]
     },
     "execution_count": 30,
     "metadata": {},
     "output_type": "execute_result"
    }
   ],
   "source": [
    "model = LinearRegression()\n",
    "model.fit(np.array(X).reshape(-1,1),np.array(y).reshape(-1,1))"
   ]
  },
  {
   "cell_type": "code",
   "execution_count": null,
   "id": "eedba0b8",
   "metadata": {},
   "outputs": [],
   "source": [
    "#predict the production in the future five years "
   ]
  },
  {
   "cell_type": "code",
   "execution_count": 31,
   "id": "c170258f",
   "metadata": {},
   "outputs": [
    {
     "data": {
      "text/plain": [
       "array([[2425.02857143]])"
      ]
     },
     "execution_count": 31,
     "metadata": {},
     "output_type": "execute_result"
    }
   ],
   "source": [
    "model.predict([[2021]])"
   ]
  },
  {
   "cell_type": "code",
   "execution_count": 32,
   "id": "c9266bdd",
   "metadata": {},
   "outputs": [
    {
     "data": {
      "text/plain": [
       "array([[2544.73246753]])"
      ]
     },
     "execution_count": 32,
     "metadata": {},
     "output_type": "execute_result"
    }
   ],
   "source": [
    "model.predict([[2022]])"
   ]
  },
  {
   "cell_type": "code",
   "execution_count": 33,
   "id": "8d2df39b",
   "metadata": {},
   "outputs": [
    {
     "data": {
      "text/plain": [
       "array([[2664.43636364]])"
      ]
     },
     "execution_count": 33,
     "metadata": {},
     "output_type": "execute_result"
    }
   ],
   "source": [
    "model.predict([[2023]])"
   ]
  },
  {
   "cell_type": "code",
   "execution_count": 34,
   "id": "90433811",
   "metadata": {},
   "outputs": [
    {
     "data": {
      "text/plain": [
       "array([[2784.14025974]])"
      ]
     },
     "execution_count": 34,
     "metadata": {},
     "output_type": "execute_result"
    }
   ],
   "source": [
    "model.predict([[2024]])"
   ]
  },
  {
   "cell_type": "code",
   "execution_count": 35,
   "id": "282a38a2",
   "metadata": {},
   "outputs": [
    {
     "data": {
      "text/plain": [
       "array([[2903.84415584]])"
      ]
     },
     "execution_count": 35,
     "metadata": {},
     "output_type": "execute_result"
    }
   ],
   "source": [
    "model.predict([[2025]])"
   ]
  },
  {
   "cell_type": "code",
   "execution_count": 36,
   "id": "47be7577",
   "metadata": {},
   "outputs": [
    {
     "data": {
      "text/plain": [
       "array([-239496.54545455])"
      ]
     },
     "execution_count": 36,
     "metadata": {},
     "output_type": "execute_result"
    }
   ],
   "source": [
    "model.intercept_"
   ]
  },
  {
   "cell_type": "code",
   "execution_count": 37,
   "id": "1248b50d",
   "metadata": {},
   "outputs": [
    {
     "data": {
      "text/plain": [
       "array([[119.7038961]])"
      ]
     },
     "execution_count": 37,
     "metadata": {},
     "output_type": "execute_result"
    }
   ],
   "source": [
    "model.coef_"
   ]
  },
  {
   "cell_type": "code",
   "execution_count": 38,
   "id": "e68f742b",
   "metadata": {},
   "outputs": [
    {
     "data": {
      "text/plain": [
       "0.9019171454176655"
      ]
     },
     "execution_count": 38,
     "metadata": {},
     "output_type": "execute_result"
    }
   ],
   "source": [
    "model.score(np.array(X).reshape(-1,1),np.array(y).reshape(-1,1))"
   ]
  },
  {
   "cell_type": "markdown",
   "id": "c9a940fb",
   "metadata": {},
   "source": [
    "## Analysis on India "
   ]
  },
  {
   "cell_type": "code",
   "execution_count": 39,
   "id": "ee6da5f9",
   "metadata": {},
   "outputs": [
    {
     "data": {
      "text/html": [
       "<div>\n",
       "<style scoped>\n",
       "    .dataframe tbody tr th:only-of-type {\n",
       "        vertical-align: middle;\n",
       "    }\n",
       "\n",
       "    .dataframe tbody tr th {\n",
       "        vertical-align: top;\n",
       "    }\n",
       "\n",
       "    .dataframe thead th {\n",
       "        text-align: right;\n",
       "    }\n",
       "</style>\n",
       "<table border=\"1\" class=\"dataframe\">\n",
       "  <thead>\n",
       "    <tr style=\"text-align: right;\">\n",
       "      <th></th>\n",
       "      <th>year</th>\n",
       "      <th>country</th>\n",
       "      <th>id</th>\n",
       "      <th>coffee_consum</th>\n",
       "      <th>coffee_prod</th>\n",
       "      <th>GDP</th>\n",
       "    </tr>\n",
       "  </thead>\n",
       "  <tbody>\n",
       "    <tr>\n",
       "      <th>0</th>\n",
       "      <td>2000</td>\n",
       "      <td>India</td>\n",
       "      <td>1004</td>\n",
       "      <td>959</td>\n",
       "      <td>5020</td>\n",
       "      <td>4.683950e+11</td>\n",
       "    </tr>\n",
       "    <tr>\n",
       "      <th>1</th>\n",
       "      <td>2001</td>\n",
       "      <td>India</td>\n",
       "      <td>1004</td>\n",
       "      <td>1000</td>\n",
       "      <td>5010</td>\n",
       "      <td>4.854410e+11</td>\n",
       "    </tr>\n",
       "    <tr>\n",
       "      <th>2</th>\n",
       "      <td>2002</td>\n",
       "      <td>India</td>\n",
       "      <td>1004</td>\n",
       "      <td>1050</td>\n",
       "      <td>4588</td>\n",
       "      <td>5.149380e+11</td>\n",
       "    </tr>\n",
       "    <tr>\n",
       "      <th>3</th>\n",
       "      <td>2003</td>\n",
       "      <td>India</td>\n",
       "      <td>1004</td>\n",
       "      <td>1085</td>\n",
       "      <td>4508</td>\n",
       "      <td>6.076990e+11</td>\n",
       "    </tr>\n",
       "    <tr>\n",
       "      <th>4</th>\n",
       "      <td>2004</td>\n",
       "      <td>India</td>\n",
       "      <td>1004</td>\n",
       "      <td>1135</td>\n",
       "      <td>4595</td>\n",
       "      <td>7.091490e+11</td>\n",
       "    </tr>\n",
       "    <tr>\n",
       "      <th>5</th>\n",
       "      <td>2005</td>\n",
       "      <td>India</td>\n",
       "      <td>1004</td>\n",
       "      <td>1364</td>\n",
       "      <td>4570</td>\n",
       "      <td>8.203820e+11</td>\n",
       "    </tr>\n",
       "    <tr>\n",
       "      <th>6</th>\n",
       "      <td>2006</td>\n",
       "      <td>India</td>\n",
       "      <td>1004</td>\n",
       "      <td>1050</td>\n",
       "      <td>4800</td>\n",
       "      <td>9.402600e+11</td>\n",
       "    </tr>\n",
       "    <tr>\n",
       "      <th>7</th>\n",
       "      <td>2007</td>\n",
       "      <td>India</td>\n",
       "      <td>1004</td>\n",
       "      <td>1265</td>\n",
       "      <td>4365</td>\n",
       "      <td>1.216740e+12</td>\n",
       "    </tr>\n",
       "    <tr>\n",
       "      <th>8</th>\n",
       "      <td>2008</td>\n",
       "      <td>India</td>\n",
       "      <td>1004</td>\n",
       "      <td>1215</td>\n",
       "      <td>4375</td>\n",
       "      <td>1.198900e+12</td>\n",
       "    </tr>\n",
       "    <tr>\n",
       "      <th>9</th>\n",
       "      <td>2009</td>\n",
       "      <td>India</td>\n",
       "      <td>1004</td>\n",
       "      <td>1220</td>\n",
       "      <td>4825</td>\n",
       "      <td>1.341890e+12</td>\n",
       "    </tr>\n",
       "    <tr>\n",
       "      <th>10</th>\n",
       "      <td>2010</td>\n",
       "      <td>India</td>\n",
       "      <td>1004</td>\n",
       "      <td>1231</td>\n",
       "      <td>5035</td>\n",
       "      <td>1.675620e+12</td>\n",
       "    </tr>\n",
       "    <tr>\n",
       "      <th>11</th>\n",
       "      <td>2011</td>\n",
       "      <td>India</td>\n",
       "      <td>1004</td>\n",
       "      <td>1168</td>\n",
       "      <td>5230</td>\n",
       "      <td>1.823050e+12</td>\n",
       "    </tr>\n",
       "    <tr>\n",
       "      <th>12</th>\n",
       "      <td>2012</td>\n",
       "      <td>India</td>\n",
       "      <td>1004</td>\n",
       "      <td>1100</td>\n",
       "      <td>5303</td>\n",
       "      <td>1.827640e+12</td>\n",
       "    </tr>\n",
       "    <tr>\n",
       "      <th>13</th>\n",
       "      <td>2013</td>\n",
       "      <td>India</td>\n",
       "      <td>1004</td>\n",
       "      <td>1170</td>\n",
       "      <td>5075</td>\n",
       "      <td>1.856720e+12</td>\n",
       "    </tr>\n",
       "    <tr>\n",
       "      <th>14</th>\n",
       "      <td>2014</td>\n",
       "      <td>India</td>\n",
       "      <td>1004</td>\n",
       "      <td>1191</td>\n",
       "      <td>5440</td>\n",
       "      <td>2.039130e+12</td>\n",
       "    </tr>\n",
       "    <tr>\n",
       "      <th>15</th>\n",
       "      <td>2015</td>\n",
       "      <td>India</td>\n",
       "      <td>1004</td>\n",
       "      <td>1250</td>\n",
       "      <td>5800</td>\n",
       "      <td>2.103590e+12</td>\n",
       "    </tr>\n",
       "    <tr>\n",
       "      <th>16</th>\n",
       "      <td>2016</td>\n",
       "      <td>India</td>\n",
       "      <td>1004</td>\n",
       "      <td>1200</td>\n",
       "      <td>5200</td>\n",
       "      <td>2.294800e+12</td>\n",
       "    </tr>\n",
       "    <tr>\n",
       "      <th>17</th>\n",
       "      <td>2017</td>\n",
       "      <td>India</td>\n",
       "      <td>1004</td>\n",
       "      <td>1215</td>\n",
       "      <td>5266</td>\n",
       "      <td>2.651470e+12</td>\n",
       "    </tr>\n",
       "    <tr>\n",
       "      <th>18</th>\n",
       "      <td>2018</td>\n",
       "      <td>India</td>\n",
       "      <td>1004</td>\n",
       "      <td>1250</td>\n",
       "      <td>5325</td>\n",
       "      <td>2.701110e+12</td>\n",
       "    </tr>\n",
       "    <tr>\n",
       "      <th>19</th>\n",
       "      <td>2019</td>\n",
       "      <td>India</td>\n",
       "      <td>1004</td>\n",
       "      <td>1170</td>\n",
       "      <td>4967</td>\n",
       "      <td>2.870500e+12</td>\n",
       "    </tr>\n",
       "    <tr>\n",
       "      <th>20</th>\n",
       "      <td>2020</td>\n",
       "      <td>India</td>\n",
       "      <td>1004</td>\n",
       "      <td>1180</td>\n",
       "      <td>5237</td>\n",
       "      <td>2.660250e+12</td>\n",
       "    </tr>\n",
       "  </tbody>\n",
       "</table>\n",
       "</div>"
      ],
      "text/plain": [
       "    year country    id  coffee_consum  coffee_prod           GDP\n",
       "0   2000   India  1004            959         5020  4.683950e+11\n",
       "1   2001   India  1004           1000         5010  4.854410e+11\n",
       "2   2002   India  1004           1050         4588  5.149380e+11\n",
       "3   2003   India  1004           1085         4508  6.076990e+11\n",
       "4   2004   India  1004           1135         4595  7.091490e+11\n",
       "5   2005   India  1004           1364         4570  8.203820e+11\n",
       "6   2006   India  1004           1050         4800  9.402600e+11\n",
       "7   2007   India  1004           1265         4365  1.216740e+12\n",
       "8   2008   India  1004           1215         4375  1.198900e+12\n",
       "9   2009   India  1004           1220         4825  1.341890e+12\n",
       "10  2010   India  1004           1231         5035  1.675620e+12\n",
       "11  2011   India  1004           1168         5230  1.823050e+12\n",
       "12  2012   India  1004           1100         5303  1.827640e+12\n",
       "13  2013   India  1004           1170         5075  1.856720e+12\n",
       "14  2014   India  1004           1191         5440  2.039130e+12\n",
       "15  2015   India  1004           1250         5800  2.103590e+12\n",
       "16  2016   India  1004           1200         5200  2.294800e+12\n",
       "17  2017   India  1004           1215         5266  2.651470e+12\n",
       "18  2018   India  1004           1250         5325  2.701110e+12\n",
       "19  2019   India  1004           1170         4967  2.870500e+12\n",
       "20  2020   India  1004           1180         5237  2.660250e+12"
      ]
     },
     "execution_count": 39,
     "metadata": {},
     "output_type": "execute_result"
    }
   ],
   "source": [
    "#import analysis on India \n",
    "\n",
    "file_path = 'integrated/india.csv'\n",
    "\n",
    "df_india = pd.read_csv(file_path)\n",
    "df_india"
   ]
  },
  {
   "cell_type": "markdown",
   "id": "0f94fd67",
   "metadata": {},
   "source": [
    "### Coffee Consumption VS. GDP"
   ]
  },
  {
   "cell_type": "code",
   "execution_count": 40,
   "id": "62a49ef8",
   "metadata": {},
   "outputs": [],
   "source": [
    "x=np.array(df_india['GDP'])\n",
    "x = x.reshape(-1,1)\n",
    "y=np.array(df_india['coffee_consum'])\n",
    "y=y.reshape(-1,1)"
   ]
  },
  {
   "cell_type": "code",
   "execution_count": 41,
   "id": "fe3facb4",
   "metadata": {},
   "outputs": [],
   "source": [
    "lm = linear_model.LinearRegression()\n",
    "\n",
    "lm.fit(x,y)\n",
    "\n",
    "y_hat = lm.predict(x)"
   ]
  },
  {
   "cell_type": "code",
   "execution_count": 42,
   "id": "74211b29",
   "metadata": {},
   "outputs": [
    {
     "data": {
      "image/png": "[encoded data removed]",
      "text/plain": [
       "<Figure size 432x288 with 1 Axes>"
      ]
     },
     "metadata": {
      "needs_background": "light"
     },
     "output_type": "display_data"
    }
   ],
   "source": [
    "plt.scatter(x,y)\n",
    "plt.plot(x,y_hat)\n",
    "plt.xlabel('GDP(Trillion)')\n",
    "plt.ylabel('Consumption(1000 bags)')\n",
    "plt.show()"
   ]
  },
  {
   "cell_type": "markdown",
   "id": "945220c3",
   "metadata": {},
   "source": [
    "### Coffee production vs. GDP"
   ]
  },
  {
   "cell_type": "code",
   "execution_count": 43,
   "id": "2b5e30fb",
   "metadata": {},
   "outputs": [
    {
     "data": {
      "image/png": "[encoded data removed]",
      "text/plain": [
       "<Figure size 432x288 with 1 Axes>"
      ]
     },
     "metadata": {
      "needs_background": "light"
     },
     "output_type": "display_data"
    }
   ],
   "source": [
    "x=np.array(df_india['GDP'])\n",
    "x = x.reshape(-1,1)\n",
    "y=np.array(df_india['coffee_prod'])\n",
    "y=y.reshape(-1,1)\n",
    "\n",
    "lm = linear_model.LinearRegression()\n",
    "lm.fit(x,y)\n",
    "y_hat = lm.predict(x)\n",
    "plt.scatter(x,y)\n",
    "plt.plot(x,y_hat)\n",
    "plt.xlabel('GDP(Trillion)')\n",
    "plt.ylabel('Production(1000 bags)')\n",
    "plt.show()"
   ]
  },
  {
   "cell_type": "markdown",
   "id": "568e9bd1",
   "metadata": {},
   "source": [
    "### Prediction for consumption and production"
   ]
  },
  {
   "cell_type": "code",
   "execution_count": null,
   "id": "672eed40",
   "metadata": {},
   "outputs": [],
   "source": [
    "# Consumption in India"
   ]
  },
  {
   "cell_type": "code",
   "execution_count": 44,
   "id": "4a78e5ac",
   "metadata": {},
   "outputs": [],
   "source": [
    "in_data=df_india[['year','coffee_consum']]\n",
    "#in_data=df_india.drop(columns='year')"
   ]
  },
  {
   "cell_type": "code",
   "execution_count": 45,
   "id": "1211f422",
   "metadata": {},
   "outputs": [
    {
     "data": {
      "text/html": [
       "<div>\n",
       "<style scoped>\n",
       "    .dataframe tbody tr th:only-of-type {\n",
       "        vertical-align: middle;\n",
       "    }\n",
       "\n",
       "    .dataframe tbody tr th {\n",
       "        vertical-align: top;\n",
       "    }\n",
       "\n",
       "    .dataframe thead th {\n",
       "        text-align: right;\n",
       "    }\n",
       "</style>\n",
       "<table border=\"1\" class=\"dataframe\">\n",
       "  <thead>\n",
       "    <tr style=\"text-align: right;\">\n",
       "      <th></th>\n",
       "      <th>year</th>\n",
       "      <th>coffee_consum</th>\n",
       "    </tr>\n",
       "  </thead>\n",
       "  <tbody>\n",
       "    <tr>\n",
       "      <th>0</th>\n",
       "      <td>2000</td>\n",
       "      <td>959</td>\n",
       "    </tr>\n",
       "    <tr>\n",
       "      <th>1</th>\n",
       "      <td>2001</td>\n",
       "      <td>1000</td>\n",
       "    </tr>\n",
       "    <tr>\n",
       "      <th>2</th>\n",
       "      <td>2002</td>\n",
       "      <td>1050</td>\n",
       "    </tr>\n",
       "    <tr>\n",
       "      <th>3</th>\n",
       "      <td>2003</td>\n",
       "      <td>1085</td>\n",
       "    </tr>\n",
       "    <tr>\n",
       "      <th>4</th>\n",
       "      <td>2004</td>\n",
       "      <td>1135</td>\n",
       "    </tr>\n",
       "    <tr>\n",
       "      <th>5</th>\n",
       "      <td>2005</td>\n",
       "      <td>1364</td>\n",
       "    </tr>\n",
       "    <tr>\n",
       "      <th>6</th>\n",
       "      <td>2006</td>\n",
       "      <td>1050</td>\n",
       "    </tr>\n",
       "    <tr>\n",
       "      <th>7</th>\n",
       "      <td>2007</td>\n",
       "      <td>1265</td>\n",
       "    </tr>\n",
       "    <tr>\n",
       "      <th>8</th>\n",
       "      <td>2008</td>\n",
       "      <td>1215</td>\n",
       "    </tr>\n",
       "    <tr>\n",
       "      <th>9</th>\n",
       "      <td>2009</td>\n",
       "      <td>1220</td>\n",
       "    </tr>\n",
       "    <tr>\n",
       "      <th>10</th>\n",
       "      <td>2010</td>\n",
       "      <td>1231</td>\n",
       "    </tr>\n",
       "    <tr>\n",
       "      <th>11</th>\n",
       "      <td>2011</td>\n",
       "      <td>1168</td>\n",
       "    </tr>\n",
       "    <tr>\n",
       "      <th>12</th>\n",
       "      <td>2012</td>\n",
       "      <td>1100</td>\n",
       "    </tr>\n",
       "    <tr>\n",
       "      <th>13</th>\n",
       "      <td>2013</td>\n",
       "      <td>1170</td>\n",
       "    </tr>\n",
       "    <tr>\n",
       "      <th>14</th>\n",
       "      <td>2014</td>\n",
       "      <td>1191</td>\n",
       "    </tr>\n",
       "    <tr>\n",
       "      <th>15</th>\n",
       "      <td>2015</td>\n",
       "      <td>1250</td>\n",
       "    </tr>\n",
       "    <tr>\n",
       "      <th>16</th>\n",
       "      <td>2016</td>\n",
       "      <td>1200</td>\n",
       "    </tr>\n",
       "    <tr>\n",
       "      <th>17</th>\n",
       "      <td>2017</td>\n",
       "      <td>1215</td>\n",
       "    </tr>\n",
       "    <tr>\n",
       "      <th>18</th>\n",
       "      <td>2018</td>\n",
       "      <td>1250</td>\n",
       "    </tr>\n",
       "    <tr>\n",
       "      <th>19</th>\n",
       "      <td>2019</td>\n",
       "      <td>1170</td>\n",
       "    </tr>\n",
       "    <tr>\n",
       "      <th>20</th>\n",
       "      <td>2020</td>\n",
       "      <td>1180</td>\n",
       "    </tr>\n",
       "  </tbody>\n",
       "</table>\n",
       "</div>"
      ],
      "text/plain": [
       "    year  coffee_consum\n",
       "0   2000            959\n",
       "1   2001           1000\n",
       "2   2002           1050\n",
       "3   2003           1085\n",
       "4   2004           1135\n",
       "5   2005           1364\n",
       "6   2006           1050\n",
       "7   2007           1265\n",
       "8   2008           1215\n",
       "9   2009           1220\n",
       "10  2010           1231\n",
       "11  2011           1168\n",
       "12  2012           1100\n",
       "13  2013           1170\n",
       "14  2014           1191\n",
       "15  2015           1250\n",
       "16  2016           1200\n",
       "17  2017           1215\n",
       "18  2018           1250\n",
       "19  2019           1170\n",
       "20  2020           1180"
      ]
     },
     "execution_count": 45,
     "metadata": {},
     "output_type": "execute_result"
    }
   ],
   "source": [
    "in_data"
   ]
  },
  {
   "cell_type": "code",
   "execution_count": 47,
   "id": "14552788",
   "metadata": {},
   "outputs": [
    {
     "data": {
      "text/plain": [
       "[<matplotlib.lines.Line2D at 0x2b15a57ae50>]"
      ]
     },
     "execution_count": 47,
     "metadata": {},
     "output_type": "execute_result"
    },
    {
     "data": {
      "image/png": "[encoded data removed]",
      "text/plain": [
       "<Figure size 1152x576 with 1 Axes>"
      ]
     },
     "metadata": {
      "needs_background": "light"
     },
     "output_type": "display_data"
    }
   ],
   "source": [
    "plt.figure(figsize=(16,8))\n",
    "plt.xlabel('year')\n",
    "plt.ylabel('consumption')\n",
    "plt.plot(in_data['coffee_consum'], label='historical consumption')"
   ]
  },
  {
   "cell_type": "code",
   "execution_count": 48,
   "id": "834f13f0",
   "metadata": {},
   "outputs": [],
   "source": [
    "X = in_data['year'].tolist()\n",
    "y = in_data['coffee_consum'].tolist()"
   ]
  },
  {
   "cell_type": "code",
   "execution_count": 49,
   "id": "01a2f0c1",
   "metadata": {},
   "outputs": [
    {
     "data": {
      "text/plain": [
       "LinearRegression()"
      ]
     },
     "execution_count": 49,
     "metadata": {},
     "output_type": "execute_result"
    }
   ],
   "source": [
    "model = LinearRegression()\n",
    "model.fit(np.array(X).reshape(-1,1),np.array(y).reshape(-1,1))"
   ]
  },
  {
   "cell_type": "code",
   "execution_count": 50,
   "id": "f96dc6b0",
   "metadata": {},
   "outputs": [],
   "source": [
    "#predict the consumption in the future five years "
   ]
  },
  {
   "cell_type": "code",
   "execution_count": 51,
   "id": "3215d76c",
   "metadata": {},
   "outputs": [
    {
     "data": {
      "text/plain": [
       "array([[1251.81428571]])"
      ]
     },
     "execution_count": 51,
     "metadata": {},
     "output_type": "execute_result"
    }
   ],
   "source": [
    "model.predict([[2021]])"
   ]
  },
  {
   "cell_type": "code",
   "execution_count": 52,
   "id": "4f4946a0",
   "metadata": {},
   "outputs": [
    {
     "data": {
      "text/plain": [
       "array([[1259.69350649]])"
      ]
     },
     "execution_count": 52,
     "metadata": {},
     "output_type": "execute_result"
    }
   ],
   "source": [
    "model.predict([[2022]])"
   ]
  },
  {
   "cell_type": "code",
   "execution_count": 53,
   "id": "c488ab71",
   "metadata": {},
   "outputs": [
    {
     "data": {
      "text/plain": [
       "array([[1267.57272727]])"
      ]
     },
     "execution_count": 53,
     "metadata": {},
     "output_type": "execute_result"
    }
   ],
   "source": [
    "model.predict([[2023]])"
   ]
  },
  {
   "cell_type": "code",
   "execution_count": 54,
   "id": "887cbdd3",
   "metadata": {},
   "outputs": [
    {
     "data": {
      "text/plain": [
       "array([[1275.45194805]])"
      ]
     },
     "execution_count": 54,
     "metadata": {},
     "output_type": "execute_result"
    }
   ],
   "source": [
    "model.predict([[2024]])"
   ]
  },
  {
   "cell_type": "code",
   "execution_count": 55,
   "id": "04481051",
   "metadata": {},
   "outputs": [
    {
     "data": {
      "text/plain": [
       "array([[1283.33116883]])"
      ]
     },
     "execution_count": 55,
     "metadata": {},
     "output_type": "execute_result"
    }
   ],
   "source": [
    "model.predict([[2025]])"
   ]
  },
  {
   "cell_type": "code",
   "execution_count": 56,
   "id": "5999edff",
   "metadata": {},
   "outputs": [
    {
     "data": {
      "text/plain": [
       "array([-14672.09090909])"
      ]
     },
     "execution_count": 56,
     "metadata": {},
     "output_type": "execute_result"
    }
   ],
   "source": [
    "model.intercept_"
   ]
  },
  {
   "cell_type": "code",
   "execution_count": 57,
   "id": "6137b967",
   "metadata": {},
   "outputs": [
    {
     "data": {
      "text/plain": [
       "array([[7.87922078]])"
      ]
     },
     "execution_count": 57,
     "metadata": {},
     "output_type": "execute_result"
    }
   ],
   "source": [
    "model.coef_"
   ]
  },
  {
   "cell_type": "code",
   "execution_count": 58,
   "id": "7642d81c",
   "metadata": {},
   "outputs": [
    {
     "data": {
      "text/plain": [
       "0.2566581073264008"
      ]
     },
     "execution_count": 58,
     "metadata": {},
     "output_type": "execute_result"
    }
   ],
   "source": [
    "model.score(np.array(X).reshape(-1,1),np.array(y).reshape(-1,1))"
   ]
  },
  {
   "cell_type": "code",
   "execution_count": 59,
   "id": "75ca9ff7",
   "metadata": {},
   "outputs": [],
   "source": [
    "in_data=df_india[['year','coffee_prod']]"
   ]
  },
  {
   "cell_type": "code",
   "execution_count": 60,
   "id": "9a60f268",
   "metadata": {},
   "outputs": [
    {
     "data": {
      "text/html": [
       "<div>\n",
       "<style scoped>\n",
       "    .dataframe tbody tr th:only-of-type {\n",
       "        vertical-align: middle;\n",
       "    }\n",
       "\n",
       "    .dataframe tbody tr th {\n",
       "        vertical-align: top;\n",
       "    }\n",
       "\n",
       "    .dataframe thead th {\n",
       "        text-align: right;\n",
       "    }\n",
       "</style>\n",
       "<table border=\"1\" class=\"dataframe\">\n",
       "  <thead>\n",
       "    <tr style=\"text-align: right;\">\n",
       "      <th></th>\n",
       "      <th>year</th>\n",
       "      <th>coffee_prod</th>\n",
       "    </tr>\n",
       "  </thead>\n",
       "  <tbody>\n",
       "    <tr>\n",
       "      <th>0</th>\n",
       "      <td>2000</td>\n",
       "      <td>5020</td>\n",
       "    </tr>\n",
       "    <tr>\n",
       "      <th>1</th>\n",
       "      <td>2001</td>\n",
       "      <td>5010</td>\n",
       "    </tr>\n",
       "    <tr>\n",
       "      <th>2</th>\n",
       "      <td>2002</td>\n",
       "      <td>4588</td>\n",
       "    </tr>\n",
       "    <tr>\n",
       "      <th>3</th>\n",
       "      <td>2003</td>\n",
       "      <td>4508</td>\n",
       "    </tr>\n",
       "    <tr>\n",
       "      <th>4</th>\n",
       "      <td>2004</td>\n",
       "      <td>4595</td>\n",
       "    </tr>\n",
       "    <tr>\n",
       "      <th>5</th>\n",
       "      <td>2005</td>\n",
       "      <td>4570</td>\n",
       "    </tr>\n",
       "    <tr>\n",
       "      <th>6</th>\n",
       "      <td>2006</td>\n",
       "      <td>4800</td>\n",
       "    </tr>\n",
       "    <tr>\n",
       "      <th>7</th>\n",
       "      <td>2007</td>\n",
       "      <td>4365</td>\n",
       "    </tr>\n",
       "    <tr>\n",
       "      <th>8</th>\n",
       "      <td>2008</td>\n",
       "      <td>4375</td>\n",
       "    </tr>\n",
       "    <tr>\n",
       "      <th>9</th>\n",
       "      <td>2009</td>\n",
       "      <td>4825</td>\n",
       "    </tr>\n",
       "    <tr>\n",
       "      <th>10</th>\n",
       "      <td>2010</td>\n",
       "      <td>5035</td>\n",
       "    </tr>\n",
       "    <tr>\n",
       "      <th>11</th>\n",
       "      <td>2011</td>\n",
       "      <td>5230</td>\n",
       "    </tr>\n",
       "    <tr>\n",
       "      <th>12</th>\n",
       "      <td>2012</td>\n",
       "      <td>5303</td>\n",
       "    </tr>\n",
       "    <tr>\n",
       "      <th>13</th>\n",
       "      <td>2013</td>\n",
       "      <td>5075</td>\n",
       "    </tr>\n",
       "    <tr>\n",
       "      <th>14</th>\n",
       "      <td>2014</td>\n",
       "      <td>5440</td>\n",
       "    </tr>\n",
       "    <tr>\n",
       "      <th>15</th>\n",
       "      <td>2015</td>\n",
       "      <td>5800</td>\n",
       "    </tr>\n",
       "    <tr>\n",
       "      <th>16</th>\n",
       "      <td>2016</td>\n",
       "      <td>5200</td>\n",
       "    </tr>\n",
       "    <tr>\n",
       "      <th>17</th>\n",
       "      <td>2017</td>\n",
       "      <td>5266</td>\n",
       "    </tr>\n",
       "    <tr>\n",
       "      <th>18</th>\n",
       "      <td>2018</td>\n",
       "      <td>5325</td>\n",
       "    </tr>\n",
       "    <tr>\n",
       "      <th>19</th>\n",
       "      <td>2019</td>\n",
       "      <td>4967</td>\n",
       "    </tr>\n",
       "    <tr>\n",
       "      <th>20</th>\n",
       "      <td>2020</td>\n",
       "      <td>5237</td>\n",
       "    </tr>\n",
       "  </tbody>\n",
       "</table>\n",
       "</div>"
      ],
      "text/plain": [
       "    year  coffee_prod\n",
       "0   2000         5020\n",
       "1   2001         5010\n",
       "2   2002         4588\n",
       "3   2003         4508\n",
       "4   2004         4595\n",
       "5   2005         4570\n",
       "6   2006         4800\n",
       "7   2007         4365\n",
       "8   2008         4375\n",
       "9   2009         4825\n",
       "10  2010         5035\n",
       "11  2011         5230\n",
       "12  2012         5303\n",
       "13  2013         5075\n",
       "14  2014         5440\n",
       "15  2015         5800\n",
       "16  2016         5200\n",
       "17  2017         5266\n",
       "18  2018         5325\n",
       "19  2019         4967\n",
       "20  2020         5237"
      ]
     },
     "execution_count": 60,
     "metadata": {},
     "output_type": "execute_result"
    }
   ],
   "source": [
    "in_data"
   ]
  },
  {
   "cell_type": "code",
   "execution_count": 61,
   "id": "068506d0",
   "metadata": {},
   "outputs": [
    {
     "data": {
      "text/plain": [
       "[<matplotlib.lines.Line2D at 0x2b15a7c5be0>]"
      ]
     },
     "execution_count": 61,
     "metadata": {},
     "output_type": "execute_result"
    },
    {
     "data": {
      "image/png": "[encoded data removed]",
      "text/plain": [
       "<Figure size 1152x576 with 1 Axes>"
      ]
     },
     "metadata": {
      "needs_background": "light"
     },
     "output_type": "display_data"
    }
   ],
   "source": [
    "plt.figure(figsize=(16,8))\n",
    "plt.xlabel('year')\n",
    "plt.ylabel('production')\n",
    "plt.plot(in_data['coffee_prod'], label='historical production')"
   ]
  },
  {
   "cell_type": "code",
   "execution_count": 62,
   "id": "d5a9c4d8",
   "metadata": {},
   "outputs": [],
   "source": [
    "X = in_data['year'].tolist()\n",
    "y = in_data['coffee_prod'].tolist()"
   ]
  },
  {
   "cell_type": "code",
   "execution_count": 63,
   "id": "1996a2b0",
   "metadata": {},
   "outputs": [
    {
     "data": {
      "text/plain": [
       "LinearRegression()"
      ]
     },
     "execution_count": 63,
     "metadata": {},
     "output_type": "execute_result"
    }
   ],
   "source": [
    "model = LinearRegression()\n",
    "model.fit(np.array(X).reshape(-1,1),np.array(y).reshape(-1,1))"
   ]
  },
  {
   "cell_type": "code",
   "execution_count": 64,
   "id": "1a5efb8b",
   "metadata": {},
   "outputs": [
    {
     "data": {
      "text/plain": [
       "array([[5402.32380952]])"
      ]
     },
     "execution_count": 64,
     "metadata": {},
     "output_type": "execute_result"
    }
   ],
   "source": [
    "model.predict([[2021]])"
   ]
  },
  {
   "cell_type": "code",
   "execution_count": 65,
   "id": "5641f659",
   "metadata": {},
   "outputs": [
    {
     "data": {
      "text/plain": [
       "array([[5440.91601732]])"
      ]
     },
     "execution_count": 65,
     "metadata": {},
     "output_type": "execute_result"
    }
   ],
   "source": [
    "model.predict([[2022]])"
   ]
  },
  {
   "cell_type": "code",
   "execution_count": 66,
   "id": "8b145e9f",
   "metadata": {},
   "outputs": [
    {
     "data": {
      "text/plain": [
       "array([[5479.50822511]])"
      ]
     },
     "execution_count": 66,
     "metadata": {},
     "output_type": "execute_result"
    }
   ],
   "source": [
    "model.predict([[2023]])"
   ]
  },
  {
   "cell_type": "code",
   "execution_count": 67,
   "id": "1cc0dccc",
   "metadata": {},
   "outputs": [
    {
     "data": {
      "text/plain": [
       "array([[5518.1004329]])"
      ]
     },
     "execution_count": 67,
     "metadata": {},
     "output_type": "execute_result"
    }
   ],
   "source": [
    "model.predict([[2024]])"
   ]
  },
  {
   "cell_type": "code",
   "execution_count": 68,
   "id": "defd7ef0",
   "metadata": {},
   "outputs": [
    {
     "data": {
      "text/plain": [
       "array([[5556.69264069]])"
      ]
     },
     "execution_count": 68,
     "metadata": {},
     "output_type": "execute_result"
    }
   ],
   "source": [
    "model.predict([[2025]])"
   ]
  },
  {
   "cell_type": "code",
   "execution_count": 69,
   "id": "90509067",
   "metadata": {},
   "outputs": [
    {
     "data": {
      "text/plain": [
       "array([-72592.52813853])"
      ]
     },
     "execution_count": 69,
     "metadata": {},
     "output_type": "execute_result"
    }
   ],
   "source": [
    "model.intercept_"
   ]
  },
  {
   "cell_type": "code",
   "execution_count": 70,
   "id": "ed3b2326",
   "metadata": {},
   "outputs": [
    {
     "data": {
      "text/plain": [
       "array([[38.59220779]])"
      ]
     },
     "execution_count": 70,
     "metadata": {},
     "output_type": "execute_result"
    }
   ],
   "source": [
    "model.coef_"
   ]
  },
  {
   "cell_type": "code",
   "execution_count": 71,
   "id": "f11e1e99",
   "metadata": {},
   "outputs": [
    {
     "data": {
      "text/plain": [
       "0.39900491160113616"
      ]
     },
     "execution_count": 71,
     "metadata": {},
     "output_type": "execute_result"
    }
   ],
   "source": [
    "model.score(np.array(X).reshape(-1,1),np.array(y).reshape(-1,1))"
   ]
  },
  {
   "cell_type": "markdown",
   "id": "650b83ec",
   "metadata": {},
   "source": [
    "## Analysis on South Africa "
   ]
  },
  {
   "cell_type": "code",
   "execution_count": 72,
   "id": "29a17514",
   "metadata": {},
   "outputs": [
    {
     "data": {
      "text/html": [
       "<div>\n",
       "<style scoped>\n",
       "    .dataframe tbody tr th:only-of-type {\n",
       "        vertical-align: middle;\n",
       "    }\n",
       "\n",
       "    .dataframe tbody tr th {\n",
       "        vertical-align: top;\n",
       "    }\n",
       "\n",
       "    .dataframe thead th {\n",
       "        text-align: right;\n",
       "    }\n",
       "</style>\n",
       "<table border=\"1\" class=\"dataframe\">\n",
       "  <thead>\n",
       "    <tr style=\"text-align: right;\">\n",
       "      <th></th>\n",
       "      <th>year</th>\n",
       "      <th>country</th>\n",
       "      <th>id</th>\n",
       "      <th>coffee_consum</th>\n",
       "      <th>coffee_import</th>\n",
       "      <th>GDP</th>\n",
       "    </tr>\n",
       "  </thead>\n",
       "  <tbody>\n",
       "    <tr>\n",
       "      <th>0</th>\n",
       "      <td>2000</td>\n",
       "      <td>South Africa</td>\n",
       "      <td>1006</td>\n",
       "      <td>0</td>\n",
       "      <td>413</td>\n",
       "      <td>1.520000e+11</td>\n",
       "    </tr>\n",
       "    <tr>\n",
       "      <th>1</th>\n",
       "      <td>2001</td>\n",
       "      <td>South Africa</td>\n",
       "      <td>1006</td>\n",
       "      <td>0</td>\n",
       "      <td>337</td>\n",
       "      <td>1.350000e+11</td>\n",
       "    </tr>\n",
       "    <tr>\n",
       "      <th>2</th>\n",
       "      <td>2002</td>\n",
       "      <td>South Africa</td>\n",
       "      <td>1006</td>\n",
       "      <td>325</td>\n",
       "      <td>340</td>\n",
       "      <td>1.290000e+11</td>\n",
       "    </tr>\n",
       "    <tr>\n",
       "      <th>3</th>\n",
       "      <td>2003</td>\n",
       "      <td>South Africa</td>\n",
       "      <td>1006</td>\n",
       "      <td>360</td>\n",
       "      <td>360</td>\n",
       "      <td>1.970000e+11</td>\n",
       "    </tr>\n",
       "    <tr>\n",
       "      <th>4</th>\n",
       "      <td>2004</td>\n",
       "      <td>South Africa</td>\n",
       "      <td>1006</td>\n",
       "      <td>380</td>\n",
       "      <td>380</td>\n",
       "      <td>2.560000e+11</td>\n",
       "    </tr>\n",
       "    <tr>\n",
       "      <th>5</th>\n",
       "      <td>2005</td>\n",
       "      <td>South Africa</td>\n",
       "      <td>1006</td>\n",
       "      <td>420</td>\n",
       "      <td>420</td>\n",
       "      <td>2.890000e+11</td>\n",
       "    </tr>\n",
       "    <tr>\n",
       "      <th>6</th>\n",
       "      <td>2006</td>\n",
       "      <td>South Africa</td>\n",
       "      <td>1006</td>\n",
       "      <td>510</td>\n",
       "      <td>510</td>\n",
       "      <td>3.040000e+11</td>\n",
       "    </tr>\n",
       "    <tr>\n",
       "      <th>7</th>\n",
       "      <td>2007</td>\n",
       "      <td>South Africa</td>\n",
       "      <td>1006</td>\n",
       "      <td>380</td>\n",
       "      <td>380</td>\n",
       "      <td>3.330000e+11</td>\n",
       "    </tr>\n",
       "    <tr>\n",
       "      <th>8</th>\n",
       "      <td>2008</td>\n",
       "      <td>South Africa</td>\n",
       "      <td>1006</td>\n",
       "      <td>370</td>\n",
       "      <td>370</td>\n",
       "      <td>3.160000e+11</td>\n",
       "    </tr>\n",
       "    <tr>\n",
       "      <th>9</th>\n",
       "      <td>2009</td>\n",
       "      <td>South Africa</td>\n",
       "      <td>1006</td>\n",
       "      <td>525</td>\n",
       "      <td>525</td>\n",
       "      <td>3.300000e+11</td>\n",
       "    </tr>\n",
       "    <tr>\n",
       "      <th>10</th>\n",
       "      <td>2010</td>\n",
       "      <td>South Africa</td>\n",
       "      <td>1006</td>\n",
       "      <td>535</td>\n",
       "      <td>535</td>\n",
       "      <td>4.170000e+11</td>\n",
       "    </tr>\n",
       "    <tr>\n",
       "      <th>11</th>\n",
       "      <td>2011</td>\n",
       "      <td>South Africa</td>\n",
       "      <td>1006</td>\n",
       "      <td>500</td>\n",
       "      <td>500</td>\n",
       "      <td>4.580000e+11</td>\n",
       "    </tr>\n",
       "    <tr>\n",
       "      <th>12</th>\n",
       "      <td>2012</td>\n",
       "      <td>South Africa</td>\n",
       "      <td>1006</td>\n",
       "      <td>545</td>\n",
       "      <td>545</td>\n",
       "      <td>4.340000e+11</td>\n",
       "    </tr>\n",
       "    <tr>\n",
       "      <th>13</th>\n",
       "      <td>2013</td>\n",
       "      <td>South Africa</td>\n",
       "      <td>1006</td>\n",
       "      <td>545</td>\n",
       "      <td>545</td>\n",
       "      <td>4.010000e+11</td>\n",
       "    </tr>\n",
       "    <tr>\n",
       "      <th>14</th>\n",
       "      <td>2014</td>\n",
       "      <td>South Africa</td>\n",
       "      <td>1006</td>\n",
       "      <td>565</td>\n",
       "      <td>565</td>\n",
       "      <td>3.810000e+11</td>\n",
       "    </tr>\n",
       "    <tr>\n",
       "      <th>15</th>\n",
       "      <td>2015</td>\n",
       "      <td>South Africa</td>\n",
       "      <td>1006</td>\n",
       "      <td>600</td>\n",
       "      <td>600</td>\n",
       "      <td>3.470000e+11</td>\n",
       "    </tr>\n",
       "    <tr>\n",
       "      <th>16</th>\n",
       "      <td>2016</td>\n",
       "      <td>South Africa</td>\n",
       "      <td>1006</td>\n",
       "      <td>585</td>\n",
       "      <td>585</td>\n",
       "      <td>3.240000e+11</td>\n",
       "    </tr>\n",
       "    <tr>\n",
       "      <th>17</th>\n",
       "      <td>2017</td>\n",
       "      <td>South Africa</td>\n",
       "      <td>1006</td>\n",
       "      <td>715</td>\n",
       "      <td>715</td>\n",
       "      <td>3.810000e+11</td>\n",
       "    </tr>\n",
       "    <tr>\n",
       "      <th>18</th>\n",
       "      <td>2018</td>\n",
       "      <td>South Africa</td>\n",
       "      <td>1006</td>\n",
       "      <td>710</td>\n",
       "      <td>710</td>\n",
       "      <td>4.050000e+11</td>\n",
       "    </tr>\n",
       "    <tr>\n",
       "      <th>19</th>\n",
       "      <td>2019</td>\n",
       "      <td>South Africa</td>\n",
       "      <td>1006</td>\n",
       "      <td>660</td>\n",
       "      <td>660</td>\n",
       "      <td>3.880000e+11</td>\n",
       "    </tr>\n",
       "    <tr>\n",
       "      <th>20</th>\n",
       "      <td>2020</td>\n",
       "      <td>South Africa</td>\n",
       "      <td>1006</td>\n",
       "      <td>715</td>\n",
       "      <td>715</td>\n",
       "      <td>3.350000e+11</td>\n",
       "    </tr>\n",
       "  </tbody>\n",
       "</table>\n",
       "</div>"
      ],
      "text/plain": [
       "    year       country    id  coffee_consum  coffee_import           GDP\n",
       "0   2000  South Africa  1006              0            413  1.520000e+11\n",
       "1   2001  South Africa  1006              0            337  1.350000e+11\n",
       "2   2002  South Africa  1006            325            340  1.290000e+11\n",
       "3   2003  South Africa  1006            360            360  1.970000e+11\n",
       "4   2004  South Africa  1006            380            380  2.560000e+11\n",
       "5   2005  South Africa  1006            420            420  2.890000e+11\n",
       "6   2006  South Africa  1006            510            510  3.040000e+11\n",
       "7   2007  South Africa  1006            380            380  3.330000e+11\n",
       "8   2008  South Africa  1006            370            370  3.160000e+11\n",
       "9   2009  South Africa  1006            525            525  3.300000e+11\n",
       "10  2010  South Africa  1006            535            535  4.170000e+11\n",
       "11  2011  South Africa  1006            500            500  4.580000e+11\n",
       "12  2012  South Africa  1006            545            545  4.340000e+11\n",
       "13  2013  South Africa  1006            545            545  4.010000e+11\n",
       "14  2014  South Africa  1006            565            565  3.810000e+11\n",
       "15  2015  South Africa  1006            600            600  3.470000e+11\n",
       "16  2016  South Africa  1006            585            585  3.240000e+11\n",
       "17  2017  South Africa  1006            715            715  3.810000e+11\n",
       "18  2018  South Africa  1006            710            710  4.050000e+11\n",
       "19  2019  South Africa  1006            660            660  3.880000e+11\n",
       "20  2020  South Africa  1006            715            715  3.350000e+11"
      ]
     },
     "execution_count": 72,
     "metadata": {},
     "output_type": "execute_result"
    }
   ],
   "source": [
    "file_path = 'integrated/southafrica.csv'\n",
    "\n",
    "df_sa = pd.read_csv(file_path)\n",
    "df_sa"
   ]
  },
  {
   "cell_type": "markdown",
   "id": "5b63b144",
   "metadata": {},
   "source": [
    "### Coffee Consumption VS. GDP"
   ]
  },
  {
   "cell_type": "code",
   "execution_count": 73,
   "id": "a0e45c9b",
   "metadata": {},
   "outputs": [],
   "source": [
    "x=np.array(df_sa['GDP'])\n",
    "x = x.reshape(-1,1)\n",
    "y=np.array(df_sa['coffee_consum'])\n",
    "y=y.reshape(-1,1)"
   ]
  },
  {
   "cell_type": "code",
   "execution_count": 74,
   "id": "d93e67d1",
   "metadata": {},
   "outputs": [],
   "source": [
    "lm = linear_model.LinearRegression()\n",
    "\n",
    "lm.fit(x,y)\n",
    "\n",
    "y_hat = lm.predict(x)"
   ]
  },
  {
   "cell_type": "code",
   "execution_count": 75,
   "id": "81b6613f",
   "metadata": {},
   "outputs": [
    {
     "data": {
      "image/png": "[encoded data removed]",
      "text/plain": [
       "<Figure size 432x288 with 1 Axes>"
      ]
     },
     "metadata": {
      "needs_background": "light"
     },
     "output_type": "display_data"
    }
   ],
   "source": [
    "plt.scatter(x,y)\n",
    "plt.plot(x,y_hat)\n",
    "plt.xlabel('GDP(Trillion)')\n",
    "plt.ylabel('Consumption(1000 bags)')\n",
    "plt.show()"
   ]
  },
  {
   "cell_type": "markdown",
   "id": "cf01948d",
   "metadata": {},
   "source": [
    "### Coffee production vs. GDP"
   ]
  },
  {
   "cell_type": "code",
   "execution_count": 76,
   "id": "0c4024fc",
   "metadata": {},
   "outputs": [],
   "source": [
    "x=np.array(df_sa['GDP'])\n",
    "x = x.reshape(-1,1)\n",
    "y=np.array(df_sa['coffee_import'])\n",
    "y=y.reshape(-1,1)"
   ]
  },
  {
   "cell_type": "code",
   "execution_count": 77,
   "id": "0da4c397",
   "metadata": {},
   "outputs": [],
   "source": [
    "lm = linear_model.LinearRegression()\n",
    "\n",
    "lm.fit(x,y)\n",
    "\n",
    "y_hat = lm.predict(x)"
   ]
  },
  {
   "cell_type": "code",
   "execution_count": 78,
   "id": "0b71ccf4",
   "metadata": {},
   "outputs": [
    {
     "data": {
      "image/png": "[encoded data removed]",
      "text/plain": [
       "<Figure size 432x288 with 1 Axes>"
      ]
     },
     "metadata": {
      "needs_background": "light"
     },
     "output_type": "display_data"
    }
   ],
   "source": [
    "plt.scatter(x,y)\n",
    "plt.plot(x,y_hat)\n",
    "plt.xlabel('GDP(Trillion)')\n",
    "plt.ylabel('import(1000 bags)')\n",
    "plt.show()"
   ]
  },
  {
   "cell_type": "markdown",
   "id": "b80802e6",
   "metadata": {},
   "source": [
    "### Prediction for consumption and production"
   ]
  },
  {
   "cell_type": "code",
   "execution_count": 81,
   "id": "19c7349b",
   "metadata": {},
   "outputs": [],
   "source": [
    "sa_data=df_sa[['year','coffee_consum']]"
   ]
  },
  {
   "cell_type": "code",
   "execution_count": 82,
   "id": "bedd44b3",
   "metadata": {},
   "outputs": [
    {
     "data": {
      "text/html": [
       "<div>\n",
       "<style scoped>\n",
       "    .dataframe tbody tr th:only-of-type {\n",
       "        vertical-align: middle;\n",
       "    }\n",
       "\n",
       "    .dataframe tbody tr th {\n",
       "        vertical-align: top;\n",
       "    }\n",
       "\n",
       "    .dataframe thead th {\n",
       "        text-align: right;\n",
       "    }\n",
       "</style>\n",
       "<table border=\"1\" class=\"dataframe\">\n",
       "  <thead>\n",
       "    <tr style=\"text-align: right;\">\n",
       "      <th></th>\n",
       "      <th>year</th>\n",
       "      <th>coffee_consum</th>\n",
       "    </tr>\n",
       "  </thead>\n",
       "  <tbody>\n",
       "    <tr>\n",
       "      <th>0</th>\n",
       "      <td>2000</td>\n",
       "      <td>0</td>\n",
       "    </tr>\n",
       "    <tr>\n",
       "      <th>1</th>\n",
       "      <td>2001</td>\n",
       "      <td>0</td>\n",
       "    </tr>\n",
       "    <tr>\n",
       "      <th>2</th>\n",
       "      <td>2002</td>\n",
       "      <td>325</td>\n",
       "    </tr>\n",
       "    <tr>\n",
       "      <th>3</th>\n",
       "      <td>2003</td>\n",
       "      <td>360</td>\n",
       "    </tr>\n",
       "    <tr>\n",
       "      <th>4</th>\n",
       "      <td>2004</td>\n",
       "      <td>380</td>\n",
       "    </tr>\n",
       "    <tr>\n",
       "      <th>5</th>\n",
       "      <td>2005</td>\n",
       "      <td>420</td>\n",
       "    </tr>\n",
       "    <tr>\n",
       "      <th>6</th>\n",
       "      <td>2006</td>\n",
       "      <td>510</td>\n",
       "    </tr>\n",
       "    <tr>\n",
       "      <th>7</th>\n",
       "      <td>2007</td>\n",
       "      <td>380</td>\n",
       "    </tr>\n",
       "    <tr>\n",
       "      <th>8</th>\n",
       "      <td>2008</td>\n",
       "      <td>370</td>\n",
       "    </tr>\n",
       "    <tr>\n",
       "      <th>9</th>\n",
       "      <td>2009</td>\n",
       "      <td>525</td>\n",
       "    </tr>\n",
       "    <tr>\n",
       "      <th>10</th>\n",
       "      <td>2010</td>\n",
       "      <td>535</td>\n",
       "    </tr>\n",
       "    <tr>\n",
       "      <th>11</th>\n",
       "      <td>2011</td>\n",
       "      <td>500</td>\n",
       "    </tr>\n",
       "    <tr>\n",
       "      <th>12</th>\n",
       "      <td>2012</td>\n",
       "      <td>545</td>\n",
       "    </tr>\n",
       "    <tr>\n",
       "      <th>13</th>\n",
       "      <td>2013</td>\n",
       "      <td>545</td>\n",
       "    </tr>\n",
       "    <tr>\n",
       "      <th>14</th>\n",
       "      <td>2014</td>\n",
       "      <td>565</td>\n",
       "    </tr>\n",
       "    <tr>\n",
       "      <th>15</th>\n",
       "      <td>2015</td>\n",
       "      <td>600</td>\n",
       "    </tr>\n",
       "    <tr>\n",
       "      <th>16</th>\n",
       "      <td>2016</td>\n",
       "      <td>585</td>\n",
       "    </tr>\n",
       "    <tr>\n",
       "      <th>17</th>\n",
       "      <td>2017</td>\n",
       "      <td>715</td>\n",
       "    </tr>\n",
       "    <tr>\n",
       "      <th>18</th>\n",
       "      <td>2018</td>\n",
       "      <td>710</td>\n",
       "    </tr>\n",
       "    <tr>\n",
       "      <th>19</th>\n",
       "      <td>2019</td>\n",
       "      <td>660</td>\n",
       "    </tr>\n",
       "    <tr>\n",
       "      <th>20</th>\n",
       "      <td>2020</td>\n",
       "      <td>715</td>\n",
       "    </tr>\n",
       "  </tbody>\n",
       "</table>\n",
       "</div>"
      ],
      "text/plain": [
       "    year  coffee_consum\n",
       "0   2000              0\n",
       "1   2001              0\n",
       "2   2002            325\n",
       "3   2003            360\n",
       "4   2004            380\n",
       "5   2005            420\n",
       "6   2006            510\n",
       "7   2007            380\n",
       "8   2008            370\n",
       "9   2009            525\n",
       "10  2010            535\n",
       "11  2011            500\n",
       "12  2012            545\n",
       "13  2013            545\n",
       "14  2014            565\n",
       "15  2015            600\n",
       "16  2016            585\n",
       "17  2017            715\n",
       "18  2018            710\n",
       "19  2019            660\n",
       "20  2020            715"
      ]
     },
     "execution_count": 82,
     "metadata": {},
     "output_type": "execute_result"
    }
   ],
   "source": [
    "sa_data"
   ]
  },
  {
   "cell_type": "code",
   "execution_count": 83,
   "id": "405e79eb",
   "metadata": {},
   "outputs": [
    {
     "data": {
      "text/plain": [
       "[<matplotlib.lines.Line2D at 0x2b15aa7c580>]"
      ]
     },
     "execution_count": 83,
     "metadata": {},
     "output_type": "execute_result"
    },
    {
     "data": {
      "image/png": "[encoded data removed]",
      "text/plain": [
       "<Figure size 1152x576 with 1 Axes>"
      ]
     },
     "metadata": {
      "needs_background": "light"
     },
     "output_type": "display_data"
    }
   ],
   "source": [
    "plt.figure(figsize=(16,8))\n",
    "plt.xlabel('year')\n",
    "plt.ylabel('consumption')\n",
    "plt.plot(sa_data['coffee_consum'], label='historical consumption')"
   ]
  },
  {
   "cell_type": "code",
   "execution_count": 84,
   "id": "6ff0b628",
   "metadata": {},
   "outputs": [],
   "source": [
    "x = sa_data['year'].tolist()\n",
    "y = sa_data['coffee_consum'].tolist()"
   ]
  },
  {
   "cell_type": "code",
   "execution_count": 85,
   "id": "96ba15de",
   "metadata": {},
   "outputs": [
    {
     "data": {
      "text/plain": [
       "LinearRegression()"
      ]
     },
     "execution_count": 85,
     "metadata": {},
     "output_type": "execute_result"
    }
   ],
   "source": [
    "model = LinearRegression()\n",
    "model.fit(np.array(x).reshape(-1,1),np.array(y).reshape(-1,1))"
   ]
  },
  {
   "cell_type": "code",
   "execution_count": 86,
   "id": "ab93e381",
   "metadata": {},
   "outputs": [
    {
     "data": {
      "text/plain": [
       "array([[785.35714286]])"
      ]
     },
     "execution_count": 86,
     "metadata": {},
     "output_type": "execute_result"
    }
   ],
   "source": [
    "model.predict([[2021]])"
   ]
  },
  {
   "cell_type": "code",
   "execution_count": 87,
   "id": "f4f12248",
   "metadata": {},
   "outputs": [
    {
     "data": {
      "text/plain": [
       "array([[813.7012987]])"
      ]
     },
     "execution_count": 87,
     "metadata": {},
     "output_type": "execute_result"
    }
   ],
   "source": [
    "model.predict([[2022]])"
   ]
  },
  {
   "cell_type": "code",
   "execution_count": 88,
   "id": "e88f9866",
   "metadata": {},
   "outputs": [
    {
     "data": {
      "text/plain": [
       "array([[842.04545455]])"
      ]
     },
     "execution_count": 88,
     "metadata": {},
     "output_type": "execute_result"
    }
   ],
   "source": [
    "model.predict([[2023]])"
   ]
  },
  {
   "cell_type": "code",
   "execution_count": 89,
   "id": "2d186dbf",
   "metadata": {},
   "outputs": [
    {
     "data": {
      "text/plain": [
       "array([[870.38961039]])"
      ]
     },
     "execution_count": 89,
     "metadata": {},
     "output_type": "execute_result"
    }
   ],
   "source": [
    "model.predict([[2024]])"
   ]
  },
  {
   "cell_type": "code",
   "execution_count": 95,
   "id": "18bc3e7e",
   "metadata": {},
   "outputs": [
    {
     "data": {
      "text/plain": [
       "array([[898.73376623]])"
      ]
     },
     "execution_count": 95,
     "metadata": {},
     "output_type": "execute_result"
    }
   ],
   "source": [
    "model.predict([[2025]])"
   ]
  },
  {
   "cell_type": "code",
   "execution_count": 96,
   "id": "9a934d58",
   "metadata": {},
   "outputs": [
    {
     "data": {
      "text/plain": [
       "0.7958900178449672"
      ]
     },
     "execution_count": 96,
     "metadata": {},
     "output_type": "execute_result"
    }
   ],
   "source": [
    "model.score(np.array(X).reshape(-1,1),np.array(y).reshape(-1,1))"
   ]
  },
  {
   "cell_type": "code",
   "execution_count": 97,
   "id": "294bfb0b",
   "metadata": {},
   "outputs": [
    {
     "data": {
      "text/plain": [
       "array([-56498.18181818])"
      ]
     },
     "execution_count": 97,
     "metadata": {},
     "output_type": "execute_result"
    }
   ],
   "source": [
    "model.intercept_"
   ]
  },
  {
   "cell_type": "code",
   "execution_count": 98,
   "id": "dbc2a699",
   "metadata": {},
   "outputs": [
    {
     "data": {
      "text/plain": [
       "array([[28.34415584]])"
      ]
     },
     "execution_count": 98,
     "metadata": {},
     "output_type": "execute_result"
    }
   ],
   "source": [
    "model.coef_"
   ]
  },
  {
   "cell_type": "code",
   "execution_count": 99,
   "id": "09b3db43",
   "metadata": {},
   "outputs": [],
   "source": [
    "sa_data=df_sa[['year','coffee_import']]"
   ]
  },
  {
   "cell_type": "code",
   "execution_count": 100,
   "id": "99f1101c",
   "metadata": {},
   "outputs": [
    {
     "data": {
      "text/plain": [
       "[<matplotlib.lines.Line2D at 0x2b15a052790>]"
      ]
     },
     "execution_count": 100,
     "metadata": {},
     "output_type": "execute_result"
    },
    {
     "data": {
      "image/png": "[encoded data removed]",
      "text/plain": [
       "<Figure size 1152x576 with 1 Axes>"
      ]
     },
     "metadata": {
      "needs_background": "light"
     },
     "output_type": "display_data"
    }
   ],
   "source": [
    "plt.figure(figsize=(16,8))\n",
    "plt.xlabel('year')\n",
    "plt.ylabel('import')\n",
    "plt.plot(sa_data['coffee_import'])"
   ]
  },
  {
   "cell_type": "code",
   "execution_count": 101,
   "id": "8fa90b3c",
   "metadata": {},
   "outputs": [],
   "source": [
    "x = sa_data['year'].tolist()\n",
    "y = sa_data['coffee_import'].tolist()"
   ]
  },
  {
   "cell_type": "code",
   "execution_count": 102,
   "id": "1c2368a9",
   "metadata": {},
   "outputs": [
    {
     "data": {
      "text/plain": [
       "LinearRegression()"
      ]
     },
     "execution_count": 102,
     "metadata": {},
     "output_type": "execute_result"
    }
   ],
   "source": [
    "model = LinearRegression()\n",
    "model.fit(np.array(x).reshape(-1,1),np.array(y).reshape(-1,1))"
   ]
  },
  {
   "cell_type": "code",
   "execution_count": 103,
   "id": "8e6f4cf4",
   "metadata": {},
   "outputs": [
    {
     "data": {
      "text/plain": [
       "array([[717.74285714]])"
      ]
     },
     "execution_count": 103,
     "metadata": {},
     "output_type": "execute_result"
    }
   ],
   "source": [
    "model.predict([[2021]])"
   ]
  },
  {
   "cell_type": "code",
   "execution_count": 104,
   "id": "0b13ed51",
   "metadata": {},
   "outputs": [
    {
     "data": {
      "text/plain": [
       "array([[736.62857143]])"
      ]
     },
     "execution_count": 104,
     "metadata": {},
     "output_type": "execute_result"
    }
   ],
   "source": [
    "model.predict([[2022]])"
   ]
  },
  {
   "cell_type": "code",
   "execution_count": 105,
   "id": "38e270fc",
   "metadata": {},
   "outputs": [
    {
     "data": {
      "text/plain": [
       "array([[755.51428571]])"
      ]
     },
     "execution_count": 105,
     "metadata": {},
     "output_type": "execute_result"
    }
   ],
   "source": [
    "model.predict([[2023]])"
   ]
  },
  {
   "cell_type": "code",
   "execution_count": 106,
   "id": "7139159a",
   "metadata": {},
   "outputs": [
    {
     "data": {
      "text/plain": [
       "array([[774.4]])"
      ]
     },
     "execution_count": 106,
     "metadata": {},
     "output_type": "execute_result"
    }
   ],
   "source": [
    "model.predict([[2024]])"
   ]
  },
  {
   "cell_type": "code",
   "execution_count": 107,
   "id": "7b81d41e",
   "metadata": {},
   "outputs": [
    {
     "data": {
      "text/plain": [
       "array([[793.28571429]])"
      ]
     },
     "execution_count": 107,
     "metadata": {},
     "output_type": "execute_result"
    }
   ],
   "source": [
    "model.predict([[2025]])"
   ]
  },
  {
   "cell_type": "code",
   "execution_count": 108,
   "id": "8429b48b",
   "metadata": {},
   "outputs": [
    {
     "data": {
      "text/plain": [
       "0.8610954390598123"
      ]
     },
     "execution_count": 108,
     "metadata": {},
     "output_type": "execute_result"
    }
   ],
   "source": [
    "model.score(np.array(x).reshape(-1,1),np.array(y).reshape(-1,1))"
   ]
  },
  {
   "cell_type": "code",
   "execution_count": 109,
   "id": "f58edbff",
   "metadata": {},
   "outputs": [
    {
     "data": {
      "text/plain": [
       "array([-37450.28571429])"
      ]
     },
     "execution_count": 109,
     "metadata": {},
     "output_type": "execute_result"
    }
   ],
   "source": [
    "model.intercept_"
   ]
  },
  {
   "cell_type": "code",
   "execution_count": 110,
   "id": "059e9b93",
   "metadata": {},
   "outputs": [
    {
     "data": {
      "text/plain": [
       "array([[18.88571429]])"
      ]
     },
     "execution_count": 110,
     "metadata": {},
     "output_type": "execute_result"
    }
   ],
   "source": [
    "model.coef_"
   ]
  },
  {
   "cell_type": "markdown",
   "id": "0fa258a0",
   "metadata": {},
   "source": [
    "## Analysis on Russia"
   ]
  },
  {
   "cell_type": "code",
   "execution_count": 111,
   "id": "21926c55",
   "metadata": {},
   "outputs": [
    {
     "data": {
      "text/html": [
       "<div>\n",
       "<style scoped>\n",
       "    .dataframe tbody tr th:only-of-type {\n",
       "        vertical-align: middle;\n",
       "    }\n",
       "\n",
       "    .dataframe tbody tr th {\n",
       "        vertical-align: top;\n",
       "    }\n",
       "\n",
       "    .dataframe thead th {\n",
       "        text-align: right;\n",
       "    }\n",
       "</style>\n",
       "<table border=\"1\" class=\"dataframe\">\n",
       "  <thead>\n",
       "    <tr style=\"text-align: right;\">\n",
       "      <th></th>\n",
       "      <th>year</th>\n",
       "      <th>country</th>\n",
       "      <th>id</th>\n",
       "      <th>coffee_consum</th>\n",
       "      <th>coffee_import</th>\n",
       "      <th>GDP</th>\n",
       "    </tr>\n",
       "  </thead>\n",
       "  <tbody>\n",
       "    <tr>\n",
       "      <th>0</th>\n",
       "      <td>2000</td>\n",
       "      <td>Russia</td>\n",
       "      <td>1001</td>\n",
       "      <td>1863</td>\n",
       "      <td>1890</td>\n",
       "      <td>2.597100e+11</td>\n",
       "    </tr>\n",
       "    <tr>\n",
       "      <th>1</th>\n",
       "      <td>2001</td>\n",
       "      <td>Russia</td>\n",
       "      <td>1001</td>\n",
       "      <td>3032</td>\n",
       "      <td>3057</td>\n",
       "      <td>3.066020e+11</td>\n",
       "    </tr>\n",
       "    <tr>\n",
       "      <th>2</th>\n",
       "      <td>2002</td>\n",
       "      <td>Russia</td>\n",
       "      <td>1001</td>\n",
       "      <td>4050</td>\n",
       "      <td>3504</td>\n",
       "      <td>3.454700e+11</td>\n",
       "    </tr>\n",
       "    <tr>\n",
       "      <th>3</th>\n",
       "      <td>2003</td>\n",
       "      <td>Russia</td>\n",
       "      <td>1001</td>\n",
       "      <td>4065</td>\n",
       "      <td>3772</td>\n",
       "      <td>4.303480e+11</td>\n",
       "    </tr>\n",
       "    <tr>\n",
       "      <th>4</th>\n",
       "      <td>2004</td>\n",
       "      <td>Russia</td>\n",
       "      <td>1001</td>\n",
       "      <td>2570</td>\n",
       "      <td>3205</td>\n",
       "      <td>5.910170e+11</td>\n",
       "    </tr>\n",
       "    <tr>\n",
       "      <th>5</th>\n",
       "      <td>2005</td>\n",
       "      <td>Russia</td>\n",
       "      <td>1001</td>\n",
       "      <td>3585</td>\n",
       "      <td>3336</td>\n",
       "      <td>7.640170e+11</td>\n",
       "    </tr>\n",
       "    <tr>\n",
       "      <th>6</th>\n",
       "      <td>2006</td>\n",
       "      <td>Russia</td>\n",
       "      <td>1001</td>\n",
       "      <td>4195</td>\n",
       "      <td>3465</td>\n",
       "      <td>9.899310e+11</td>\n",
       "    </tr>\n",
       "    <tr>\n",
       "      <th>7</th>\n",
       "      <td>2007</td>\n",
       "      <td>Russia</td>\n",
       "      <td>1001</td>\n",
       "      <td>4270</td>\n",
       "      <td>4318</td>\n",
       "      <td>1.299710e+12</td>\n",
       "    </tr>\n",
       "    <tr>\n",
       "      <th>8</th>\n",
       "      <td>2008</td>\n",
       "      <td>Russia</td>\n",
       "      <td>1001</td>\n",
       "      <td>3325</td>\n",
       "      <td>4053</td>\n",
       "      <td>1.660850e+12</td>\n",
       "    </tr>\n",
       "    <tr>\n",
       "      <th>9</th>\n",
       "      <td>2009</td>\n",
       "      <td>Russia</td>\n",
       "      <td>1001</td>\n",
       "      <td>3945</td>\n",
       "      <td>3553</td>\n",
       "      <td>1.222640e+12</td>\n",
       "    </tr>\n",
       "    <tr>\n",
       "      <th>10</th>\n",
       "      <td>2010</td>\n",
       "      <td>Russia</td>\n",
       "      <td>1001</td>\n",
       "      <td>4355</td>\n",
       "      <td>4155</td>\n",
       "      <td>1.524920e+12</td>\n",
       "    </tr>\n",
       "    <tr>\n",
       "      <th>11</th>\n",
       "      <td>2011</td>\n",
       "      <td>Russia</td>\n",
       "      <td>1001</td>\n",
       "      <td>3865</td>\n",
       "      <td>4218</td>\n",
       "      <td>2.045930e+12</td>\n",
       "    </tr>\n",
       "    <tr>\n",
       "      <th>12</th>\n",
       "      <td>2012</td>\n",
       "      <td>Russia</td>\n",
       "      <td>1001</td>\n",
       "      <td>4130</td>\n",
       "      <td>4175</td>\n",
       "      <td>2.208300e+12</td>\n",
       "    </tr>\n",
       "    <tr>\n",
       "      <th>13</th>\n",
       "      <td>2013</td>\n",
       "      <td>Russia</td>\n",
       "      <td>1001</td>\n",
       "      <td>4230</td>\n",
       "      <td>4410</td>\n",
       "      <td>2.292470e+12</td>\n",
       "    </tr>\n",
       "    <tr>\n",
       "      <th>14</th>\n",
       "      <td>2014</td>\n",
       "      <td>Russia</td>\n",
       "      <td>1001</td>\n",
       "      <td>4050</td>\n",
       "      <td>4747</td>\n",
       "      <td>2.059240e+12</td>\n",
       "    </tr>\n",
       "    <tr>\n",
       "      <th>15</th>\n",
       "      <td>2015</td>\n",
       "      <td>Russia</td>\n",
       "      <td>1001</td>\n",
       "      <td>4395</td>\n",
       "      <td>4710</td>\n",
       "      <td>1.363480e+12</td>\n",
       "    </tr>\n",
       "    <tr>\n",
       "      <th>16</th>\n",
       "      <td>2016</td>\n",
       "      <td>Russia</td>\n",
       "      <td>1001</td>\n",
       "      <td>4740</td>\n",
       "      <td>5233</td>\n",
       "      <td>1.276790e+12</td>\n",
       "    </tr>\n",
       "    <tr>\n",
       "      <th>17</th>\n",
       "      <td>2017</td>\n",
       "      <td>Russia</td>\n",
       "      <td>1001</td>\n",
       "      <td>4465</td>\n",
       "      <td>5468</td>\n",
       "      <td>1.574200e+12</td>\n",
       "    </tr>\n",
       "    <tr>\n",
       "      <th>18</th>\n",
       "      <td>2018</td>\n",
       "      <td>Russia</td>\n",
       "      <td>1001</td>\n",
       "      <td>4945</td>\n",
       "      <td>5288</td>\n",
       "      <td>1.657330e+12</td>\n",
       "    </tr>\n",
       "    <tr>\n",
       "      <th>19</th>\n",
       "      <td>2019</td>\n",
       "      <td>Russia</td>\n",
       "      <td>1001</td>\n",
       "      <td>4625</td>\n",
       "      <td>5917</td>\n",
       "      <td>1.687450e+12</td>\n",
       "    </tr>\n",
       "    <tr>\n",
       "      <th>20</th>\n",
       "      <td>2020</td>\n",
       "      <td>Russia</td>\n",
       "      <td>1001</td>\n",
       "      <td>4165</td>\n",
       "      <td>4165</td>\n",
       "      <td>1.483500e+12</td>\n",
       "    </tr>\n",
       "  </tbody>\n",
       "</table>\n",
       "</div>"
      ],
      "text/plain": [
       "    year country    id  coffee_consum  coffee_import           GDP\n",
       "0   2000  Russia  1001           1863           1890  2.597100e+11\n",
       "1   2001  Russia  1001           3032           3057  3.066020e+11\n",
       "2   2002  Russia  1001           4050           3504  3.454700e+11\n",
       "3   2003  Russia  1001           4065           3772  4.303480e+11\n",
       "4   2004  Russia  1001           2570           3205  5.910170e+11\n",
       "5   2005  Russia  1001           3585           3336  7.640170e+11\n",
       "6   2006  Russia  1001           4195           3465  9.899310e+11\n",
       "7   2007  Russia  1001           4270           4318  1.299710e+12\n",
       "8   2008  Russia  1001           3325           4053  1.660850e+12\n",
       "9   2009  Russia  1001           3945           3553  1.222640e+12\n",
       "10  2010  Russia  1001           4355           4155  1.524920e+12\n",
       "11  2011  Russia  1001           3865           4218  2.045930e+12\n",
       "12  2012  Russia  1001           4130           4175  2.208300e+12\n",
       "13  2013  Russia  1001           4230           4410  2.292470e+12\n",
       "14  2014  Russia  1001           4050           4747  2.059240e+12\n",
       "15  2015  Russia  1001           4395           4710  1.363480e+12\n",
       "16  2016  Russia  1001           4740           5233  1.276790e+12\n",
       "17  2017  Russia  1001           4465           5468  1.574200e+12\n",
       "18  2018  Russia  1001           4945           5288  1.657330e+12\n",
       "19  2019  Russia  1001           4625           5917  1.687450e+12\n",
       "20  2020  Russia  1001           4165           4165  1.483500e+12"
      ]
     },
     "execution_count": 111,
     "metadata": {},
     "output_type": "execute_result"
    }
   ],
   "source": [
    "file_path = 'integrated/russia.csv'\n",
    "\n",
    "df_ru = pd.read_csv(file_path)\n",
    "df_ru"
   ]
  },
  {
   "cell_type": "markdown",
   "id": "ee18f289",
   "metadata": {},
   "source": [
    "### Coffee Consumption VS. GDP"
   ]
  },
  {
   "cell_type": "code",
   "execution_count": 112,
   "id": "642b9319",
   "metadata": {},
   "outputs": [],
   "source": [
    "x=np.array(df_ru['GDP'])\n",
    "x = x.reshape(-1,1)\n",
    "y=np.array(df_ru['coffee_consum'])\n",
    "y=y.reshape(-1,1)"
   ]
  },
  {
   "cell_type": "code",
   "execution_count": 113,
   "id": "427b94ec",
   "metadata": {},
   "outputs": [],
   "source": [
    "lm = linear_model.LinearRegression()\n",
    "\n",
    "lm.fit(x,y)\n",
    "\n",
    "y_hat = lm.predict(x)"
   ]
  },
  {
   "cell_type": "code",
   "execution_count": 114,
   "id": "52f7825d",
   "metadata": {},
   "outputs": [
    {
     "data": {
      "image/png": "[encoded data removed]",
      "text/plain": [
       "<Figure size 432x288 with 1 Axes>"
      ]
     },
     "metadata": {
      "needs_background": "light"
     },
     "output_type": "display_data"
    }
   ],
   "source": [
    "plt.scatter(x,y)\n",
    "plt.plot(x,y_hat)\n",
    "plt.xlabel('GDP(Trillion)')\n",
    "plt.ylabel('consumption(1000 bags)')\n",
    "plt.show()"
   ]
  },
  {
   "cell_type": "markdown",
   "id": "2f2d18f6",
   "metadata": {},
   "source": [
    "### Coffee import vs. GDP"
   ]
  },
  {
   "cell_type": "code",
   "execution_count": 115,
   "id": "211a6815",
   "metadata": {},
   "outputs": [],
   "source": [
    "x=np.array(df_ru['GDP'])\n",
    "x = x.reshape(-1,1)\n",
    "y=np.array(df_ru['coffee_import'])\n",
    "y=y.reshape(-1,1)"
   ]
  },
  {
   "cell_type": "code",
   "execution_count": 116,
   "id": "e579c6c2",
   "metadata": {},
   "outputs": [],
   "source": [
    "lm = linear_model.LinearRegression()\n",
    "\n",
    "lm.fit(x,y)\n",
    "\n",
    "y_hat = lm.predict(x)"
   ]
  },
  {
   "cell_type": "code",
   "execution_count": 117,
   "id": "2918cf28",
   "metadata": {},
   "outputs": [
    {
     "data": {
      "image/png": "[encoded data removed]",
      "text/plain": [
       "<Figure size 432x288 with 1 Axes>"
      ]
     },
     "metadata": {
      "needs_background": "light"
     },
     "output_type": "display_data"
    }
   ],
   "source": [
    "plt.scatter(x,y)\n",
    "plt.plot(x,y_hat)\n",
    "plt.xlabel('GDP(Trillion)')\n",
    "plt.ylabel('import(1000 bags)')\n",
    "plt.show()"
   ]
  },
  {
   "cell_type": "markdown",
   "id": "480be1c6",
   "metadata": {},
   "source": [
    "### Prediction for consumption and production"
   ]
  },
  {
   "cell_type": "code",
   "execution_count": 118,
   "id": "990a66bc",
   "metadata": {},
   "outputs": [],
   "source": [
    "ru_data=df_ru[['year','coffee_consum']]"
   ]
  },
  {
   "cell_type": "code",
   "execution_count": 119,
   "id": "f1d38875",
   "metadata": {},
   "outputs": [
    {
     "data": {
      "text/html": [
       "<div>\n",
       "<style scoped>\n",
       "    .dataframe tbody tr th:only-of-type {\n",
       "        vertical-align: middle;\n",
       "    }\n",
       "\n",
       "    .dataframe tbody tr th {\n",
       "        vertical-align: top;\n",
       "    }\n",
       "\n",
       "    .dataframe thead th {\n",
       "        text-align: right;\n",
       "    }\n",
       "</style>\n",
       "<table border=\"1\" class=\"dataframe\">\n",
       "  <thead>\n",
       "    <tr style=\"text-align: right;\">\n",
       "      <th></th>\n",
       "      <th>year</th>\n",
       "      <th>coffee_consum</th>\n",
       "    </tr>\n",
       "  </thead>\n",
       "  <tbody>\n",
       "    <tr>\n",
       "      <th>0</th>\n",
       "      <td>2000</td>\n",
       "      <td>1863</td>\n",
       "    </tr>\n",
       "    <tr>\n",
       "      <th>1</th>\n",
       "      <td>2001</td>\n",
       "      <td>3032</td>\n",
       "    </tr>\n",
       "    <tr>\n",
       "      <th>2</th>\n",
       "      <td>2002</td>\n",
       "      <td>4050</td>\n",
       "    </tr>\n",
       "    <tr>\n",
       "      <th>3</th>\n",
       "      <td>2003</td>\n",
       "      <td>4065</td>\n",
       "    </tr>\n",
       "    <tr>\n",
       "      <th>4</th>\n",
       "      <td>2004</td>\n",
       "      <td>2570</td>\n",
       "    </tr>\n",
       "    <tr>\n",
       "      <th>5</th>\n",
       "      <td>2005</td>\n",
       "      <td>3585</td>\n",
       "    </tr>\n",
       "    <tr>\n",
       "      <th>6</th>\n",
       "      <td>2006</td>\n",
       "      <td>4195</td>\n",
       "    </tr>\n",
       "    <tr>\n",
       "      <th>7</th>\n",
       "      <td>2007</td>\n",
       "      <td>4270</td>\n",
       "    </tr>\n",
       "    <tr>\n",
       "      <th>8</th>\n",
       "      <td>2008</td>\n",
       "      <td>3325</td>\n",
       "    </tr>\n",
       "    <tr>\n",
       "      <th>9</th>\n",
       "      <td>2009</td>\n",
       "      <td>3945</td>\n",
       "    </tr>\n",
       "    <tr>\n",
       "      <th>10</th>\n",
       "      <td>2010</td>\n",
       "      <td>4355</td>\n",
       "    </tr>\n",
       "    <tr>\n",
       "      <th>11</th>\n",
       "      <td>2011</td>\n",
       "      <td>3865</td>\n",
       "    </tr>\n",
       "    <tr>\n",
       "      <th>12</th>\n",
       "      <td>2012</td>\n",
       "      <td>4130</td>\n",
       "    </tr>\n",
       "    <tr>\n",
       "      <th>13</th>\n",
       "      <td>2013</td>\n",
       "      <td>4230</td>\n",
       "    </tr>\n",
       "    <tr>\n",
       "      <th>14</th>\n",
       "      <td>2014</td>\n",
       "      <td>4050</td>\n",
       "    </tr>\n",
       "    <tr>\n",
       "      <th>15</th>\n",
       "      <td>2015</td>\n",
       "      <td>4395</td>\n",
       "    </tr>\n",
       "    <tr>\n",
       "      <th>16</th>\n",
       "      <td>2016</td>\n",
       "      <td>4740</td>\n",
       "    </tr>\n",
       "    <tr>\n",
       "      <th>17</th>\n",
       "      <td>2017</td>\n",
       "      <td>4465</td>\n",
       "    </tr>\n",
       "    <tr>\n",
       "      <th>18</th>\n",
       "      <td>2018</td>\n",
       "      <td>4945</td>\n",
       "    </tr>\n",
       "    <tr>\n",
       "      <th>19</th>\n",
       "      <td>2019</td>\n",
       "      <td>4625</td>\n",
       "    </tr>\n",
       "    <tr>\n",
       "      <th>20</th>\n",
       "      <td>2020</td>\n",
       "      <td>4165</td>\n",
       "    </tr>\n",
       "  </tbody>\n",
       "</table>\n",
       "</div>"
      ],
      "text/plain": [
       "    year  coffee_consum\n",
       "0   2000           1863\n",
       "1   2001           3032\n",
       "2   2002           4050\n",
       "3   2003           4065\n",
       "4   2004           2570\n",
       "5   2005           3585\n",
       "6   2006           4195\n",
       "7   2007           4270\n",
       "8   2008           3325\n",
       "9   2009           3945\n",
       "10  2010           4355\n",
       "11  2011           3865\n",
       "12  2012           4130\n",
       "13  2013           4230\n",
       "14  2014           4050\n",
       "15  2015           4395\n",
       "16  2016           4740\n",
       "17  2017           4465\n",
       "18  2018           4945\n",
       "19  2019           4625\n",
       "20  2020           4165"
      ]
     },
     "execution_count": 119,
     "metadata": {},
     "output_type": "execute_result"
    }
   ],
   "source": [
    "ru_data"
   ]
  },
  {
   "cell_type": "code",
   "execution_count": 120,
   "id": "c16d803c",
   "metadata": {},
   "outputs": [
    {
     "data": {
      "text/plain": [
       "[<matplotlib.lines.Line2D at 0x2b15aa010a0>]"
      ]
     },
     "execution_count": 120,
     "metadata": {},
     "output_type": "execute_result"
    },
    {
     "data": {
      "image/png": "[encoded data removed]",
      "text/plain": [
       "<Figure size 1152x576 with 1 Axes>"
      ]
     },
     "metadata": {
      "needs_background": "light"
     },
     "output_type": "display_data"
    }
   ],
   "source": [
    "plt.figure(figsize=(16,8))\n",
    "plt.xlabel('year')\n",
    "plt.ylabel('consumption')\n",
    "plt.plot(ru_data['coffee_consum'], label='historical consumption')"
   ]
  },
  {
   "cell_type": "code",
   "execution_count": 121,
   "id": "3254493f",
   "metadata": {},
   "outputs": [],
   "source": [
    "x = ru_data['year'].tolist()\n",
    "y = ru_data['coffee_consum'].tolist()"
   ]
  },
  {
   "cell_type": "code",
   "execution_count": 122,
   "id": "da615e51",
   "metadata": {},
   "outputs": [
    {
     "data": {
      "text/plain": [
       "LinearRegression()"
      ]
     },
     "execution_count": 122,
     "metadata": {},
     "output_type": "execute_result"
    }
   ],
   "source": [
    "model = LinearRegression()\n",
    "model.fit(np.array(x).reshape(-1,1),np.array(y).reshape(-1,1))"
   ]
  },
  {
   "cell_type": "code",
   "execution_count": 123,
   "id": "889e537c",
   "metadata": {},
   "outputs": [
    {
     "data": {
      "text/plain": [
       "array([[4877.62380952]])"
      ]
     },
     "execution_count": 123,
     "metadata": {},
     "output_type": "execute_result"
    }
   ],
   "source": [
    "model.predict([[2021]])"
   ]
  },
  {
   "cell_type": "code",
   "execution_count": 124,
   "id": "de6865f4",
   "metadata": {},
   "outputs": [
    {
     "data": {
      "text/plain": [
       "array([[4962.32121212]])"
      ]
     },
     "execution_count": 124,
     "metadata": {},
     "output_type": "execute_result"
    }
   ],
   "source": [
    "model.predict([[2022]])"
   ]
  },
  {
   "cell_type": "code",
   "execution_count": 125,
   "id": "7144247f",
   "metadata": {},
   "outputs": [
    {
     "data": {
      "text/plain": [
       "array([[5047.01861472]])"
      ]
     },
     "execution_count": 125,
     "metadata": {},
     "output_type": "execute_result"
    }
   ],
   "source": [
    "model.predict([[2023]])"
   ]
  },
  {
   "cell_type": "code",
   "execution_count": 126,
   "id": "c240ef12",
   "metadata": {},
   "outputs": [
    {
     "data": {
      "text/plain": [
       "array([[5131.71601732]])"
      ]
     },
     "execution_count": 126,
     "metadata": {},
     "output_type": "execute_result"
    }
   ],
   "source": [
    "model.predict([[2024]])"
   ]
  },
  {
   "cell_type": "code",
   "execution_count": 127,
   "id": "18a72196",
   "metadata": {},
   "outputs": [
    {
     "data": {
      "text/plain": [
       "array([[5216.41341991]])"
      ]
     },
     "execution_count": 127,
     "metadata": {},
     "output_type": "execute_result"
    }
   ],
   "source": [
    "model.predict([[2025]])"
   ]
  },
  {
   "cell_type": "code",
   "execution_count": 128,
   "id": "40811e77",
   "metadata": {},
   "outputs": [
    {
     "data": {
      "text/plain": [
       "0.5170489085021857"
      ]
     },
     "execution_count": 128,
     "metadata": {},
     "output_type": "execute_result"
    }
   ],
   "source": [
    "model.score(np.array(x).reshape(-1,1),np.array(y).reshape(-1,1))"
   ]
  },
  {
   "cell_type": "code",
   "execution_count": 129,
   "id": "92ee5b17",
   "metadata": {},
   "outputs": [
    {
     "data": {
      "text/plain": [
       "array([-166295.82683983])"
      ]
     },
     "execution_count": 129,
     "metadata": {},
     "output_type": "execute_result"
    }
   ],
   "source": [
    "model.intercept_"
   ]
  },
  {
   "cell_type": "code",
   "execution_count": 130,
   "id": "93ffa992",
   "metadata": {},
   "outputs": [
    {
     "data": {
      "text/plain": [
       "array([[84.6974026]])"
      ]
     },
     "execution_count": 130,
     "metadata": {},
     "output_type": "execute_result"
    }
   ],
   "source": [
    "model.coef_"
   ]
  },
  {
   "cell_type": "code",
   "execution_count": 131,
   "id": "451a4197",
   "metadata": {},
   "outputs": [],
   "source": [
    "ru_data=df_ru[['year','coffee_import']]\n"
   ]
  },
  {
   "cell_type": "code",
   "execution_count": 132,
   "id": "9b2f3408",
   "metadata": {},
   "outputs": [
    {
     "data": {
      "text/html": [
       "<div>\n",
       "<style scoped>\n",
       "    .dataframe tbody tr th:only-of-type {\n",
       "        vertical-align: middle;\n",
       "    }\n",
       "\n",
       "    .dataframe tbody tr th {\n",
       "        vertical-align: top;\n",
       "    }\n",
       "\n",
       "    .dataframe thead th {\n",
       "        text-align: right;\n",
       "    }\n",
       "</style>\n",
       "<table border=\"1\" class=\"dataframe\">\n",
       "  <thead>\n",
       "    <tr style=\"text-align: right;\">\n",
       "      <th></th>\n",
       "      <th>year</th>\n",
       "      <th>coffee_import</th>\n",
       "    </tr>\n",
       "  </thead>\n",
       "  <tbody>\n",
       "    <tr>\n",
       "      <th>0</th>\n",
       "      <td>2000</td>\n",
       "      <td>1890</td>\n",
       "    </tr>\n",
       "    <tr>\n",
       "      <th>1</th>\n",
       "      <td>2001</td>\n",
       "      <td>3057</td>\n",
       "    </tr>\n",
       "    <tr>\n",
       "      <th>2</th>\n",
       "      <td>2002</td>\n",
       "      <td>3504</td>\n",
       "    </tr>\n",
       "    <tr>\n",
       "      <th>3</th>\n",
       "      <td>2003</td>\n",
       "      <td>3772</td>\n",
       "    </tr>\n",
       "    <tr>\n",
       "      <th>4</th>\n",
       "      <td>2004</td>\n",
       "      <td>3205</td>\n",
       "    </tr>\n",
       "    <tr>\n",
       "      <th>5</th>\n",
       "      <td>2005</td>\n",
       "      <td>3336</td>\n",
       "    </tr>\n",
       "    <tr>\n",
       "      <th>6</th>\n",
       "      <td>2006</td>\n",
       "      <td>3465</td>\n",
       "    </tr>\n",
       "    <tr>\n",
       "      <th>7</th>\n",
       "      <td>2007</td>\n",
       "      <td>4318</td>\n",
       "    </tr>\n",
       "    <tr>\n",
       "      <th>8</th>\n",
       "      <td>2008</td>\n",
       "      <td>4053</td>\n",
       "    </tr>\n",
       "    <tr>\n",
       "      <th>9</th>\n",
       "      <td>2009</td>\n",
       "      <td>3553</td>\n",
       "    </tr>\n",
       "    <tr>\n",
       "      <th>10</th>\n",
       "      <td>2010</td>\n",
       "      <td>4155</td>\n",
       "    </tr>\n",
       "    <tr>\n",
       "      <th>11</th>\n",
       "      <td>2011</td>\n",
       "      <td>4218</td>\n",
       "    </tr>\n",
       "    <tr>\n",
       "      <th>12</th>\n",
       "      <td>2012</td>\n",
       "      <td>4175</td>\n",
       "    </tr>\n",
       "    <tr>\n",
       "      <th>13</th>\n",
       "      <td>2013</td>\n",
       "      <td>4410</td>\n",
       "    </tr>\n",
       "    <tr>\n",
       "      <th>14</th>\n",
       "      <td>2014</td>\n",
       "      <td>4747</td>\n",
       "    </tr>\n",
       "    <tr>\n",
       "      <th>15</th>\n",
       "      <td>2015</td>\n",
       "      <td>4710</td>\n",
       "    </tr>\n",
       "    <tr>\n",
       "      <th>16</th>\n",
       "      <td>2016</td>\n",
       "      <td>5233</td>\n",
       "    </tr>\n",
       "    <tr>\n",
       "      <th>17</th>\n",
       "      <td>2017</td>\n",
       "      <td>5468</td>\n",
       "    </tr>\n",
       "    <tr>\n",
       "      <th>18</th>\n",
       "      <td>2018</td>\n",
       "      <td>5288</td>\n",
       "    </tr>\n",
       "    <tr>\n",
       "      <th>19</th>\n",
       "      <td>2019</td>\n",
       "      <td>5917</td>\n",
       "    </tr>\n",
       "    <tr>\n",
       "      <th>20</th>\n",
       "      <td>2020</td>\n",
       "      <td>4165</td>\n",
       "    </tr>\n",
       "  </tbody>\n",
       "</table>\n",
       "</div>"
      ],
      "text/plain": [
       "    year  coffee_import\n",
       "0   2000           1890\n",
       "1   2001           3057\n",
       "2   2002           3504\n",
       "3   2003           3772\n",
       "4   2004           3205\n",
       "5   2005           3336\n",
       "6   2006           3465\n",
       "7   2007           4318\n",
       "8   2008           4053\n",
       "9   2009           3553\n",
       "10  2010           4155\n",
       "11  2011           4218\n",
       "12  2012           4175\n",
       "13  2013           4410\n",
       "14  2014           4747\n",
       "15  2015           4710\n",
       "16  2016           5233\n",
       "17  2017           5468\n",
       "18  2018           5288\n",
       "19  2019           5917\n",
       "20  2020           4165"
      ]
     },
     "execution_count": 132,
     "metadata": {},
     "output_type": "execute_result"
    }
   ],
   "source": [
    "ru_data"
   ]
  },
  {
   "cell_type": "code",
   "execution_count": 133,
   "id": "0e7c6773",
   "metadata": {},
   "outputs": [
    {
     "data": {
      "text/plain": [
       "[<matplotlib.lines.Line2D at 0x2b15aa6ec70>]"
      ]
     },
     "execution_count": 133,
     "metadata": {},
     "output_type": "execute_result"
    },
    {
     "data": {
      "image/png": "[encoded data removed]",
      "text/plain": [
       "<Figure size 1152x576 with 1 Axes>"
      ]
     },
     "metadata": {
      "needs_background": "light"
     },
     "output_type": "display_data"
    }
   ],
   "source": [
    "plt.figure(figsize=(16,8))\n",
    "plt.xlabel('year')\n",
    "plt.ylabel('import')\n",
    "plt.plot(ru_data['coffee_import'], label='historical import')"
   ]
  },
  {
   "cell_type": "code",
   "execution_count": 134,
   "id": "4b79944f",
   "metadata": {},
   "outputs": [],
   "source": [
    "x = ru_data['year'].tolist()\n",
    "y = ru_data['coffee_import'].tolist()"
   ]
  },
  {
   "cell_type": "code",
   "execution_count": 135,
   "id": "b792ae7b",
   "metadata": {},
   "outputs": [
    {
     "data": {
      "text/plain": [
       "LinearRegression()"
      ]
     },
     "execution_count": 135,
     "metadata": {},
     "output_type": "execute_result"
    }
   ],
   "source": [
    "model = LinearRegression()\n",
    "model.fit(np.array(x).reshape(-1,1),np.array(y).reshape(-1,1))"
   ]
  },
  {
   "cell_type": "code",
   "execution_count": 136,
   "id": "a0e47599",
   "metadata": {},
   "outputs": [
    {
     "data": {
      "text/plain": [
       "array([[5554.02380952]])"
      ]
     },
     "execution_count": 136,
     "metadata": {},
     "output_type": "execute_result"
    }
   ],
   "source": [
    "model.predict([[2021]])"
   ]
  },
  {
   "cell_type": "code",
   "execution_count": 137,
   "id": "396a2313",
   "metadata": {},
   "outputs": [
    {
     "data": {
      "text/plain": [
       "array([[5683.87445887]])"
      ]
     },
     "execution_count": 137,
     "metadata": {},
     "output_type": "execute_result"
    }
   ],
   "source": [
    "model.predict([[2022]])"
   ]
  },
  {
   "cell_type": "code",
   "execution_count": 138,
   "id": "309d0e36",
   "metadata": {},
   "outputs": [
    {
     "data": {
      "text/plain": [
       "array([[5813.72510823]])"
      ]
     },
     "execution_count": 138,
     "metadata": {},
     "output_type": "execute_result"
    }
   ],
   "source": [
    "model.predict([[2023]])"
   ]
  },
  {
   "cell_type": "code",
   "execution_count": 139,
   "id": "59b11d6c",
   "metadata": {},
   "outputs": [
    {
     "data": {
      "text/plain": [
       "array([[5943.57575758]])"
      ]
     },
     "execution_count": 139,
     "metadata": {},
     "output_type": "execute_result"
    }
   ],
   "source": [
    "model.predict([[2024]])"
   ]
  },
  {
   "cell_type": "code",
   "execution_count": 140,
   "id": "f87e31c6",
   "metadata": {},
   "outputs": [
    {
     "data": {
      "text/plain": [
       "array([[6073.42640693]])"
      ]
     },
     "execution_count": 140,
     "metadata": {},
     "output_type": "execute_result"
    }
   ],
   "source": [
    "model.predict([[2025]])"
   ]
  },
  {
   "cell_type": "code",
   "execution_count": 141,
   "id": "b1de61a5",
   "metadata": {},
   "outputs": [
    {
     "data": {
      "text/plain": [
       "0.7487657947704325"
      ]
     },
     "execution_count": 141,
     "metadata": {},
     "output_type": "execute_result"
    }
   ],
   "source": [
    "model.score(np.array(x).reshape(-1,1),np.array(y).reshape(-1,1))"
   ]
  },
  {
   "cell_type": "code",
   "execution_count": 142,
   "id": "37167fee",
   "metadata": {},
   "outputs": [
    {
     "data": {
      "text/plain": [
       "array([-256874.13852814])"
      ]
     },
     "execution_count": 142,
     "metadata": {},
     "output_type": "execute_result"
    }
   ],
   "source": [
    "model.intercept_"
   ]
  },
  {
   "cell_type": "code",
   "execution_count": 143,
   "id": "ab9534c4",
   "metadata": {},
   "outputs": [
    {
     "data": {
      "text/plain": [
       "array([[129.85064935]])"
      ]
     },
     "execution_count": 143,
     "metadata": {},
     "output_type": "execute_result"
    }
   ],
   "source": [
    "model.coef_"
   ]
  },
  {
   "cell_type": "markdown",
   "id": "8a1621b7",
   "metadata": {},
   "source": [
    "## Global coffee price vs. covid cases "
   ]
  },
  {
   "cell_type": "code",
   "execution_count": 320,
   "id": "5bf28e99",
   "metadata": {},
   "outputs": [
    {
     "data": {
      "text/html": [
       "<div>\n",
       "<style scoped>\n",
       "    .dataframe tbody tr th:only-of-type {\n",
       "        vertical-align: middle;\n",
       "    }\n",
       "\n",
       "    .dataframe tbody tr th {\n",
       "        vertical-align: top;\n",
       "    }\n",
       "\n",
       "    .dataframe thead th {\n",
       "        text-align: right;\n",
       "    }\n",
       "</style>\n",
       "<table border=\"1\" class=\"dataframe\">\n",
       "  <thead>\n",
       "    <tr style=\"text-align: right;\">\n",
       "      <th></th>\n",
       "      <th>DATE</th>\n",
       "      <th>PCOFFOTMUSDM</th>\n",
       "      <th>confirmed_cases</th>\n",
       "    </tr>\n",
       "  </thead>\n",
       "  <tbody>\n",
       "    <tr>\n",
       "      <th>0</th>\n",
       "      <td>1/1/2020</td>\n",
       "      <td>150.36</td>\n",
       "      <td>9927.0</td>\n",
       "    </tr>\n",
       "    <tr>\n",
       "      <th>1</th>\n",
       "      <td>2/1/2020</td>\n",
       "      <td>145.86</td>\n",
       "      <td>86027.0</td>\n",
       "    </tr>\n",
       "    <tr>\n",
       "      <th>2</th>\n",
       "      <td>3/1/2020</td>\n",
       "      <td>161.46</td>\n",
       "      <td>876334.0</td>\n",
       "    </tr>\n",
       "    <tr>\n",
       "      <th>3</th>\n",
       "      <td>4/1/2020</td>\n",
       "      <td>163.70</td>\n",
       "      <td>3275297.0</td>\n",
       "    </tr>\n",
       "    <tr>\n",
       "      <th>4</th>\n",
       "      <td>5/1/2020</td>\n",
       "      <td>155.93</td>\n",
       "      <td>6176663.0</td>\n",
       "    </tr>\n",
       "    <tr>\n",
       "      <th>5</th>\n",
       "      <td>6/1/2020</td>\n",
       "      <td>147.28</td>\n",
       "      <td>10469228.0</td>\n",
       "    </tr>\n",
       "    <tr>\n",
       "      <th>6</th>\n",
       "      <td>7/1/2020</td>\n",
       "      <td>151.50</td>\n",
       "      <td>17588289.0</td>\n",
       "    </tr>\n",
       "    <tr>\n",
       "      <th>7</th>\n",
       "      <td>8/1/2020</td>\n",
       "      <td>166.24</td>\n",
       "      <td>25531189.0</td>\n",
       "    </tr>\n",
       "    <tr>\n",
       "      <th>8</th>\n",
       "      <td>9/1/2020</td>\n",
       "      <td>169.05</td>\n",
       "      <td>34023684.0</td>\n",
       "    </tr>\n",
       "    <tr>\n",
       "      <th>9</th>\n",
       "      <td>10/1/2020</td>\n",
       "      <td>154.12</td>\n",
       "      <td>46138560.0</td>\n",
       "    </tr>\n",
       "    <tr>\n",
       "      <th>10</th>\n",
       "      <td>11/1/2020</td>\n",
       "      <td>154.48</td>\n",
       "      <td>63389491.0</td>\n",
       "    </tr>\n",
       "    <tr>\n",
       "      <th>11</th>\n",
       "      <td>12/1/2020</td>\n",
       "      <td>162.93</td>\n",
       "      <td>83760418.0</td>\n",
       "    </tr>\n",
       "    <tr>\n",
       "      <th>12</th>\n",
       "      <td>1/1/2021</td>\n",
       "      <td>165.28</td>\n",
       "      <td>103312102.0</td>\n",
       "    </tr>\n",
       "    <tr>\n",
       "      <th>13</th>\n",
       "      <td>2/1/2021</td>\n",
       "      <td>170.89</td>\n",
       "      <td>114568975.0</td>\n",
       "    </tr>\n",
       "    <tr>\n",
       "      <th>14</th>\n",
       "      <td>3/1/2021</td>\n",
       "      <td>169.97</td>\n",
       "      <td>129361686.0</td>\n",
       "    </tr>\n",
       "    <tr>\n",
       "      <th>15</th>\n",
       "      <td>4/1/2021</td>\n",
       "      <td>171.66</td>\n",
       "      <td>151891874.0</td>\n",
       "    </tr>\n",
       "    <tr>\n",
       "      <th>16</th>\n",
       "      <td>5/1/2021</td>\n",
       "      <td>189.65</td>\n",
       "      <td>171231654.0</td>\n",
       "    </tr>\n",
       "    <tr>\n",
       "      <th>17</th>\n",
       "      <td>6/1/2021</td>\n",
       "      <td>195.42</td>\n",
       "      <td>182707821.0</td>\n",
       "    </tr>\n",
       "    <tr>\n",
       "      <th>18</th>\n",
       "      <td>7/1/2021</td>\n",
       "      <td>208.08</td>\n",
       "      <td>198377914.0</td>\n",
       "    </tr>\n",
       "    <tr>\n",
       "      <th>19</th>\n",
       "      <td>8/1/2021</td>\n",
       "      <td>220.22</td>\n",
       "      <td>218276946.0</td>\n",
       "    </tr>\n",
       "    <tr>\n",
       "      <th>20</th>\n",
       "      <td>9/1/2021</td>\n",
       "      <td>229.48</td>\n",
       "      <td>234254966.0</td>\n",
       "    </tr>\n",
       "    <tr>\n",
       "      <th>21</th>\n",
       "      <td>10/1/2021</td>\n",
       "      <td>245.29</td>\n",
       "      <td>247197551.0</td>\n",
       "    </tr>\n",
       "    <tr>\n",
       "      <th>22</th>\n",
       "      <td>11/1/2021</td>\n",
       "      <td>263.51</td>\n",
       "      <td>262868430.0</td>\n",
       "    </tr>\n",
       "    <tr>\n",
       "      <th>23</th>\n",
       "      <td>12/1/2021</td>\n",
       "      <td>259.60</td>\n",
       "      <td>288335323.0</td>\n",
       "    </tr>\n",
       "  </tbody>\n",
       "</table>\n",
       "</div>"
      ],
      "text/plain": [
       "         DATE  PCOFFOTMUSDM  confirmed_cases\n",
       "0    1/1/2020        150.36           9927.0\n",
       "1    2/1/2020        145.86          86027.0\n",
       "2    3/1/2020        161.46         876334.0\n",
       "3    4/1/2020        163.70        3275297.0\n",
       "4    5/1/2020        155.93        6176663.0\n",
       "5    6/1/2020        147.28       10469228.0\n",
       "6    7/1/2020        151.50       17588289.0\n",
       "7    8/1/2020        166.24       25531189.0\n",
       "8    9/1/2020        169.05       34023684.0\n",
       "9   10/1/2020        154.12       46138560.0\n",
       "10  11/1/2020        154.48       63389491.0\n",
       "11  12/1/2020        162.93       83760418.0\n",
       "12   1/1/2021        165.28      103312102.0\n",
       "13   2/1/2021        170.89      114568975.0\n",
       "14   3/1/2021        169.97      129361686.0\n",
       "15   4/1/2021        171.66      151891874.0\n",
       "16   5/1/2021        189.65      171231654.0\n",
       "17   6/1/2021        195.42      182707821.0\n",
       "18   7/1/2021        208.08      198377914.0\n",
       "19   8/1/2021        220.22      218276946.0\n",
       "20   9/1/2021        229.48      234254966.0\n",
       "21  10/1/2021        245.29      247197551.0\n",
       "22  11/1/2021        263.51      262868430.0\n",
       "23  12/1/2021        259.60      288335323.0"
      ]
     },
     "execution_count": 320,
     "metadata": {},
     "output_type": "execute_result"
    }
   ],
   "source": [
    "file_path = 'SQL db/coffee_covid.csv'\n",
    "\n",
    "df = pd.read_csv(file_path)\n",
    "df"
   ]
  },
  {
   "cell_type": "code",
   "execution_count": 321,
   "id": "03c2c5a0",
   "metadata": {},
   "outputs": [],
   "source": [
    "x=np.array(df['confirmed_cases'])\n",
    "x = x.reshape(-1,1)\n",
    "y=np.array(df['PCOFFOTMUSDM'])\n",
    "y=y.reshape(-1,1)"
   ]
  },
  {
   "cell_type": "code",
   "execution_count": 323,
   "id": "822aeb45",
   "metadata": {},
   "outputs": [],
   "source": [
    "lm = linear_model.LinearRegression()\n",
    "\n",
    "lm.fit(x,y)\n",
    "\n",
    "y_hat = lm.predict(x)"
   ]
  },
  {
   "cell_type": "code",
   "execution_count": 324,
   "id": "9bdffe8b",
   "metadata": {},
   "outputs": [
    {
     "data": {
      "image/png": "[encoded data removed]",
      "text/plain": [
       "<Figure size 432x288 with 1 Axes>"
      ]
     },
     "metadata": {
      "needs_background": "light"
     },
     "output_type": "display_data"
    }
   ],
   "source": [
    "plt.scatter(x,y)\n",
    "plt.plot(x,y_hat)\n",
    "plt.xlabel('confirmed covid cases')\n",
    "plt.ylabel('Median Price of Coffee')\n",
    "plt.show()"
   ]
  },
  {
   "cell_type": "code",
   "execution_count": 325,
   "id": "20ad27ee",
   "metadata": {},
   "outputs": [],
   "source": [
    "import datetime as dt\n",
    "from datetime import datetime"
   ]
  },
  {
   "cell_type": "code",
   "execution_count": 326,
   "id": "74fc1588",
   "metadata": {},
   "outputs": [],
   "source": [
    "df['DATE'] = pd.to_datetime(df['DATE'])\n",
    "df['DATE']=df['DATE'].map(dt.datetime.toordinal)"
   ]
  },
  {
   "cell_type": "code",
   "execution_count": 327,
   "id": "20ae12e2",
   "metadata": {},
   "outputs": [
    {
     "data": {
      "text/html": [
       "<div>\n",
       "<style scoped>\n",
       "    .dataframe tbody tr th:only-of-type {\n",
       "        vertical-align: middle;\n",
       "    }\n",
       "\n",
       "    .dataframe tbody tr th {\n",
       "        vertical-align: top;\n",
       "    }\n",
       "\n",
       "    .dataframe thead th {\n",
       "        text-align: right;\n",
       "    }\n",
       "</style>\n",
       "<table border=\"1\" class=\"dataframe\">\n",
       "  <thead>\n",
       "    <tr style=\"text-align: right;\">\n",
       "      <th></th>\n",
       "      <th>DATE</th>\n",
       "      <th>PCOFFOTMUSDM</th>\n",
       "      <th>confirmed_cases</th>\n",
       "    </tr>\n",
       "  </thead>\n",
       "  <tbody>\n",
       "    <tr>\n",
       "      <th>0</th>\n",
       "      <td>737425</td>\n",
       "      <td>150.36</td>\n",
       "      <td>9927.0</td>\n",
       "    </tr>\n",
       "    <tr>\n",
       "      <th>1</th>\n",
       "      <td>737456</td>\n",
       "      <td>145.86</td>\n",
       "      <td>86027.0</td>\n",
       "    </tr>\n",
       "    <tr>\n",
       "      <th>2</th>\n",
       "      <td>737485</td>\n",
       "      <td>161.46</td>\n",
       "      <td>876334.0</td>\n",
       "    </tr>\n",
       "    <tr>\n",
       "      <th>3</th>\n",
       "      <td>737516</td>\n",
       "      <td>163.70</td>\n",
       "      <td>3275297.0</td>\n",
       "    </tr>\n",
       "    <tr>\n",
       "      <th>4</th>\n",
       "      <td>737546</td>\n",
       "      <td>155.93</td>\n",
       "      <td>6176663.0</td>\n",
       "    </tr>\n",
       "    <tr>\n",
       "      <th>5</th>\n",
       "      <td>737577</td>\n",
       "      <td>147.28</td>\n",
       "      <td>10469228.0</td>\n",
       "    </tr>\n",
       "    <tr>\n",
       "      <th>6</th>\n",
       "      <td>737607</td>\n",
       "      <td>151.50</td>\n",
       "      <td>17588289.0</td>\n",
       "    </tr>\n",
       "    <tr>\n",
       "      <th>7</th>\n",
       "      <td>737638</td>\n",
       "      <td>166.24</td>\n",
       "      <td>25531189.0</td>\n",
       "    </tr>\n",
       "    <tr>\n",
       "      <th>8</th>\n",
       "      <td>737669</td>\n",
       "      <td>169.05</td>\n",
       "      <td>34023684.0</td>\n",
       "    </tr>\n",
       "    <tr>\n",
       "      <th>9</th>\n",
       "      <td>737699</td>\n",
       "      <td>154.12</td>\n",
       "      <td>46138560.0</td>\n",
       "    </tr>\n",
       "    <tr>\n",
       "      <th>10</th>\n",
       "      <td>737730</td>\n",
       "      <td>154.48</td>\n",
       "      <td>63389491.0</td>\n",
       "    </tr>\n",
       "    <tr>\n",
       "      <th>11</th>\n",
       "      <td>737760</td>\n",
       "      <td>162.93</td>\n",
       "      <td>83760418.0</td>\n",
       "    </tr>\n",
       "    <tr>\n",
       "      <th>12</th>\n",
       "      <td>737791</td>\n",
       "      <td>165.28</td>\n",
       "      <td>103312102.0</td>\n",
       "    </tr>\n",
       "    <tr>\n",
       "      <th>13</th>\n",
       "      <td>737822</td>\n",
       "      <td>170.89</td>\n",
       "      <td>114568975.0</td>\n",
       "    </tr>\n",
       "    <tr>\n",
       "      <th>14</th>\n",
       "      <td>737850</td>\n",
       "      <td>169.97</td>\n",
       "      <td>129361686.0</td>\n",
       "    </tr>\n",
       "    <tr>\n",
       "      <th>15</th>\n",
       "      <td>737881</td>\n",
       "      <td>171.66</td>\n",
       "      <td>151891874.0</td>\n",
       "    </tr>\n",
       "    <tr>\n",
       "      <th>16</th>\n",
       "      <td>737911</td>\n",
       "      <td>189.65</td>\n",
       "      <td>171231654.0</td>\n",
       "    </tr>\n",
       "    <tr>\n",
       "      <th>17</th>\n",
       "      <td>737942</td>\n",
       "      <td>195.42</td>\n",
       "      <td>182707821.0</td>\n",
       "    </tr>\n",
       "    <tr>\n",
       "      <th>18</th>\n",
       "      <td>737972</td>\n",
       "      <td>208.08</td>\n",
       "      <td>198377914.0</td>\n",
       "    </tr>\n",
       "    <tr>\n",
       "      <th>19</th>\n",
       "      <td>738003</td>\n",
       "      <td>220.22</td>\n",
       "      <td>218276946.0</td>\n",
       "    </tr>\n",
       "    <tr>\n",
       "      <th>20</th>\n",
       "      <td>738034</td>\n",
       "      <td>229.48</td>\n",
       "      <td>234254966.0</td>\n",
       "    </tr>\n",
       "    <tr>\n",
       "      <th>21</th>\n",
       "      <td>738064</td>\n",
       "      <td>245.29</td>\n",
       "      <td>247197551.0</td>\n",
       "    </tr>\n",
       "    <tr>\n",
       "      <th>22</th>\n",
       "      <td>738095</td>\n",
       "      <td>263.51</td>\n",
       "      <td>262868430.0</td>\n",
       "    </tr>\n",
       "    <tr>\n",
       "      <th>23</th>\n",
       "      <td>738125</td>\n",
       "      <td>259.60</td>\n",
       "      <td>288335323.0</td>\n",
       "    </tr>\n",
       "  </tbody>\n",
       "</table>\n",
       "</div>"
      ],
      "text/plain": [
       "      DATE  PCOFFOTMUSDM  confirmed_cases\n",
       "0   737425        150.36           9927.0\n",
       "1   737456        145.86          86027.0\n",
       "2   737485        161.46         876334.0\n",
       "3   737516        163.70        3275297.0\n",
       "4   737546        155.93        6176663.0\n",
       "5   737577        147.28       10469228.0\n",
       "6   737607        151.50       17588289.0\n",
       "7   737638        166.24       25531189.0\n",
       "8   737669        169.05       34023684.0\n",
       "9   737699        154.12       46138560.0\n",
       "10  737730        154.48       63389491.0\n",
       "11  737760        162.93       83760418.0\n",
       "12  737791        165.28      103312102.0\n",
       "13  737822        170.89      114568975.0\n",
       "14  737850        169.97      129361686.0\n",
       "15  737881        171.66      151891874.0\n",
       "16  737911        189.65      171231654.0\n",
       "17  737942        195.42      182707821.0\n",
       "18  737972        208.08      198377914.0\n",
       "19  738003        220.22      218276946.0\n",
       "20  738034        229.48      234254966.0\n",
       "21  738064        245.29      247197551.0\n",
       "22  738095        263.51      262868430.0\n",
       "23  738125        259.60      288335323.0"
      ]
     },
     "execution_count": 327,
     "metadata": {},
     "output_type": "execute_result"
    }
   ],
   "source": [
    "df"
   ]
  },
  {
   "cell_type": "code",
   "execution_count": 328,
   "id": "4c026057",
   "metadata": {},
   "outputs": [
    {
     "data": {
      "text/plain": [
       "[<matplotlib.lines.Line2D at 0x2b16e1a90a0>]"
      ]
     },
     "execution_count": 328,
     "metadata": {},
     "output_type": "execute_result"
    },
    {
     "data": {
      "image/png": "[encoded data removed]",
      "text/plain": [
       "<Figure size 1152x576 with 1 Axes>"
      ]
     },
     "metadata": {
      "needs_background": "light"
     },
     "output_type": "display_data"
    }
   ],
   "source": [
    "plt.figure(figsize=(16,8))\n",
    "plt.xlabel('year')\n",
    "plt.ylabel('Median Price of Coffee($/lb)')\n",
    "plt.plot(df['PCOFFOTMUSDM'])"
   ]
  },
  {
   "cell_type": "code",
   "execution_count": 329,
   "id": "7c4b8437",
   "metadata": {},
   "outputs": [],
   "source": [
    "import pandas as pd                           \n",
    "from sklearn import preprocessing\n",
    "from sklearn.model_selection import train_test_split\n",
    "from sklearn.linear_model import LinearRegression\n",
    "from sklearn.metrics import r2_score\n",
    "from sklearn.metrics import mean_squared_error\n"
   ]
  },
  {
   "cell_type": "code",
   "execution_count": 330,
   "id": "48fe5430",
   "metadata": {},
   "outputs": [],
   "source": [
    "data = df[['DATE','PCOFFOTMUSDM']]"
   ]
  },
  {
   "cell_type": "code",
   "execution_count": 331,
   "id": "eac02987",
   "metadata": {},
   "outputs": [],
   "source": [
    "x=data['DATE'].values\n",
    "y = data['PCOFFOTMUSDM'].values"
   ]
  },
  {
   "cell_type": "code",
   "execution_count": 332,
   "id": "837d8d6a",
   "metadata": {},
   "outputs": [],
   "source": [
    "x1 =np.array(x)\n",
    "y1 = np.array(y)\n",
    "\n",
    "x1=x1.reshape(-1,1)\n",
    "y1=y1.reshape(-1,1)"
   ]
  },
  {
   "cell_type": "code",
   "execution_count": 333,
   "id": "0c3ab909",
   "metadata": {},
   "outputs": [],
   "source": [
    "X_train,X_test,y_train,y_test=train_test_split(x1,y1,test_size=0.3)"
   ]
  },
  {
   "cell_type": "code",
   "execution_count": 334,
   "id": "40e9d442",
   "metadata": {},
   "outputs": [
    {
     "data": {
      "text/plain": [
       "LinearRegression()"
      ]
     },
     "execution_count": 334,
     "metadata": {},
     "output_type": "execute_result"
    }
   ],
   "source": [
    "lr=LinearRegression()\n",
    "lr.fit(X_train,y_train)"
   ]
  },
  {
   "cell_type": "code",
   "execution_count": 335,
   "id": "56475706",
   "metadata": {},
   "outputs": [
    {
     "name": "stdout",
     "output_type": "stream",
     "text": [
      "0.7329704508846944\n",
      "567.4908155938053\n"
     ]
    }
   ],
   "source": [
    "y_pred=lr.predict(X_test)\n",
    "print(r2_score(y_test,y_pred))\n",
    "print(mean_squared_error(y_test,y_pred))"
   ]
  },
  {
   "cell_type": "code",
   "execution_count": 336,
   "id": "e7bceecd",
   "metadata": {},
   "outputs": [
    {
     "data": {
      "text/plain": [
       "LinearRegression()"
      ]
     },
     "execution_count": 336,
     "metadata": {},
     "output_type": "execute_result"
    }
   ],
   "source": [
    "lr.fit(x1,y1)\n"
   ]
  },
  {
   "cell_type": "code",
   "execution_count": 337,
   "id": "169eaa27",
   "metadata": {},
   "outputs": [
    {
     "name": "stdout",
     "output_type": "stream",
     "text": [
      "Slope: 0.147\n",
      "Intercept : -108280.241\n"
     ]
    }
   ],
   "source": [
    "print('Slope: %.3f' % lr.coef_[0]) \n",
    "print('Intercept : %.3f' % lr.intercept_) "
   ]
  },
  {
   "cell_type": "code",
   "execution_count": 338,
   "id": "e16a7d73",
   "metadata": {},
   "outputs": [],
   "source": [
    "\n",
    "def Regression_plot(a, b, model):\n",
    "    plt.scatter(a, b, c='blue')\n",
    "    plt.plot(a, model.predict(a), color='red')\n",
    "    return None"
   ]
  },
  {
   "cell_type": "code",
   "execution_count": 340,
   "id": "3e6bf768",
   "metadata": {
    "scrolled": true
   },
   "outputs": [
    {
     "data": {
      "text/plain": [
       "Text(0, 0.5, 'coffee median price')"
      ]
     },
     "execution_count": 340,
     "metadata": {},
     "output_type": "execute_result"
    },
    {
     "data": {
      "image/png": "[encoded data removed]",
      "text/plain": [
       "<Figure size 432x288 with 1 Axes>"
      ]
     },
     "metadata": {
      "needs_background": "light"
     },
     "output_type": "display_data"
    }
   ],
   "source": [
    "import matplotlib.dates as mdates\n",
    "Regression_plot(x1, y1, lr)\n",
    "\n",
    "plt.xlabel('date')\n",
    "plt.ylabel('coffee median price')"
   ]
  }
 ],
 "metadata": {
  "kernelspec": {
   "display_name": "Python 3 (ipykernel)",
   "language": "python",
   "name": "python3"
  },
  "language_info": {
   "codemirror_mode": {
    "name": "ipython",
    "version": 3
   },
   "file_extension": ".py",
   "mimetype": "text/x-python",
   "name": "python",
   "nbconvert_exporter": "python",
   "pygments_lexer": "ipython3",
   "version": "3.8.8"
  }
 },
 "nbformat": 4,
 "nbformat_minor": 5
}
